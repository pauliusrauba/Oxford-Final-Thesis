{
 "cells": [
  {
   "cell_type": "code",
   "execution_count": 2,
   "id": "ranking-rebel",
   "metadata": {},
   "outputs": [],
   "source": [
    "import pandas as pd\n",
    "import numpy as np\n",
    "import os\n",
    "import re\n",
    "from string import punctuation\n",
    "\n",
    "import matplotlib.pyplot as plt\n",
    "import seaborn as sns\n",
    "\n",
    "from scipy.spatial.distance import cosine\n",
    "import ast\n",
    "\n",
    "import ast\n",
    "import fasttext\n",
    "import itertools\n",
    "import math\n",
    "import pickle\n",
    "import pprint\n",
    "\n",
    "import gensim\n",
    "from gensim.utils import simple_preprocess\n",
    "import gensim.corpora as corpora\n",
    "import spacy\n",
    "from gensim.models import CoherenceModel\n",
    "\n",
    "from sklearn.cluster import KMeans\n",
    "from collections import defaultdict, Counter\n",
    "\n",
    "from tqdm import tqdm\n",
    "tqdm.pandas()\n",
    "from sklearn.cluster import KMeans\n",
    "from sklearn.metrics import silhouette_score\n",
    "from collections import Counter\n",
    "import cosinescore\n",
    "\n",
    "from gensim.corpora.dictionary import Dictionary\n",
    "from gensim.models.coherencemodel import CoherenceModel\n",
    "import json\n",
    "import mutualinfo\n",
    "\n",
    "from itertools import chain\n",
    "\n",
    "from sklearn.naive_bayes import MultinomialNB\n",
    "from sklearn.feature_extraction.text import CountVectorizer, TfidfTransformer\n",
    "from sklearn.metrics import accuracy_score\n",
    "from sklearn.model_selection import train_test_split\n",
    "from sklearn.metrics import confusion_matrix\n",
    "\n",
    "from sklearn.manifold import TSNE\n",
    "from collections import OrderedDict\n",
    "from yellowbrick.cluster import SilhouetteVisualizer\n",
    "from sklearn.metrics import silhouette_score\n",
    "import random\n",
    "from matplotlib.colors import LogNorm, Normalize\n",
    "import matplotlib.ticker as mtick\n",
    "\n",
    "%matplotlib inline"
   ]
  },
  {
   "cell_type": "code",
   "execution_count": 3,
   "id": "assumed-framing",
   "metadata": {},
   "outputs": [],
   "source": [
    "%store -r nns_sentences"
   ]
  },
  {
   "cell_type": "code",
   "execution_count": 9,
   "id": "exterior-cisco",
   "metadata": {},
   "outputs": [],
   "source": [
    "def size_intersection(dict1, dict2, word, n):\n",
    "    \"\"\"Get the size of the intersection of the two dictionaries/words\"\"\"\n",
    "    return (len(set(dict1[word][:n]).intersection(set(dict2[word][:n]))))/n\n"
   ]
  },
  {
   "cell_type": "code",
   "execution_count": 27,
   "id": "advisory-heavy",
   "metadata": {},
   "outputs": [
    {
     "name": "stderr",
     "output_type": "stream",
     "text": [
      "100%|██████████████████████████████████████████████████████████████████████████████| 250/250 [1:26:11<00:00, 20.69s/it]\n"
     ]
    }
   ],
   "source": [
    "similarities_n_sents_all = {}\n",
    "for n in tqdm(range(1,500,2)):\n",
    "    ls_similarities = []\n",
    "    for ind in gr_keys:\n",
    "        ls_similarities.append(np.mean(np.array([size_intersection(groundtruth, nns_sentences[i], ind, n) for i in range(2,8)])))\n",
    "    \n",
    "    similarities_n_sents_all[n] = np.array(ls_similarities)"
   ]
  },
  {
   "cell_type": "code",
   "execution_count": 35,
   "id": "elegant-contribution",
   "metadata": {},
   "outputs": [],
   "source": [
    "pd.to_pickle(similarities_n_sents_all, 'sentences_similarities.pickle')"
   ]
  },
  {
   "cell_type": "code",
   "execution_count": 38,
   "id": "missing-residence",
   "metadata": {},
   "outputs": [],
   "source": [
    "%store -r nearest_neighbors"
   ]
  },
  {
   "cell_type": "code",
   "execution_count": 39,
   "id": "acute-trial",
   "metadata": {},
   "outputs": [],
   "source": [
    "groundtruth = nearest_neighbors[1]"
   ]
  },
  {
   "cell_type": "code",
   "execution_count": 42,
   "id": "immediate-charter",
   "metadata": {},
   "outputs": [],
   "source": [
    "vocab = list(groundtruth.keys())"
   ]
  },
  {
   "cell_type": "code",
   "execution_count": 53,
   "id": "brilliant-field",
   "metadata": {},
   "outputs": [
    {
     "name": "stderr",
     "output_type": "stream",
     "text": [
      "100%|██████████████████████████████████████████████████████████████████████████████| 250/250 [2:17:23<00:00, 32.97s/it]\n"
     ]
    }
   ],
   "source": [
    "similarities_n = {}\n",
    "for n in tqdm(range(1,500,2)):\n",
    "    ls_similarities = []\n",
    "    for word in vocab:\n",
    "        ls_similarities.append(np.mean(np.array([size_intersection(groundtruth, nearest_neighbors[i], word, n) for i in range(2,8)])))\n",
    "    \n",
    "    similarities_n[n] = np.array(ls_similarities)"
   ]
  },
  {
   "cell_type": "code",
   "execution_count": 54,
   "id": "practical-printing",
   "metadata": {},
   "outputs": [],
   "source": [
    "pd.to_pickle(similarities_n, 'words_similarities.pickle')"
   ]
  }
 ],
 "metadata": {
  "kernelspec": {
   "display_name": "Python 3",
   "language": "python",
   "name": "python3"
  },
  "language_info": {
   "codemirror_mode": {
    "name": "ipython",
    "version": 3
   },
   "file_extension": ".py",
   "mimetype": "text/x-python",
   "name": "python",
   "nbconvert_exporter": "python",
   "pygments_lexer": "ipython3",
   "version": "3.8.6"
  }
 },
 "nbformat": 4,
 "nbformat_minor": 5
}
