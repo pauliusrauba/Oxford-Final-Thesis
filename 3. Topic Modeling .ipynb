{
 "cells": [
  {
   "cell_type": "markdown",
   "id": "prescription-theta",
   "metadata": {},
   "source": [
    "Metrics"
   ]
  },
  {
   "attachments": {
    "fc42a5e6-4c2b-4604-950b-61fe57f49f5f.png": {
     "image/png": "[encoded data removed]"
    }
   },
   "cell_type": "markdown",
   "id": "missing-subsection",
   "metadata": {},
   "source": [
    "![image.png](attachment:fc42a5e6-4c2b-4604-950b-61fe57f49f5f.png)"
   ]
  },
  {
   "attachments": {
    "fe269b5f-6d75-49eb-aa45-d2e50d31bed5.png": {
     "image/png": "[encoded data removed]"
    }
   },
   "cell_type": "markdown",
   "id": "palestinian-arbitration",
   "metadata": {},
   "source": [
    "![image.png](attachment:fe269b5f-6d75-49eb-aa45-d2e50d31bed5.png)"
   ]
  },
  {
   "cell_type": "code",
   "execution_count": 1,
   "id": "right-console",
   "metadata": {},
   "outputs": [],
   "source": [
    "import pandas as pd\n",
    "import numpy as np\n",
    "import os\n",
    "import re\n",
    "from string import punctuation\n",
    "\n",
    "import matplotlib.pyplot as plt\n",
    "import seaborn as sns\n",
    "\n",
    "from scipy.spatial.distance import cosine\n",
    "import ast\n",
    "\n",
    "import ast\n",
    "import fasttext\n",
    "import itertools\n",
    "import math\n",
    "import pickle\n",
    "import pprint\n",
    "\n",
    "import gensim\n",
    "from gensim.utils import simple_preprocess\n",
    "import gensim.corpora as corpora\n",
    "import spacy\n",
    "from gensim.models import CoherenceModel\n",
    "\n",
    "from sklearn.cluster import KMeans\n",
    "from collections import defaultdict, Counter\n",
    "\n",
    "from tqdm import tqdm\n",
    "tqdm.pandas()\n",
    "from sklearn.cluster import KMeans\n",
    "from sklearn.metrics import silhouette_score\n",
    "from collections import Counter\n",
    "import cosinescore\n",
    "\n",
    "from gensim.corpora.dictionary import Dictionary\n",
    "from gensim.models.coherencemodel import CoherenceModel\n",
    "import json\n",
    "import mutualinfo\n",
    "\n",
    "from itertools import chain"
   ]
  },
  {
   "cell_type": "code",
   "execution_count": 2,
   "id": "military-strand",
   "metadata": {},
   "outputs": [],
   "source": [
    "from gensim.test.utils import common_texts\n",
    "from gensim.corpora.dictionary import Dictionary"
   ]
  },
  {
   "cell_type": "code",
   "execution_count": 3,
   "id": "loaded-cotton",
   "metadata": {},
   "outputs": [],
   "source": [
    "df = pd.read_csv('./Datasets/2021-07-14 dataset_all.csv')"
   ]
  },
  {
   "cell_type": "code",
   "execution_count": 7,
   "id": "tribal-release",
   "metadata": {},
   "outputs": [],
   "source": [
    "df['text_clean'] = df.text_clean.map(ast.literal_eval)"
   ]
  },
  {
   "cell_type": "code",
   "execution_count": 10,
   "id": "activated-microwave",
   "metadata": {},
   "outputs": [],
   "source": [
    "words = pd.read_excel(\"./Datasets/2021-07-11 tokens_with_multiple_words.xlsx\")"
   ]
  },
  {
   "cell_type": "markdown",
   "id": "immune-coating",
   "metadata": {},
   "source": [
    "75 tokens"
   ]
  },
  {
   "cell_type": "code",
   "execution_count": 23,
   "id": "personalized-baker",
   "metadata": {
    "collapsed": true,
    "jupyter": {
     "outputs_hidden": true
    }
   },
   "outputs": [
    {
     "data": {
      "text/plain": [
       "'On this auspicious occasion, the seventieth anniversary of the United\\nNations, I am honoured to address the Assembly on behalf of the Government and people of Liberia. I congratulate the President on his election to preside over the Assembly, and I appreciate the stewardship of his predecessor, His Excellency Mr. Sam Kutesa, who ably conducted the Assembly’s affairs at the sixty-ninth session.\\nThis year has registered ground-breaking developments. After 50 years, the United States and Cuba have decided to resolve differences by establishing diplomatic relations. Another milestone was the adoption here, a few days ago, of the post-2015 development agenda, “Transforming our world: the 2030 Agenda for Sustainable Development” (resolution 70/1), by which we committed to implementing measures to transform the lives of our peoples — to lift them from poverty to prosperity — and to preserve the planet. It was this same vision that, 70 years ago, motivated the founding of this global organization to promote peaceful coexistence, economic and social advancement of all peoples, respect for human dignity, and equal rights of men and women and nations large and small. I am proud to say that Liberia was among the founding Members of the United Nations.\\nThe creation of the United Nations came out of a realization that only a global organization, through the support and cooperation of the comity of nations, would be suitable to grapple with the many challenges facing humankind. Today, a reduction in inter-State conflict and cooperation in the protection and promotion of human rights and in alleviating global poverty, disease and hunger are the hallmarks of this body. On the other hand, increased intra-State conflicts and international terrorism are seeking to undermine the gains made in reducing human suffering. Protracted and intense conflicts in various parts of the world pose serious threats to global peace and security.\\nThus new and emerging challenges call the United Nations to action. Despite commendable efforts, Africa, the Middle East, Asia and Europe still have vortexes of conflict. Migrants and people seeking refuge from conflicts and economic hardship are swirling across Europe. We are haunted by the growing threats of destabilizing forces, such as Boko Haram and the Islamic State in Iraq and the Sham (ISIS), and by attempts to reverse democratic initiatives, such as that in Burkina Faso, which invoked an immediate and decisive response from the Economic Community of West African States.\\n10/26 15-29437\\n\\x0c\\n29/09/2015 A/70/PV.17\\nClimate conditions are changing, and so must we. In many countries of the world, women are still being treated as second-class citizens. As Liberia bears painful witness, weak public-health systems in individual countries threaten global health and well- being. It is not beyond this body to find answers and to respond, and we know that we must. We feel compelled to ask if, at 70, our world Organization is hindered today by inflexible structures and overburdened by bureaucracies. Is the current structure of the United Nations fit for purpose — to play its role in the global transformation processes over the next 15 years? We are encouraged by the introspection that is taking place at the United Nations around these questions.\\nWe commend the foresight of the Secretary- General in directing a comprehensive review of peace operations, which is complemented by a review of the Organization’s peacebuilding architecture and a global study on the implementation of Security Council resolution 1325 (2000), on women’s participation in peace processes. After the completion of these reviews, we expect implementation to bring further improvements. Liberia can attest, with gratitude, to the nature of United Nations peacekeeping and peacebuilding functions, which are critical and indispensable for post-conflict countries.\\nThis year, we marked the twentieth anniversary of the historic Fourth World Conference on Women, held in Beijing, and its Platform for Action for women’s empowerment and gender equality. We are also marking the fifteenth anniversary of resolution 1325 (2000), on women’s participation in peace processes. And while improvements have been made in the status of women, much more remains to be done. We must therefore all step up and take further measures, going beyond moralizing gender equality to tangible actions. In 70 years only three women have served as President of the General Assembly — one of them, many years ago, being our compatriot, Mrs. Angie Brooks Randolph. Only a few women have served or are serving as special representative of the Secretary-General, and not a single woman has ever served as Secretary-General.\\nAs we ponder, in Liberia, Guinea and Sierra Leone, the three countries worst hit by the deadly Ebola virus disease, we bear witness to the foundational creed of the United Nations that we can always find it within our humanity to respond even to unknown enemies to our collective progress. Accordingly, we remain grateful to the international community for the outpouring of\\nsupport and assistance as we faced down the deadly disease, the greatest modern threat to global public health. We thank Secretary-General Ban Ki-moon, who — in partnership with our countries and with support from the African Development Bank, the African Union, the European Union and the World Bank — hosted the International Ebola Recovery Conference to focus attention on, and seek support for, our post-Ebola recovery programmes.\\nThe Ebola scourge undoubtedly leaves indelible marks of grief, sorrow and unimaginable affliction. But it has also caused us to celebrate heartwarming tales of extraordinary courage and leadership across Governments and communities, as well as exceptional regional and international responses. We are now proceeding with implementation of our post-Ebola economic stabilization and recovery plan, with expectations of support from our bilateral and multilateral partners for a regionally approved post- Ebola recovery strategy that the three Mano River Union countries affected have formulated.\\nWe are determined to address our development losses, including by rebuilding better and more resilient health and education systems. The Addis Ababa Action Agenda, adopted in April, offers pathways to various forms of financing, capacity-building and technological exchange in support of our pursuit of our development objectives. We must now forge genuine partnerships in order to move ahead on the road to strengthening peace and security, human rights, socioeconomic development and environmental sustainability. We stand firm in our political will to meet any challenge to our commitment to leaving no one behind.\\n'"
      ]
     },
     "execution_count": 23,
     "metadata": {},
     "output_type": "execute_result"
    }
   ],
   "source": [
    "df.text.iloc[1900]"
   ]
  },
  {
   "cell_type": "code",
   "execution_count": 17,
   "id": "spiritual-matrix",
   "metadata": {},
   "outputs": [
    {
     "data": {
      "text/plain": [
       "{'antigua and barbuda',\n",
       " 'arms race',\n",
       " 'bosnia and herzegovina',\n",
       " 'brunei darussalam',\n",
       " 'burkina faso',\n",
       " 'cabo verde',\n",
       " 'central african republic',\n",
       " 'chemical weapons',\n",
       " 'climate change',\n",
       " 'cold war',\n",
       " 'congo republic',\n",
       " 'costa rica',\n",
       " 'cote divoire',\n",
       " 'czech republic',\n",
       " 'developed countries',\n",
       " 'developed states',\n",
       " 'developing countries',\n",
       " 'developing states',\n",
       " 'dominican republic',\n",
       " 'dr congo',\n",
       " 'economic development',\n",
       " 'economic growth',\n",
       " 'el salvador',\n",
       " 'equatorial guinea',\n",
       " 'european union',\n",
       " 'general assembly',\n",
       " 'global south',\n",
       " 'human rights',\n",
       " 'international court of justice',\n",
       " 'kyrgyz republic',\n",
       " 'latin america',\n",
       " 'marshall islands',\n",
       " 'micronesia, fed sts',\n",
       " 'middle east',\n",
       " 'millenium goals',\n",
       " 'millennium development goals',\n",
       " 'new zealand',\n",
       " 'non proliferation',\n",
       " 'north america',\n",
       " 'north korea',\n",
       " 'not found',\n",
       " 'nuclear proliferation',\n",
       " 'nuclear weapons',\n",
       " 'official development assistance',\n",
       " 'papua new guinea',\n",
       " 'peace keeping',\n",
       " 'rule of law',\n",
       " 'san marino',\n",
       " 'sao tome and principe',\n",
       " 'saudi arabia',\n",
       " 'security council',\n",
       " 'self determination',\n",
       " 'sierra leone',\n",
       " 'social development',\n",
       " 'solomon islands',\n",
       " 'south africa',\n",
       " 'south korea',\n",
       " 'south sudan',\n",
       " 'southern africa',\n",
       " 'soviet socialist republic',\n",
       " 'soviet union',\n",
       " 'sri lanka',\n",
       " 'st kitts and nevis',\n",
       " 'st lucia',\n",
       " 'st vincent and the grenadines',\n",
       " 'super power',\n",
       " 'sustainable development',\n",
       " 'trinidad and tobago',\n",
       " 'united arab emirates',\n",
       " 'united kingdom',\n",
       " 'united nations',\n",
       " 'united states',\n",
       " 'weapons of mass destruction',\n",
       " 'world order',\n",
       " 'world war'}"
      ]
     },
     "execution_count": 17,
     "metadata": {},
     "output_type": "execute_result"
    }
   ],
   "source": [
    "set(words[0].tolist())"
   ]
  },
  {
   "cell_type": "code",
   "execution_count": 4,
   "id": "visible-commercial",
   "metadata": {},
   "outputs": [],
   "source": [
    "dfa = pd.read_csv('./Datasets/2021-07-19 embedding_df.csv')"
   ]
  },
  {
   "cell_type": "code",
   "execution_count": 9,
   "id": "biological-cargo",
   "metadata": {},
   "outputs": [
    {
     "data": {
      "text/html": [
       "<div>\n",
       "<style scoped>\n",
       "    .dataframe tbody tr th:only-of-type {\n",
       "        vertical-align: middle;\n",
       "    }\n",
       "\n",
       "    .dataframe tbody tr th {\n",
       "        vertical-align: top;\n",
       "    }\n",
       "\n",
       "    .dataframe thead th {\n",
       "        text-align: right;\n",
       "    }\n",
       "</style>\n",
       "<table border=\"1\" class=\"dataframe\">\n",
       "  <thead>\n",
       "    <tr style=\"text-align: right;\">\n",
       "      <th></th>\n",
       "      <th>Unnamed: 0</th>\n",
       "      <th>year</th>\n",
       "      <th>country</th>\n",
       "      <th>text</th>\n",
       "      <th>session</th>\n",
       "      <th>country_map</th>\n",
       "      <th>is_war</th>\n",
       "      <th>n_conflicts</th>\n",
       "      <th>total_deaths</th>\n",
       "      <th>incompatibility</th>\n",
       "      <th>...</th>\n",
       "      <th>type_of_conflict</th>\n",
       "      <th>conflict_before</th>\n",
       "      <th>no_tokens</th>\n",
       "      <th>countryname</th>\n",
       "      <th>continent</th>\n",
       "      <th>sentences</th>\n",
       "      <th>sentences_multiple_tokens</th>\n",
       "      <th>text_clean</th>\n",
       "      <th>sentences_full</th>\n",
       "      <th>embeddings_sbert</th>\n",
       "    </tr>\n",
       "  </thead>\n",
       "  <tbody>\n",
       "    <tr>\n",
       "      <th>0</th>\n",
       "      <td>0</td>\n",
       "      <td>1970</td>\n",
       "      <td>CMR</td>\n",
       "      <td>: A year ago I came here as the Acting Preside...</td>\n",
       "      <td>25</td>\n",
       "      <td>NaN</td>\n",
       "      <td>False</td>\n",
       "      <td>0</td>\n",
       "      <td>0.0</td>\n",
       "      <td>No incompatibility</td>\n",
       "      <td>...</td>\n",
       "      <td>No conflict</td>\n",
       "      <td>No conflict</td>\n",
       "      <td>2814</td>\n",
       "      <td>Cameroon</td>\n",
       "      <td>AF</td>\n",
       "      <td>[['a', 'year', 'ago', 'i', 'came', 'here', 'as...</td>\n",
       "      <td>[['a', 'year', 'ago', 'i', 'came', 'here', 'as...</td>\n",
       "      <td>['a', 'year', 'ago', 'i', 'came', 'here', 'as'...</td>\n",
       "      <td>['A year ago I came here as the Acting Preside...</td>\n",
       "      <td>[[-0.19020231  0.2700747  -0.46475238 ...  0.1...</td>\n",
       "    </tr>\n",
       "    <tr>\n",
       "      <th>1</th>\n",
       "      <td>1</td>\n",
       "      <td>1971</td>\n",
       "      <td>CMR</td>\n",
       "      <td>186.\\t Mr. President, on behalf of the delegat...</td>\n",
       "      <td>26</td>\n",
       "      <td>NaN</td>\n",
       "      <td>False</td>\n",
       "      <td>0</td>\n",
       "      <td>0.0</td>\n",
       "      <td>No incompatibility</td>\n",
       "      <td>...</td>\n",
       "      <td>No conflict</td>\n",
       "      <td>No conflict</td>\n",
       "      <td>2712</td>\n",
       "      <td>Cameroon</td>\n",
       "      <td>AF</td>\n",
       "      <td>[['mr', 'president', 'on', 'behalf', 'of', 'th...</td>\n",
       "      <td>[['mr', 'president', 'on', 'behalf', 'of', 'th...</td>\n",
       "      <td>['mr', 'president', 'on', 'behalf', 'of', 'the...</td>\n",
       "      <td>['Mr. President, on behalf of the delegation o...</td>\n",
       "      <td>[[-0.1808214   0.41667518  0.16697055 ...  0.2...</td>\n",
       "    </tr>\n",
       "    <tr>\n",
       "      <th>2</th>\n",
       "      <td>2</td>\n",
       "      <td>1972</td>\n",
       "      <td>CMR</td>\n",
       "      <td>Mr. President, since I am speaking from this r...</td>\n",
       "      <td>27</td>\n",
       "      <td>NaN</td>\n",
       "      <td>False</td>\n",
       "      <td>0</td>\n",
       "      <td>0.0</td>\n",
       "      <td>No incompatibility</td>\n",
       "      <td>...</td>\n",
       "      <td>No conflict</td>\n",
       "      <td>No conflict</td>\n",
       "      <td>3459</td>\n",
       "      <td>Cameroon</td>\n",
       "      <td>AF</td>\n",
       "      <td>[['mr', 'president', 'since', 'i', 'am', 'spea...</td>\n",
       "      <td>[['mr', 'president', 'since', 'i', 'am', 'spea...</td>\n",
       "      <td>['mr', 'president', 'since', 'i', 'am', 'speak...</td>\n",
       "      <td>[\"Mr. President, since I am speaking from this...</td>\n",
       "      <td>[[-0.420066    0.4901679  -0.03868627 ...  0.5...</td>\n",
       "    </tr>\n",
       "    <tr>\n",
       "      <th>3</th>\n",
       "      <td>3</td>\n",
       "      <td>1974</td>\n",
       "      <td>CMR</td>\n",
       "      <td>For many years, from this rostrum and others,...</td>\n",
       "      <td>29</td>\n",
       "      <td>NaN</td>\n",
       "      <td>False</td>\n",
       "      <td>0</td>\n",
       "      <td>0.0</td>\n",
       "      <td>No incompatibility</td>\n",
       "      <td>...</td>\n",
       "      <td>No conflict</td>\n",
       "      <td>No conflict</td>\n",
       "      <td>3086</td>\n",
       "      <td>Cameroon</td>\n",
       "      <td>AF</td>\n",
       "      <td>[['for', 'many', 'years', 'from', 'this', 'ros...</td>\n",
       "      <td>[['for', 'many', 'years', 'from', 'this', 'ros...</td>\n",
       "      <td>['for', 'many', 'years', 'from', 'this', 'rost...</td>\n",
       "      <td>['For many years, from this rostrum and others...</td>\n",
       "      <td>[[-0.06388035  0.24733873 -0.01689987 ... -0.0...</td>\n",
       "    </tr>\n",
       "    <tr>\n",
       "      <th>4</th>\n",
       "      <td>4</td>\n",
       "      <td>1975</td>\n",
       "      <td>CMR</td>\n",
       "      <td>69.\\t Mr. President, as 1 come to this rostrum...</td>\n",
       "      <td>30</td>\n",
       "      <td>NaN</td>\n",
       "      <td>False</td>\n",
       "      <td>0</td>\n",
       "      <td>0.0</td>\n",
       "      <td>No incompatibility</td>\n",
       "      <td>...</td>\n",
       "      <td>No conflict</td>\n",
       "      <td>No conflict</td>\n",
       "      <td>4150</td>\n",
       "      <td>Cameroon</td>\n",
       "      <td>AF</td>\n",
       "      <td>[['mr', 'president', 'as', 'come', 'to', 'this...</td>\n",
       "      <td>[['mr', 'president', 'as', 'come', 'to', 'this...</td>\n",
       "      <td>['mr', 'president', 'as', 'come', 'to', 'this'...</td>\n",
       "      <td>['Mr. President, as 1 come to this rostrum wit...</td>\n",
       "      <td>[[-0.2020001   0.44900396  0.10473768 ...  0.2...</td>\n",
       "    </tr>\n",
       "  </tbody>\n",
       "</table>\n",
       "<p>5 rows × 21 columns</p>\n",
       "</div>"
      ],
      "text/plain": [
       "   Unnamed: 0  year country  \\\n",
       "0           0  1970     CMR   \n",
       "1           1  1971     CMR   \n",
       "2           2  1972     CMR   \n",
       "3           3  1974     CMR   \n",
       "4           4  1975     CMR   \n",
       "\n",
       "                                                text  session country_map  \\\n",
       "0  : A year ago I came here as the Acting Preside...       25         NaN   \n",
       "1  186.\\t Mr. President, on behalf of the delegat...       26         NaN   \n",
       "2  Mr. President, since I am speaking from this r...       27         NaN   \n",
       "3   For many years, from this rostrum and others,...       29         NaN   \n",
       "4  69.\\t Mr. President, as 1 come to this rostrum...       30         NaN   \n",
       "\n",
       "   is_war  n_conflicts  total_deaths     incompatibility  ...  \\\n",
       "0   False            0           0.0  No incompatibility  ...   \n",
       "1   False            0           0.0  No incompatibility  ...   \n",
       "2   False            0           0.0  No incompatibility  ...   \n",
       "3   False            0           0.0  No incompatibility  ...   \n",
       "4   False            0           0.0  No incompatibility  ...   \n",
       "\n",
       "  type_of_conflict conflict_before no_tokens  countryname continent  \\\n",
       "0      No conflict     No conflict      2814     Cameroon        AF   \n",
       "1      No conflict     No conflict      2712     Cameroon        AF   \n",
       "2      No conflict     No conflict      3459     Cameroon        AF   \n",
       "3      No conflict     No conflict      3086     Cameroon        AF   \n",
       "4      No conflict     No conflict      4150     Cameroon        AF   \n",
       "\n",
       "                                           sentences  \\\n",
       "0  [['a', 'year', 'ago', 'i', 'came', 'here', 'as...   \n",
       "1  [['mr', 'president', 'on', 'behalf', 'of', 'th...   \n",
       "2  [['mr', 'president', 'since', 'i', 'am', 'spea...   \n",
       "3  [['for', 'many', 'years', 'from', 'this', 'ros...   \n",
       "4  [['mr', 'president', 'as', 'come', 'to', 'this...   \n",
       "\n",
       "                           sentences_multiple_tokens  \\\n",
       "0  [['a', 'year', 'ago', 'i', 'came', 'here', 'as...   \n",
       "1  [['mr', 'president', 'on', 'behalf', 'of', 'th...   \n",
       "2  [['mr', 'president', 'since', 'i', 'am', 'spea...   \n",
       "3  [['for', 'many', 'years', 'from', 'this', 'ros...   \n",
       "4  [['mr', 'president', 'as', 'come', 'to', 'this...   \n",
       "\n",
       "                                          text_clean  \\\n",
       "0  ['a', 'year', 'ago', 'i', 'came', 'here', 'as'...   \n",
       "1  ['mr', 'president', 'on', 'behalf', 'of', 'the...   \n",
       "2  ['mr', 'president', 'since', 'i', 'am', 'speak...   \n",
       "3  ['for', 'many', 'years', 'from', 'this', 'rost...   \n",
       "4  ['mr', 'president', 'as', 'come', 'to', 'this'...   \n",
       "\n",
       "                                      sentences_full  \\\n",
       "0  ['A year ago I came here as the Acting Preside...   \n",
       "1  ['Mr. President, on behalf of the delegation o...   \n",
       "2  [\"Mr. President, since I am speaking from this...   \n",
       "3  ['For many years, from this rostrum and others...   \n",
       "4  ['Mr. President, as 1 come to this rostrum wit...   \n",
       "\n",
       "                                    embeddings_sbert  \n",
       "0  [[-0.19020231  0.2700747  -0.46475238 ...  0.1...  \n",
       "1  [[-0.1808214   0.41667518  0.16697055 ...  0.2...  \n",
       "2  [[-0.420066    0.4901679  -0.03868627 ...  0.5...  \n",
       "3  [[-0.06388035  0.24733873 -0.01689987 ... -0.0...  \n",
       "4  [[-0.2020001   0.44900396  0.10473768 ...  0.2...  \n",
       "\n",
       "[5 rows x 21 columns]"
      ]
     },
     "execution_count": 9,
     "metadata": {},
     "output_type": "execute_result"
    }
   ],
   "source": [
    "dfa.head()"
   ]
  },
  {
   "cell_type": "code",
   "execution_count": 3,
   "id": "color-musician",
   "metadata": {},
   "outputs": [],
   "source": [
    "common_dictionary = Dictionary(common_texts)\n",
    "common_corpus = [common_dictionary.doc2bow(text) for text in common_texts]"
   ]
  },
  {
   "cell_type": "code",
   "execution_count": 4,
   "id": "subsequent-internship",
   "metadata": {},
   "outputs": [
    {
     "data": {
      "text/plain": [
       "<gensim.corpora.dictionary.Dictionary at 0x2b08730b2b0>"
      ]
     },
     "execution_count": 4,
     "metadata": {},
     "output_type": "execute_result"
    }
   ],
   "source": [
    "common_dictionary"
   ]
  },
  {
   "cell_type": "markdown",
   "id": "duplicate-census",
   "metadata": {},
   "source": [
    "# Preparation of data"
   ]
  },
  {
   "cell_type": "code",
   "execution_count": 5,
   "id": "reflected-headset",
   "metadata": {},
   "outputs": [],
   "source": [
    "import re\n",
    "import nltk"
   ]
  },
  {
   "cell_type": "code",
   "execution_count": 6,
   "id": "nasty-reporter",
   "metadata": {},
   "outputs": [],
   "source": [
    "dfa = pd.read_csv('./Datasets/2021-07-16 data_africa.csv')"
   ]
  },
  {
   "cell_type": "code",
   "execution_count": 7,
   "id": "accepted-nutrition",
   "metadata": {},
   "outputs": [],
   "source": [
    "stopwords = pd.read_csv('../Supplementary files/stopwords.txt', header=None)\n",
    "stopwords = stopwords[0].tolist()"
   ]
  },
  {
   "cell_type": "markdown",
   "id": "recent-pavilion",
   "metadata": {},
   "source": [
    "Remove punctuation"
   ]
  },
  {
   "cell_type": "code",
   "execution_count": 3,
   "id": "waiting-minimum",
   "metadata": {},
   "outputs": [],
   "source": [
    "# Define function to clean text\n",
    "def clean(text):\n",
    "    text = re.sub(\"[^a-zA-Z']\", \" \", text)\n",
    "    text = ' '.join([w.lower() for w in text.split()])\n",
    "    return text.split()"
   ]
  },
  {
   "cell_type": "code",
   "execution_count": 9,
   "id": "after-opinion",
   "metadata": {},
   "outputs": [],
   "source": [
    "dfa['text_clean'] = dfa['text'].map(clean)"
   ]
  },
  {
   "cell_type": "code",
   "execution_count": 10,
   "id": "civilian-mouse",
   "metadata": {},
   "outputs": [],
   "source": [
    "data_words = list(dfa.text_clean)"
   ]
  },
  {
   "cell_type": "code",
   "execution_count": 304,
   "id": "rural-thomson",
   "metadata": {},
   "outputs": [],
   "source": [
    "# Build the bigram and trigram models\n",
    "bigram = gensim.models.Phrases(data_words, min_count=5, threshold=100) # higher threshold fewer phrases.\n",
    "trigram = gensim.models.Phrases(bigram[data_words], threshold=100)"
   ]
  },
  {
   "cell_type": "code",
   "execution_count": 305,
   "id": "fallen-tuner",
   "metadata": {},
   "outputs": [],
   "source": [
    "# Faster way to get a sentence clubbed as a trigram/bigram\n",
    "bigram_mod = gensim.models.phrases.Phraser(bigram)\n",
    "trigram_mod = gensim.models.phrases.Phraser(trigram)"
   ]
  },
  {
   "cell_type": "code",
   "execution_count": 306,
   "id": "spare-radio",
   "metadata": {},
   "outputs": [],
   "source": [
    "def remove_stopwords(texts):\n",
    "    \"\"\"Removing stopwords\"\"\"\n",
    "    return [[word for word in simple_preprocess(str(doc)) if word not in stopwords] for doc in texts]"
   ]
  },
  {
   "cell_type": "code",
   "execution_count": 307,
   "id": "collective-huntington",
   "metadata": {},
   "outputs": [],
   "source": [
    "def make_bigrams(texts):\n",
    "    return [bigram_mod[doc] for doc in texts]\n",
    "\n",
    "def make_trigrams(texts):\n",
    "    return [trigram_mod[bigram_mod[doc]] for doc in texts]\n",
    "\n",
    "def lemmatization(texts, allowed_postags=['NOUN', 'ADJ', 'VERB', 'ADV']):\n",
    "    \"\"\"https://spacy.io/api/annotation\"\"\"\n",
    "    texts_out = []\n",
    "    for sent in texts:\n",
    "        doc = nlp(\" \".join(sent)) \n",
    "        texts_out.append([token.lemma_ for token in doc if token.pos_ in allowed_postags])\n",
    "    return texts_out"
   ]
  },
  {
   "cell_type": "markdown",
   "id": "democratic-logan",
   "metadata": {},
   "source": [
    "I Lemmatize all the nouns, adjectives, verbs, and adverbs. "
   ]
  },
  {
   "cell_type": "code",
   "execution_count": 310,
   "id": "christian-family",
   "metadata": {},
   "outputs": [],
   "source": [
    "# Remove Stop Words\n",
    "data_words_nostops = remove_stopwords(data_words)\n",
    "# Form Bigrams\n",
    "data_words_bigrams = make_bigrams(data_words_nostops)\n"
   ]
  },
  {
   "cell_type": "code",
   "execution_count": 311,
   "id": "exact-motion",
   "metadata": {},
   "outputs": [],
   "source": [
    "# Initialize spacy 'en' model, keeping only tagger component (for efficiency)\n",
    "nlp = spacy.load(\"en_core_web_sm\", disable=['parser', 'ner'])\n",
    "# Do lemmatization keeping only noun, adj, vb, adv\n",
    "data_lemmatized = lemmatization(data_words_bigrams, allowed_postags=['NOUN', 'ADJ', 'VERB', 'ADV'])"
   ]
  },
  {
   "cell_type": "code",
   "execution_count": 312,
   "id": "incoming-scheme",
   "metadata": {},
   "outputs": [],
   "source": [
    "# Create Dictionary\n",
    "id2word = corpora.Dictionary(data_lemmatized)\n",
    "# Create Corpus\n",
    "texts = data_lemmatized\n",
    "# Term Document Frequency\n",
    "corpus = [id2word.doc2bow(text) for text in texts]"
   ]
  },
  {
   "cell_type": "markdown",
   "id": "reliable-tennessee",
   "metadata": {},
   "source": [
    "# Topic Modeling"
   ]
  },
  {
   "cell_type": "markdown",
   "id": "forbidden-separation",
   "metadata": {},
   "source": [
    "## LDA"
   ]
  },
  {
   "cell_type": "markdown",
   "id": "about-water",
   "metadata": {},
   "source": [
    "Write-up my process: \n",
    "- The importance and logic behind the model\n",
    "- The process; \n",
    "- The decisions (e.g. for cleaning)\n",
    "- The fine-tuning graphs"
   ]
  },
  {
   "cell_type": "markdown",
   "id": "competitive-counter",
   "metadata": {},
   "source": [
    "### Building the prototype"
   ]
  },
  {
   "cell_type": "code",
   "execution_count": 313,
   "id": "prerequisite-bradley",
   "metadata": {},
   "outputs": [],
   "source": [
    "# Build LDA model\n",
    "# K = 20\n",
    "lda_model = gensim.models.LdaMulticore(corpus=corpus,\n",
    "                                       id2word=id2word,\n",
    "                                       num_topics=20,  # Since I am doing k=20\n",
    "                                       random_state=100,\n",
    "                                       chunksize=100,\n",
    "                                       passes=10,\n",
    "                                       per_word_topics=True)"
   ]
  },
  {
   "cell_type": "code",
   "execution_count": 315,
   "id": "collective-compiler",
   "metadata": {},
   "outputs": [
    {
     "name": "stdout",
     "output_type": "stream",
     "text": [
      "{'u_mass': -0.6088353560720332, 'c_uci': -0.5170850234403691, 'c_npmi': -0.01949243650764946}\n"
     ]
    }
   ],
   "source": [
    "scores_lda = get_traditional_scores(lda_model, data_lemmatized, id2word)\n",
    "print(scores_lda)"
   ]
  },
  {
   "cell_type": "code",
   "execution_count": 320,
   "id": "sensitive-gather",
   "metadata": {},
   "outputs": [],
   "source": [
    "# Build LDA model\n",
    "# K = 20\n",
    "lda_model = gensim.models.LdaMulticore(corpus=corpus,\n",
    "                                       alpha='asymmetric',\n",
    "                                       eta=0.2575,\n",
    "                                       id2word=id2word,\n",
    "                                       num_topics=20,  # Since I am doing k=20\n",
    "                                       random_state=100,\n",
    "                                       chunksize=100,\n",
    "                                       passes=10,\n",
    "                                       per_word_topics=True)"
   ]
  },
  {
   "cell_type": "code",
   "execution_count": 321,
   "id": "lesser-delta",
   "metadata": {},
   "outputs": [
    {
     "name": "stdout",
     "output_type": "stream",
     "text": [
      "{'u_mass': -0.6602112036784472, 'c_uci': -1.192565727746926, 'c_npmi': -0.03941111761679877, 'c_v': 0.3118712638157915}\n"
     ]
    }
   ],
   "source": [
    "scores_lda = get_traditional_scores(lda_model, data_lemmatized, id2word)\n",
    "print(scores_lda)"
   ]
  },
  {
   "cell_type": "markdown",
   "id": "operational-satellite",
   "metadata": {},
   "source": [
    "**Assumes that each word belongs to a topic. Thus, intra-cosine similarity of word embeddings. Note this when creating the table**"
   ]
  },
  {
   "cell_type": "code",
   "execution_count": 21,
   "id": "numerous-arkansas",
   "metadata": {},
   "outputs": [],
   "source": [
    "words_topics = lda_model.get_topic_terms(0, topn=999999999999)"
   ]
  },
  {
   "cell_type": "code",
   "execution_count": 22,
   "id": "related-dispute",
   "metadata": {},
   "outputs": [],
   "source": [
    "def get_word_topics(lda_model, num_topics=20, topn=9999999):\n",
    "    \"\"\"Get word topics for each topic\"\"\"\n",
    "    topic_dict = {}\n",
    "    for k in range(num_topics):\n",
    "        words_topic = lda_model.get_topic_terms(k, topn=topn)\n",
    "        topic_dict[k] = [id2word[x[0]] for x in words_topic]\n",
    "        \n",
    "    return topic_dict"
   ]
  },
  {
   "cell_type": "code",
   "execution_count": 23,
   "id": "ecological-emergency",
   "metadata": {},
   "outputs": [],
   "source": [
    "topics_dict = get_word_topics(lda_model)"
   ]
  },
  {
   "cell_type": "code",
   "execution_count": 27,
   "id": "comprehensive-kidney",
   "metadata": {},
   "outputs": [
    {
     "name": "stdout",
     "output_type": "stream",
     "text": [
      "8::['people', 'international', 'country', 'peace', 'world']\n",
      "17::['international', 'country', 'people', 'state', 'world']\n",
      "14::['peace', 'country', 'international', 'conflict', 'government']\n",
      "4::['country', 'people', 'international', 'peace', 'development']\n",
      "6::['country', 'international', 'world', 'peace', 'people']\n",
      "7::['zaire', 'genocide', 'rwanda', 'rwandan', 'congo']\n",
      "13::['country', 'world', 'people', 'international', 'problem']\n",
      "18::['tion', 'sion', 'ment', 'alir', 'aggre']\n",
      "10::['world', 'people', 'country', 'year', 'human']\n",
      "2::['territory', 'resolution', 'economic', 'operation', 'region']\n",
      "16::['eritrea', 'peace', 'eritrean', 'ethiopian', 'international']\n",
      "15::['international', 'country', 'peace', 'security', 'effort']\n",
      "\n",
      "people international country peace world\n",
      "international country people state world\n",
      "peace country international conflict government\n",
      "country people international peace development\n",
      "country international world peace people\n",
      "zaire genocide rwanda rwandan congo\n",
      "country world people international problem\n",
      "tion sion ment alir aggre\n",
      "world people country year human\n",
      "territory resolution economic operation region\n",
      "eritrea peace eritrean ethiopian international\n",
      "international country peace security effort\n"
     ]
    }
   ],
   "source": [
    "x=lda_model.show_topics(num_topics=12, num_words=5,formatted=False)\n",
    "topics_words = [(tp[0], [wd[0] for wd in tp[1]]) for tp in x]\n",
    "\n",
    "#Below Code Prints Topics and Words\n",
    "for topic,words in topics_words:\n",
    "    print(str(topic)+ \"::\"+ str(words))\n",
    "print()\n",
    "\n",
    "#Below Code Prints Only Words \n",
    "for topic,words in topics_words:\n",
    "    print(\" \".join(words))"
   ]
  },
  {
   "cell_type": "code",
   "execution_count": 316,
   "id": "accredited-spirituality",
   "metadata": {},
   "outputs": [],
   "source": [
    "# Get the coherence scores\n",
    "\n",
    "def get_traditional_scores(model, data, id2word, metrics=['u_mass', 'c_uci', 'c_npmi', 'c_v']):\n",
    "    \"\"\"Get Umass, uci, npmi scores\"\"\"\n",
    "    \n",
    "    scores_dict = {}\n",
    "    for metric in metrics:\n",
    "        # Get the coherence model\n",
    "        CM = CoherenceModel(model=model, texts=data, dictionary=id2word, coherence=metric)\n",
    "        results = CM.get_coherence()\n",
    "        \n",
    "        scores_dict[metric] = results\n",
    "        \n",
    "    return scores_dict"
   ]
  },
  {
   "cell_type": "code",
   "execution_count": 130,
   "id": "individual-terminal",
   "metadata": {},
   "outputs": [],
   "source": [
    "scores_lda = get_traditional_scores(lda_model, data_lemmatized, id2word)"
   ]
  },
  {
   "cell_type": "code",
   "execution_count": 131,
   "id": "median-settlement",
   "metadata": {},
   "outputs": [
    {
     "data": {
      "text/plain": [
       "{'u_mass': -0.6190825664713868,\n",
       " 'c_uci': -0.6717176097410548,\n",
       " 'c_npmi': -0.024580403245765547}"
      ]
     },
     "execution_count": 131,
     "metadata": {},
     "output_type": "execute_result"
    }
   ],
   "source": [
    "scores_lda"
   ]
  },
  {
   "cell_type": "code",
   "execution_count": null,
   "id": "automatic-cleaners",
   "metadata": {},
   "outputs": [],
   "source": [
    "# Compute Coherence Score\n",
    "coherence_model_lda = CoherenceModel(model=lda_model, texts=data_lemmatized, dictionary=id2word, coherence='c_v')\n",
    "coherence_lda = coherence_model_lda.get_coherence()\n",
    "print('\\nCoherence Score: ', coherence_lda)"
   ]
  },
  {
   "cell_type": "markdown",
   "id": "dedicated-reconstruction",
   "metadata": {},
   "source": [
    "### Fine-tuning LDA"
   ]
  },
  {
   "cell_type": "code",
   "execution_count": 40,
   "id": "muslim-fisher",
   "metadata": {},
   "outputs": [],
   "source": [
    "def compute_coherence_values(corpus, dictionary, k, a, b):\n",
    "    \n",
    "    lda_model = gensim.models.LdaMulticore(corpus=corpus,\n",
    "                                           id2word=dictionary,\n",
    "                                           num_topics=k, \n",
    "                                           random_state=100,\n",
    "                                           chunksize=100,\n",
    "                                           passes=10,\n",
    "                                           alpha=a,\n",
    "                                           eta=b)\n",
    "    \n",
    "    coherence_model_lda = CoherenceModel(model=lda_model, texts=data_lemmatized, dictionary=id2word, coherence='c_v')\n",
    "    \n",
    "    return coherence_model_lda.get_coherence()"
   ]
  },
  {
   "cell_type": "code",
   "execution_count": null,
   "id": "former-india",
   "metadata": {},
   "outputs": [],
   "source": [
    "num_of_docs = len(corpus)"
   ]
  },
  {
   "cell_type": "markdown",
   "id": "fabulous-refrigerator",
   "metadata": {},
   "source": [
    "Change alpha and beta params (logarithmic scaling)"
   ]
  },
  {
   "cell_type": "code",
   "execution_count": 286,
   "id": "listed-italic",
   "metadata": {
    "collapsed": true,
    "jupyter": {
     "outputs_hidden": true
    }
   },
   "outputs": [
    {
     "name": "stderr",
     "output_type": "stream",
     "text": [
      "\n",
      "  0%|                                                                                           | 0/42 [00:00<?, ?it/s]\u001b[A\n",
      "  2%|█▉                                                                              | 1/42 [03:55<2:40:56, 235.52s/it]\u001b[A\n",
      "  5%|███▊                                                                            | 2/42 [08:06<2:42:56, 244.42s/it]\u001b[A\n",
      "  7%|█████▋                                                                          | 3/42 [11:54<2:34:07, 237.11s/it]\u001b[A\n",
      " 10%|███████▌                                                                        | 4/42 [15:29<2:24:43, 228.51s/it]\u001b[A\n",
      " 12%|█████████▌                                                                      | 5/42 [19:00<2:16:55, 222.04s/it]\u001b[A\n",
      " 14%|███████████▍                                                                    | 6/42 [22:38<2:12:22, 220.63s/it]\u001b[A\n",
      " 17%|█████████████▎                                                                  | 7/42 [26:37<2:12:13, 226.66s/it]\u001b[A\n",
      " 19%|███████████████▏                                                                | 8/42 [30:35<2:10:29, 230.27s/it]\u001b[A\n",
      " 21%|█████████████████▏                                                              | 9/42 [34:19<2:05:32, 228.24s/it]\u001b[A\n",
      " 24%|██████████████████▊                                                            | 10/42 [47:50<3:37:44, 408.25s/it]\u001b[A\n",
      " 26%|████████████████████▋                                                          | 11/42 [51:14<2:58:37, 345.74s/it]\u001b[A\n",
      " 29%|██████████████████████▌                                                        | 12/42 [55:05<2:35:23, 310.77s/it]\u001b[A\n",
      " 31%|████████████████████████▍                                                      | 13/42 [59:08<2:20:20, 290.37s/it]\u001b[A\n",
      " 33%|█████████████████████████▋                                                   | 14/42 [1:09:35<3:02:57, 392.04s/it]\u001b[A\n",
      " 36%|███████████████████████████▌                                                 | 15/42 [1:13:22<2:34:01, 342.26s/it]\u001b[A\n",
      " 38%|█████████████████████████████▎                                               | 16/42 [1:16:54<2:11:17, 302.96s/it]\u001b[A\n",
      " 40%|███████████████████████████████▏                                             | 17/42 [1:20:12<1:53:03, 271.34s/it]\u001b[A\n",
      " 43%|█████████████████████████████████                                            | 18/42 [1:23:43<1:41:20, 253.34s/it]\u001b[A\n",
      " 45%|██████████████████████████████████▊                                          | 19/42 [1:27:19<1:32:48, 242.10s/it]\u001b[A\n",
      " 48%|████████████████████████████████████▋                                        | 20/42 [1:31:04<1:26:52, 236.93s/it]\u001b[A\n",
      " 50%|██████████████████████████████████████▌                                      | 21/42 [1:34:36<1:20:21, 229.62s/it]\u001b[A\n",
      " 52%|████████████████████████████████████████▎                                    | 22/42 [1:38:02<1:14:09, 222.49s/it]\u001b[A\n",
      " 55%|██████████████████████████████████████████▏                                  | 23/42 [1:41:20<1:08:08, 215.20s/it]\u001b[A\n",
      " 57%|████████████████████████████████████████████                                 | 24/42 [1:45:01<1:05:02, 216.78s/it]\u001b[A\n",
      " 60%|█████████████████████████████████████████████▊                               | 25/42 [1:48:44<1:01:59, 218.80s/it]\u001b[A\n",
      " 62%|████████████████████████████████████████████████▉                              | 26/42 [1:52:27<58:38, 219.89s/it]\u001b[A\n",
      " 64%|██████████████████████████████████████████████████▊                            | 27/42 [1:55:59<54:23, 217.53s/it]\u001b[A\n",
      " 67%|████████████████████████████████████████████████████▋                          | 28/42 [1:59:09<48:50, 209.34s/it]\u001b[A\n",
      " 69%|██████████████████████████████████████████████████████▌                        | 29/42 [2:02:20<44:08, 203.75s/it]\u001b[A\n",
      " 71%|████████████████████████████████████████████████████████▍                      | 30/42 [2:05:53<41:19, 206.62s/it]\u001b[A\n",
      " 74%|██████████████████████████████████████████████████████████▎                    | 31/42 [2:09:39<38:55, 212.35s/it]\u001b[A\n",
      " 76%|████████████████████████████████████████████████████████████▏                  | 32/42 [2:13:12<35:27, 212.71s/it]\u001b[A\n",
      " 79%|██████████████████████████████████████████████████████████████                 | 33/42 [2:16:55<32:21, 215.69s/it]\u001b[A\n",
      " 81%|███████████████████████████████████████████████████████████████▉               | 34/42 [2:19:15<25:43, 192.88s/it]\u001b[A\n",
      " 83%|█████████████████████████████████████████████████████████████████▊             | 35/42 [2:21:11<19:49, 169.99s/it]\u001b[A\n",
      " 86%|███████████████████████████████████████████████████████████████████▋           | 36/42 [2:23:43<16:26, 164.46s/it]\u001b[A\n",
      " 88%|█████████████████████████████████████████████████████████████████████▌         | 37/42 [2:26:31<13:47, 165.58s/it]\u001b[A\n",
      " 90%|███████████████████████████████████████████████████████████████████████▍       | 38/42 [2:29:07<10:50, 162.57s/it]\u001b[A\n",
      " 93%|█████████████████████████████████████████████████████████████████████████▎     | 39/42 [2:31:34<07:54, 158.03s/it]\u001b[A\n",
      " 95%|███████████████████████████████████████████████████████████████████████████▏   | 40/42 [2:34:01<05:09, 154.78s/it]\u001b[A\n",
      " 98%|█████████████████████████████████████████████████████████████████████████████  | 41/42 [2:36:35<02:34, 154.58s/it]\u001b[A\n",
      "100%|███████████████████████████████████████████████████████████████████████████████| 42/42 [2:39:51<00:00, 228.38s/it]\u001b[A\n"
     ]
    }
   ],
   "source": [
    "import numpy as np\n",
    "import tqdm\n",
    "grid = {}\n",
    "grid['Validation_Set'] = {}\n",
    "\n",
    "# Topics range\n",
    "min_topics = 2\n",
    "max_topics = 11\n",
    "step_size = 1\n",
    "topics_range = range(min_topics, max_topics, step_size)\n",
    "\n",
    "# Alpha parameter \n",
    "alpha = list(np.linspace(0.01,1,5))\n",
    "alpha.append('symmetric')\n",
    "alpha.append('asymmetric')\n",
    "\n",
    "# Beta parameter\n",
    "beta = list(np.linspace(0.01,1,5))\n",
    "beta.append('symmetric')\n",
    "\n",
    "# Validation sets\n",
    "num_of_docs = len(corpus)\n",
    "corpus_sets = [gensim.utils.ClippedCorpus(corpus, int(num_of_docs*0.75)), \n",
    "               corpus]\n",
    "model_results = {'Alpha': [],\n",
    "                 'Beta': [],\n",
    "                 'Coherence': []\n",
    "                }\n",
    "\n",
    "# Can take a long time to run\n",
    "if True:\n",
    "    n_iters = len(alpha) * len(beta)\n",
    "    pbar = tqdm.tqdm(total=n_iters)\n",
    "\n",
    "    # iterate through alpha values\n",
    "    for a in alpha:\n",
    "        # iterare through beta values\n",
    "        for b in beta:\n",
    "            # get the coherence score for the given parameters\n",
    "            cv = compute_coherence_values(corpus=corpus, dictionary=id2word, \n",
    "                                          k=20, a=a, b=b)\n",
    "            # Save the model results\n",
    "            model_results['Alpha'].append(a)\n",
    "            model_results['Beta'].append(b)\n",
    "            model_results['Coherence'].append(cv)\n",
    "\n",
    "            pbar.update(1)\n",
    "    pd.DataFrame(model_results).to_csv('lda_tuning_results.csv', index=False)\n",
    "    pbar.close()"
   ]
  },
  {
   "cell_type": "code",
   "execution_count": 200,
   "id": "everyday-confidence",
   "metadata": {},
   "outputs": [],
   "source": [
    "res_df = pd.read_csv('./Datasets/2021-07-19 lda_tuning_results.csv')"
   ]
  },
  {
   "cell_type": "code",
   "execution_count": 318,
   "id": "natural-render",
   "metadata": {},
   "outputs": [
    {
     "data": {
      "text/html": [
       "<div>\n",
       "<style scoped>\n",
       "    .dataframe tbody tr th:only-of-type {\n",
       "        vertical-align: middle;\n",
       "    }\n",
       "\n",
       "    .dataframe tbody tr th {\n",
       "        vertical-align: top;\n",
       "    }\n",
       "\n",
       "    .dataframe thead th {\n",
       "        text-align: right;\n",
       "    }\n",
       "</style>\n",
       "<table border=\"1\" class=\"dataframe\">\n",
       "  <thead>\n",
       "    <tr style=\"text-align: right;\">\n",
       "      <th></th>\n",
       "      <th>Alpha</th>\n",
       "      <th>Beta</th>\n",
       "      <th>Coherence</th>\n",
       "    </tr>\n",
       "  </thead>\n",
       "  <tbody>\n",
       "    <tr>\n",
       "      <th>10</th>\n",
       "      <td>0.2575</td>\n",
       "      <td>1.0</td>\n",
       "      <td>0.257827</td>\n",
       "    </tr>\n",
       "    <tr>\n",
       "      <th>4</th>\n",
       "      <td>0.01</td>\n",
       "      <td>1.0</td>\n",
       "      <td>0.264497</td>\n",
       "    </tr>\n",
       "    <tr>\n",
       "      <th>22</th>\n",
       "      <td>0.7525</td>\n",
       "      <td>1.0</td>\n",
       "      <td>0.266177</td>\n",
       "    </tr>\n",
       "    <tr>\n",
       "      <th>16</th>\n",
       "      <td>0.505</td>\n",
       "      <td>1.0</td>\n",
       "      <td>0.266202</td>\n",
       "    </tr>\n",
       "    <tr>\n",
       "      <th>34</th>\n",
       "      <td>symmetric</td>\n",
       "      <td>1.0</td>\n",
       "      <td>0.266459</td>\n",
       "    </tr>\n",
       "    <tr>\n",
       "      <th>40</th>\n",
       "      <td>asymmetric</td>\n",
       "      <td>1.0</td>\n",
       "      <td>0.274865</td>\n",
       "    </tr>\n",
       "    <tr>\n",
       "      <th>28</th>\n",
       "      <td>1.0</td>\n",
       "      <td>1.0</td>\n",
       "      <td>0.275061</td>\n",
       "    </tr>\n",
       "    <tr>\n",
       "      <th>27</th>\n",
       "      <td>1.0</td>\n",
       "      <td>0.7525</td>\n",
       "      <td>0.283178</td>\n",
       "    </tr>\n",
       "    <tr>\n",
       "      <th>29</th>\n",
       "      <td>1.0</td>\n",
       "      <td>symmetric</td>\n",
       "      <td>0.285971</td>\n",
       "    </tr>\n",
       "    <tr>\n",
       "      <th>24</th>\n",
       "      <td>1.0</td>\n",
       "      <td>0.01</td>\n",
       "      <td>0.288209</td>\n",
       "    </tr>\n",
       "    <tr>\n",
       "      <th>6</th>\n",
       "      <td>0.2575</td>\n",
       "      <td>0.01</td>\n",
       "      <td>0.288783</td>\n",
       "    </tr>\n",
       "    <tr>\n",
       "      <th>23</th>\n",
       "      <td>0.7525</td>\n",
       "      <td>symmetric</td>\n",
       "      <td>0.289748</td>\n",
       "    </tr>\n",
       "    <tr>\n",
       "      <th>18</th>\n",
       "      <td>0.7525</td>\n",
       "      <td>0.01</td>\n",
       "      <td>0.289864</td>\n",
       "    </tr>\n",
       "    <tr>\n",
       "      <th>30</th>\n",
       "      <td>symmetric</td>\n",
       "      <td>0.01</td>\n",
       "      <td>0.290365</td>\n",
       "    </tr>\n",
       "    <tr>\n",
       "      <th>5</th>\n",
       "      <td>0.01</td>\n",
       "      <td>symmetric</td>\n",
       "      <td>0.290527</td>\n",
       "    </tr>\n",
       "    <tr>\n",
       "      <th>25</th>\n",
       "      <td>1.0</td>\n",
       "      <td>0.2575</td>\n",
       "      <td>0.291101</td>\n",
       "    </tr>\n",
       "    <tr>\n",
       "      <th>36</th>\n",
       "      <td>asymmetric</td>\n",
       "      <td>0.01</td>\n",
       "      <td>0.291848</td>\n",
       "    </tr>\n",
       "    <tr>\n",
       "      <th>11</th>\n",
       "      <td>0.2575</td>\n",
       "      <td>symmetric</td>\n",
       "      <td>0.293016</td>\n",
       "    </tr>\n",
       "    <tr>\n",
       "      <th>0</th>\n",
       "      <td>0.01</td>\n",
       "      <td>0.01</td>\n",
       "      <td>0.293608</td>\n",
       "    </tr>\n",
       "    <tr>\n",
       "      <th>12</th>\n",
       "      <td>0.505</td>\n",
       "      <td>0.01</td>\n",
       "      <td>0.293749</td>\n",
       "    </tr>\n",
       "    <tr>\n",
       "      <th>41</th>\n",
       "      <td>asymmetric</td>\n",
       "      <td>symmetric</td>\n",
       "      <td>0.294979</td>\n",
       "    </tr>\n",
       "    <tr>\n",
       "      <th>17</th>\n",
       "      <td>0.505</td>\n",
       "      <td>symmetric</td>\n",
       "      <td>0.296358</td>\n",
       "    </tr>\n",
       "    <tr>\n",
       "      <th>35</th>\n",
       "      <td>symmetric</td>\n",
       "      <td>symmetric</td>\n",
       "      <td>0.296475</td>\n",
       "    </tr>\n",
       "    <tr>\n",
       "      <th>9</th>\n",
       "      <td>0.2575</td>\n",
       "      <td>0.7525</td>\n",
       "      <td>0.298989</td>\n",
       "    </tr>\n",
       "    <tr>\n",
       "      <th>26</th>\n",
       "      <td>1.0</td>\n",
       "      <td>0.505</td>\n",
       "      <td>0.300518</td>\n",
       "    </tr>\n",
       "    <tr>\n",
       "      <th>33</th>\n",
       "      <td>symmetric</td>\n",
       "      <td>0.7525</td>\n",
       "      <td>0.301700</td>\n",
       "    </tr>\n",
       "    <tr>\n",
       "      <th>13</th>\n",
       "      <td>0.505</td>\n",
       "      <td>0.2575</td>\n",
       "      <td>0.302103</td>\n",
       "    </tr>\n",
       "    <tr>\n",
       "      <th>39</th>\n",
       "      <td>asymmetric</td>\n",
       "      <td>0.7525</td>\n",
       "      <td>0.303269</td>\n",
       "    </tr>\n",
       "    <tr>\n",
       "      <th>3</th>\n",
       "      <td>0.01</td>\n",
       "      <td>0.7525</td>\n",
       "      <td>0.303699</td>\n",
       "    </tr>\n",
       "    <tr>\n",
       "      <th>19</th>\n",
       "      <td>0.7525</td>\n",
       "      <td>0.2575</td>\n",
       "      <td>0.303948</td>\n",
       "    </tr>\n",
       "    <tr>\n",
       "      <th>2</th>\n",
       "      <td>0.01</td>\n",
       "      <td>0.505</td>\n",
       "      <td>0.304204</td>\n",
       "    </tr>\n",
       "    <tr>\n",
       "      <th>21</th>\n",
       "      <td>0.7525</td>\n",
       "      <td>0.7525</td>\n",
       "      <td>0.304910</td>\n",
       "    </tr>\n",
       "    <tr>\n",
       "      <th>32</th>\n",
       "      <td>symmetric</td>\n",
       "      <td>0.505</td>\n",
       "      <td>0.307474</td>\n",
       "    </tr>\n",
       "    <tr>\n",
       "      <th>20</th>\n",
       "      <td>0.7525</td>\n",
       "      <td>0.505</td>\n",
       "      <td>0.307562</td>\n",
       "    </tr>\n",
       "    <tr>\n",
       "      <th>15</th>\n",
       "      <td>0.505</td>\n",
       "      <td>0.7525</td>\n",
       "      <td>0.307636</td>\n",
       "    </tr>\n",
       "    <tr>\n",
       "      <th>7</th>\n",
       "      <td>0.2575</td>\n",
       "      <td>0.2575</td>\n",
       "      <td>0.307800</td>\n",
       "    </tr>\n",
       "    <tr>\n",
       "      <th>31</th>\n",
       "      <td>symmetric</td>\n",
       "      <td>0.2575</td>\n",
       "      <td>0.310417</td>\n",
       "    </tr>\n",
       "    <tr>\n",
       "      <th>38</th>\n",
       "      <td>asymmetric</td>\n",
       "      <td>0.505</td>\n",
       "      <td>0.310474</td>\n",
       "    </tr>\n",
       "    <tr>\n",
       "      <th>8</th>\n",
       "      <td>0.2575</td>\n",
       "      <td>0.505</td>\n",
       "      <td>0.310659</td>\n",
       "    </tr>\n",
       "    <tr>\n",
       "      <th>1</th>\n",
       "      <td>0.01</td>\n",
       "      <td>0.2575</td>\n",
       "      <td>0.311176</td>\n",
       "    </tr>\n",
       "    <tr>\n",
       "      <th>14</th>\n",
       "      <td>0.505</td>\n",
       "      <td>0.505</td>\n",
       "      <td>0.312562</td>\n",
       "    </tr>\n",
       "    <tr>\n",
       "      <th>37</th>\n",
       "      <td>asymmetric</td>\n",
       "      <td>0.2575</td>\n",
       "      <td>0.313684</td>\n",
       "    </tr>\n",
       "  </tbody>\n",
       "</table>\n",
       "</div>"
      ],
      "text/plain": [
       "         Alpha       Beta  Coherence\n",
       "10      0.2575        1.0   0.257827\n",
       "4         0.01        1.0   0.264497\n",
       "22      0.7525        1.0   0.266177\n",
       "16       0.505        1.0   0.266202\n",
       "34   symmetric        1.0   0.266459\n",
       "40  asymmetric        1.0   0.274865\n",
       "28         1.0        1.0   0.275061\n",
       "27         1.0     0.7525   0.283178\n",
       "29         1.0  symmetric   0.285971\n",
       "24         1.0       0.01   0.288209\n",
       "6       0.2575       0.01   0.288783\n",
       "23      0.7525  symmetric   0.289748\n",
       "18      0.7525       0.01   0.289864\n",
       "30   symmetric       0.01   0.290365\n",
       "5         0.01  symmetric   0.290527\n",
       "25         1.0     0.2575   0.291101\n",
       "36  asymmetric       0.01   0.291848\n",
       "11      0.2575  symmetric   0.293016\n",
       "0         0.01       0.01   0.293608\n",
       "12       0.505       0.01   0.293749\n",
       "41  asymmetric  symmetric   0.294979\n",
       "17       0.505  symmetric   0.296358\n",
       "35   symmetric  symmetric   0.296475\n",
       "9       0.2575     0.7525   0.298989\n",
       "26         1.0      0.505   0.300518\n",
       "33   symmetric     0.7525   0.301700\n",
       "13       0.505     0.2575   0.302103\n",
       "39  asymmetric     0.7525   0.303269\n",
       "3         0.01     0.7525   0.303699\n",
       "19      0.7525     0.2575   0.303948\n",
       "2         0.01      0.505   0.304204\n",
       "21      0.7525     0.7525   0.304910\n",
       "32   symmetric      0.505   0.307474\n",
       "20      0.7525      0.505   0.307562\n",
       "15       0.505     0.7525   0.307636\n",
       "7       0.2575     0.2575   0.307800\n",
       "31   symmetric     0.2575   0.310417\n",
       "38  asymmetric      0.505   0.310474\n",
       "8       0.2575      0.505   0.310659\n",
       "1         0.01     0.2575   0.311176\n",
       "14       0.505      0.505   0.312562\n",
       "37  asymmetric     0.2575   0.313684"
      ]
     },
     "execution_count": 318,
     "metadata": {},
     "output_type": "execute_result"
    }
   ],
   "source": [
    "res_df.sort_values('Coherence')"
   ]
  },
  {
   "cell_type": "code",
   "execution_count": null,
   "id": "sunset-parade",
   "metadata": {},
   "outputs": [],
   "source": [
    "sns.heatmap()"
   ]
  },
  {
   "cell_type": "code",
   "execution_count": 218,
   "id": "subtle-exhaust",
   "metadata": {},
   "outputs": [],
   "source": [
    "plt.rcParams.update({\n",
    "    \"text.usetex\": False})"
   ]
  },
  {
   "cell_type": "code",
   "execution_count": 205,
   "id": "choice-correlation",
   "metadata": {},
   "outputs": [],
   "source": [
    "tuning_lda = pd.pivot_table(index='Alpha', columns='Beta', values='Coherence', data=res_df)"
   ]
  },
  {
   "cell_type": "code",
   "execution_count": 237,
   "id": "planned-damage",
   "metadata": {},
   "outputs": [
    {
     "data": {
      "text/plain": [
       "Index(['0.01', '0.2575', '0.505', '0.7525', '1.0', 'asymmetric', 'symmetric'], dtype='object', name='Alpha')"
      ]
     },
     "execution_count": 237,
     "metadata": {},
     "output_type": "execute_result"
    }
   ],
   "source": [
    "tuning_lda.index"
   ]
  },
  {
   "cell_type": "code",
   "execution_count": 241,
   "id": "wired-possibility",
   "metadata": {},
   "outputs": [],
   "source": [
    "c = ['asymmetric','symmetric']"
   ]
  },
  {
   "cell_type": "code",
   "execution_count": 242,
   "id": "compatible-chess",
   "metadata": {},
   "outputs": [],
   "source": [
    "tuning_lda.index = [np.round(float(x),2) if x not in c else x for x in tuning_lda.index]"
   ]
  },
  {
   "cell_type": "code",
   "execution_count": 244,
   "id": "arctic-redhead",
   "metadata": {},
   "outputs": [],
   "source": [
    "tuning_lda.columns = [np.round(float(x),2) if x not in c else x for x in tuning_lda.columns]"
   ]
  },
  {
   "cell_type": "code",
   "execution_count": 245,
   "id": "floppy-prefix",
   "metadata": {},
   "outputs": [],
   "source": [
    "cmap = sns.diverging_palette(20,230, as_cmap=True)"
   ]
  },
  {
   "cell_type": "code",
   "execution_count": 301,
   "id": "false-columbus",
   "metadata": {},
   "outputs": [
    {
     "data": {
      "image/png": "[encoded data removed]",
      "text/plain": [
       "<Figure size 576x432 with 2 Axes>"
      ]
     },
     "metadata": {
      "needs_background": "light"
     },
     "output_type": "display_data"
    }
   ],
   "source": [
    "fig, ax = plt.subplots(figsize=(8,6))\n",
    "sns.heatmap(tuning_lda, linewidth=12, ax=ax, cmap=cmap, annot=True)\n",
    "ax.set_title(\"Coherence score C_v based on two parameters\", loc='left')\n",
    "ax.set_xlabel(\"LDA Beta Parameter\")\n",
    "ax.set_ylabel(\"LDA Alpha Parameter\")\n",
    "\n",
    "plt.tight_layout()\n",
    "\n",
    "fig.savefig('./Figures/2021-07-20 LDA_coherence.pdf')"
   ]
  },
  {
   "cell_type": "code",
   "execution_count": 202,
   "id": "secret-swedish",
   "metadata": {},
   "outputs": [
    {
     "data": {
      "text/html": [
       "<div>\n",
       "<style scoped>\n",
       "    .dataframe tbody tr th:only-of-type {\n",
       "        vertical-align: middle;\n",
       "    }\n",
       "\n",
       "    .dataframe tbody tr th {\n",
       "        vertical-align: top;\n",
       "    }\n",
       "\n",
       "    .dataframe thead th {\n",
       "        text-align: right;\n",
       "    }\n",
       "</style>\n",
       "<table border=\"1\" class=\"dataframe\">\n",
       "  <thead>\n",
       "    <tr style=\"text-align: right;\">\n",
       "      <th></th>\n",
       "      <th>Alpha</th>\n",
       "      <th>Beta</th>\n",
       "      <th>Coherence</th>\n",
       "    </tr>\n",
       "  </thead>\n",
       "  <tbody>\n",
       "    <tr>\n",
       "      <th>37</th>\n",
       "      <td>asymmetric</td>\n",
       "      <td>0.2575</td>\n",
       "      <td>0.313684</td>\n",
       "    </tr>\n",
       "  </tbody>\n",
       "</table>\n",
       "</div>"
      ],
      "text/plain": [
       "         Alpha    Beta  Coherence\n",
       "37  asymmetric  0.2575   0.313684"
      ]
     },
     "execution_count": 202,
     "metadata": {},
     "output_type": "execute_result"
    }
   ],
   "source": [
    "res_df[res_df.Coherence == res_df.Coherence.max()]"
   ]
  },
  {
   "cell_type": "markdown",
   "id": "detailed-genetics",
   "metadata": {},
   "source": [
    "## LSI"
   ]
  },
  {
   "cell_type": "markdown",
   "id": "conditional-recall",
   "metadata": {},
   "source": [
    "### Model prototype"
   ]
  },
  {
   "cell_type": "markdown",
   "id": "enhanced-brook",
   "metadata": {},
   "source": [
    "Question: Should you preprocess LSA (with lemmatization and stuff) for better coherence?"
   ]
  },
  {
   "cell_type": "code",
   "execution_count": 326,
   "id": "banned-queens",
   "metadata": {},
   "outputs": [],
   "source": [
    "from gensim.models import LsiModel"
   ]
  },
  {
   "cell_type": "code",
   "execution_count": 327,
   "id": "destroyed-peter",
   "metadata": {},
   "outputs": [],
   "source": [
    "LSI =  LsiModel(corpus=corpus,\n",
    "       id2word=id2word,\n",
    "       num_topics=20,  # Since I am doing k=20\n",
    "       chunksize=100)"
   ]
  },
  {
   "cell_type": "code",
   "execution_count": 328,
   "id": "solved-patch",
   "metadata": {},
   "outputs": [],
   "source": [
    "scores_LSI = get_traditional_scores(LSI, data_lemmatized, id2word)"
   ]
  },
  {
   "cell_type": "code",
   "execution_count": 329,
   "id": "orange-universe",
   "metadata": {},
   "outputs": [
    {
     "data": {
      "text/plain": [
       "{'u_mass': -0.3885613771168056,\n",
       " 'c_uci': -0.1633714847463598,\n",
       " 'c_npmi': -0.008631465259972514,\n",
       " 'c_v': 0.29316693260103893}"
      ]
     },
     "execution_count": 329,
     "metadata": {},
     "output_type": "execute_result"
    }
   ],
   "source": [
    "scores_LSI"
   ]
  },
  {
   "cell_type": "markdown",
   "id": "interpreted-athens",
   "metadata": {},
   "source": [
    "##  Hierarchhical Dirichlet Process"
   ]
  },
  {
   "cell_type": "markdown",
   "id": "adolescent-litigation",
   "metadata": {},
   "source": [
    "**Infers the number of topics from the data. But, I adjust the $T$ parameter, the top level truncation level, to 20**"
   ]
  },
  {
   "cell_type": "markdown",
   "id": "charitable-thing",
   "metadata": {},
   "source": [
    "### Model prototype"
   ]
  },
  {
   "cell_type": "code",
   "execution_count": 297,
   "id": "needed-error",
   "metadata": {},
   "outputs": [],
   "source": [
    "from gensim.models import HdpModel"
   ]
  },
  {
   "cell_type": "code",
   "execution_count": 298,
   "id": "afraid-beverage",
   "metadata": {},
   "outputs": [
    {
     "data": {
      "text/plain": [
       "'Fine tune:\\n- kappa - learning parameter which acts as exponential decay factor to influence extent of learning from each batch (0.1, 10)\\n- tau - learning parameter which down-weights early iterations of documents (1, 100)\\n- alpha - concentration parameter (0.01, 5)\\n- gamma - concentration parameter (0.01, 5)\\n- eta (0.001, 1)\\n- '"
      ]
     },
     "execution_count": 298,
     "metadata": {},
     "output_type": "execute_result"
    }
   ],
   "source": [
    "\"\"\"Fine tune:\n",
    "- kappa - learning parameter which acts as exponential decay factor to influence extent of learning from each batch (0.1, 10)\n",
    "- tau - learning parameter which down-weights early iterations of documents (1, 100)\n",
    "- alpha - concentration parameter (0.01, 5)\n",
    "- gamma - concentration parameter (0.01, 5)\n",
    "- eta (0.001, 1)\n",
    "- \"\"\""
   ]
  },
  {
   "cell_type": "code",
   "execution_count": 322,
   "id": "consistent-texture",
   "metadata": {},
   "outputs": [],
   "source": [
    "# Run the model\n",
    "hdp_model = HdpModel(corpus=corpus,\n",
    "                id2word=id2word,\n",
    "                random_state=100,\n",
    "                chunksize=100,\n",
    "                T=20)"
   ]
  },
  {
   "cell_type": "code",
   "execution_count": 323,
   "id": "useful-marble",
   "metadata": {},
   "outputs": [],
   "source": [
    "from sklearn.model_selection import RandomizedSearchCV"
   ]
  },
  {
   "cell_type": "code",
   "execution_count": 325,
   "id": "historical-nirvana",
   "metadata": {},
   "outputs": [
    {
     "name": "stdout",
     "output_type": "stream",
     "text": [
      "{'u_mass': -6.555223403230007, 'c_uci': -2.6966723289234302, 'c_npmi': -0.10274530093761554, 'c_v': 0.39898677448628483}\n"
     ]
    }
   ],
   "source": [
    "scores_hdp = get_traditional_scores(hdp_model, data_lemmatized, id2word)\n",
    "print(scores_hdp)"
   ]
  },
  {
   "cell_type": "code",
   "execution_count": null,
   "id": "advised-dealer",
   "metadata": {},
   "outputs": [],
   "source": [
    "# Run the model\n",
    "hdp_model = HdpModel(corpus=corpus,\n",
    "                id2word=id2word,\n",
    "                random_state=100,\n",
    "                chunksize=100,\n",
    "                T=20)"
   ]
  },
  {
   "cell_type": "markdown",
   "id": "delayed-edition",
   "metadata": {},
   "source": [
    "### Fine-tuning the HDP model"
   ]
  },
  {
   "cell_type": "code",
   "execution_count": 169,
   "id": "patent-deposit",
   "metadata": {},
   "outputs": [],
   "source": [
    "# Get the required number of parameters\n",
    "k_prm = 10\n",
    "search_params = {'kappa': np.linspace(0.1, 10 , k_prm),\n",
    "                 'tau': np.linspace(1, 100, k_prm),\n",
    "                 'alpha': np.linspace(0.01, 5, k_prm),\n",
    "                 'gamma': np.linspace(0.01, 5, k_prm),\n",
    "                 'eta': np.linspace(0.001, 1, k_prm)}"
   ]
  },
  {
   "cell_type": "code",
   "execution_count": 24,
   "id": "spectacular-sarah",
   "metadata": {},
   "outputs": [],
   "source": [
    "import pandas as pd"
   ]
  },
  {
   "cell_type": "code",
   "execution_count": 25,
   "id": "therapeutic-massachusetts",
   "metadata": {},
   "outputs": [],
   "source": [
    "params = pd.read_excel(\"./Datasets/2021-07-27 hyperparams HDP.xlsx\")"
   ]
  },
  {
   "cell_type": "code",
   "execution_count": 32,
   "id": "related-praise",
   "metadata": {},
   "outputs": [
    {
     "data": {
      "text/plain": [
       "'Learning parameter which down-weights early iterations of documents.'"
      ]
     },
     "execution_count": 32,
     "metadata": {},
     "output_type": "execute_result"
    }
   ],
   "source": [
    "params.loc[1, 'Parameter explanation']"
   ]
  },
  {
   "cell_type": "code",
   "execution_count": 29,
   "id": "seasonal-uzbekistan",
   "metadata": {},
   "outputs": [
    {
     "name": "stdout",
     "output_type": "stream",
     "text": [
      "\\begin{tabular}{lrrrl}\n",
      "\\toprule\n",
      "Unnamed: 0 &  Min value &  Max value &  Final value &                              Parameter explanation \\\\\n",
      "\\midrule\n",
      "     kappa &      0.010 &          5 &         1.00 & Learning parameter which acts as exponential de... \\\\\n",
      "       tau &      1.000 &        100 &        64.00 & Learning parameter which down-weights early ite... \\\\\n",
      "     alpha &      0.010 &          5 &         1.00 &                         Second-level concentration \\\\\n",
      "     gamma &      0.010 &          5 &         1.00 &                          First-level concentration \\\\\n",
      "       eta &      0.001 &          1 &         0.01 &                                The topic Dirichlet \\\\\n",
      "\\bottomrule\n",
      "\\end{tabular}\n",
      "\n"
     ]
    }
   ],
   "source": [
    "print(params.to_latex(index=False))"
   ]
  },
  {
   "cell_type": "code",
   "execution_count": 288,
   "id": "naughty-affairs",
   "metadata": {},
   "outputs": [],
   "source": [
    "def get_params(search_params=search_params):\n",
    "    \"\"\"Get a random set of parameters for HDP\"\"\"\n",
    "    useparams = {}\n",
    "    for col in search_params.keys():\n",
    "        useparams[col] = random.choice(search_params[col])\n",
    "        \n",
    "    return useparams"
   ]
  },
  {
   "cell_type": "code",
   "execution_count": 289,
   "id": "delayed-soldier",
   "metadata": {},
   "outputs": [
    {
     "name": "stderr",
     "output_type": "stream",
     "text": [
      "  0%|                                                                                         | 0/42 [3:50:27<?, ?it/s]\n"
     ]
    }
   ],
   "source": [
    "scores_general = {}\n",
    "scores_params = {}\n",
    "for iter_ in range(10):\n",
    "    \n",
    "    # Get params\n",
    "    useparams = get_params()\n",
    "    \n",
    "    # Run the model\n",
    "    hdp_model = HdpModel(corpus=corpus,\n",
    "                    id2word=id2word,\n",
    "                    random_state=100,\n",
    "                    chunksize=100,\n",
    "                    T=20,\n",
    "                    **useparams)\n",
    "    \n",
    "    # Get scores and add them to dictionary\n",
    "    scores_hdp = get_traditional_scores(hdp_model, data_lemmatized, id2word)\n",
    "    scores_general[iter_] = scores_hdp\n",
    "    scores_params[iter_] = useparams"
   ]
  },
  {
   "cell_type": "code",
   "execution_count": 280,
   "id": "legislative-circle",
   "metadata": {},
   "outputs": [],
   "source": [
    "sg = pd.read_csv('./Datasets/2021-07-19 scores_general.csv').transpose()\n",
    "sp = pd.read_csv('./Datasets/2021-07-19 scores_params.csv').transpose()"
   ]
  },
  {
   "cell_type": "code",
   "execution_count": 285,
   "id": "responsible-junior",
   "metadata": {},
   "outputs": [],
   "source": [
    "def change_header(df):\n",
    "    df.columns = df.iloc[0]\n",
    "    df = df[1:]\n",
    "    \n",
    "    #df.drop('Unnamed: 0', axis=1)\n",
    "    return df"
   ]
  },
  {
   "cell_type": "code",
   "execution_count": 286,
   "id": "unlimited-variety",
   "metadata": {},
   "outputs": [],
   "source": [
    "sg = change_header(sg)\n",
    "sp = change_header(sp)\n",
    "sres = sp.merge(sg, right_index=True, left_index=True)"
   ]
  },
  {
   "cell_type": "code",
   "execution_count": 295,
   "id": "infrared-enterprise",
   "metadata": {},
   "outputs": [
    {
     "data": {
      "text/html": [
       "<div>\n",
       "<style scoped>\n",
       "    .dataframe tbody tr th:only-of-type {\n",
       "        vertical-align: middle;\n",
       "    }\n",
       "\n",
       "    .dataframe tbody tr th {\n",
       "        vertical-align: top;\n",
       "    }\n",
       "\n",
       "    .dataframe thead th {\n",
       "        text-align: right;\n",
       "    }\n",
       "</style>\n",
       "<table border=\"1\" class=\"dataframe\">\n",
       "  <thead>\n",
       "    <tr style=\"text-align: right;\">\n",
       "      <th>Unnamed: 0</th>\n",
       "      <th>kappa</th>\n",
       "      <th>tau</th>\n",
       "      <th>alpha</th>\n",
       "      <th>gamma</th>\n",
       "      <th>eta</th>\n",
       "      <th>u_mass</th>\n",
       "      <th>c_uci</th>\n",
       "      <th>c_npmi</th>\n",
       "    </tr>\n",
       "  </thead>\n",
       "  <tbody>\n",
       "    <tr>\n",
       "      <th>0</th>\n",
       "      <td>8.9</td>\n",
       "      <td>56.0</td>\n",
       "      <td>1.118889</td>\n",
       "      <td>1.673333</td>\n",
       "      <td>0.445</td>\n",
       "      <td>-18.268145</td>\n",
       "      <td>-6.279937</td>\n",
       "      <td>-0.226797</td>\n",
       "    </tr>\n",
       "    <tr>\n",
       "      <th>1</th>\n",
       "      <td>5.6</td>\n",
       "      <td>100.0</td>\n",
       "      <td>0.01</td>\n",
       "      <td>1.118889</td>\n",
       "      <td>0.112</td>\n",
       "      <td>-18.268145</td>\n",
       "      <td>-6.279937</td>\n",
       "      <td>-0.226797</td>\n",
       "    </tr>\n",
       "    <tr>\n",
       "      <th>2</th>\n",
       "      <td>6.7</td>\n",
       "      <td>67.0</td>\n",
       "      <td>4.445556</td>\n",
       "      <td>4.445556</td>\n",
       "      <td>0.667</td>\n",
       "      <td>-18.268145</td>\n",
       "      <td>-6.279937</td>\n",
       "      <td>-0.226797</td>\n",
       "    </tr>\n",
       "    <tr>\n",
       "      <th>3</th>\n",
       "      <td>8.9</td>\n",
       "      <td>45.0</td>\n",
       "      <td>2.782222</td>\n",
       "      <td>1.118889</td>\n",
       "      <td>0.556</td>\n",
       "      <td>-18.268145</td>\n",
       "      <td>-6.279937</td>\n",
       "      <td>-0.226797</td>\n",
       "    </tr>\n",
       "    <tr>\n",
       "      <th>4</th>\n",
       "      <td>10.0</td>\n",
       "      <td>89.0</td>\n",
       "      <td>2.782222</td>\n",
       "      <td>3.891111</td>\n",
       "      <td>0.889</td>\n",
       "      <td>-18.268145</td>\n",
       "      <td>-6.279937</td>\n",
       "      <td>-0.226797</td>\n",
       "    </tr>\n",
       "    <tr>\n",
       "      <th>5</th>\n",
       "      <td>6.7</td>\n",
       "      <td>89.0</td>\n",
       "      <td>2.227778</td>\n",
       "      <td>3.891111</td>\n",
       "      <td>1.0</td>\n",
       "      <td>-18.268145</td>\n",
       "      <td>-6.279937</td>\n",
       "      <td>-0.226797</td>\n",
       "    </tr>\n",
       "    <tr>\n",
       "      <th>6</th>\n",
       "      <td>2.3</td>\n",
       "      <td>34.0</td>\n",
       "      <td>2.782222</td>\n",
       "      <td>1.673333</td>\n",
       "      <td>0.778</td>\n",
       "      <td>-17.044481</td>\n",
       "      <td>-5.931382</td>\n",
       "      <td>-0.214617</td>\n",
       "    </tr>\n",
       "    <tr>\n",
       "      <th>7</th>\n",
       "      <td>4.5</td>\n",
       "      <td>34.0</td>\n",
       "      <td>0.564444</td>\n",
       "      <td>4.445556</td>\n",
       "      <td>0.001</td>\n",
       "      <td>-18.268145</td>\n",
       "      <td>-6.279937</td>\n",
       "      <td>-0.226797</td>\n",
       "    </tr>\n",
       "    <tr>\n",
       "      <th>8</th>\n",
       "      <td>6.7</td>\n",
       "      <td>34.0</td>\n",
       "      <td>0.01</td>\n",
       "      <td>1.673333</td>\n",
       "      <td>0.667</td>\n",
       "      <td>-18.268145</td>\n",
       "      <td>-6.279937</td>\n",
       "      <td>-0.226797</td>\n",
       "    </tr>\n",
       "    <tr>\n",
       "      <th>9</th>\n",
       "      <td>4.5</td>\n",
       "      <td>100.0</td>\n",
       "      <td>2.782222</td>\n",
       "      <td>3.891111</td>\n",
       "      <td>0.112</td>\n",
       "      <td>-18.268145</td>\n",
       "      <td>-6.279937</td>\n",
       "      <td>-0.226797</td>\n",
       "    </tr>\n",
       "  </tbody>\n",
       "</table>\n",
       "</div>"
      ],
      "text/plain": [
       "Unnamed: 0 kappa    tau     alpha     gamma    eta     u_mass     c_uci  \\\n",
       "0            8.9   56.0  1.118889  1.673333  0.445 -18.268145 -6.279937   \n",
       "1            5.6  100.0      0.01  1.118889  0.112 -18.268145 -6.279937   \n",
       "2            6.7   67.0  4.445556  4.445556  0.667 -18.268145 -6.279937   \n",
       "3            8.9   45.0  2.782222  1.118889  0.556 -18.268145 -6.279937   \n",
       "4           10.0   89.0  2.782222  3.891111  0.889 -18.268145 -6.279937   \n",
       "5            6.7   89.0  2.227778  3.891111    1.0 -18.268145 -6.279937   \n",
       "6            2.3   34.0  2.782222  1.673333  0.778 -17.044481 -5.931382   \n",
       "7            4.5   34.0  0.564444  4.445556  0.001 -18.268145 -6.279937   \n",
       "8            6.7   34.0      0.01  1.673333  0.667 -18.268145 -6.279937   \n",
       "9            4.5  100.0  2.782222  3.891111  0.112 -18.268145 -6.279937   \n",
       "\n",
       "Unnamed: 0    c_npmi  \n",
       "0          -0.226797  \n",
       "1          -0.226797  \n",
       "2          -0.226797  \n",
       "3          -0.226797  \n",
       "4          -0.226797  \n",
       "5          -0.226797  \n",
       "6          -0.214617  \n",
       "7          -0.226797  \n",
       "8          -0.226797  \n",
       "9          -0.226797  "
      ]
     },
     "execution_count": 295,
     "metadata": {},
     "output_type": "execute_result"
    }
   ],
   "source": [
    "sres"
   ]
  },
  {
   "cell_type": "markdown",
   "id": "compatible-incidence",
   "metadata": {},
   "source": [
    "## Clustering with Sentence BERT"
   ]
  },
  {
   "cell_type": "markdown",
   "id": "static-validation",
   "metadata": {},
   "source": [
    "Man nereikia atsekti siuo metu jokio cluster iki post lygio, tik veliau reikes"
   ]
  },
  {
   "cell_type": "markdown",
   "id": "magnetic-serum",
   "metadata": {},
   "source": [
    "### Getting embeddings"
   ]
  },
  {
   "cell_type": "code",
   "execution_count": 10,
   "id": "honest-witness",
   "metadata": {},
   "outputs": [],
   "source": [
    "import ast\n",
    "from tqdm import tqdm\n",
    "tqdm.pandas()"
   ]
  },
  {
   "cell_type": "code",
   "execution_count": 8,
   "id": "checked-grounds",
   "metadata": {},
   "outputs": [
    {
     "name": "stderr",
     "output_type": "stream",
     "text": [
      "100%|██████████████████████████████████████████████████████████████████████████████| 2426/2426 [00:42<00:00, 57.06it/s]\n"
     ]
    }
   ],
   "source": [
    "dfa['sentences_multiple_tokens'] = dfa.sentences_multiple_tokens.progress_map(ast.literal_eval)"
   ]
  },
  {
   "cell_type": "code",
   "execution_count": 9,
   "id": "liable-deputy",
   "metadata": {},
   "outputs": [],
   "source": [
    "s = dfa.text.iloc[0]"
   ]
  },
  {
   "cell_type": "code",
   "execution_count": 87,
   "id": "automated-singer",
   "metadata": {},
   "outputs": [],
   "source": [
    "# Define function to clean text\n",
    "def clean(text):\n",
    "    text = re.sub(\"[^a-zA-Z0-9\\,\\;\\.\\-']\", \" \", text)\n",
    "    text = ' '.join([w for w in text.split()])\n",
    "    return text"
   ]
  },
  {
   "cell_type": "code",
   "execution_count": 88,
   "id": "impossible-tuner",
   "metadata": {},
   "outputs": [],
   "source": [
    "from nltk import tokenize"
   ]
  },
  {
   "cell_type": "code",
   "execution_count": 89,
   "id": "educated-capitol",
   "metadata": {},
   "outputs": [],
   "source": [
    "def convert_to_sentences(s):\n",
    "    return [x for x in tokenize.sent_tokenize(clean(s)) if len(x.split()) > 2]"
   ]
  },
  {
   "cell_type": "code",
   "execution_count": 90,
   "id": "focal-graham",
   "metadata": {},
   "outputs": [
    {
     "name": "stderr",
     "output_type": "stream",
     "text": [
      "100%|██████████████████████████████████████████████████████████████████████████████| 2426/2426 [00:27<00:00, 86.67it/s]\n"
     ]
    }
   ],
   "source": [
    "dfa['sentences_full'] = dfa.text.progress_map(convert_to_sentences)"
   ]
  },
  {
   "cell_type": "code",
   "execution_count": 14,
   "id": "previous-bandwidth",
   "metadata": {},
   "outputs": [
    {
     "name": "stderr",
     "output_type": "stream",
     "text": [
      "C:\\Users\\Paulius\\anaconda3\\lib\\site-packages\\torch\\cuda\\__init__.py:52: UserWarning: CUDA initialization: Found no NVIDIA driver on your system. Please check that you have an NVIDIA GPU and installed a driver from http://www.nvidia.com/Download/index.aspx (Triggered internally at  ..\\c10\\cuda\\CUDAFunctions.cpp:100.)\n",
      "  return torch._C._cuda_getDeviceCount() > 0\n"
     ]
    }
   ],
   "source": [
    "# Import sentence transformer\n",
    "from sentence_transformers import SentenceTransformer\n",
    "model = SentenceTransformer('paraphrase-MiniLM-L6-v2')"
   ]
  },
  {
   "cell_type": "code",
   "execution_count": 15,
   "id": "breathing-bibliography",
   "metadata": {},
   "outputs": [],
   "source": [
    "def calculate_embeddings(s):\n",
    "    embeddings = model.encode(s)\n",
    "    return embeddings"
   ]
  },
  {
   "cell_type": "code",
   "execution_count": 16,
   "id": "mental-pottery",
   "metadata": {},
   "outputs": [],
   "source": [
    "dft = dfa.sample(10)"
   ]
  },
  {
   "cell_type": "code",
   "execution_count": 17,
   "id": "tracked-reminder",
   "metadata": {},
   "outputs": [
    {
     "name": "stderr",
     "output_type": "stream",
     "text": [
      "100%|██████████████████████████████████████████████████████████████████████████████████| 10/10 [00:22<00:00,  2.25s/it]\n"
     ]
    }
   ],
   "source": [
    "dft['embeddings_sbert'] = dft['sentences_full'].progress_map(calculate_embeddings)"
   ]
  },
  {
   "cell_type": "code",
   "execution_count": null,
   "id": "periodic-battlefield",
   "metadata": {},
   "outputs": [],
   "source": [
    "dfa['embeddings_sbert'] = dfa['sentences_full'].progress_map(calculate_embeddings)"
   ]
  },
  {
   "cell_type": "code",
   "execution_count": null,
   "id": "capital-leonard",
   "metadata": {},
   "outputs": [],
   "source": [
    "dfa.to_csv('2021-07-19 embedding_df.csv')"
   ]
  },
  {
   "cell_type": "code",
   "execution_count": 27,
   "id": "civilian-minute",
   "metadata": {},
   "outputs": [
    {
     "name": "stderr",
     "output_type": "stream",
     "text": [
      "100%|████████████████████████████████████████████████████████████████████████████| 2426/2426 [1:29:39<00:00,  2.22s/it]\n"
     ]
    }
   ],
   "source": [
    "dfa['embeddings_sbert'] = dfa['sentences_full'].progress_map(calculate_embeddings)"
   ]
  },
  {
   "cell_type": "code",
   "execution_count": 29,
   "id": "detailed-integration",
   "metadata": {},
   "outputs": [],
   "source": [
    "embeds_ls = list(dfa['embeddings_sbert'])\n",
    "embeds_ls = list(chain.from_iterable(embeds_ls))"
   ]
  },
  {
   "cell_type": "code",
   "execution_count": 30,
   "id": "diverse-member",
   "metadata": {},
   "outputs": [],
   "source": [
    "dfa.to_csv('2021-07-19 embedding_df.csv')"
   ]
  },
  {
   "cell_type": "markdown",
   "id": "independent-symbol",
   "metadata": {},
   "source": [
    "### Clustering"
   ]
  },
  {
   "cell_type": "code",
   "execution_count": 7,
   "id": "meaning-shelter",
   "metadata": {},
   "outputs": [],
   "source": []
  },
  {
   "cell_type": "code",
   "execution_count": 175,
   "id": "french-hello",
   "metadata": {},
   "outputs": [],
   "source": [
    "def get_kmeans(embeds_ls):\n",
    "    \n",
    "    # Instantiate kmeans\n",
    "    kmeans = KMeans(n_clusters=20, n_init=11, max_iter=10_000, n_jobs=-1)\n",
    "    kmeans.fit(embeds_ls)\n",
    "    \n",
    "    # Get labels\n",
    "    labels = kmeans.labels_\n",
    "    labels_all = np.unique(labels)\n",
    "    \n",
    "    return kmeans, labels, labels_all"
   ]
  },
  {
   "cell_type": "code",
   "execution_count": null,
   "id": "eight-mounting",
   "metadata": {},
   "outputs": [],
   "source": [
    "kmeans, labels, labels_all = get_kmeans(embeds_ls)"
   ]
  },
  {
   "cell_type": "code",
   "execution_count": 34,
   "id": "detailed-richards",
   "metadata": {},
   "outputs": [],
   "source": [
    "import pickle\n",
    "\n",
    "with open('2021-07-19 kmeans.pickle', 'wb') as handle:\n",
    "    pickle.dump(kmeans, handle, protocol=pickle.HIGHEST_PROTOCOL)"
   ]
  },
  {
   "cell_type": "code",
   "execution_count": 41,
   "id": "incredible-tribune",
   "metadata": {},
   "outputs": [
    {
     "data": {
      "text/plain": [
       "0     18983\n",
       "14    17393\n",
       "1     15061\n",
       "2     13419\n",
       "15    12919\n",
       "9     12629\n",
       "6     12146\n",
       "4     11917\n",
       "5     11747\n",
       "11    11338\n",
       "17    11318\n",
       "13    11299\n",
       "19    10762\n",
       "3     10736\n",
       "10    10053\n",
       "12     9981\n",
       "18     9648\n",
       "8      9137\n",
       "7      7600\n",
       "16     6524\n",
       "dtype: int64"
      ]
     },
     "execution_count": 41,
     "metadata": {},
     "output_type": "execute_result"
    }
   ],
   "source": [
    "pd.Series(labels).value_counts()"
   ]
  },
  {
   "cell_type": "markdown",
   "id": "inappropriate-termination",
   "metadata": {},
   "source": [
    "### Calculating Metrics"
   ]
  },
  {
   "cell_type": "markdown",
   "id": "assigned-april",
   "metadata": {},
   "source": [
    "#### Cleaning data"
   ]
  },
  {
   "cell_type": "code",
   "execution_count": null,
   "id": "clear-housing",
   "metadata": {},
   "outputs": [],
   "source": [
    "# Define function to clean text\n",
    "def clean(text):\n",
    "    text = re.sub(\"[^a-zA-Z']\", \" \", text)\n",
    "    text = ' '.join([w.lower() for w in text.split()])\n",
    "    return text\n",
    "\n",
    "sent_ls_full = dfa['sentences_full'].tolist()\n",
    "sent_ls_full_lower = [[x.lower() for x in ls] for ls in sent_ls_full]\n",
    "sent_ls_full_lower_flat = list(chain.from_iterable(sent_ls_full_lower))\n",
    "sent_ls_full_lower_flat_clean = [clean(x) for x in sent_ls_full_lower_flat]\n",
    "sent_lower_split = [x.split() for x in sent_ls_full_lower_flat_clean]"
   ]
  },
  {
   "cell_type": "code",
   "execution_count": 91,
   "id": "accepting-nurse",
   "metadata": {},
   "outputs": [
    {
     "data": {
      "text/plain": [
       "'a year ago i came here as the acting president of the organization of african unity to put before the assembly th meeting on behalf of that regional organization the manifesto on southern africa and the assembly was good enough to give the moral support of the highest international body to that document'"
      ]
     },
     "execution_count": 91,
     "metadata": {},
     "output_type": "execute_result"
    }
   ],
   "source": [
    "clean(sent_ls_full_lower_flat_clean[0])"
   ]
  },
  {
   "cell_type": "code",
   "execution_count": 115,
   "id": "nutritional-footage",
   "metadata": {},
   "outputs": [
    {
     "data": {
      "text/plain": [
       "'a year ago i came here as the acting president of the organization of african unity to put before the assembly th meeting on behalf of that regional organization the manifesto on southern africa and the assembly was good enough to give the moral support of the highest international body to that document'"
      ]
     },
     "execution_count": 115,
     "metadata": {},
     "output_type": "execute_result"
    }
   ],
   "source": [
    "clean(sent_ls_full_lower_flat_clean[0])"
   ]
  },
  {
   "cell_type": "code",
   "execution_count": 92,
   "id": "pointed-compression",
   "metadata": {},
   "outputs": [],
   "source": [
    "sent_ls_full_lower_flat_clean = [clean(x) for x in sent_ls_full_lower_flat]"
   ]
  },
  {
   "cell_type": "code",
   "execution_count": 73,
   "id": "significant-ratio",
   "metadata": {},
   "outputs": [],
   "source": [
    "assert len(labels) == len(sent_ls_full_lower_flat), 'The sentences are not equal in length'"
   ]
  },
  {
   "cell_type": "markdown",
   "id": "banned-forth",
   "metadata": {},
   "source": [
    "#### Coherence scores"
   ]
  },
  {
   "cell_type": "code",
   "execution_count": 104,
   "id": "burning-coffee",
   "metadata": {},
   "outputs": [],
   "source": [
    "import mutualinfo"
   ]
  },
  {
   "cell_type": "code",
   "execution_count": 116,
   "id": "bridal-watershed",
   "metadata": {},
   "outputs": [],
   "source": [
    "sentences_by_topic = mutualinfo.get_sentences_by_topic(labels, sent_ls_full_lower_flat_clean)"
   ]
  },
  {
   "cell_type": "code",
   "execution_count": 117,
   "id": "realistic-series",
   "metadata": {},
   "outputs": [],
   "source": [
    "cond_probs, mi_score = mutualinfo.calculate_mi(labels_all, sentences_by_topic)"
   ]
  },
  {
   "cell_type": "code",
   "execution_count": 118,
   "id": "dental-buyer",
   "metadata": {},
   "outputs": [],
   "source": [
    "inf_words = mutualinfo.get_topwords_fromdict(labels_all, cond_probs, mi_score, sentences_by_topic, n=10)"
   ]
  },
  {
   "cell_type": "code",
   "execution_count": 105,
   "id": "standard-hebrew",
   "metadata": {},
   "outputs": [],
   "source": [
    "from gensim.corpora.dictionary import Dictionary\n",
    "from gensim.models.coherencemodel import CoherenceModel\n",
    "import json"
   ]
  },
  {
   "cell_type": "code",
   "execution_count": 128,
   "id": "separate-johnson",
   "metadata": {},
   "outputs": [],
   "source": [
    "sent_lower_split = [x.split() for x in sent_ls_full_lower_flat_clean]"
   ]
  },
  {
   "cell_type": "code",
   "execution_count": 8,
   "id": "freelance-disorder",
   "metadata": {},
   "outputs": [],
   "source": [
    "def get_dictionary_corpus(sent_lower_split):\n",
    "    \"\"\"From a list of lists, where each token is a word, get dictionary and corpus\"\"\"\n",
    "    \n",
    "    dictionary = Dictionary(sent_lower_split)\n",
    "    corpus = [dictionary.doc2bow(doc) for doc in sent_lower_split]\n",
    "    return dictionary, corpus"
   ]
  },
  {
   "cell_type": "code",
   "execution_count": 132,
   "id": "homeless-builder",
   "metadata": {},
   "outputs": [],
   "source": [
    "dictionary, corpus = get_dictionary_corpus(sent_lower_split)"
   ]
  },
  {
   "cell_type": "code",
   "execution_count": null,
   "id": "aerial-garbage",
   "metadata": {},
   "outputs": [],
   "source": [
    "def get_score(topwords_dict, sent_double_filtered, dictionary=dictionary, corpus=corpus, verbose=True):\n",
    "    \"\"\"Get scores based on the topwords\"\"\"\n",
    "    \n",
    "    # Get list from dictionary\n",
    "    topwords_ls = list(topwords_dict.values())\n",
    "    \n",
    "    # UMASS\n",
    "    cm = CoherenceModel(coherence = 'u_mass', topics=topwords_ls, corpus=corpus, dictionary=dictionary)\n",
    "    umass = cm.get_coherence()\n",
    "    if verbose: print(f\"Umass: {umass}\")\n",
    "    \n",
    "    # UCI\n",
    "    cm2 = CoherenceModel(coherence = 'c_uci', texts=sent_double_filtered, topics=topwords_ls, corpus=corpus, dictionary=dictionary)\n",
    "    c_uci = cm2.get_coherence()\n",
    "    if verbose: print(f\"UCI: {c_uci}\")\n",
    "    \n",
    "    # NPMI\n",
    "    cm3 = CoherenceModel(coherence = 'c_npmi', texts=sent_double_filtered, topics=topwords_ls, corpus=corpus, dictionary=dictionary)\n",
    "    npmi = cm3.get_coherence()\n",
    "    if verbose: print(f\"NPMI: {npmi}\")\n",
    "        \n",
    "    # C_v\n",
    "    cm4 = CoherenceModel(coherence = 'c_v', texts=sent_double_filtered, topics=topwords_ls, corpus=corpus, dictionary=dictionary)\n",
    "    c_v = cm4.get_coherence()\n",
    "    if verbose: print(f\"$C_v$: {c_v}\")\n",
    "    \n",
    "    return umass, c_uci, npmi, c_v"
   ]
  },
  {
   "cell_type": "code",
   "execution_count": 189,
   "id": "saved-picking",
   "metadata": {},
   "outputs": [],
   "source": [
    "topwords_ls = list(inf_words.values())\n"
   ]
  },
  {
   "cell_type": "code",
   "execution_count": 137,
   "id": "finnish-tamil",
   "metadata": {},
   "outputs": [
    {
     "name": "stdout",
     "output_type": "stream",
     "text": [
      "Umass: -3.3434828006358446\n",
      "UCI: 0.7347090111649663\n",
      "NPMI: 0.11712148473658615\n"
     ]
    }
   ],
   "source": [
    "umass, uci, npmi = get_score(inf_words, sent_lower_split)"
   ]
  },
  {
   "cell_type": "markdown",
   "id": "certified-dryer",
   "metadata": {},
   "source": [
    "#### Cosine & Silhouette scores"
   ]
  },
  {
   "cell_type": "code",
   "execution_count": 88,
   "id": "sporting-cartoon",
   "metadata": {},
   "outputs": [],
   "source": [
    "import random\n",
    "from itertools import combinations\n",
    "import cosinescore\n",
    "from sklearn.metrics import silhouette_score"
   ]
  },
  {
   "cell_type": "code",
   "execution_count": 151,
   "id": "banned-microwave",
   "metadata": {},
   "outputs": [],
   "source": [
    "embeds_ls = np.array(embeds_ls)"
   ]
  },
  {
   "cell_type": "code",
   "execution_count": 162,
   "id": "swiss-healing",
   "metadata": {},
   "outputs": [
    {
     "name": "stderr",
     "output_type": "stream",
     "text": [
      "100%|██████████████████████████████████████████████████████████████████████████████████| 20/20 [03:03<00:00,  9.16s/it]\n"
     ]
    }
   ],
   "source": [
    "cosine_score = cosinescore.calculate_intracosine_all(embeds_ls, labels_all, labels)"
   ]
  },
  {
   "cell_type": "code",
   "execution_count": 180,
   "id": "abstract-bacon",
   "metadata": {},
   "outputs": [],
   "source": [
    "sample_indices = random.sample(range(len(embeds_ls)), 50_000)\n",
    "embeds_ls_filtered = embeds_ls[sample_indices]\n",
    "labels_filtered = labels[sample_indices]"
   ]
  },
  {
   "cell_type": "code",
   "execution_count": 181,
   "id": "ultimate-determination",
   "metadata": {},
   "outputs": [],
   "source": [
    "sscore = silhouette_score(embeds_ls_filtered, labels_filtered)"
   ]
  },
  {
   "cell_type": "code",
   "execution_count": 182,
   "id": "increasing-jersey",
   "metadata": {},
   "outputs": [
    {
     "data": {
      "text/plain": [
       "0.01921775"
      ]
     },
     "execution_count": 182,
     "metadata": {},
     "output_type": "execute_result"
    }
   ],
   "source": [
    "sscore"
   ]
  },
  {
   "cell_type": "code",
   "execution_count": 164,
   "id": "sorted-plymouth",
   "metadata": {},
   "outputs": [
    {
     "data": {
      "text/plain": [
       "0.36206779830743857"
      ]
     },
     "execution_count": 164,
     "metadata": {},
     "output_type": "execute_result"
    }
   ],
   "source": [
    "np.mean(cosine_score)"
   ]
  },
  {
   "cell_type": "markdown",
   "id": "thick-stock",
   "metadata": {},
   "source": [
    "## Clustering word-level embeddings"
   ]
  },
  {
   "cell_type": "code",
   "execution_count": 122,
   "id": "adolescent-capitol",
   "metadata": {},
   "outputs": [],
   "source": [
    "def remove_numbers(ls):\n",
    "    \"\"\"Remove the numbers\"\"\"\n",
    "    \n",
    "    no_numbers = [x for x in ls if not (x.isdigit() or x in '-+.')]\n",
    "    \n",
    "    return no_numbers"
   ]
  },
  {
   "cell_type": "code",
   "execution_count": 16,
   "id": "automotive-mathematics",
   "metadata": {},
   "outputs": [
    {
     "name": "stderr",
     "output_type": "stream",
     "text": [
      "100%|██████████████████████████████████████████████████████████████████████████████| 2426/2426 [00:35<00:00, 68.13it/s]\n"
     ]
    }
   ],
   "source": [
    "dfa['sentences_multiple_tokens'] = dfa['sentences_multiple_tokens'].progress_map(ast.literal_eval)"
   ]
  },
  {
   "cell_type": "code",
   "execution_count": 126,
   "id": "conditional-literature",
   "metadata": {},
   "outputs": [],
   "source": [
    "dfa['mtokens_clean'] = dfa['sentences_multiple_tokens'].map(lambda x: list(chain.from_iterable(x)))"
   ]
  },
  {
   "cell_type": "code",
   "execution_count": 127,
   "id": "healthy-november",
   "metadata": {},
   "outputs": [],
   "source": [
    "def clean(text):\n",
    "    text = re.sub(\"[^a-zA-Z']\", \" \", text)\n",
    "    return text\n",
    "\n",
    "def clean_ls(ls):\n",
    "    return [clean(x) for x in ls]"
   ]
  },
  {
   "cell_type": "code",
   "execution_count": 128,
   "id": "private-crawford",
   "metadata": {},
   "outputs": [
    {
     "name": "stderr",
     "output_type": "stream",
     "text": [
      "100%|█████████████████████████████████████████████████████████████████████████████| 2426/2426 [00:10<00:00, 241.30it/s]\n"
     ]
    }
   ],
   "source": [
    "dfa['mtokens_clean'] = dfa.mtokens_clean.progress_map(clean_ls)"
   ]
  },
  {
   "cell_type": "code",
   "execution_count": 129,
   "id": "turkish-checklist",
   "metadata": {},
   "outputs": [],
   "source": [
    "data_agg = dfa.mtokens_clean.explode().value_counts()"
   ]
  },
  {
   "cell_type": "code",
   "execution_count": 130,
   "id": "welsh-thirty",
   "metadata": {},
   "outputs": [],
   "source": [
    "# Remove numbers from the tokens\n",
    "index_to_use = remove_numbers(data_agg.index.tolist())\n",
    "\n",
    "# Filter based on the indices\n",
    "data_agg = data_agg[list(set(data_agg.index).intersection(set(index_to_use)))]"
   ]
  },
  {
   "cell_type": "code",
   "execution_count": 131,
   "id": "julian-donna",
   "metadata": {},
   "outputs": [
    {
     "name": "stdout",
     "output_type": "stream",
     "text": [
      "Length before removing words: 32944\n",
      "Length after removing words: 32637\n",
      "Length before removing words: 32637\n",
      "Length after removing words: 14948\n"
     ]
    }
   ],
   "source": [
    "def remove_words(data_agg, words):\n",
    "    \"\"\"Remove words from the data aggregation and return full object\"\"\"\n",
    "    print(f\"Length before removing words: {len(data_agg)}\")\n",
    "    data_agg = data_agg[list(set(data_agg.index).intersection(set(words)))]\n",
    "    print(f\"Length after removing words: {len(data_agg)}\")\n",
    "    return data_agg\n",
    "\n",
    "not_stopwords = [x for x in data_agg.index if x not in stopwords]\n",
    "data_agg = remove_words(data_agg, not_stopwords)\n",
    "\n",
    "# Exclude words that appear in fewer than 5 documents\n",
    "more_than_5_words = data_agg[data_agg.values > 5].index\n",
    "data_agg = remove_words(data_agg, more_than_5_words)\n"
   ]
  },
  {
   "cell_type": "code",
   "execution_count": 132,
   "id": "junior-supervisor",
   "metadata": {},
   "outputs": [],
   "source": [
    "# Get word frequencies\n",
    "data_agg = data_agg.sort_values(ascending=False)\n",
    "\n",
    "# Remove \"s\" from index\n",
    "data_agg = data_agg[data_agg.index != 's']"
   ]
  },
  {
   "cell_type": "code",
   "execution_count": 133,
   "id": "enabling-tiffany",
   "metadata": {},
   "outputs": [],
   "source": [
    "fasttext = pd.read_pickle('./embeddings/2021-07-10 wordvector.pickle')\n"
   ]
  },
  {
   "cell_type": "code",
   "execution_count": 134,
   "id": "increased-medicare",
   "metadata": {},
   "outputs": [],
   "source": [
    "word2vec = pd.read_pickle('./embeddings/2021-07-20 word2vec vectors.pickle')"
   ]
  },
  {
   "cell_type": "code",
   "execution_count": 135,
   "id": "mathematical-cursor",
   "metadata": {},
   "outputs": [],
   "source": [
    "# Change the wordvector\n",
    "wordvectors = word2vec"
   ]
  },
  {
   "cell_type": "code",
   "execution_count": 136,
   "id": "worldwide-rochester",
   "metadata": {},
   "outputs": [],
   "source": [
    "zero_vector = np.zeros(100)"
   ]
  },
  {
   "cell_type": "code",
   "execution_count": 137,
   "id": "secure-designer",
   "metadata": {},
   "outputs": [],
   "source": [
    "# Get the embeddings for each word\n",
    "X = np.array([wordvectors.get(x, zero_vector) for x in data_agg.index])\n",
    "\n",
    "# Get the vocab\n",
    "vocab = data_agg.index.tolist()"
   ]
  },
  {
   "cell_type": "code",
   "execution_count": 138,
   "id": "everyday-truck",
   "metadata": {},
   "outputs": [
    {
     "data": {
      "text/plain": [
       "array(['mrs', 'lvoire', 'maci', 'gouabi'], dtype='<U31')"
      ]
     },
     "execution_count": 138,
     "metadata": {},
     "output_type": "execute_result"
    }
   ],
   "source": [
    "np.array(vocab)[[i for i, x in enumerate(X) if x.sum() == 0]]"
   ]
  },
  {
   "cell_type": "code",
   "execution_count": 139,
   "id": "genuine-mirror",
   "metadata": {},
   "outputs": [
    {
     "name": "stderr",
     "output_type": "stream",
     "text": [
      "C:\\Users\\Paulius\\anaconda3\\lib\\site-packages\\sklearn\\cluster\\_kmeans.py:792: FutureWarning: 'n_jobs' was deprecated in version 0.23 and will be removed in 1.0 (renaming of 0.25).\n",
      "  warnings.warn(\"'n_jobs' was deprecated in version 0.23 and will be\"\n"
     ]
    }
   ],
   "source": [
    "k=20\n",
    "\n",
    "kmeans = KMeans(n_clusters=k, n_init=21, n_jobs=-1, max_iter=1_000, random_state=42)\n",
    "kmeans.fit(X, sample_weight=data_agg.values)\n",
    "labels = kmeans.labels_\n",
    "sil_score = silhouette_score(X, labels)"
   ]
  },
  {
   "cell_type": "code",
   "execution_count": 140,
   "id": "statutory-requirement",
   "metadata": {},
   "outputs": [
    {
     "name": "stdout",
     "output_type": "stream",
     "text": [
      "-0.025327641878065812\n"
     ]
    }
   ],
   "source": [
    "print(sil_score)"
   ]
  },
  {
   "cell_type": "code",
   "execution_count": 141,
   "id": "communist-artwork",
   "metadata": {},
   "outputs": [],
   "source": [
    "# Define a function to get the topics\n",
    "def get_category_topics(labels, word_freq):\n",
    "    \n",
    "    # Get labels and vocab\n",
    "    unique_labels = np.unique(labels)\n",
    "    vocab = word_freq.index.tolist()\n",
    "\n",
    "    # Get IDs\n",
    "    ids = {w: c for w, c in zip(vocab, labels)}\n",
    "\n",
    "    # Get all words within each category cluster\n",
    "    categories = {}\n",
    "    for l in unique_labels:\n",
    "        categories[l] = pd.Series(vocab)[labels == l].values\n",
    "\n",
    "    # For each category, rank the words based on their frequency\n",
    "    for ind in categories: \n",
    "        categories[ind] = Counter({w:word_freq[w] for w in categories[ind]})\n",
    "    \n",
    "    return categories\n",
    "\n",
    "def get_top_words(categories, n=10):\n",
    "  # Get top categories\n",
    "  top_categories = {}\n",
    "\n",
    "  # Get minimum value for the category length\n",
    "  lengths = []\n",
    "  for i in categories.keys():\n",
    "    lengths.append(len(categories[i]))\n",
    "  \n",
    "  # Min array\n",
    "  #min_arr = np.min(np.array(lengths))\n",
    "  #n_topics = min(min_arr, n)\n",
    "  #print(f\"Showing {n_topics} words per topic\")\n",
    "\n",
    "  for i in categories.keys():\n",
    "    top_categories[i] = categories[i].most_common(n)\n",
    "\n",
    "  # Get df\n",
    "  #top_categories_df = pd.DataFrame(top_categories)\n",
    "  return top_categories"
   ]
  },
  {
   "cell_type": "code",
   "execution_count": 142,
   "id": "suffering-fight",
   "metadata": {},
   "outputs": [],
   "source": [
    "# Get categories\n",
    "categories = get_category_topics(labels, data_agg)\n",
    "top_categories = get_top_words(categories)"
   ]
  },
  {
   "cell_type": "code",
   "execution_count": 143,
   "id": "catholic-synthetic",
   "metadata": {},
   "outputs": [],
   "source": [
    "top_categories = {k:[word[0] for word in v] for k, v in top_categories.items()}"
   ]
  },
  {
   "cell_type": "code",
   "execution_count": 144,
   "id": "subtle-fever",
   "metadata": {},
   "outputs": [],
   "source": [
    "labels_unique = np.unique(labels)\n",
    "vocab = data_agg.index"
   ]
  },
  {
   "cell_type": "code",
   "execution_count": 145,
   "id": "moving-yemen",
   "metadata": {},
   "outputs": [],
   "source": [
    "assert len(X) == len(vocab) == len(labels), 'lengths are not equal'"
   ]
  },
  {
   "cell_type": "code",
   "execution_count": 146,
   "id": "hundred-faculty",
   "metadata": {
    "collapsed": true,
    "jupyter": {
     "outputs_hidden": true
    }
   },
   "outputs": [
    {
     "ename": "KeyboardInterrupt",
     "evalue": "",
     "output_type": "error",
     "traceback": [
      "\u001b[1;31m---------------------------------------------------------------------------\u001b[0m",
      "\u001b[1;31mKeyboardInterrupt\u001b[0m                         Traceback (most recent call last)",
      "\u001b[1;32m<ipython-input-146-63f0f191c7c9>\u001b[0m in \u001b[0;36m<module>\u001b[1;34m\u001b[0m\n\u001b[1;32m----> 1\u001b[1;33m \u001b[0mcosine_score\u001b[0m \u001b[1;33m=\u001b[0m \u001b[0mcosinescore\u001b[0m\u001b[1;33m.\u001b[0m\u001b[0mcalculate_intracosine_all\u001b[0m\u001b[1;33m(\u001b[0m\u001b[0mX\u001b[0m\u001b[1;33m,\u001b[0m \u001b[0mlabels_unique\u001b[0m\u001b[1;33m,\u001b[0m \u001b[0mlabels\u001b[0m\u001b[1;33m)\u001b[0m\u001b[1;33m\u001b[0m\u001b[1;33m\u001b[0m\u001b[0m\n\u001b[0m\u001b[0;32m      2\u001b[0m \u001b[0mprint\u001b[0m\u001b[1;33m(\u001b[0m\u001b[0mcosine_score\u001b[0m\u001b[1;33m)\u001b[0m\u001b[1;33m\u001b[0m\u001b[1;33m\u001b[0m\u001b[0m\n",
      "\u001b[1;32m~\\OneDrive\\Oxford University\\Courses\\Trinity\\Thesis\\Data\\cosinescore.py\u001b[0m in \u001b[0;36mcalculate_intracosine_all\u001b[1;34m(sent_embed_filtered_sample, labels_all, kmeans_labels, n)\u001b[0m\n\u001b[0;32m     43\u001b[0m         \u001b[0membed_group\u001b[0m \u001b[1;33m=\u001b[0m \u001b[0msent_embed_filtered_sample\u001b[0m\u001b[1;33m[\u001b[0m\u001b[0mgroup_indices\u001b[0m\u001b[1;33m]\u001b[0m\u001b[1;33m\u001b[0m\u001b[1;33m\u001b[0m\u001b[0m\n\u001b[0;32m     44\u001b[0m \u001b[1;33m\u001b[0m\u001b[0m\n\u001b[1;32m---> 45\u001b[1;33m         \u001b[0mcos_score\u001b[0m \u001b[1;33m=\u001b[0m \u001b[0mcalculate_intracosine\u001b[0m\u001b[1;33m(\u001b[0m\u001b[0membed_group\u001b[0m\u001b[1;33m,\u001b[0m \u001b[0mn\u001b[0m\u001b[1;33m=\u001b[0m\u001b[0mn\u001b[0m\u001b[1;33m)\u001b[0m\u001b[1;33m\u001b[0m\u001b[1;33m\u001b[0m\u001b[0m\n\u001b[0m\u001b[0;32m     46\u001b[0m         \u001b[0mcosine_scores\u001b[0m\u001b[1;33m.\u001b[0m\u001b[0mappend\u001b[0m\u001b[1;33m(\u001b[0m\u001b[0mcos_score\u001b[0m\u001b[1;33m)\u001b[0m\u001b[1;33m\u001b[0m\u001b[1;33m\u001b[0m\u001b[0m\n\u001b[0;32m     47\u001b[0m \u001b[1;33m\u001b[0m\u001b[0m\n",
      "\u001b[1;32m~\\OneDrive\\Oxford University\\Courses\\Trinity\\Thesis\\Data\\cosinescore.py\u001b[0m in \u001b[0;36mcalculate_intracosine\u001b[1;34m(arr, n)\u001b[0m\n\u001b[0;32m     29\u001b[0m \u001b[1;33m\u001b[0m\u001b[0m\n\u001b[0;32m     30\u001b[0m     \u001b[1;32mfor\u001b[0m \u001b[0marr1\u001b[0m\u001b[1;33m,\u001b[0m \u001b[0marr2\u001b[0m \u001b[1;32min\u001b[0m \u001b[0mcombinations\u001b[0m\u001b[1;33m(\u001b[0m\u001b[0mls_sampled\u001b[0m\u001b[1;33m,\u001b[0m \u001b[1;36m2\u001b[0m\u001b[1;33m)\u001b[0m\u001b[1;33m:\u001b[0m\u001b[1;33m\u001b[0m\u001b[1;33m\u001b[0m\u001b[0m\n\u001b[1;32m---> 31\u001b[1;33m         \u001b[0mcosine_scores\u001b[0m\u001b[1;33m.\u001b[0m\u001b[0mappend\u001b[0m\u001b[1;33m(\u001b[0m\u001b[1;36m1\u001b[0m \u001b[1;33m-\u001b[0m \u001b[0mcosine\u001b[0m\u001b[1;33m(\u001b[0m\u001b[0marr1\u001b[0m\u001b[1;33m,\u001b[0m \u001b[0marr2\u001b[0m\u001b[1;33m)\u001b[0m\u001b[1;33m)\u001b[0m\u001b[1;33m\u001b[0m\u001b[1;33m\u001b[0m\u001b[0m\n\u001b[0m\u001b[0;32m     32\u001b[0m \u001b[1;33m\u001b[0m\u001b[0m\n\u001b[0;32m     33\u001b[0m     \u001b[1;32mreturn\u001b[0m \u001b[0mnp\u001b[0m\u001b[1;33m.\u001b[0m\u001b[0mmean\u001b[0m\u001b[1;33m(\u001b[0m\u001b[0mcosine_scores\u001b[0m\u001b[1;33m)\u001b[0m\u001b[1;33m\u001b[0m\u001b[1;33m\u001b[0m\u001b[0m\n",
      "\u001b[1;32m~\\anaconda3\\lib\\site-packages\\scipy\\spatial\\distance.py\u001b[0m in \u001b[0;36mcosine\u001b[1;34m(u, v, w)\u001b[0m\n\u001b[0;32m    773\u001b[0m     \u001b[1;31m# cosine distance is also referred to as 'uncentered correlation',\u001b[0m\u001b[1;33m\u001b[0m\u001b[1;33m\u001b[0m\u001b[1;33m\u001b[0m\u001b[0m\n\u001b[0;32m    774\u001b[0m     \u001b[1;31m#   or 'reflective correlation'\u001b[0m\u001b[1;33m\u001b[0m\u001b[1;33m\u001b[0m\u001b[1;33m\u001b[0m\u001b[0m\n\u001b[1;32m--> 775\u001b[1;33m     \u001b[1;32mreturn\u001b[0m \u001b[0mcorrelation\u001b[0m\u001b[1;33m(\u001b[0m\u001b[0mu\u001b[0m\u001b[1;33m,\u001b[0m \u001b[0mv\u001b[0m\u001b[1;33m,\u001b[0m \u001b[0mw\u001b[0m\u001b[1;33m=\u001b[0m\u001b[0mw\u001b[0m\u001b[1;33m,\u001b[0m \u001b[0mcentered\u001b[0m\u001b[1;33m=\u001b[0m\u001b[1;32mFalse\u001b[0m\u001b[1;33m)\u001b[0m\u001b[1;33m\u001b[0m\u001b[1;33m\u001b[0m\u001b[0m\n\u001b[0m\u001b[0;32m    776\u001b[0m \u001b[1;33m\u001b[0m\u001b[0m\n\u001b[0;32m    777\u001b[0m \u001b[1;33m\u001b[0m\u001b[0m\n",
      "\u001b[1;32m~\\anaconda3\\lib\\site-packages\\scipy\\spatial\\distance.py\u001b[0m in \u001b[0;36mcorrelation\u001b[1;34m(u, v, w, centered)\u001b[0m\n\u001b[0;32m    725\u001b[0m     \u001b[0muv\u001b[0m \u001b[1;33m=\u001b[0m \u001b[0mnp\u001b[0m\u001b[1;33m.\u001b[0m\u001b[0maverage\u001b[0m\u001b[1;33m(\u001b[0m\u001b[0mu\u001b[0m \u001b[1;33m*\u001b[0m \u001b[0mv\u001b[0m\u001b[1;33m,\u001b[0m \u001b[0mweights\u001b[0m\u001b[1;33m=\u001b[0m\u001b[0mw\u001b[0m\u001b[1;33m)\u001b[0m\u001b[1;33m\u001b[0m\u001b[1;33m\u001b[0m\u001b[0m\n\u001b[0;32m    726\u001b[0m     \u001b[0muu\u001b[0m \u001b[1;33m=\u001b[0m \u001b[0mnp\u001b[0m\u001b[1;33m.\u001b[0m\u001b[0maverage\u001b[0m\u001b[1;33m(\u001b[0m\u001b[0mnp\u001b[0m\u001b[1;33m.\u001b[0m\u001b[0msquare\u001b[0m\u001b[1;33m(\u001b[0m\u001b[0mu\u001b[0m\u001b[1;33m)\u001b[0m\u001b[1;33m,\u001b[0m \u001b[0mweights\u001b[0m\u001b[1;33m=\u001b[0m\u001b[0mw\u001b[0m\u001b[1;33m)\u001b[0m\u001b[1;33m\u001b[0m\u001b[1;33m\u001b[0m\u001b[0m\n\u001b[1;32m--> 727\u001b[1;33m     \u001b[0mvv\u001b[0m \u001b[1;33m=\u001b[0m \u001b[0mnp\u001b[0m\u001b[1;33m.\u001b[0m\u001b[0maverage\u001b[0m\u001b[1;33m(\u001b[0m\u001b[0mnp\u001b[0m\u001b[1;33m.\u001b[0m\u001b[0msquare\u001b[0m\u001b[1;33m(\u001b[0m\u001b[0mv\u001b[0m\u001b[1;33m)\u001b[0m\u001b[1;33m,\u001b[0m \u001b[0mweights\u001b[0m\u001b[1;33m=\u001b[0m\u001b[0mw\u001b[0m\u001b[1;33m)\u001b[0m\u001b[1;33m\u001b[0m\u001b[1;33m\u001b[0m\u001b[0m\n\u001b[0m\u001b[0;32m    728\u001b[0m     \u001b[0mdist\u001b[0m \u001b[1;33m=\u001b[0m \u001b[1;36m1.0\u001b[0m \u001b[1;33m-\u001b[0m \u001b[0muv\u001b[0m \u001b[1;33m/\u001b[0m \u001b[0mnp\u001b[0m\u001b[1;33m.\u001b[0m\u001b[0msqrt\u001b[0m\u001b[1;33m(\u001b[0m\u001b[0muu\u001b[0m \u001b[1;33m*\u001b[0m \u001b[0mvv\u001b[0m\u001b[1;33m)\u001b[0m\u001b[1;33m\u001b[0m\u001b[1;33m\u001b[0m\u001b[0m\n\u001b[0;32m    729\u001b[0m     \u001b[1;31m# Return absolute value to avoid small negative value due to rounding\u001b[0m\u001b[1;33m\u001b[0m\u001b[1;33m\u001b[0m\u001b[1;33m\u001b[0m\u001b[0m\n",
      "\u001b[1;32m<__array_function__ internals>\u001b[0m in \u001b[0;36maverage\u001b[1;34m(*args, **kwargs)\u001b[0m\n",
      "\u001b[1;32m~\\anaconda3\\lib\\site-packages\\numpy\\lib\\function_base.py\u001b[0m in \u001b[0;36maverage\u001b[1;34m(a, axis, weights, returned)\u001b[0m\n\u001b[0;32m    378\u001b[0m \u001b[1;33m\u001b[0m\u001b[0m\n\u001b[0;32m    379\u001b[0m     \u001b[1;32mif\u001b[0m \u001b[0mweights\u001b[0m \u001b[1;32mis\u001b[0m \u001b[1;32mNone\u001b[0m\u001b[1;33m:\u001b[0m\u001b[1;33m\u001b[0m\u001b[1;33m\u001b[0m\u001b[0m\n\u001b[1;32m--> 380\u001b[1;33m         \u001b[0mavg\u001b[0m \u001b[1;33m=\u001b[0m \u001b[0ma\u001b[0m\u001b[1;33m.\u001b[0m\u001b[0mmean\u001b[0m\u001b[1;33m(\u001b[0m\u001b[0maxis\u001b[0m\u001b[1;33m)\u001b[0m\u001b[1;33m\u001b[0m\u001b[1;33m\u001b[0m\u001b[0m\n\u001b[0m\u001b[0;32m    381\u001b[0m         \u001b[0mscl\u001b[0m \u001b[1;33m=\u001b[0m \u001b[0mavg\u001b[0m\u001b[1;33m.\u001b[0m\u001b[0mdtype\u001b[0m\u001b[1;33m.\u001b[0m\u001b[0mtype\u001b[0m\u001b[1;33m(\u001b[0m\u001b[0ma\u001b[0m\u001b[1;33m.\u001b[0m\u001b[0msize\u001b[0m\u001b[1;33m/\u001b[0m\u001b[0mavg\u001b[0m\u001b[1;33m.\u001b[0m\u001b[0msize\u001b[0m\u001b[1;33m)\u001b[0m\u001b[1;33m\u001b[0m\u001b[1;33m\u001b[0m\u001b[0m\n\u001b[0;32m    382\u001b[0m     \u001b[1;32melse\u001b[0m\u001b[1;33m:\u001b[0m\u001b[1;33m\u001b[0m\u001b[1;33m\u001b[0m\u001b[0m\n",
      "\u001b[1;32m~\\anaconda3\\lib\\site-packages\\numpy\\core\\_methods.py\u001b[0m in \u001b[0;36m_mean\u001b[1;34m(a, axis, dtype, out, keepdims, where)\u001b[0m\n\u001b[0;32m    177\u001b[0m \u001b[1;33m\u001b[0m\u001b[0m\n\u001b[0;32m    178\u001b[0m     \u001b[0mret\u001b[0m \u001b[1;33m=\u001b[0m \u001b[0mumr_sum\u001b[0m\u001b[1;33m(\u001b[0m\u001b[0marr\u001b[0m\u001b[1;33m,\u001b[0m \u001b[0maxis\u001b[0m\u001b[1;33m,\u001b[0m \u001b[0mdtype\u001b[0m\u001b[1;33m,\u001b[0m \u001b[0mout\u001b[0m\u001b[1;33m,\u001b[0m \u001b[0mkeepdims\u001b[0m\u001b[1;33m,\u001b[0m \u001b[0mwhere\u001b[0m\u001b[1;33m=\u001b[0m\u001b[0mwhere\u001b[0m\u001b[1;33m)\u001b[0m\u001b[1;33m\u001b[0m\u001b[1;33m\u001b[0m\u001b[0m\n\u001b[1;32m--> 179\u001b[1;33m     \u001b[1;32mif\u001b[0m \u001b[0misinstance\u001b[0m\u001b[1;33m(\u001b[0m\u001b[0mret\u001b[0m\u001b[1;33m,\u001b[0m \u001b[0mmu\u001b[0m\u001b[1;33m.\u001b[0m\u001b[0mndarray\u001b[0m\u001b[1;33m)\u001b[0m\u001b[1;33m:\u001b[0m\u001b[1;33m\u001b[0m\u001b[1;33m\u001b[0m\u001b[0m\n\u001b[0m\u001b[0;32m    180\u001b[0m         ret = um.true_divide(\n\u001b[0;32m    181\u001b[0m                 ret, rcount, out=ret, casting='unsafe', subok=False)\n",
      "\u001b[1;31mKeyboardInterrupt\u001b[0m: "
     ]
    }
   ],
   "source": [
    "cosine_score = cosinescore.calculate_intracosine_all(X, labels_unique, labels)\n",
    "print(cosine_score)"
   ]
  },
  {
   "cell_type": "code",
   "execution_count": null,
   "id": "shared-catalyst",
   "metadata": {},
   "outputs": [],
   "source": [
    "use_labels = []\n",
    "for l, c in zip(labels_unique, cosine_score):\n",
    "    if not np.isnan(c):\n",
    "        use_labels.append(l)"
   ]
  },
  {
   "cell_type": "code",
   "execution_count": null,
   "id": "outstanding-facility",
   "metadata": {},
   "outputs": [],
   "source": [
    "cosine_score = cosinescore.calculate_intracosine_all(X, use_labels, labels)\n",
    "print(cosine_score)"
   ]
  },
  {
   "cell_type": "code",
   "execution_count": 51,
   "id": "virtual-venice",
   "metadata": {},
   "outputs": [
    {
     "data": {
      "text/plain": [
       "0.043684061595748384"
      ]
     },
     "execution_count": 51,
     "metadata": {},
     "output_type": "execute_result"
    }
   ],
   "source": [
    "np.mean(cosine_score)"
   ]
  },
  {
   "cell_type": "markdown",
   "id": "comic-lease",
   "metadata": {},
   "source": [
    "### Topic Coherence"
   ]
  },
  {
   "cell_type": "code",
   "execution_count": 151,
   "id": "sublime-wrestling",
   "metadata": {},
   "outputs": [],
   "source": [
    "sent_ls_full = dfa['mtokens_clean'].tolist()\n",
    "sent_ls_full_lower = [[x.lower() for x in ls] for ls in sent_ls_full]"
   ]
  },
  {
   "cell_type": "code",
   "execution_count": 152,
   "id": "through-religious",
   "metadata": {},
   "outputs": [],
   "source": [
    "def get_dictionary_corpus(sent_lower_split):\n",
    "    \"\"\"From a list of lists, where each token is a word, get dictionary and corpus\"\"\"\n",
    "    \n",
    "    dictionary = Dictionary(sent_lower_split)\n",
    "    corpus = [dictionary.doc2bow(doc) for doc in sent_lower_split]\n",
    "    return dictionary, corpus"
   ]
  },
  {
   "cell_type": "code",
   "execution_count": 153,
   "id": "domestic-methodology",
   "metadata": {},
   "outputs": [],
   "source": [
    "dictionary, corpus = get_dictionary_corpus(sent_ls_full_lower)"
   ]
  },
  {
   "cell_type": "code",
   "execution_count": 164,
   "id": "freelance-projection",
   "metadata": {},
   "outputs": [],
   "source": [
    "top_categories = {k:v for k,v in top_categories.items() if len(v) > 1}"
   ]
  },
  {
   "cell_type": "code",
   "execution_count": 165,
   "id": "logical-memphis",
   "metadata": {},
   "outputs": [
    {
     "name": "stdout",
     "output_type": "stream",
     "text": [
      "Umass: -4.06232459993822\n",
      "UCI: -0.5922120699624953\n",
      "NPMI: -0.05218268582441499\n",
      "$C_v$: 0.3410203615429885\n"
     ]
    }
   ],
   "source": [
    "umass, uci, npmi, c_v = get_score(top_categories, sent_ls_full_lower)"
   ]
  },
  {
   "cell_type": "markdown",
   "id": "bronze-recovery",
   "metadata": {},
   "source": [
    "## Getting Sentence-level embeddings with Doc2Vec"
   ]
  },
  {
   "cell_type": "code",
   "execution_count": 11,
   "id": "right-cartoon",
   "metadata": {},
   "outputs": [],
   "source": [
    "from gensim.models.doc2vec import Doc2Vec, TaggedDocument\n",
    "from tqdm import tqdm\n",
    "tqdm.pandas()"
   ]
  },
  {
   "cell_type": "code",
   "execution_count": 12,
   "id": "connected-qualification",
   "metadata": {},
   "outputs": [
    {
     "name": "stderr",
     "output_type": "stream",
     "text": [
      "100%|██████████████████████████████████████████████████████████████████████████████| 2426/2426 [00:25<00:00, 95.32it/s]\n"
     ]
    }
   ],
   "source": [
    "dfa['sentences_multiple_tokens'] = dfa.sentences_multiple_tokens.progress_map(ast.literal_eval)"
   ]
  },
  {
   "cell_type": "code",
   "execution_count": 17,
   "id": "auburn-romance",
   "metadata": {},
   "outputs": [],
   "source": [
    "tokenized_sent = dfa['sentences_multiple_tokens']\n",
    "tokenized_sent = list(chain.from_iterable(tokenized_sent))"
   ]
  },
  {
   "cell_type": "code",
   "execution_count": 18,
   "id": "alternative-observer",
   "metadata": {},
   "outputs": [],
   "source": [
    "tagged_data = [TaggedDocument(d, [i]) for i, d in enumerate(tokenized_sent)]"
   ]
  },
  {
   "cell_type": "code",
   "execution_count": 19,
   "id": "tough-essay",
   "metadata": {},
   "outputs": [],
   "source": [
    "model = Doc2Vec(tagged_data, vector_size = 100, window = 5, min_count = 1, epochs = 10)\n"
   ]
  },
  {
   "cell_type": "code",
   "execution_count": 20,
   "id": "recovered-effectiveness",
   "metadata": {},
   "outputs": [],
   "source": [
    "def calculate_embeddings(model, tokenized_sent):\n",
    "    \"\"\"Calculate embeddings from a list of sentences\"\"\"\n",
    "    embeddings_ls = []\n",
    "    \n",
    "    for s in tqdm(tokenized_sent):\n",
    "        embed_iter = model.infer_vector(s)\n",
    "        embeddings_ls.append(embed_iter)\n",
    "    return embeddings_ls"
   ]
  },
  {
   "cell_type": "code",
   "execution_count": 21,
   "id": "unlikely-neutral",
   "metadata": {},
   "outputs": [
    {
     "name": "stderr",
     "output_type": "stream",
     "text": [
      "100%|█████████████████████████████████████████████████████████████████████████| 237186/237186 [08:02<00:00, 491.19it/s]\n"
     ]
    }
   ],
   "source": [
    "embeddings_ls = calculate_embeddings(model, tokenized_sent)"
   ]
  },
  {
   "cell_type": "code",
   "execution_count": 23,
   "id": "genetic-number",
   "metadata": {},
   "outputs": [],
   "source": [
    "def get_kmeans(embeds_ls):\n",
    "    \n",
    "    # Instantiate kmeans\n",
    "    kmeans = KMeans(n_clusters=20, n_init=11, max_iter=10_000, n_jobs=-1)\n",
    "    kmeans.fit(embeds_ls)\n",
    "    \n",
    "    # Get labels\n",
    "    labels = kmeans.labels_\n",
    "    labels_all = np.unique(labels)\n",
    "    \n",
    "    return kmeans, labels, labels_all"
   ]
  },
  {
   "cell_type": "code",
   "execution_count": 24,
   "id": "monetary-healing",
   "metadata": {},
   "outputs": [
    {
     "name": "stderr",
     "output_type": "stream",
     "text": [
      "C:\\Users\\Paulius\\anaconda3\\lib\\site-packages\\sklearn\\cluster\\_kmeans.py:792: FutureWarning: 'n_jobs' was deprecated in version 0.23 and will be removed in 1.0 (renaming of 0.25).\n",
      "  warnings.warn(\"'n_jobs' was deprecated in version 0.23 and will be\"\n"
     ]
    }
   ],
   "source": [
    "kmeans, labels, labels_all = get_kmeans(embeddings_ls)"
   ]
  },
  {
   "cell_type": "code",
   "execution_count": 66,
   "id": "removed-mexican",
   "metadata": {},
   "outputs": [
    {
     "data": {
      "text/plain": [
       "<module 'mutualinfo' from 'C:\\\\Users\\\\Paulius\\\\OneDrive\\\\Oxford University\\\\Courses\\\\Trinity\\\\Thesis\\\\Data\\\\mutualinfo.py'>"
      ]
     },
     "execution_count": 66,
     "metadata": {},
     "output_type": "execute_result"
    }
   ],
   "source": [
    "import imp\n",
    "imp.reload(mutualinfo)"
   ]
  },
  {
   "cell_type": "code",
   "execution_count": 65,
   "id": "proprietary-piece",
   "metadata": {},
   "outputs": [],
   "source": [
    "import random"
   ]
  },
  {
   "cell_type": "code",
   "execution_count": 35,
   "id": "stock-concern",
   "metadata": {},
   "outputs": [],
   "source": [
    "sample_indices = random.sample(range(len(embeddings_ls)), 35_000)"
   ]
  },
  {
   "cell_type": "code",
   "execution_count": 38,
   "id": "environmental-observation",
   "metadata": {},
   "outputs": [],
   "source": [
    "silhouette_sc = silhouette_score(np.array(embeddings_ls)[sample_indices], labels[sample_indices])"
   ]
  },
  {
   "cell_type": "code",
   "execution_count": 39,
   "id": "sticky-enlargement",
   "metadata": {},
   "outputs": [
    {
     "data": {
      "text/plain": [
       "-0.046230383"
      ]
     },
     "execution_count": 39,
     "metadata": {},
     "output_type": "execute_result"
    }
   ],
   "source": [
    "silhouette_sc"
   ]
  },
  {
   "cell_type": "code",
   "execution_count": 57,
   "id": "interracial-brooks",
   "metadata": {},
   "outputs": [
    {
     "data": {
      "text/plain": [
       "8     24413\n",
       "16    23623\n",
       "7     17735\n",
       "15    16737\n",
       "12    16302\n",
       "1     13836\n",
       "5     11765\n",
       "17    11747\n",
       "4     11026\n",
       "10    10832\n",
       "13    10434\n",
       "14     9721\n",
       "11     9474\n",
       "6      9297\n",
       "18     8737\n",
       "3      8184\n",
       "2      8016\n",
       "19     7449\n",
       "0      4449\n",
       "9      3409\n",
       "dtype: int64"
      ]
     },
     "execution_count": 57,
     "metadata": {},
     "output_type": "execute_result"
    }
   ],
   "source": [
    "pd.Series(labels).value_counts()"
   ]
  },
  {
   "cell_type": "code",
   "execution_count": 59,
   "id": "guided-professional",
   "metadata": {},
   "outputs": [
    {
     "data": {
      "text/plain": [
       "True"
      ]
     },
     "execution_count": 59,
     "metadata": {},
     "output_type": "execute_result"
    }
   ],
   "source": [
    "len(embeddings_ls) == len(labels) == len(tokenized_sent)"
   ]
  },
  {
   "cell_type": "code",
   "execution_count": null,
   "id": "settled-james",
   "metadata": {},
   "outputs": [],
   "source": [
    "labels == 8"
   ]
  },
  {
   "cell_type": "code",
   "execution_count": 43,
   "id": "brown-nicholas",
   "metadata": {},
   "outputs": [],
   "source": [
    "embeddings_ls = np.array(embeddings_ls)"
   ]
  },
  {
   "cell_type": "code",
   "execution_count": 45,
   "id": "arabic-milan",
   "metadata": {},
   "outputs": [],
   "source": [
    "cosine_score = cosinescore.calculate_intracosine_all(embeddings_ls[sample_indices], labels_all, labels[sample_indices])\n",
    "cos_avg = np.mean(cosine_score)"
   ]
  },
  {
   "cell_type": "code",
   "execution_count": 47,
   "id": "caroline-chest",
   "metadata": {},
   "outputs": [
    {
     "data": {
      "text/plain": [
       "0.42907477671778943"
      ]
     },
     "execution_count": 47,
     "metadata": {},
     "output_type": "execute_result"
    }
   ],
   "source": [
    "cos_avg"
   ]
  },
  {
   "cell_type": "code",
   "execution_count": 61,
   "id": "injured-booth",
   "metadata": {},
   "outputs": [],
   "source": [
    "sentences_by_topic = mutualinfo.get_sentences_by_topic(labels, tokenized_sent)"
   ]
  },
  {
   "cell_type": "code",
   "execution_count": 62,
   "id": "pleased-cricket",
   "metadata": {},
   "outputs": [
    {
     "ename": "KeyboardInterrupt",
     "evalue": "",
     "output_type": "error",
     "traceback": [
      "\u001b[1;31m---------------------------------------------------------------------------\u001b[0m",
      "\u001b[1;31mKeyboardInterrupt\u001b[0m                         Traceback (most recent call last)",
      "\u001b[1;32m<ipython-input-62-3fbb89165e27>\u001b[0m in \u001b[0;36m<module>\u001b[1;34m\u001b[0m\n\u001b[1;32m----> 1\u001b[1;33m \u001b[0mcond_probs\u001b[0m\u001b[1;33m,\u001b[0m \u001b[0mmi_score\u001b[0m \u001b[1;33m=\u001b[0m \u001b[0mmutualinfo\u001b[0m\u001b[1;33m.\u001b[0m\u001b[0mcalculate_mi\u001b[0m\u001b[1;33m(\u001b[0m\u001b[0mlabels_all\u001b[0m\u001b[1;33m,\u001b[0m \u001b[0msentences_by_topic\u001b[0m\u001b[1;33m,\u001b[0m \u001b[0msplit\u001b[0m\u001b[1;33m=\u001b[0m\u001b[1;32mFalse\u001b[0m\u001b[1;33m)\u001b[0m\u001b[1;33m\u001b[0m\u001b[1;33m\u001b[0m\u001b[0m\n\u001b[0m",
      "\u001b[1;32m~\\OneDrive\\Oxford University\\Courses\\Trinity\\Thesis\\Data\\mutualinfo.py\u001b[0m in \u001b[0;36mcalculate_mi\u001b[1;34m(labels_all, sentences_by_topic, n, split)\u001b[0m\n\u001b[0;32m    148\u001b[0m         \u001b[1;34m\"\"\"Calculate the MI score based on the labels and sentences by topic\"\"\"\u001b[0m\u001b[1;33m\u001b[0m\u001b[1;33m\u001b[0m\u001b[0m\n\u001b[0;32m    149\u001b[0m         \u001b[0mvocab\u001b[0m\u001b[1;33m,\u001b[0m \u001b[0mn_posts\u001b[0m \u001b[1;33m=\u001b[0m \u001b[0mget_posts_vocab\u001b[0m\u001b[1;33m(\u001b[0m\u001b[0mlabels_all\u001b[0m\u001b[1;33m,\u001b[0m \u001b[0msentences_by_topic\u001b[0m\u001b[1;33m,\u001b[0m \u001b[0msplit\u001b[0m\u001b[1;33m=\u001b[0m\u001b[0msplit\u001b[0m\u001b[1;33m)\u001b[0m\u001b[1;33m\u001b[0m\u001b[1;33m\u001b[0m\u001b[0m\n\u001b[1;32m--> 150\u001b[1;33m         \u001b[0mmi_score\u001b[0m \u001b[1;33m=\u001b[0m \u001b[0mget_mi_score_all\u001b[0m\u001b[1;33m(\u001b[0m\u001b[0mlabels_all\u001b[0m\u001b[1;33m,\u001b[0m \u001b[0mvocab\u001b[0m\u001b[1;33m,\u001b[0m \u001b[0msentences_by_topic\u001b[0m\u001b[1;33m,\u001b[0m \u001b[0mn_posts\u001b[0m\u001b[1;33m)\u001b[0m\u001b[1;33m\u001b[0m\u001b[1;33m\u001b[0m\u001b[0m\n\u001b[0m\u001b[0;32m    151\u001b[0m         \u001b[0mcond_probs\u001b[0m \u001b[1;33m=\u001b[0m \u001b[0mget_conditional_probs\u001b[0m\u001b[1;33m(\u001b[0m\u001b[0mlabels_all\u001b[0m\u001b[1;33m,\u001b[0m \u001b[0msentences_by_topic\u001b[0m\u001b[1;33m,\u001b[0m \u001b[0mmi_score\u001b[0m\u001b[1;33m,\u001b[0m \u001b[0mn_posts\u001b[0m\u001b[1;33m)\u001b[0m\u001b[1;33m\u001b[0m\u001b[1;33m\u001b[0m\u001b[0m\n\u001b[0;32m    152\u001b[0m \u001b[1;33m\u001b[0m\u001b[0m\n",
      "\u001b[1;32m~\\OneDrive\\Oxford University\\Courses\\Trinity\\Thesis\\Data\\mutualinfo.py\u001b[0m in \u001b[0;36mget_mi_score_all\u001b[1;34m(labels_all, vocab, sentences_by_topic, n_posts)\u001b[0m\n\u001b[0;32m     93\u001b[0m \u001b[1;33m\u001b[0m\u001b[0m\n\u001b[0;32m     94\u001b[0m                 \u001b[1;31m# Calculate MI\u001b[0m\u001b[1;33m\u001b[0m\u001b[1;33m\u001b[0m\u001b[1;33m\u001b[0m\u001b[0m\n\u001b[1;32m---> 95\u001b[1;33m                 \u001b[0mmi_f\u001b[0m \u001b[1;33m=\u001b[0m \u001b[0msorted\u001b[0m\u001b[1;33m(\u001b[0m\u001b[1;33m[\u001b[0m\u001b[1;33m(\u001b[0m\u001b[0mmi\u001b[0m\u001b[1;33m(\u001b[0m\u001b[0mw\u001b[0m\u001b[1;33m,\u001b[0m \u001b[0mcount_c1\u001b[0m\u001b[1;33m,\u001b[0m \u001b[0mcount_c2\u001b[0m\u001b[1;33m,\u001b[0m \u001b[0mc1\u001b[0m\u001b[1;33m,\u001b[0m \u001b[0mn_posts\u001b[0m\u001b[1;33m,\u001b[0m \u001b[0msentences_by_topic\u001b[0m\u001b[1;33m,\u001b[0m \u001b[0mn_posts_sum\u001b[0m\u001b[1;33m)\u001b[0m\u001b[1;33m,\u001b[0m \u001b[0mw\u001b[0m\u001b[1;33m)\u001b[0m \u001b[1;32mfor\u001b[0m \u001b[0mw\u001b[0m \u001b[1;32min\u001b[0m \u001b[0mintersection_vocab\u001b[0m\u001b[1;33m]\u001b[0m\u001b[1;33m)\u001b[0m\u001b[1;33m\u001b[0m\u001b[1;33m\u001b[0m\u001b[0m\n\u001b[0m\u001b[0;32m     96\u001b[0m                 \u001b[0mmi_score\u001b[0m\u001b[1;33m[\u001b[0m\u001b[0mc1\u001b[0m\u001b[1;33m]\u001b[0m \u001b[1;33m=\u001b[0m \u001b[0mmi_f\u001b[0m\u001b[1;33m\u001b[0m\u001b[1;33m\u001b[0m\u001b[0m\n\u001b[0;32m     97\u001b[0m \u001b[1;33m\u001b[0m\u001b[0m\n",
      "\u001b[1;32m~\\OneDrive\\Oxford University\\Courses\\Trinity\\Thesis\\Data\\mutualinfo.py\u001b[0m in \u001b[0;36m<listcomp>\u001b[1;34m(.0)\u001b[0m\n\u001b[0;32m     93\u001b[0m \u001b[1;33m\u001b[0m\u001b[0m\n\u001b[0;32m     94\u001b[0m                 \u001b[1;31m# Calculate MI\u001b[0m\u001b[1;33m\u001b[0m\u001b[1;33m\u001b[0m\u001b[1;33m\u001b[0m\u001b[0m\n\u001b[1;32m---> 95\u001b[1;33m                 \u001b[0mmi_f\u001b[0m \u001b[1;33m=\u001b[0m \u001b[0msorted\u001b[0m\u001b[1;33m(\u001b[0m\u001b[1;33m[\u001b[0m\u001b[1;33m(\u001b[0m\u001b[0mmi\u001b[0m\u001b[1;33m(\u001b[0m\u001b[0mw\u001b[0m\u001b[1;33m,\u001b[0m \u001b[0mcount_c1\u001b[0m\u001b[1;33m,\u001b[0m \u001b[0mcount_c2\u001b[0m\u001b[1;33m,\u001b[0m \u001b[0mc1\u001b[0m\u001b[1;33m,\u001b[0m \u001b[0mn_posts\u001b[0m\u001b[1;33m,\u001b[0m \u001b[0msentences_by_topic\u001b[0m\u001b[1;33m,\u001b[0m \u001b[0mn_posts_sum\u001b[0m\u001b[1;33m)\u001b[0m\u001b[1;33m,\u001b[0m \u001b[0mw\u001b[0m\u001b[1;33m)\u001b[0m \u001b[1;32mfor\u001b[0m \u001b[0mw\u001b[0m \u001b[1;32min\u001b[0m \u001b[0mintersection_vocab\u001b[0m\u001b[1;33m]\u001b[0m\u001b[1;33m)\u001b[0m\u001b[1;33m\u001b[0m\u001b[1;33m\u001b[0m\u001b[0m\n\u001b[0m\u001b[0;32m     96\u001b[0m                 \u001b[0mmi_score\u001b[0m\u001b[1;33m[\u001b[0m\u001b[0mc1\u001b[0m\u001b[1;33m]\u001b[0m \u001b[1;33m=\u001b[0m \u001b[0mmi_f\u001b[0m\u001b[1;33m\u001b[0m\u001b[1;33m\u001b[0m\u001b[0m\n\u001b[0;32m     97\u001b[0m \u001b[1;33m\u001b[0m\u001b[0m\n",
      "\u001b[1;32m~\\OneDrive\\Oxford University\\Courses\\Trinity\\Thesis\\Data\\mutualinfo.py\u001b[0m in \u001b[0;36mmi\u001b[1;34m(w, count_c1, count_c2, c1, n_posts, train_posts, n_posts_sum)\u001b[0m\n\u001b[0;32m     64\u001b[0m         \u001b[1;31m# Get the n matrix\u001b[0m\u001b[1;33m\u001b[0m\u001b[1;33m\u001b[0m\u001b[1;33m\u001b[0m\u001b[0m\n\u001b[0;32m     65\u001b[0m         \u001b[0mn\u001b[0m \u001b[1;33m=\u001b[0m \u001b[0mnp\u001b[0m\u001b[1;33m.\u001b[0m\u001b[0marray\u001b[0m\u001b[1;33m(\u001b[0m\u001b[1;33m[\u001b[0m\u001b[1;33m[\u001b[0m\u001b[0mn_posts\u001b[0m\u001b[1;33m[\u001b[0m\u001b[0mc1\u001b[0m\u001b[1;33m]\u001b[0m\u001b[1;33m[\u001b[0m\u001b[0mw\u001b[0m\u001b[1;33m]\u001b[0m\u001b[1;33m,\u001b[0m \u001b[0mcount_c1\u001b[0m \u001b[1;33m-\u001b[0m \u001b[0mn_posts\u001b[0m\u001b[1;33m[\u001b[0m\u001b[0mc1\u001b[0m\u001b[1;33m]\u001b[0m\u001b[1;33m[\u001b[0m\u001b[0mw\u001b[0m\u001b[1;33m]\u001b[0m\u001b[1;33m]\u001b[0m\u001b[1;33m,\u001b[0m \u001b[1;33m[\u001b[0m\u001b[0mn_posts_sum\u001b[0m\u001b[1;33m[\u001b[0m\u001b[0mw\u001b[0m\u001b[1;33m]\u001b[0m\u001b[1;33m,\u001b[0m \u001b[0mcount_c2\u001b[0m \u001b[1;33m-\u001b[0m \u001b[0mn_posts_sum\u001b[0m\u001b[1;33m[\u001b[0m\u001b[0mw\u001b[0m\u001b[1;33m]\u001b[0m\u001b[1;33m]\u001b[0m\u001b[1;33m]\u001b[0m\u001b[1;33m)\u001b[0m\u001b[1;33m\u001b[0m\u001b[1;33m\u001b[0m\u001b[0m\n\u001b[1;32m---> 66\u001b[1;33m         \u001b[0mn\u001b[0m \u001b[1;33m=\u001b[0m \u001b[0mn\u001b[0m \u001b[1;33m/\u001b[0m \u001b[0mn\u001b[0m\u001b[1;33m.\u001b[0m\u001b[0msum\u001b[0m\u001b[1;33m(\u001b[0m\u001b[1;33m)\u001b[0m\u001b[1;33m\u001b[0m\u001b[1;33m\u001b[0m\u001b[0m\n\u001b[0m\u001b[0;32m     67\u001b[0m \u001b[1;33m\u001b[0m\u001b[0m\n\u001b[0;32m     68\u001b[0m         \u001b[1;32mreturn\u001b[0m \u001b[0mnp\u001b[0m\u001b[1;33m.\u001b[0m\u001b[0msum\u001b[0m\u001b[1;33m(\u001b[0m\u001b[1;33m[\u001b[0m\u001b[0mn\u001b[0m\u001b[1;33m[\u001b[0m\u001b[0mi\u001b[0m\u001b[1;33m,\u001b[0m \u001b[0mj\u001b[0m\u001b[1;33m]\u001b[0m \u001b[1;33m*\u001b[0m \u001b[0mnp\u001b[0m\u001b[1;33m.\u001b[0m\u001b[0mlog2\u001b[0m\u001b[1;33m(\u001b[0m\u001b[0mn\u001b[0m\u001b[1;33m[\u001b[0m\u001b[0mi\u001b[0m\u001b[1;33m,\u001b[0m \u001b[0mj\u001b[0m\u001b[1;33m]\u001b[0m \u001b[1;33m/\u001b[0m \u001b[1;33m(\u001b[0m\u001b[0mn\u001b[0m\u001b[1;33m[\u001b[0m\u001b[0mi\u001b[0m\u001b[1;33m,\u001b[0m \u001b[1;33m:\u001b[0m\u001b[1;33m]\u001b[0m\u001b[1;33m.\u001b[0m\u001b[0msum\u001b[0m\u001b[1;33m(\u001b[0m\u001b[1;33m)\u001b[0m \u001b[1;33m*\u001b[0m \u001b[0mn\u001b[0m\u001b[1;33m[\u001b[0m\u001b[1;33m:\u001b[0m\u001b[1;33m,\u001b[0m \u001b[0mj\u001b[0m\u001b[1;33m]\u001b[0m\u001b[1;33m.\u001b[0m\u001b[0msum\u001b[0m\u001b[1;33m(\u001b[0m\u001b[1;33m)\u001b[0m\u001b[1;33m)\u001b[0m\u001b[1;33m)\u001b[0m \u001b[1;32mfor\u001b[0m \u001b[0mj\u001b[0m \u001b[1;32min\u001b[0m \u001b[0mrange\u001b[0m\u001b[1;33m(\u001b[0m\u001b[1;36m2\u001b[0m\u001b[1;33m)\u001b[0m \u001b[1;32mfor\u001b[0m \u001b[0mi\u001b[0m \u001b[1;32min\u001b[0m \u001b[0mrange\u001b[0m\u001b[1;33m(\u001b[0m\u001b[1;36m2\u001b[0m\u001b[1;33m)\u001b[0m\u001b[1;33m]\u001b[0m\u001b[1;33m)\u001b[0m\u001b[1;33m\u001b[0m\u001b[1;33m\u001b[0m\u001b[0m\n",
      "\u001b[1;31mKeyboardInterrupt\u001b[0m: "
     ]
    }
   ],
   "source": [
    "cond_probs, mi_score = mutualinfo.calculate_mi(labels_all, sentences_by_topic, split=False)"
   ]
  },
  {
   "cell_type": "code",
   "execution_count": 67,
   "id": "historic-documentation",
   "metadata": {},
   "outputs": [],
   "source": [
    "inf_words = mutualinfo.get_topwords_fromdict(labels_all, cond_probs, mi_score, sentences_by_topic, n=10)"
   ]
  },
  {
   "cell_type": "code",
   "execution_count": 69,
   "id": "wireless-arctic",
   "metadata": {},
   "outputs": [],
   "source": [
    "def get_dictionary_corpus(sent_lower_split):\n",
    "    \"\"\"From a list of lists, where each token is a word, get dictionary and corpus\"\"\"\n",
    "    \n",
    "    dictionary = Dictionary(sent_lower_split)\n",
    "    corpus = [dictionary.doc2bow(doc) for doc in sent_lower_split]\n",
    "    return dictionary, corpus"
   ]
  },
  {
   "cell_type": "code",
   "execution_count": 71,
   "id": "expressed-insertion",
   "metadata": {},
   "outputs": [],
   "source": [
    "dictionary, corpus = get_dictionary_corpus(tokenized_sent)"
   ]
  },
  {
   "cell_type": "code",
   "execution_count": 72,
   "id": "lovely-combining",
   "metadata": {},
   "outputs": [],
   "source": [
    "def get_score(topwords_dict, sent_double_filtered, dictionary=dictionary, corpus=corpus, verbose=True):\n",
    "    \"\"\"Get scores based on the topwords\"\"\"\n",
    "    \n",
    "    # Get list from dictionary\n",
    "    topwords_ls = list(topwords_dict.values())\n",
    "    \n",
    "    # UMASS\n",
    "    cm = CoherenceModel(coherence = 'u_mass', topics=topwords_ls, corpus=corpus, dictionary=dictionary)\n",
    "    umass = cm.get_coherence()\n",
    "    if verbose: print(f\"Umass: {umass}\")\n",
    "    \n",
    "    # UCI\n",
    "    cm2 = CoherenceModel(coherence = 'c_uci', texts=sent_double_filtered, topics=topwords_ls, corpus=corpus, dictionary=dictionary)\n",
    "    c_uci = cm2.get_coherence()\n",
    "    if verbose: print(f\"UCI: {c_uci}\")\n",
    "    \n",
    "    # NPMI\n",
    "    cm3 = CoherenceModel(coherence = 'c_npmi', texts=sent_double_filtered, topics=topwords_ls, corpus=corpus, dictionary=dictionary)\n",
    "    npmi = cm3.get_coherence()\n",
    "    if verbose: print(f\"NPMI: {npmi}\")\n",
    "        \n",
    "    # C_v\n",
    "    cm4 = CoherenceModel(coherence = 'c_v', texts=sent_double_filtered, topics=topwords_ls, corpus=corpus, dictionary=dictionary)\n",
    "    c_v = cm4.get_coherence()\n",
    "    if verbose: print(f\"$C_v$: {c_v}\")\n",
    "    \n",
    "    return umass, c_uci, npmi, c_v"
   ]
  },
  {
   "cell_type": "code",
   "execution_count": 73,
   "id": "congressional-notice",
   "metadata": {},
   "outputs": [
    {
     "name": "stdout",
     "output_type": "stream",
     "text": [
      "Umass: -7.231632711272522\n",
      "UCI: -2.36381349073883\n",
      "NPMI: -0.06668227489721484\n",
      "$C_v$: 0.44960980655547356\n"
     ]
    }
   ],
   "source": [
    "umass, uci, npmi, c_v = get_score(inf_words, tokenized_sent)"
   ]
  },
  {
   "cell_type": "code",
   "execution_count": 76,
   "id": "ethical-sitting",
   "metadata": {},
   "outputs": [],
   "source": [
    "def full_pipeline(embeddings_ls, split=False, sample=True):\n",
    "    \n",
    "    kmeans, labels, labels_all = get_kmeans(embeddings_ls)\n",
    "    \n",
    "    embeddings_ls = np.array(embeddings_ls)\n",
    "    if sample:\n",
    "        sample_indices = random.sample(range(len(embeddings_ls)), 35_000)\n",
    "        silhouette_sc = silhouette_score(embeddings_ls[sample_indices], labels[sample_indices])\n",
    "        print(f\"Silhouette score: {silhouette_sc}\")\n",
    "    \n",
    "        cosine_score = cosinescore.calculate_intracosine_all(embeddings_ls[sample_indices], labels_unique, labels[sample_indices])\n",
    "        cos_avg = np.mean(cosine_score)\n",
    "        print(f\"Cosine score: {cos_avg}\")\n",
    "\n",
    "    sentences_by_topic = mutualinfo.get_sentences_by_topic(labels, tokenized_sent)\n",
    "    cond_probs, mi_score = mutualinfo.calculate_mi(labels_all, sentences_by_topic, split=split)\n",
    "    inf_words = mutualinfo.get_topwords_fromdict(labels_all, cond_probs, mi_score, sentences_by_topic, n=10)\n",
    "    dictionary, corpus = get_dictionary_corpus(tokenized_sent)\n",
    "    \n",
    "    umass, c_uci, npmi, c_v = get_score(inf_words, tokenized_sent, dictionary=dictionary, corpus=corpus)\n",
    "    \n",
    "    results = {'silhouette': silhouette_sc,\n",
    "               'cos': cos_avg,\n",
    "               'umass': umass,\n",
    "              'uci': uci,\n",
    "              'npmi': npmi,\n",
    "              'cv': c_v}\n",
    "    \n",
    "    return results"
   ]
  },
  {
   "cell_type": "code",
   "execution_count": null,
   "id": "endless-treaty",
   "metadata": {},
   "outputs": [],
   "source": []
  },
  {
   "cell_type": "markdown",
   "id": "sound-least",
   "metadata": {},
   "source": [
    "## Universal Sentence Encoder"
   ]
  },
  {
   "cell_type": "markdown",
   "id": "coated-georgia",
   "metadata": {},
   "source": [
    "512D"
   ]
  },
  {
   "cell_type": "code",
   "execution_count": 79,
   "id": "creative-morris",
   "metadata": {},
   "outputs": [],
   "source": [
    "import tensorflow as tf\n",
    "import tensorflow_hub as hub\n",
    "import numpy as np"
   ]
  },
  {
   "cell_type": "code",
   "execution_count": 80,
   "id": "pointed-belgium",
   "metadata": {},
   "outputs": [
    {
     "name": "stdout",
     "output_type": "stream",
     "text": [
      "module https://tfhub.dev/google/universal-sentence-encoder/4 loaded\n"
     ]
    }
   ],
   "source": [
    "module_url = \"https://tfhub.dev/google/universal-sentence-encoder/4\" \n",
    "model = hub.load(module_url)\n",
    "print (\"module %s loaded\" % module_url)"
   ]
  },
  {
   "cell_type": "markdown",
   "id": "smart-australia",
   "metadata": {},
   "source": [
    "### Get sentences"
   ]
  },
  {
   "cell_type": "markdown",
   "id": "accessory-working",
   "metadata": {},
   "source": [
    "Import the module from elsewhere"
   ]
  },
  {
   "cell_type": "code",
   "execution_count": 11,
   "id": "guilty-socket",
   "metadata": {
    "collapsed": true,
    "jupyter": {
     "outputs_hidden": true
    }
   },
   "outputs": [
    {
     "name": "stderr",
     "output_type": "stream",
     "text": [
      "ERROR:root:Internal Python error in the inspect module.\n",
      "Below is the traceback from this internal error.\n",
      "\n"
     ]
    },
    {
     "name": "stdout",
     "output_type": "stream",
     "text": [
      "Traceback (most recent call last):\n",
      "  File \"C:\\Users\\Paulius\\AppData\\Roaming\\Python\\Python38\\site-packages\\IPython\\core\\interactiveshell.py\", line 3418, in run_code\n",
      "    exec(code_obj, self.user_global_ns, self.user_ns)\n",
      "  File \"<ipython-input-11-366726f6fe3c>\", line 1, in <module>\n",
      "    dfa['sentences_full'] = dfa.text.progress_map(convert_to_sentences)\n",
      "NameError: name 'convert_to_sentences' is not defined\n",
      "\n",
      "During handling of the above exception, another exception occurred:\n",
      "\n",
      "Traceback (most recent call last):\n",
      "  File \"C:\\Users\\Paulius\\AppData\\Roaming\\Python\\Python38\\site-packages\\IPython\\core\\interactiveshell.py\", line 2045, in showtraceback\n",
      "    stb = value._render_traceback_()\n",
      "AttributeError: 'NameError' object has no attribute '_render_traceback_'\n",
      "\n",
      "During handling of the above exception, another exception occurred:\n",
      "\n",
      "Traceback (most recent call last):\n",
      "  File \"C:\\Users\\Paulius\\AppData\\Roaming\\Python\\Python38\\site-packages\\IPython\\core\\ultratb.py\", line 1170, in get_records\n",
      "    return _fixed_getinnerframes(etb, number_of_lines_of_context, tb_offset)\n",
      "  File \"C:\\Users\\Paulius\\AppData\\Roaming\\Python\\Python38\\site-packages\\IPython\\core\\ultratb.py\", line 316, in wrapped\n",
      "    return f(*args, **kwargs)\n",
      "  File \"C:\\Users\\Paulius\\AppData\\Roaming\\Python\\Python38\\site-packages\\IPython\\core\\ultratb.py\", line 350, in _fixed_getinnerframes\n",
      "    records = fix_frame_records_filenames(inspect.getinnerframes(etb, context))\n",
      "  File \"C:\\Users\\Paulius\\anaconda3\\lib\\inspect.py\", line 1503, in getinnerframes\n",
      "    frameinfo = (tb.tb_frame,) + getframeinfo(tb, context)\n",
      "  File \"C:\\Users\\Paulius\\anaconda3\\lib\\inspect.py\", line 1461, in getframeinfo\n",
      "    filename = getsourcefile(frame) or getfile(frame)\n",
      "  File \"C:\\Users\\Paulius\\anaconda3\\lib\\inspect.py\", line 708, in getsourcefile\n",
      "    if getattr(getmodule(object, filename), '__loader__', None) is not None:\n",
      "  File \"C:\\Users\\Paulius\\anaconda3\\lib\\inspect.py\", line 751, in getmodule\n",
      "    f = getabsfile(module)\n",
      "  File \"C:\\Users\\Paulius\\anaconda3\\lib\\inspect.py\", line 720, in getabsfile\n",
      "    _filename = getsourcefile(object) or getfile(object)\n",
      "  File \"C:\\Users\\Paulius\\anaconda3\\lib\\inspect.py\", line 705, in getsourcefile\n",
      "    if os.path.exists(filename):\n",
      "  File \"C:\\Users\\Paulius\\anaconda3\\lib\\genericpath.py\", line 19, in exists\n",
      "    os.stat(path)\n",
      "KeyboardInterrupt\n"
     ]
    },
    {
     "ename": "TypeError",
     "evalue": "object of type 'NoneType' has no len()",
     "output_type": "error",
     "traceback": [
      "\u001b[1;31m---------------------------------------------------------------------------\u001b[0m",
      "\u001b[1;31mNameError\u001b[0m                                 Traceback (most recent call last)",
      "    \u001b[1;31m[... skipping hidden 1 frame]\u001b[0m\n",
      "\u001b[1;32m<ipython-input-11-366726f6fe3c>\u001b[0m in \u001b[0;36m<module>\u001b[1;34m\u001b[0m\n\u001b[1;32m----> 1\u001b[1;33m \u001b[0mdfa\u001b[0m\u001b[1;33m[\u001b[0m\u001b[1;34m'sentences_full'\u001b[0m\u001b[1;33m]\u001b[0m \u001b[1;33m=\u001b[0m \u001b[0mdfa\u001b[0m\u001b[1;33m.\u001b[0m\u001b[0mtext\u001b[0m\u001b[1;33m.\u001b[0m\u001b[0mprogress_map\u001b[0m\u001b[1;33m(\u001b[0m\u001b[0mconvert_to_sentences\u001b[0m\u001b[1;33m)\u001b[0m\u001b[1;33m\u001b[0m\u001b[1;33m\u001b[0m\u001b[0m\n\u001b[0m",
      "\u001b[1;31mNameError\u001b[0m: name 'convert_to_sentences' is not defined",
      "\nDuring handling of the above exception, another exception occurred:\n",
      "\u001b[1;31mAttributeError\u001b[0m                            Traceback (most recent call last)",
      "\u001b[1;32m~\\AppData\\Roaming\\Python\\Python38\\site-packages\\IPython\\core\\interactiveshell.py\u001b[0m in \u001b[0;36mshowtraceback\u001b[1;34m(self, exc_tuple, filename, tb_offset, exception_only, running_compiled_code)\u001b[0m\n\u001b[0;32m   2044\u001b[0m                         \u001b[1;31m# in the engines. This should return a list of strings.\u001b[0m\u001b[1;33m\u001b[0m\u001b[1;33m\u001b[0m\u001b[1;33m\u001b[0m\u001b[0m\n\u001b[1;32m-> 2045\u001b[1;33m                         \u001b[0mstb\u001b[0m \u001b[1;33m=\u001b[0m \u001b[0mvalue\u001b[0m\u001b[1;33m.\u001b[0m\u001b[0m_render_traceback_\u001b[0m\u001b[1;33m(\u001b[0m\u001b[1;33m)\u001b[0m\u001b[1;33m\u001b[0m\u001b[1;33m\u001b[0m\u001b[0m\n\u001b[0m\u001b[0;32m   2046\u001b[0m                     \u001b[1;32mexcept\u001b[0m \u001b[0mException\u001b[0m\u001b[1;33m:\u001b[0m\u001b[1;33m\u001b[0m\u001b[1;33m\u001b[0m\u001b[0m\n",
      "\u001b[1;31mAttributeError\u001b[0m: 'NameError' object has no attribute '_render_traceback_'",
      "\nDuring handling of the above exception, another exception occurred:\n",
      "\u001b[1;31mTypeError\u001b[0m                                 Traceback (most recent call last)",
      "    \u001b[1;31m[... skipping hidden 1 frame]\u001b[0m\n",
      "\u001b[1;32m~\\AppData\\Roaming\\Python\\Python38\\site-packages\\IPython\\core\\interactiveshell.py\u001b[0m in \u001b[0;36mshowtraceback\u001b[1;34m(self, exc_tuple, filename, tb_offset, exception_only, running_compiled_code)\u001b[0m\n\u001b[0;32m   2045\u001b[0m                         \u001b[0mstb\u001b[0m \u001b[1;33m=\u001b[0m \u001b[0mvalue\u001b[0m\u001b[1;33m.\u001b[0m\u001b[0m_render_traceback_\u001b[0m\u001b[1;33m(\u001b[0m\u001b[1;33m)\u001b[0m\u001b[1;33m\u001b[0m\u001b[1;33m\u001b[0m\u001b[0m\n\u001b[0;32m   2046\u001b[0m                     \u001b[1;32mexcept\u001b[0m \u001b[0mException\u001b[0m\u001b[1;33m:\u001b[0m\u001b[1;33m\u001b[0m\u001b[1;33m\u001b[0m\u001b[0m\n\u001b[1;32m-> 2047\u001b[1;33m                         stb = self.InteractiveTB.structured_traceback(etype,\n\u001b[0m\u001b[0;32m   2048\u001b[0m                                             value, tb, tb_offset=tb_offset)\n\u001b[0;32m   2049\u001b[0m \u001b[1;33m\u001b[0m\u001b[0m\n",
      "\u001b[1;32m~\\AppData\\Roaming\\Python\\Python38\\site-packages\\IPython\\core\\ultratb.py\u001b[0m in \u001b[0;36mstructured_traceback\u001b[1;34m(self, etype, value, tb, tb_offset, number_of_lines_of_context)\u001b[0m\n\u001b[0;32m   1434\u001b[0m         \u001b[1;32melse\u001b[0m\u001b[1;33m:\u001b[0m\u001b[1;33m\u001b[0m\u001b[1;33m\u001b[0m\u001b[0m\n\u001b[0;32m   1435\u001b[0m             \u001b[0mself\u001b[0m\u001b[1;33m.\u001b[0m\u001b[0mtb\u001b[0m \u001b[1;33m=\u001b[0m \u001b[0mtb\u001b[0m\u001b[1;33m\u001b[0m\u001b[1;33m\u001b[0m\u001b[0m\n\u001b[1;32m-> 1436\u001b[1;33m         return FormattedTB.structured_traceback(\n\u001b[0m\u001b[0;32m   1437\u001b[0m             self, etype, value, tb, tb_offset, number_of_lines_of_context)\n\u001b[0;32m   1438\u001b[0m \u001b[1;33m\u001b[0m\u001b[0m\n",
      "\u001b[1;32m~\\AppData\\Roaming\\Python\\Python38\\site-packages\\IPython\\core\\ultratb.py\u001b[0m in \u001b[0;36mstructured_traceback\u001b[1;34m(self, etype, value, tb, tb_offset, number_of_lines_of_context)\u001b[0m\n\u001b[0;32m   1334\u001b[0m         \u001b[1;32mif\u001b[0m \u001b[0mmode\u001b[0m \u001b[1;32min\u001b[0m \u001b[0mself\u001b[0m\u001b[1;33m.\u001b[0m\u001b[0mverbose_modes\u001b[0m\u001b[1;33m:\u001b[0m\u001b[1;33m\u001b[0m\u001b[1;33m\u001b[0m\u001b[0m\n\u001b[0;32m   1335\u001b[0m             \u001b[1;31m# Verbose modes need a full traceback\u001b[0m\u001b[1;33m\u001b[0m\u001b[1;33m\u001b[0m\u001b[1;33m\u001b[0m\u001b[0m\n\u001b[1;32m-> 1336\u001b[1;33m             return VerboseTB.structured_traceback(\n\u001b[0m\u001b[0;32m   1337\u001b[0m                 \u001b[0mself\u001b[0m\u001b[1;33m,\u001b[0m \u001b[0metype\u001b[0m\u001b[1;33m,\u001b[0m \u001b[0mvalue\u001b[0m\u001b[1;33m,\u001b[0m \u001b[0mtb\u001b[0m\u001b[1;33m,\u001b[0m \u001b[0mtb_offset\u001b[0m\u001b[1;33m,\u001b[0m \u001b[0mnumber_of_lines_of_context\u001b[0m\u001b[1;33m\u001b[0m\u001b[1;33m\u001b[0m\u001b[0m\n\u001b[0;32m   1338\u001b[0m             )\n",
      "\u001b[1;32m~\\AppData\\Roaming\\Python\\Python38\\site-packages\\IPython\\core\\ultratb.py\u001b[0m in \u001b[0;36mstructured_traceback\u001b[1;34m(self, etype, evalue, etb, tb_offset, number_of_lines_of_context)\u001b[0m\n\u001b[0;32m   1191\u001b[0m         \u001b[1;34m\"\"\"Return a nice text document describing the traceback.\"\"\"\u001b[0m\u001b[1;33m\u001b[0m\u001b[1;33m\u001b[0m\u001b[0m\n\u001b[0;32m   1192\u001b[0m \u001b[1;33m\u001b[0m\u001b[0m\n\u001b[1;32m-> 1193\u001b[1;33m         formatted_exception = self.format_exception_as_a_whole(etype, evalue, etb, number_of_lines_of_context,\n\u001b[0m\u001b[0;32m   1194\u001b[0m                                                                tb_offset)\n\u001b[0;32m   1195\u001b[0m \u001b[1;33m\u001b[0m\u001b[0m\n",
      "\u001b[1;32m~\\AppData\\Roaming\\Python\\Python38\\site-packages\\IPython\\core\\ultratb.py\u001b[0m in \u001b[0;36mformat_exception_as_a_whole\u001b[1;34m(self, etype, evalue, etb, number_of_lines_of_context, tb_offset)\u001b[0m\n\u001b[0;32m   1149\u001b[0m \u001b[1;33m\u001b[0m\u001b[0m\n\u001b[0;32m   1150\u001b[0m \u001b[1;33m\u001b[0m\u001b[0m\n\u001b[1;32m-> 1151\u001b[1;33m         \u001b[0mlast_unique\u001b[0m\u001b[1;33m,\u001b[0m \u001b[0mrecursion_repeat\u001b[0m \u001b[1;33m=\u001b[0m \u001b[0mfind_recursion\u001b[0m\u001b[1;33m(\u001b[0m\u001b[0morig_etype\u001b[0m\u001b[1;33m,\u001b[0m \u001b[0mevalue\u001b[0m\u001b[1;33m,\u001b[0m \u001b[0mrecords\u001b[0m\u001b[1;33m)\u001b[0m\u001b[1;33m\u001b[0m\u001b[1;33m\u001b[0m\u001b[0m\n\u001b[0m\u001b[0;32m   1152\u001b[0m \u001b[1;33m\u001b[0m\u001b[0m\n\u001b[0;32m   1153\u001b[0m         \u001b[0mframes\u001b[0m \u001b[1;33m=\u001b[0m \u001b[0mself\u001b[0m\u001b[1;33m.\u001b[0m\u001b[0mformat_records\u001b[0m\u001b[1;33m(\u001b[0m\u001b[0mrecords\u001b[0m\u001b[1;33m,\u001b[0m \u001b[0mlast_unique\u001b[0m\u001b[1;33m,\u001b[0m \u001b[0mrecursion_repeat\u001b[0m\u001b[1;33m)\u001b[0m\u001b[1;33m\u001b[0m\u001b[1;33m\u001b[0m\u001b[0m\n",
      "\u001b[1;32m~\\AppData\\Roaming\\Python\\Python38\\site-packages\\IPython\\core\\ultratb.py\u001b[0m in \u001b[0;36mfind_recursion\u001b[1;34m(etype, value, records)\u001b[0m\n\u001b[0;32m    449\u001b[0m     \u001b[1;31m# first frame (from in to out) that looks different.\u001b[0m\u001b[1;33m\u001b[0m\u001b[1;33m\u001b[0m\u001b[1;33m\u001b[0m\u001b[0m\n\u001b[0;32m    450\u001b[0m     \u001b[1;32mif\u001b[0m \u001b[1;32mnot\u001b[0m \u001b[0mis_recursion_error\u001b[0m\u001b[1;33m(\u001b[0m\u001b[0metype\u001b[0m\u001b[1;33m,\u001b[0m \u001b[0mvalue\u001b[0m\u001b[1;33m,\u001b[0m \u001b[0mrecords\u001b[0m\u001b[1;33m)\u001b[0m\u001b[1;33m:\u001b[0m\u001b[1;33m\u001b[0m\u001b[1;33m\u001b[0m\u001b[0m\n\u001b[1;32m--> 451\u001b[1;33m         \u001b[1;32mreturn\u001b[0m \u001b[0mlen\u001b[0m\u001b[1;33m(\u001b[0m\u001b[0mrecords\u001b[0m\u001b[1;33m)\u001b[0m\u001b[1;33m,\u001b[0m \u001b[1;36m0\u001b[0m\u001b[1;33m\u001b[0m\u001b[1;33m\u001b[0m\u001b[0m\n\u001b[0m\u001b[0;32m    452\u001b[0m \u001b[1;33m\u001b[0m\u001b[0m\n\u001b[0;32m    453\u001b[0m     \u001b[1;31m# Select filename, lineno, func_name to track frames with\u001b[0m\u001b[1;33m\u001b[0m\u001b[1;33m\u001b[0m\u001b[1;33m\u001b[0m\u001b[0m\n",
      "\u001b[1;31mTypeError\u001b[0m: object of type 'NoneType' has no len()"
     ]
    }
   ],
   "source": [
    "dfa['sentences_full'] = dfa.text.progress_map(convert_to_sentences)"
   ]
  },
  {
   "cell_type": "code",
   "execution_count": 93,
   "id": "latest-services",
   "metadata": {},
   "outputs": [],
   "source": [
    "def calculate_embeddings(s):\n",
    "    embeddings = model(s)\n",
    "    return embeddings"
   ]
  },
  {
   "cell_type": "code",
   "execution_count": 102,
   "id": "beautiful-literature",
   "metadata": {},
   "outputs": [
    {
     "name": "stderr",
     "output_type": "stream",
     "text": [
      "100%|██████████████████████████████████████████████████████████████████████████████| 2426/2426 [01:03<00:00, 38.33it/s]\n"
     ]
    }
   ],
   "source": [
    "dfa['USE_embed'] = dfa.sentences_full.progress_map(calculate_embeddings)"
   ]
  },
  {
   "cell_type": "code",
   "execution_count": 116,
   "id": "surprising-pulse",
   "metadata": {},
   "outputs": [],
   "source": [
    "sent_ls = dfa.sentences_full.tolist()\n",
    "sent_ls = list(chain.from_iterable(sent_ls))"
   ]
  },
  {
   "cell_type": "code",
   "execution_count": 103,
   "id": "bridal-modeling",
   "metadata": {},
   "outputs": [],
   "source": [
    "embeddings_ls = dfa.USE_embed.tolist()\n",
    "embeddings_ls = list(chain.from_iterable(embeddings_ls))"
   ]
  },
  {
   "cell_type": "code",
   "execution_count": 109,
   "id": "statistical-deposit",
   "metadata": {},
   "outputs": [],
   "source": [
    "sample=True\n",
    "split=False"
   ]
  },
  {
   "cell_type": "code",
   "execution_count": null,
   "id": "cordless-reducing",
   "metadata": {},
   "outputs": [],
   "source": [
    "# Re-run with fasttext embeddings\n",
    "embeddings_ls = "
   ]
  },
  {
   "cell_type": "code",
   "execution_count": null,
   "id": "immune-patent",
   "metadata": {},
   "outputs": [],
   "source": [
    "kmeans, labels, labels_all = get_kmeans(embeddings_ls)\n",
    "\n",
    "embeddings_ls = np.array(embeddings_ls)\n",
    "if sample:\n",
    "    sample_indices = random.sample(range(len(embeddings_ls)), 35_000)\n",
    "    silhouette_sc = silhouette_score(embeddings_ls[sample_indices], labels[sample_indices])\n",
    "    print(f\"Silhouette score: {silhouette_sc}\")\n"
   ]
  },
  {
   "cell_type": "code",
   "execution_count": null,
   "id": "civil-universal",
   "metadata": {},
   "outputs": [],
   "source": [
    "\n",
    "cosine_score = cosinescore.calculate_intracosine_all(embeddings_ls[sample_indices], labels_all, labels[sample_indices])\n",
    "cos_avg = np.mean(cosine_score)\n",
    "print(f\"Cosine score: {cos_avg}\")\n"
   ]
  },
  {
   "cell_type": "code",
   "execution_count": 118,
   "id": "approximate-uncertainty",
   "metadata": {},
   "outputs": [
    {
     "data": {
      "text/plain": [
       "True"
      ]
     },
     "execution_count": 118,
     "metadata": {},
     "output_type": "execute_result"
    }
   ],
   "source": [
    "len(sent_ls) == len(labels)"
   ]
  },
  {
   "cell_type": "code",
   "execution_count": 120,
   "id": "after-extent",
   "metadata": {},
   "outputs": [],
   "source": [
    "# Define function to clean text\n",
    "def clean(text):\n",
    "    text = re.sub(\"[^a-zA-Z']\", \" \", text)\n",
    "    text = ' '.join([w.lower() for w in text.split()])\n",
    "    return text\n",
    "\n",
    "sent_ls_full = dfa['sentences_full'].tolist()\n",
    "sent_ls_full_lower = [[x.lower() for x in ls] for ls in sent_ls_full]\n",
    "sent_ls_full_lower_flat = list(chain.from_iterable(sent_ls_full_lower))\n",
    "sent_ls_full_lower_flat_clean = [clean(x) for x in sent_ls_full_lower_flat]\n",
    "sent_lower_split = [x.split() for x in sent_ls_full_lower_flat_clean]"
   ]
  },
  {
   "cell_type": "code",
   "execution_count": 121,
   "id": "automotive-blues",
   "metadata": {},
   "outputs": [
    {
     "name": "stdout",
     "output_type": "stream",
     "text": [
      "Umass: -4.322832876967446\n",
      "UCI: 0.05567083522248031\n",
      "NPMI: 0.0910792170386425\n",
      "$C_v$: 0.6515774574343803\n"
     ]
    }
   ],
   "source": [
    "sentences_by_topic = mutualinfo.get_sentences_by_topic(labels, sent_ls_full_lower_flat_clean)\n",
    "cond_probs, mi_score = mutualinfo.calculate_mi(labels_all, sentences_by_topic, split=split)\n",
    "inf_words = mutualinfo.get_topwords_fromdict(labels_all, cond_probs, mi_score, sentences_by_topic, n=10)\n",
    "dictionary, corpus = get_dictionary_corpus(sent_lower_split)\n",
    "\n",
    "umass, c_uci, npmi, c_v = get_score(inf_words, sent_lower_split, dictionary=dictionary, corpus=corpus)\n",
    "\n",
    "results = {'silhouette': silhouette_sc,\n",
    "           'cos': cos_avg,\n",
    "           'umass': umass,\n",
    "          'uci': uci,\n",
    "          'npmi': npmi,\n",
    "          'cv': c_v}\n"
   ]
  },
  {
   "cell_type": "markdown",
   "id": "radical-thermal",
   "metadata": {},
   "source": [
    "## Getting document-level embeddings"
   ]
  },
  {
   "cell_type": "code",
   "execution_count": 61,
   "id": "compatible-amsterdam",
   "metadata": {},
   "outputs": [],
   "source": [
    "# Define function to clean text\n",
    "def clean(text):\n",
    "    text = re.sub(\"[^a-zA-Z']\", \" \", text)\n",
    "    text = ' '.join([w.lower() for w in text.split()])\n",
    "    return text"
   ]
  },
  {
   "cell_type": "code",
   "execution_count": 80,
   "id": "loaded-circus",
   "metadata": {},
   "outputs": [],
   "source": [
    "def get_paragraph(t):\n",
    "    return [clean(x).split() for x in t.split('\\t')]"
   ]
  },
  {
   "cell_type": "code",
   "execution_count": 68,
   "id": "owned-tractor",
   "metadata": {},
   "outputs": [],
   "source": [
    "tokens_multiple = np.array(pd.read_excel(\"./Datasets/2021-07-11 tokens_with_multiple_words.xlsx\")[0].tolist())\n"
   ]
  },
  {
   "cell_type": "code",
   "execution_count": 70,
   "id": "grave-metropolitan",
   "metadata": {},
   "outputs": [],
   "source": [
    "def split_sentences(test_text, tokens_multiple=tokens_multiple):\n",
    "    \"\"\"Split the text so that the bigrams that appear are in the text\"\"\"\n",
    "    \n",
    "    # Get all the tokens in the text that are used\n",
    "    tokens_used = tokens_multiple[np.array([x in test_text for x in tokens_multiple])]\n",
    "    \n",
    "    # Make a function to split by (if multiple terms, | splits by the \"or\" condition)\n",
    "    split_by = '|'.join(tokens_used)\n",
    "    \n",
    "    # Get the text splitted\n",
    "    test_text = re.split(f'({split_by})', test_text)\n",
    "\n",
    "    # Get a list of sentences that are cleaned. Split by space unless the bigram exists in the text\n",
    "    #[x] is used instead of x because [x] is a list and when reducing later it convers to a string\n",
    "    list_of_sentences = [x.strip().split(' ') if x not in tokens_multiple else [x] for x in test_text]\n",
    "    \n",
    "    # Minimize from list of lists to list\n",
    "    sentence_final = list(chain.from_iterable(list_of_sentences))\n",
    "\n",
    "    # Return only words that have a length > 0\n",
    "    return [x for x in sentence_final if len(x) > 0]\n",
    "\n",
    "\n",
    "def split_multiple_sentences(sentences, tokens_multiple=tokens_multiple):\n",
    "    \"\"\"Given a list of sentences, see which ones need to be re-split into multiple tokens and \n",
    "    based on that re-modify them.\"\"\"\n",
    "    \n",
    "    sentences_new = []\n",
    "    for one_sentence in sentences:\n",
    "        one_sentence_string = ' '.join(one_sentence)\n",
    "        \n",
    "        # Check if at least one word exists\n",
    "        words_exist = False\n",
    "        for word in tokens_multiple:\n",
    "            if word in one_sentence_string:\n",
    "                words_exist = True\n",
    "        \n",
    "        # If that word exists, employ the algorithm. Otherwise, ignore\n",
    "        if words_exist: \n",
    "            sentences_new.append(split_sentences(one_sentence_string))\n",
    "        else:\n",
    "            sentences_new.append(one_sentence)\n",
    "        \n",
    "    return sentences_new"
   ]
  },
  {
   "cell_type": "code",
   "execution_count": 74,
   "id": "indoor-teach",
   "metadata": {},
   "outputs": [],
   "source": [
    "para_col = 'para_multiple_tokens'"
   ]
  },
  {
   "cell_type": "code",
   "execution_count": 81,
   "id": "grateful-observer",
   "metadata": {},
   "outputs": [
    {
     "name": "stderr",
     "output_type": "stream",
     "text": [
      "100%|█████████████████████████████████████████████████████████████████████████████| 2426/2426 [00:05<00:00, 459.03it/s]\n"
     ]
    }
   ],
   "source": [
    "dfa['paragraphs'] = dfa.text.progress_map(get_paragraph)"
   ]
  },
  {
   "cell_type": "code",
   "execution_count": 121,
   "id": "authentic-messenger",
   "metadata": {},
   "outputs": [],
   "source": [
    "plen = dfa.text.str.split('\\t').map(len)"
   ]
  },
  {
   "cell_type": "code",
   "execution_count": 123,
   "id": "academic-template",
   "metadata": {},
   "outputs": [
    {
     "data": {
      "text/plain": [
       "<AxesSubplot:>"
      ]
     },
     "execution_count": 123,
     "metadata": {},
     "output_type": "execute_result"
    },
    {
     "data": {
      "image/png": "[encoded data removed]",
      "text/plain": [
       "<Figure size 432x288 with 1 Axes>"
      ]
     },
     "metadata": {
      "needs_background": "light"
     },
     "output_type": "display_data"
    }
   ],
   "source": [
    "plen.hist(bins=50)"
   ]
  },
  {
   "cell_type": "code",
   "execution_count": 83,
   "id": "legislative-monte",
   "metadata": {},
   "outputs": [
    {
     "name": "stderr",
     "output_type": "stream",
     "text": [
      "100%|█████████████████████████████████████████████████████████████████████████████| 2426/2426 [00:14<00:00, 164.45it/s]\n"
     ]
    }
   ],
   "source": [
    "dfa[para_col] = dfa.paragraphs.progress_map(split_multiple_sentences)"
   ]
  },
  {
   "cell_type": "code",
   "execution_count": null,
   "id": "smaller-booth",
   "metadata": {},
   "outputs": [],
   "source": []
  },
  {
   "cell_type": "markdown",
   "id": "talented-juvenile",
   "metadata": {},
   "source": [
    "## Topic Scores"
   ]
  },
  {
   "cell_type": "code",
   "execution_count": null,
   "id": "surprised-mortality",
   "metadata": {},
   "outputs": [],
   "source": []
  }
 ],
 "metadata": {
  "kernelspec": {
   "display_name": "Python 3",
   "language": "python",
   "name": "python3"
  },
  "language_info": {
   "codemirror_mode": {
    "name": "ipython",
    "version": 3
   },
   "file_extension": ".py",
   "mimetype": "text/x-python",
   "name": "python",
   "nbconvert_exporter": "python",
   "pygments_lexer": "ipython3",
   "version": "3.8.6"
  },
  "toc-autonumbering": true
 },
 "nbformat": 4,
 "nbformat_minor": 5
}
