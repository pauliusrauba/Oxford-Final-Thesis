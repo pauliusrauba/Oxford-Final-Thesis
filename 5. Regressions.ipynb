{
 "cells": [
  {
   "cell_type": "code",
   "execution_count": 57,
   "id": "executed-assets",
   "metadata": {},
   "outputs": [],
   "source": [
    "require(ggplot2)\n",
    "require(GGally)\n",
    "require(reshape2)\n",
    "require(lme4)\n",
    "require(compiler)\n",
    "require(parallel)\n",
    "require(boot)\n",
    "require(lattice)\n",
    "library(plm)\n",
    "library(pglm)\n",
    "library(lme4)"
   ]
  },
  {
   "cell_type": "code",
   "execution_count": 4,
   "id": "later-tradition",
   "metadata": {},
   "outputs": [],
   "source": [
    "library(plm)       \n",
    "library(stargazer)\n",
    "library(gplots)    # Various programing tools for plotting data\n",
    "library(tseries)   # For timeseries analysis\n",
    "library(lmtest)  "
   ]
  },
  {
   "cell_type": "code",
   "execution_count": 11,
   "id": "upset-poverty",
   "metadata": {},
   "outputs": [],
   "source": [
    "df <- read.csv('./Datasets/2021-07-22 regression_dataset_withna.csv')\n",
    "dfnona <- read.csv('./Datasets/2021-07-22 regression_dataset.csv')"
   ]
  },
  {
   "cell_type": "code",
   "execution_count": 116,
   "id": "played-victim",
   "metadata": {},
   "outputs": [],
   "source": [
    "new_df2 = read.csv('./Datasets/2021-08-07 new_df2.csv')\n",
    "new_df2_dropna = read.csv('./Datasets/2021-08-07 new_df2_dropna.csv')"
   ]
  },
  {
   "cell_type": "markdown",
   "id": "irish-japan",
   "metadata": {},
   "source": [
    "# Modeling"
   ]
  },
  {
   "cell_type": "markdown",
   "id": "wanted-scoop",
   "metadata": {},
   "source": [
    "Also check VIFs\n",
    "Booth GD (1994) suggests that VIFs should ideally be <1.5, or <20 for interactions. Higher values would indicate multicollinearity and thus that the model is unstable."
   ]
  },
  {
   "cell_type": "markdown",
   "id": "dried-baltimore",
   "metadata": {},
   "source": [
    "## MODEL ONE. Predicting whether at conflict or not"
   ]
  },
  {
   "cell_type": "markdown",
   "id": "fundamental-balance",
   "metadata": {},
   "source": [
    "### Just indices"
   ]
  },
  {
   "cell_type": "code",
   "execution_count": 221,
   "id": "executed-hamburg",
   "metadata": {},
   "outputs": [
    {
     "name": "stderr",
     "output_type": "stream",
     "text": [
      "Warning message in (function (fn, par, lower = rep.int(-Inf, n), upper = rep.int(Inf, :\n",
      "\"failure to converge in 10000 evaluations\"\n",
      "Warning message in optwrap(optimizer, devfun, start, rho$lower, control = control, :\n",
      "\"convergence code 4 from Nelder_Mead: failure to converge in 10000 evaluations\"\n",
      "Warning message in checkConv(attr(opt, \"derivs\"), opt$par, ctrl = control$checkConv, :\n",
      "\"Model failed to converge with max|grad| = 0.144412 (tol = 0.002, component 1)\"\n"
     ]
    }
   ],
   "source": [
    "model_indices <- glmer(\n",
    "  intrastate_conflict ~ T1 + T2 + T3 + T4 + T5 + T6 + T7 + T8 + T9 + T10 + T11 + T12 + T13 + T14 + T15 + T16 + T17 + T18 + T19 + T20 + T21 + T22 + T23 + interstate_conflict + (1 | countryname) + (1|year),\n",
    "  data = new_df2,\n",
    "    family='binomial'\n",
    ")"
   ]
  },
  {
   "cell_type": "code",
   "execution_count": 222,
   "id": "blank-orbit",
   "metadata": {},
   "outputs": [
    {
     "name": "stderr",
     "output_type": "stream",
     "text": [
      "\n",
      "Correlation matrix not shown by default, as p = 25 > 12.\n",
      "Use print(obj, correlation=TRUE)  or\n",
      "    vcov(obj)        if you need it\n",
      "\n",
      "\n"
     ]
    },
    {
     "data": {
      "text/plain": [
       "Generalized linear mixed model fit by maximum likelihood (Laplace\n",
       "  Approximation) [glmerMod]\n",
       " Family: binomial  ( logit )\n",
       "Formula: intrastate_conflict ~ T1 + T2 + T3 + T4 + T5 + T6 + T7 + T8 +  \n",
       "    T9 + T10 + T11 + T12 + T13 + T14 + T15 + T16 + T17 + T18 +  \n",
       "    T19 + T20 + T21 + T22 + T23 + interstate_conflict + (1 |  \n",
       "    countryname) + (1 | year)\n",
       "   Data: new_df2\n",
       "\n",
       "     AIC      BIC   logLik deviance df.resid \n",
       "   870.1   1026.5   -408.0    816.1     2399 \n",
       "\n",
       "Scaled residuals: \n",
       "    Min      1Q  Median      3Q     Max \n",
       "-36.258  -0.162  -0.089  -0.051  11.071 \n",
       "\n",
       "Random effects:\n",
       " Groups      Name        Variance  Std.Dev. \n",
       " countryname (Intercept) 3.053e+00 1.7471642\n",
       " year        (Intercept) 7.971e-08 0.0002823\n",
       "Number of obs: 2426, groups:  countryname, 54; year, 51\n",
       "\n",
       "Fixed effects:\n",
       "                    Estimate Std. Error z value Pr(>|z|)    \n",
       "(Intercept)         -5.24103    2.30428  -2.274   0.0229 *  \n",
       "T1                   0.73574    3.64390   0.202   0.8400    \n",
       "T2                   5.53871    4.19842   1.319   0.1871    \n",
       "T3                   1.33393    4.28943   0.311   0.7558    \n",
       "T4                   1.01957    3.70467   0.275   0.7832    \n",
       "T5                   6.35062    4.71078   1.348   0.1776    \n",
       "T6                  18.80736    4.04374   4.651  3.3e-06 ***\n",
       "T7                  -4.67398    6.77753  -0.690   0.4904    \n",
       "T8                   9.98792    8.07611   1.237   0.2162    \n",
       "T9                  -2.49717    4.50568  -0.554   0.5794    \n",
       "T10                  4.44308    6.19892   0.717   0.4735    \n",
       "T11                  2.97131    3.30225   0.900   0.3682    \n",
       "T12                 -0.44971    3.25505  -0.138   0.8901    \n",
       "T13                 -1.29793    4.18336  -0.310   0.7564    \n",
       "T14                 -8.04211    5.02496  -1.600   0.1095    \n",
       "T15                  0.54804    4.02757   0.136   0.8918    \n",
       "T16                  0.08098    3.94283   0.021   0.9836    \n",
       "T17                 -3.55076    4.69463  -0.756   0.4494    \n",
       "T18                  5.29360    3.92494   1.349   0.1774    \n",
       "T19                 -5.48893    4.08772  -1.343   0.1793    \n",
       "T20                  3.84050    6.11529   0.628   0.5300    \n",
       "T21                  5.59731    3.78768   1.478   0.1395    \n",
       "T22                  3.22134    3.66961   0.878   0.3800    \n",
       "T23                 -3.28123    3.53573  -0.928   0.3534    \n",
       "interstate_conflict  6.74060    0.39813  16.931  < 2e-16 ***\n",
       "---\n",
       "Signif. codes:  0 '***' 0.001 '**' 0.01 '*' 0.05 '.' 0.1 ' ' 1\n",
       "optimizer (Nelder_Mead) convergence code: 4 (failure to converge in 10000 evaluations)\n",
       "Model failed to converge with max|grad| = 0.144412 (tol = 0.002, component 1)\n",
       "failure to converge in 10000 evaluations\n"
      ]
     },
     "metadata": {},
     "output_type": "display_data"
    }
   ],
   "source": [
    "summary(model_indices)"
   ]
  },
  {
   "cell_type": "markdown",
   "id": "civic-minority",
   "metadata": {},
   "source": [
    "### Just controls"
   ]
  },
  {
   "cell_type": "code",
   "execution_count": 290,
   "id": "smooth-killing",
   "metadata": {},
   "outputs": [
    {
     "name": "stderr",
     "output_type": "stream",
     "text": [
      "Warning message in checkConv(attr(opt, \"derivs\"), opt$par, ctrl = control$checkConv, :\n",
      "\"Model failed to converge with max|grad| = 0.230862 (tol = 0.002, component 1)\"\n"
     ]
    }
   ],
   "source": [
    "model_controls <- glmer(\n",
    "  intrastate_conflict ~ Resources + EthFrac + LingFrac + RelFrac + Transitional + AC_neighbour + Population_log + \n",
    "    GDP_capita_log + ForeignAid_log + interstate_conflict + (1 | countryname) + (1|year),\n",
    "  data = new_df2,\n",
    "    family='binomial'\n",
    ")"
   ]
  },
  {
   "cell_type": "code",
   "execution_count": 291,
   "id": "floppy-swing",
   "metadata": {},
   "outputs": [
    {
     "data": {
      "text/plain": [
       "Generalized linear mixed model fit by maximum likelihood (Laplace\n",
       "  Approximation) [glmerMod]\n",
       " Family: binomial  ( logit )\n",
       "Formula: intrastate_conflict ~ Resources + EthFrac + LingFrac + RelFrac +  \n",
       "    Transitional + AC_neighbour + Population_log + GDP_capita_log +  \n",
       "    ForeignAid_log + interstate_conflict + (1 | countryname) +      (1 | year)\n",
       "   Data: new_df2\n",
       "\n",
       "     AIC      BIC   logLik deviance df.resid \n",
       "   553.1    623.3   -263.6    527.1     1625 \n",
       "\n",
       "Scaled residuals: \n",
       "     Min       1Q   Median       3Q      Max \n",
       "-14.5473  -0.1496  -0.0884  -0.0288  11.4799 \n",
       "\n",
       "Random effects:\n",
       " Groups      Name        Variance  Std.Dev.\n",
       " year        (Intercept) 2.966e-05 0.005446\n",
       " countryname (Intercept) 3.224e+00 1.795479\n",
       "Number of obs: 1638, groups:  year, 47; countryname, 46\n",
       "\n",
       "Fixed effects:\n",
       "                     Estimate Std. Error z value Pr(>|z|)    \n",
       "(Intercept)         -14.00484    3.73463  -3.750 0.000177 ***\n",
       "Resources             0.01313    0.01443   0.910 0.362992    \n",
       "EthFrac               4.04215    2.40995   1.677 0.093489 .  \n",
       "LingFrac             -2.85836    1.76663  -1.618 0.105669    \n",
       "RelFrac              -1.67908    1.65288  -1.016 0.309702    \n",
       "Transitional          1.13852    0.71761   1.587 0.112615    \n",
       "AC_neighbour         -0.10649    0.33081  -0.322 0.747531    \n",
       "Population_log        0.88075    0.28783   3.060 0.002214 ** \n",
       "GDP_capita_log       -0.56815    0.23303  -2.438 0.014767 *  \n",
       "ForeignAid_log        0.18017    0.18216   0.989 0.322628    \n",
       "interstate_conflict   6.66161    0.54521  12.218  < 2e-16 ***\n",
       "---\n",
       "Signif. codes:  0 '***' 0.001 '**' 0.01 '*' 0.05 '.' 0.1 ' ' 1\n",
       "\n",
       "Correlation of Fixed Effects:\n",
       "            (Intr) Resrcs EthFrc LngFrc RelFrc Trnstn AC_ngh Ppltn_ GDP_c_\n",
       "Resources    0.131                                                        \n",
       "EthFrac     -0.056 -0.088                                                 \n",
       "LingFrac     0.112  0.041 -0.623                                          \n",
       "RelFrac      0.149  0.024  0.019 -0.293                                   \n",
       "Transitionl -0.026  0.050 -0.020  0.001 -0.030                            \n",
       "AC_neighbor  0.201 -0.143  0.033 -0.017  0.082  0.019                     \n",
       "Populatn_lg -0.880 -0.132 -0.197 -0.062 -0.282  0.004 -0.214              \n",
       "GDP_capt_lg  0.101  0.019  0.086  0.034  0.143  0.047 -0.009 -0.436       \n",
       "ForegnAd_lg -0.003 -0.049  0.013  0.011  0.109 -0.083 -0.036  0.005  0.205\n",
       "intrstt_cnf -0.098 -0.042  0.134 -0.151  0.049  0.001 -0.095  0.054 -0.058\n",
       "            FrgnA_\n",
       "Resources         \n",
       "EthFrac           \n",
       "LingFrac          \n",
       "RelFrac           \n",
       "Transitionl       \n",
       "AC_neighbor       \n",
       "Populatn_lg       \n",
       "GDP_capt_lg       \n",
       "ForegnAd_lg       \n",
       "intrstt_cnf  0.046\n",
       "optimizer (Nelder_Mead) convergence code: 0 (OK)\n",
       "Model failed to converge with max|grad| = 0.230862 (tol = 0.002, component 1)\n"
      ]
     },
     "metadata": {},
     "output_type": "display_data"
    }
   ],
   "source": [
    "summary(model_controls)"
   ]
  },
  {
   "cell_type": "markdown",
   "id": "drawn-wrong",
   "metadata": {},
   "source": [
    "### Both"
   ]
  },
  {
   "cell_type": "code",
   "execution_count": 292,
   "id": "stupid-continent",
   "metadata": {},
   "outputs": [
    {
     "name": "stderr",
     "output_type": "stream",
     "text": [
      "Warning message in (function (fn, par, lower = rep.int(-Inf, n), upper = rep.int(Inf, :\n",
      "\"failure to converge in 10000 evaluations\"\n",
      "Warning message in optwrap(optimizer, devfun, start, rho$lower, control = control, :\n",
      "\"convergence code 4 from Nelder_Mead: failure to converge in 10000 evaluations\"\n",
      "Warning message in checkConv(attr(opt, \"derivs\"), opt$par, ctrl = control$checkConv, :\n",
      "\"Model failed to converge with max|grad| = 0.205645 (tol = 0.002, component 1)\"\n",
      "Warning message in checkConv(attr(opt, \"derivs\"), opt$par, ctrl = control$checkConv, :\n",
      "\"Model is nearly unidentifiable: large eigenvalue ratio\n",
      " - Rescale variables?\"\n"
     ]
    }
   ],
   "source": [
    "model_both <- glmer(\n",
    "  intrastate_conflict ~ Resources + EthFrac + LingFrac + RelFrac + Transitional + AC_neighbour + Population_log + \n",
    "    GDP_capita_log + ForeignAid_log + interstate_conflict + T1 + T2 + T3 + T4 + T5 + T6 + T7 + T8 + T9 + T10 + T11 + T12 + T13 + T14 + T15 + T16 + T17 + T18 + T19 + T20 + T21 + T22 + T23 + (1 | countryname) + (1|year),\n",
    "    data = new_df2,\n",
    "    family='binomial'\n",
    ")"
   ]
  },
  {
   "cell_type": "code",
   "execution_count": 293,
   "id": "still-termination",
   "metadata": {},
   "outputs": [
    {
     "name": "stderr",
     "output_type": "stream",
     "text": [
      "\n",
      "Correlation matrix not shown by default, as p = 34 > 12.\n",
      "Use print(obj, correlation=TRUE)  or\n",
      "    vcov(obj)        if you need it\n",
      "\n",
      "\n"
     ]
    },
    {
     "data": {
      "text/plain": [
       "Generalized linear mixed model fit by maximum likelihood (Laplace\n",
       "  Approximation) [glmerMod]\n",
       " Family: binomial  ( logit )\n",
       "Formula: intrastate_conflict ~ Resources + EthFrac + LingFrac + RelFrac +  \n",
       "    Transitional + AC_neighbour + Population_log + GDP_capita_log +  \n",
       "    ForeignAid_log + interstate_conflict + T1 + T2 + T3 + T4 +  \n",
       "    T5 + T6 + T7 + T8 + T9 + T10 + T11 + T12 + T13 + T14 + T15 +  \n",
       "    T16 + T17 + T18 + T19 + T20 + T21 + T22 + T23 + (1 | countryname) +  \n",
       "    (1 | year)\n",
       "   Data: new_df2\n",
       "\n",
       "     AIC      BIC   logLik deviance df.resid \n",
       "   549.2    743.6   -238.6    477.2     1602 \n",
       "\n",
       "Scaled residuals: \n",
       "     Min       1Q   Median       3Q      Max \n",
       "-22.3863  -0.1365  -0.0684  -0.0269   6.7644 \n",
       "\n",
       "Random effects:\n",
       " Groups      Name        Variance  Std.Dev.\n",
       " year        (Intercept) 4.916e-05 0.007011\n",
       " countryname (Intercept) 3.301e+00 1.816910\n",
       "Number of obs: 1638, groups:  year, 47; countryname, 46\n",
       "\n",
       "Fixed effects:\n",
       "                     Estimate Std. Error z value Pr(>|z|)    \n",
       "(Intercept)         -13.40976    5.35951  -2.502  0.01235 *  \n",
       "Resources             0.01219    0.01497   0.814  0.41545    \n",
       "EthFrac               4.00056    2.51459   1.591  0.11162    \n",
       "LingFrac             -2.53029    1.87499  -1.349  0.17718    \n",
       "RelFrac              -1.72047    1.70764  -1.008  0.31369    \n",
       "Transitional          1.31236    0.75644   1.735  0.08276 .  \n",
       "AC_neighbour         -0.31744    0.36140  -0.878  0.37974    \n",
       "Population_log        0.87839    0.32506   2.702  0.00689 ** \n",
       "GDP_capita_log       -0.29941    0.27009  -1.109  0.26762    \n",
       "ForeignAid_log        0.24789    0.21298   1.164  0.24447    \n",
       "interstate_conflict   7.24956    0.60189  12.045  < 2e-16 ***\n",
       "T1                   -3.53963    4.77718  -0.741  0.45873    \n",
       "T2                   -8.63633    5.94792  -1.452  0.14650    \n",
       "T3                   -2.11174    5.62462  -0.375  0.70733    \n",
       "T4                    0.33047    5.22564   0.063  0.94957    \n",
       "T5                    3.05821    7.25046   0.422  0.67317    \n",
       "T6                   17.39164    5.52087   3.150  0.00163 ** \n",
       "T7                  -18.44747   11.19159  -1.648  0.09928 .  \n",
       "T8                    2.63318   11.27946   0.233  0.81541    \n",
       "T9                   -3.27356    6.10088  -0.537  0.59156    \n",
       "T10                  -1.42542    7.72401  -0.185  0.85359    \n",
       "T11                  -0.56535    4.74717  -0.119  0.90520    \n",
       "T12                  -3.68730    4.49862  -0.820  0.41242    \n",
       "T13                  -3.06247    5.38165  -0.569  0.56932    \n",
       "T14                 -13.62252    7.03416  -1.937  0.05279 .  \n",
       "T15                  -3.24165    5.30719  -0.611  0.54133    \n",
       "T16                  -8.40187    5.25018  -1.600  0.10953    \n",
       "T17                  -7.04968    6.42494  -1.097  0.27254    \n",
       "T18                   1.69157    5.76071   0.294  0.76903    \n",
       "T19                  -6.17714    5.48277  -1.127  0.25989    \n",
       "T20                   5.14354    8.51460   0.604  0.54579    \n",
       "T21                   0.26420    5.09295   0.052  0.95863    \n",
       "T22                   1.75846    4.85152   0.362  0.71701    \n",
       "T23                  -6.63540    4.99134  -1.329  0.18372    \n",
       "---\n",
       "Signif. codes:  0 '***' 0.001 '**' 0.01 '*' 0.05 '.' 0.1 ' ' 1\n",
       "optimizer (Nelder_Mead) convergence code: 4 (failure to converge in 10000 evaluations)\n",
       "Model failed to converge with max|grad| = 0.205645 (tol = 0.002, component 1)\n",
       "Model is nearly unidentifiable: large eigenvalue ratio\n",
       " - Rescale variables?\n",
       "failure to converge in 10000 evaluations\n"
      ]
     },
     "metadata": {},
     "output_type": "display_data"
    }
   ],
   "source": [
    "summary(model_both)"
   ]
  },
  {
   "cell_type": "markdown",
   "id": "narrow-participant",
   "metadata": {},
   "source": [
    "### Exporting both models"
   ]
  },
  {
   "cell_type": "markdown",
   "id": "burning-mistress",
   "metadata": {},
   "source": [
    "F-1 Score & \\multicolumn{1}{c}{0.66} & \\multicolumn{1}{c}{0.65} & \\multicolumn{1}{c}{0.68} \\\\"
   ]
  },
  {
   "cell_type": "code",
   "execution_count": 295,
   "id": "insured-marina",
   "metadata": {},
   "outputs": [
    {
     "name": "stdout",
     "output_type": "stream",
     "text": [
      "\n",
      "% Table created by stargazer v.5.2.2 by Marek Hlavac, Harvard University. E-mail: hlavac at fas.harvard.edu\n",
      "% Date and time: Sun, Aug 08, 2021 - 9:05:18 PM\n",
      "% Requires LaTeX packages: dcolumn \n",
      "\\begin{table}[!htbp] \\centering \n",
      "  \\caption{Control regression} \n",
      "  \\label{} \n",
      "\\small \n",
      "\\begin{tabular}{@{\\extracolsep{1pt}}lD{.}{.}{-2} D{.}{.}{-2} D{.}{.}{-2} } \n",
      "\\\\[-1.8ex]\\hline \n",
      "\\hline \\\\[-1.8ex] \n",
      " & \\multicolumn{3}{c}{\\textit{Dependent variable:}} \\\\ \n",
      "\\cline{2-4} \n",
      "\\\\[-1.8ex] & \\multicolumn{3}{c}{intrastate\\_conflict} \\\\ \n",
      "\\\\[-1.8ex] & \\multicolumn{1}{c}{(1)} & \\multicolumn{1}{c}{(2)} & \\multicolumn{1}{c}{(3)}\\\\ \n",
      "\\hline \\\\[-1.8ex] \n",
      " Resources & 0.01$ $(0.01) &  & 0.01$ $(0.01) \\\\ \n",
      "  EthFrac & 4.04^{*}$ $(2.41) &  & 4.00$ $(2.51) \\\\ \n",
      "  LingFrac & -2.86$ $(1.77) &  & -2.53$ $(1.87) \\\\ \n",
      "  RelFrac & -1.68$ $(1.65) &  & -1.72$ $(1.71) \\\\ \n",
      "  Transitional & 1.14$ $(0.72) &  & 1.31^{*}$ $(0.76) \\\\ \n",
      "  AC\\_neighbour & -0.11$ $(0.33) &  & -0.32$ $(0.36) \\\\ \n",
      "  Population\\_log & 0.88^{***}$ $(0.29) &  & 0.88^{***}$ $(0.33) \\\\ \n",
      "  GDP\\_capita\\_log & -0.57^{**}$ $(0.23) &  & -0.30$ $(0.27) \\\\ \n",
      "  ForeignAid\\_log & 0.18$ $(0.18) &  & 0.25$ $(0.21) \\\\ \n",
      "  T1 &  & 0.74$ $(3.64) & -3.54$ $(4.78) \\\\ \n",
      "  T2 &  & 5.54$ $(4.20) & -8.64$ $(5.95) \\\\ \n",
      "  T3 &  & 1.33$ $(4.29) & -2.11$ $(5.62) \\\\ \n",
      "  T4 &  & 1.02$ $(3.70) & 0.33$ $(5.23) \\\\ \n",
      "  T5 &  & 6.35$ $(4.71) & 3.06$ $(7.25) \\\\ \n",
      "  T6 &  & 18.81^{***}$ $(4.04) & 17.39^{***}$ $(5.52) \\\\ \n",
      "  T7 &  & -4.67$ $(6.78) & -18.45^{*}$ $(11.19) \\\\ \n",
      "  T8 &  & 9.99$ $(8.08) & 2.63$ $(11.28) \\\\ \n",
      "  T9 &  & -2.50$ $(4.51) & -3.27$ $(6.10) \\\\ \n",
      "  T10 &  & 4.44$ $(6.20) & -1.43$ $(7.72) \\\\ \n",
      "  T11 &  & 2.97$ $(3.30) & -0.57$ $(4.75) \\\\ \n",
      "  T12 &  & -0.45$ $(3.26) & -3.69$ $(4.50) \\\\ \n",
      "  T13 &  & -1.30$ $(4.18) & -3.06$ $(5.38) \\\\ \n",
      "  T14 &  & -8.04$ $(5.02) & -13.62^{*}$ $(7.03) \\\\ \n",
      "  T15 &  & 0.55$ $(4.03) & -3.24$ $(5.31) \\\\ \n",
      "  T16 &  & 0.08$ $(3.94) & -8.40$ $(5.25) \\\\ \n",
      "  T17 &  & -3.55$ $(4.69) & -7.05$ $(6.42) \\\\ \n",
      "  T18 &  & 5.29$ $(3.92) & 1.69$ $(5.76) \\\\ \n",
      "  T19 &  & -5.49$ $(4.09) & -6.18$ $(5.48) \\\\ \n",
      "  T20 &  & 3.84$ $(6.12) & 5.14$ $(8.51) \\\\ \n",
      "  T21 &  & 5.60$ $(3.79) & 0.26$ $(5.09) \\\\ \n",
      "  T22 &  & 3.22$ $(3.67) & 1.76$ $(4.85) \\\\ \n",
      "  T23 &  & -3.28$ $(3.54) & -6.64$ $(4.99) \\\\ \n",
      "  interstate\\_conflict & 6.66^{***}$ $(0.55) & 6.74^{***}$ $(0.40) & 7.25^{***}$ $(0.60) \\\\ \n",
      "  Constant & -14.00^{***}$ $(3.73) & -5.24^{**}$ $(2.30) & -13.41^{**}$ $(5.36) \\\\ \n",
      " \\hline \\\\[-1.8ex] \n",
      "Observations & \\multicolumn{1}{c}{1,638} & \\multicolumn{1}{c}{2,426} & \\multicolumn{1}{c}{1,638} \\\\ \n",
      "Log Likelihood & \\multicolumn{1}{c}{-263.56} & \\multicolumn{1}{c}{-408.04} & \\multicolumn{1}{c}{-238.60} \\\\ \n",
      "Akaike Inf. Crit. & \\multicolumn{1}{c}{553.11} & \\multicolumn{1}{c}{870.07} & \\multicolumn{1}{c}{549.19} \\\\ \n",
      "Bayesian Inf. Crit. & \\multicolumn{1}{c}{623.33} & \\multicolumn{1}{c}{1,026.51} & \\multicolumn{1}{c}{743.64} \\\\ \n",
      "\\hline \n",
      "\\hline \\\\[-1.8ex] \n",
      "\\textit{Note:}  & \\multicolumn{3}{r}{$^{*}$p$<$0.1; $^{**}$p$<$0.05; $^{***}$p$<$0.01} \\\\ \n",
      "\\end{tabular} \n",
      "\\end{table} \n"
     ]
    }
   ],
   "source": [
    "stargazer(c(model_controls, model_indices, model_both), align=TRUE, digits=2,  title=c('Control regression', 'Index regression', 'Index & Control regression'), font.size='small', no.space=TRUE, single.row=TRUE, column.sep.width='1pt')"
   ]
  },
  {
   "cell_type": "markdown",
   "id": "regional-foster",
   "metadata": {},
   "source": [
    "## Model two: estimating the number of deaths"
   ]
  },
  {
   "cell_type": "markdown",
   "id": "creative-bench",
   "metadata": {},
   "source": [
    "### Model one: just indices"
   ]
  },
  {
   "cell_type": "code",
   "execution_count": 60,
   "id": "biblical-sixth",
   "metadata": {},
   "outputs": [],
   "source": [
    "new_df2$total_deaths_log = log(new_df2$total_deaths + 1)"
   ]
  },
  {
   "cell_type": "code",
   "execution_count": 66,
   "id": "through-period",
   "metadata": {},
   "outputs": [
    {
     "data": {
      "text/html": [
       "<style>\n",
       ".list-inline {list-style: none; margin:0; padding: 0}\n",
       ".list-inline>li {display: inline-block}\n",
       ".list-inline>li:not(:last-child)::after {content: \"\\00b7\"; padding: 0 .5ex}\n",
       "</style>\n",
       "<ol class=list-inline><li>'year'</li><li>'country'</li><li>'is_war'</li><li>'n_conflicts'</li><li>'total_deaths'</li><li>'incompatibility'</li><li>'intensity'</li><li>'type_of_conflict'</li><li>'conflict_before'</li><li>'countryname'</li><li>'T1'</li><li>'T2'</li><li>'T3'</li><li>'T4'</li><li>'T5'</li><li>'T6'</li><li>'T7'</li><li>'T8'</li><li>'T9'</li><li>'T10'</li><li>'T11'</li><li>'T12'</li><li>'T13'</li><li>'T14'</li><li>'T15'</li><li>'T16'</li><li>'T17'</li><li>'T18'</li><li>'T19'</li><li>'T20'</li><li>'T21'</li><li>'T22'</li><li>'T23'</li><li>'intrastate_conflict'</li><li>'interstate_conflict'</li><li>'Country'</li><li>'Year'</li><li>'ForeignAid'</li><li>'Resources'</li><li>'EthFrac'</li><li>'LingFrac'</li><li>'RelFrac'</li><li>'Transitional'</li><li>'AC_neighbour'</li><li>'GDP_capita'</li><li>'Population'</li><li>'Population_log'</li><li>'GDP_capita_log'</li><li>'ForeignAid_log'</li><li>'total_deaths_log'</li></ol>\n"
      ],
      "text/latex": [
       "\\begin{enumerate*}\n",
       "\\item 'year'\n",
       "\\item 'country'\n",
       "\\item 'is\\_war'\n",
       "\\item 'n\\_conflicts'\n",
       "\\item 'total\\_deaths'\n",
       "\\item 'incompatibility'\n",
       "\\item 'intensity'\n",
       "\\item 'type\\_of\\_conflict'\n",
       "\\item 'conflict\\_before'\n",
       "\\item 'countryname'\n",
       "\\item 'T1'\n",
       "\\item 'T2'\n",
       "\\item 'T3'\n",
       "\\item 'T4'\n",
       "\\item 'T5'\n",
       "\\item 'T6'\n",
       "\\item 'T7'\n",
       "\\item 'T8'\n",
       "\\item 'T9'\n",
       "\\item 'T10'\n",
       "\\item 'T11'\n",
       "\\item 'T12'\n",
       "\\item 'T13'\n",
       "\\item 'T14'\n",
       "\\item 'T15'\n",
       "\\item 'T16'\n",
       "\\item 'T17'\n",
       "\\item 'T18'\n",
       "\\item 'T19'\n",
       "\\item 'T20'\n",
       "\\item 'T21'\n",
       "\\item 'T22'\n",
       "\\item 'T23'\n",
       "\\item 'intrastate\\_conflict'\n",
       "\\item 'interstate\\_conflict'\n",
       "\\item 'Country'\n",
       "\\item 'Year'\n",
       "\\item 'ForeignAid'\n",
       "\\item 'Resources'\n",
       "\\item 'EthFrac'\n",
       "\\item 'LingFrac'\n",
       "\\item 'RelFrac'\n",
       "\\item 'Transitional'\n",
       "\\item 'AC\\_neighbour'\n",
       "\\item 'GDP\\_capita'\n",
       "\\item 'Population'\n",
       "\\item 'Population\\_log'\n",
       "\\item 'GDP\\_capita\\_log'\n",
       "\\item 'ForeignAid\\_log'\n",
       "\\item 'total\\_deaths\\_log'\n",
       "\\end{enumerate*}\n"
      ],
      "text/markdown": [
       "1. 'year'\n",
       "2. 'country'\n",
       "3. 'is_war'\n",
       "4. 'n_conflicts'\n",
       "5. 'total_deaths'\n",
       "6. 'incompatibility'\n",
       "7. 'intensity'\n",
       "8. 'type_of_conflict'\n",
       "9. 'conflict_before'\n",
       "10. 'countryname'\n",
       "11. 'T1'\n",
       "12. 'T2'\n",
       "13. 'T3'\n",
       "14. 'T4'\n",
       "15. 'T5'\n",
       "16. 'T6'\n",
       "17. 'T7'\n",
       "18. 'T8'\n",
       "19. 'T9'\n",
       "20. 'T10'\n",
       "21. 'T11'\n",
       "22. 'T12'\n",
       "23. 'T13'\n",
       "24. 'T14'\n",
       "25. 'T15'\n",
       "26. 'T16'\n",
       "27. 'T17'\n",
       "28. 'T18'\n",
       "29. 'T19'\n",
       "30. 'T20'\n",
       "31. 'T21'\n",
       "32. 'T22'\n",
       "33. 'T23'\n",
       "34. 'intrastate_conflict'\n",
       "35. 'interstate_conflict'\n",
       "36. 'Country'\n",
       "37. 'Year'\n",
       "38. 'ForeignAid'\n",
       "39. 'Resources'\n",
       "40. 'EthFrac'\n",
       "41. 'LingFrac'\n",
       "42. 'RelFrac'\n",
       "43. 'Transitional'\n",
       "44. 'AC_neighbour'\n",
       "45. 'GDP_capita'\n",
       "46. 'Population'\n",
       "47. 'Population_log'\n",
       "48. 'GDP_capita_log'\n",
       "49. 'ForeignAid_log'\n",
       "50. 'total_deaths_log'\n",
       "\n",
       "\n"
      ],
      "text/plain": [
       " [1] \"year\"                \"country\"             \"is_war\"             \n",
       " [4] \"n_conflicts\"         \"total_deaths\"        \"incompatibility\"    \n",
       " [7] \"intensity\"           \"type_of_conflict\"    \"conflict_before\"    \n",
       "[10] \"countryname\"         \"T1\"                  \"T2\"                 \n",
       "[13] \"T3\"                  \"T4\"                  \"T5\"                 \n",
       "[16] \"T6\"                  \"T7\"                  \"T8\"                 \n",
       "[19] \"T9\"                  \"T10\"                 \"T11\"                \n",
       "[22] \"T12\"                 \"T13\"                 \"T14\"                \n",
       "[25] \"T15\"                 \"T16\"                 \"T17\"                \n",
       "[28] \"T18\"                 \"T19\"                 \"T20\"                \n",
       "[31] \"T21\"                 \"T22\"                 \"T23\"                \n",
       "[34] \"intrastate_conflict\" \"interstate_conflict\" \"Country\"            \n",
       "[37] \"Year\"                \"ForeignAid\"          \"Resources\"          \n",
       "[40] \"EthFrac\"             \"LingFrac\"            \"RelFrac\"            \n",
       "[43] \"Transitional\"        \"AC_neighbour\"        \"GDP_capita\"         \n",
       "[46] \"Population\"          \"Population_log\"      \"GDP_capita_log\"     \n",
       "[49] \"ForeignAid_log\"      \"total_deaths_log\"   "
      ]
     },
     "metadata": {},
     "output_type": "display_data"
    }
   ],
   "source": [
    "colnames(new_df2)"
   ]
  },
  {
   "cell_type": "markdown",
   "id": "racial-planner",
   "metadata": {},
   "source": [
    "#### All dataset"
   ]
  },
  {
   "cell_type": "code",
   "execution_count": 73,
   "id": "psychological-accommodation",
   "metadata": {},
   "outputs": [],
   "source": [
    "model_indices_cont <- lmer(\n",
    "  total_deaths_log ~ T1 + T2 + T3 + T4 + T5 + T6 + T7 + T8 + T9 + T10 + T11 + T12 + T13 + T14 + T15 + T16 + T17 + T18 + T19 + T20 + T21 + T22 + T23 + interstate_conflict + (1 | countryname) + (1|year),\n",
    "  data = new_df2)"
   ]
  },
  {
   "cell_type": "code",
   "execution_count": 74,
   "id": "worldwide-hamilton",
   "metadata": {
    "collapsed": true,
    "jupyter": {
     "outputs_hidden": true
    }
   },
   "outputs": [
    {
     "name": "stderr",
     "output_type": "stream",
     "text": [
      "\n",
      "Correlation matrix not shown by default, as p = 25 > 12.\n",
      "Use print(obj, correlation=TRUE)  or\n",
      "    vcov(obj)        if you need it\n",
      "\n",
      "\n"
     ]
    },
    {
     "data": {
      "text/plain": [
       "Linear mixed model fit by REML ['lmerMod']\n",
       "Formula: total_deaths_log ~ T1 + T2 + T3 + T4 + T5 + T6 + T7 + T8 + T9 +  \n",
       "    T10 + T11 + T12 + T13 + T14 + T15 + T16 + T17 + T18 + T19 +  \n",
       "    T20 + T21 + T22 + T23 + interstate_conflict + (1 | countryname) +  \n",
       "    (1 | year)\n",
       "   Data: new_df2\n",
       "\n",
       "REML criterion at convergence: 8716.1\n",
       "\n",
       "Scaled residuals: \n",
       "    Min      1Q  Median      3Q     Max \n",
       "-3.3096 -0.4724 -0.1013  0.3408  6.0270 \n",
       "\n",
       "Random effects:\n",
       " Groups      Name        Variance Std.Dev.\n",
       " countryname (Intercept) 0.4203   0.6483  \n",
       " year        (Intercept) 0.2543   0.5043  \n",
       " Residual                1.9938   1.4120  \n",
       "Number of obs: 2426, groups:  countryname, 54; year, 51\n",
       "\n",
       "Fixed effects:\n",
       "                      Estimate Std. Error t value\n",
       "(Intercept)          0.3486991  0.6623486   0.526\n",
       "T1                  -0.9476161  1.1712076  -0.809\n",
       "T2                   1.0775943  1.2005363   0.898\n",
       "T3                  -1.6815032  1.2739345  -1.320\n",
       "T4                  -0.7654474  1.0637528  -0.720\n",
       "T5                  -1.5947896  1.5054965  -1.059\n",
       "T6                   8.0898452  1.2839648   6.301\n",
       "T7                  -2.6005836  1.7127023  -1.518\n",
       "T8                   3.3210683  2.2377525   1.484\n",
       "T9                  -0.0319242  1.2782868  -0.025\n",
       "T10                  0.2163340  1.9720198   0.110\n",
       "T11                  0.1990641  1.0086093   0.197\n",
       "T12                 -0.1321660  0.9834745  -0.134\n",
       "T13                  2.6041936  1.2515693   2.081\n",
       "T14                 -3.1205266  1.3920351  -2.242\n",
       "T15                 -0.2289017  1.2231993  -0.187\n",
       "T16                 -1.5165145  1.1579465  -1.310\n",
       "T17                  0.4776392  1.3233226   0.361\n",
       "T18                  2.6183101  1.2511314   2.093\n",
       "T19                 -1.9876199  1.2115094  -1.641\n",
       "T20                 -8.0814382  1.7592943  -4.594\n",
       "T21                  0.4468807  1.1709468   0.382\n",
       "T22                  0.0009565  1.1451228   0.001\n",
       "T23                  0.0685042  0.9666249   0.071\n",
       "interstate_conflict  3.2697779  0.0977940  33.435"
      ]
     },
     "metadata": {},
     "output_type": "display_data"
    }
   ],
   "source": [
    "summary(model_indices_cont)"
   ]
  },
  {
   "cell_type": "markdown",
   "id": "passing-dollar",
   "metadata": {},
   "source": [
    "#### Only where war happens"
   ]
  },
  {
   "cell_type": "code",
   "execution_count": 75,
   "id": "authentic-pittsburgh",
   "metadata": {},
   "outputs": [],
   "source": [
    "model_indices_cont_all <- lmer(\n",
    "  total_deaths_log ~ T1 + T2 + T3 + T4 + T5 + T6 + T7 + T8 + T9 + T10 + T11 + T12 + T13 + T14 + T15 + T16 + T17 + T18 + T19 + T20 + T21 + T22 + T23 + interstate_conflict + (1 | countryname) + (1|year),\n",
    "  data = new_df2[new_df2$intrastate_conflict == 1, ])"
   ]
  },
  {
   "cell_type": "code",
   "execution_count": 76,
   "id": "capital-sunglasses",
   "metadata": {
    "collapsed": true,
    "jupyter": {
     "outputs_hidden": true
    }
   },
   "outputs": [
    {
     "name": "stderr",
     "output_type": "stream",
     "text": [
      "\n",
      "Correlation matrix not shown by default, as p = 25 > 12.\n",
      "Use print(obj, correlation=TRUE)  or\n",
      "    vcov(obj)        if you need it\n",
      "\n",
      "\n"
     ]
    },
    {
     "data": {
      "text/plain": [
       "Linear mixed model fit by REML ['lmerMod']\n",
       "Formula: total_deaths_log ~ T1 + T2 + T3 + T4 + T5 + T6 + T7 + T8 + T9 +  \n",
       "    T10 + T11 + T12 + T13 + T14 + T15 + T16 + T17 + T18 + T19 +  \n",
       "    T20 + T21 + T22 + T23 + interstate_conflict + (1 | countryname) +  \n",
       "    (1 | year)\n",
       "   Data: new_df2[new_df2$intrastate_conflict == 1, ]\n",
       "\n",
       "REML criterion at convergence: 1567.3\n",
       "\n",
       "Scaled residuals: \n",
       "    Min      1Q  Median      3Q     Max \n",
       "-2.1817 -0.6081  0.0018  0.5626  3.5948 \n",
       "\n",
       "Random effects:\n",
       " Groups      Name        Variance Std.Dev.\n",
       " year        (Intercept) 6.0165   2.4528  \n",
       " countryname (Intercept) 0.4453   0.6673  \n",
       " Residual                1.1812   1.0868  \n",
       "Number of obs: 474, groups:  year, 50; countryname, 39\n",
       "\n",
       "Fixed effects:\n",
       "                    Estimate Std. Error t value\n",
       "(Intercept)           3.6678     1.2466   2.942\n",
       "T1                   -2.2394     2.0486  -1.093\n",
       "T2                    3.4660     2.2596   1.534\n",
       "T3                   -4.1284     2.4360  -1.695\n",
       "T4                    1.3204     2.2305   0.592\n",
       "T5                   -3.9887     2.7715  -1.439\n",
       "T6                    7.1110     2.0746   3.428\n",
       "T7                   -7.9951     3.6049  -2.218\n",
       "T8                   -5.4188     4.6246  -1.172\n",
       "T9                   -1.3094     2.7214  -0.481\n",
       "T10                  -2.6025     3.8078  -0.683\n",
       "T11                   1.6748     1.9923   0.841\n",
       "T12                   1.6620     1.7992   0.924\n",
       "T13                  -0.4797     2.3367  -0.205\n",
       "T14                  -1.5481     2.7002  -0.573\n",
       "T15                  -0.2476     2.2321  -0.111\n",
       "T16                  -0.8441     2.1828  -0.387\n",
       "T17                   1.1028     2.4679   0.447\n",
       "T18                   2.1357     1.9927   1.072\n",
       "T19                   0.8383     2.5089   0.334\n",
       "T20                  -5.0513     3.4853  -1.449\n",
       "T21                   2.3856     2.0970   1.138\n",
       "T22                   0.5110     2.0733   0.246\n",
       "T23                   1.2042     1.8713   0.644\n",
       "interstate_conflict  -0.7611     0.1487  -5.118"
      ]
     },
     "metadata": {},
     "output_type": "display_data"
    }
   ],
   "source": [
    "summary(model_indices_cont_all)"
   ]
  },
  {
   "cell_type": "markdown",
   "id": "decreased-growth",
   "metadata": {},
   "source": [
    "### Model two: just controls"
   ]
  },
  {
   "cell_type": "markdown",
   "id": "broad-reminder",
   "metadata": {},
   "source": [
    "#### all dataset"
   ]
  },
  {
   "cell_type": "code",
   "execution_count": 77,
   "id": "electric-creativity",
   "metadata": {},
   "outputs": [],
   "source": [
    "model_controls_cont <- lmer(\n",
    "  total_deaths_log ~  Resources + EthFrac + LingFrac + RelFrac + Transitional + AC_neighbour + Population_log + \n",
    "    GDP_capita_log + ForeignAid_log + interstate_conflict + (1 | countryname) + (1|year),\n",
    "  data = new_df2)"
   ]
  },
  {
   "cell_type": "code",
   "execution_count": 78,
   "id": "perfect-photograph",
   "metadata": {
    "collapsed": true,
    "jupyter": {
     "outputs_hidden": true
    }
   },
   "outputs": [
    {
     "data": {
      "text/plain": [
       "Linear mixed model fit by REML ['lmerMod']\n",
       "Formula: total_deaths_log ~ Resources + EthFrac + LingFrac + RelFrac +  \n",
       "    Transitional + AC_neighbour + Population_log + GDP_capita_log +  \n",
       "    ForeignAid_log + interstate_conflict + (1 | countryname) +      (1 | year)\n",
       "   Data: new_df2\n",
       "\n",
       "REML criterion at convergence: 5941\n",
       "\n",
       "Scaled residuals: \n",
       "    Min      1Q  Median      3Q     Max \n",
       "-3.4022 -0.3935 -0.0700  0.2577  6.2272 \n",
       "\n",
       "Random effects:\n",
       " Groups      Name        Variance Std.Dev.\n",
       " year        (Intercept) 0.1950   0.4416  \n",
       " countryname (Intercept) 0.6772   0.8229  \n",
       " Residual                1.9497   1.3963  \n",
       "Number of obs: 1638, groups:  year, 47; countryname, 46\n",
       "\n",
       "Fixed effects:\n",
       "                    Estimate Std. Error t value\n",
       "(Intercept)         -4.64278    1.36908  -3.391\n",
       "Resources            0.01512    0.00510   2.965\n",
       "EthFrac              0.73700    0.89728   0.821\n",
       "LingFrac            -1.51415    0.70197  -2.157\n",
       "RelFrac             -1.19410    0.62598  -1.908\n",
       "Transitional        -0.14523    0.24098  -0.603\n",
       "AC_neighbour        -0.06995    0.09312  -0.751\n",
       "Population_log       0.45428    0.09987   4.549\n",
       "GDP_capita_log      -0.10060    0.07807  -1.289\n",
       "ForeignAid_log       0.16056    0.05398   2.974\n",
       "interstate_conflict  3.40842    0.12752  26.728\n",
       "\n",
       "Correlation of Fixed Effects:\n",
       "            (Intr) Resrcs EthFrc LngFrc RelFrc Trnstn AC_ngh Ppltn_ GDP_c_\n",
       "Resources    0.021                                                        \n",
       "EthFrac      0.134 -0.077                                                 \n",
       "LingFrac     0.027 -0.004 -0.632                                          \n",
       "RelFrac      0.172  0.017  0.050 -0.312                                   \n",
       "Transitionl -0.029 -0.036 -0.002 -0.002 -0.017                            \n",
       "AC_neighbor  0.108 -0.087  0.025 -0.019  0.048  0.041                     \n",
       "Populatn_lg -0.880 -0.024 -0.365  0.003 -0.288  0.012 -0.141              \n",
       "GDP_capt_lg -0.345 -0.013  0.108 -0.006 -0.011  0.043  0.023 -0.020       \n",
       "ForegnAd_lg -0.147  0.007 -0.016  0.017  0.051 -0.029 -0.038  0.090  0.361\n",
       "intrstt_cnf  0.062 -0.029  0.031 -0.029  0.036 -0.105 -0.080 -0.085  0.028\n",
       "            FrgnA_\n",
       "Resources         \n",
       "EthFrac           \n",
       "LingFrac          \n",
       "RelFrac           \n",
       "Transitionl       \n",
       "AC_neighbor       \n",
       "Populatn_lg       \n",
       "GDP_capt_lg       \n",
       "ForegnAd_lg       \n",
       "intrstt_cnf -0.016"
      ]
     },
     "metadata": {},
     "output_type": "display_data"
    }
   ],
   "source": [
    "summary(model_controls_cont)"
   ]
  },
  {
   "cell_type": "markdown",
   "id": "intellectual-engagement",
   "metadata": {},
   "source": [
    "#### where war happens"
   ]
  },
  {
   "cell_type": "code",
   "execution_count": 79,
   "id": "better-charge",
   "metadata": {},
   "outputs": [],
   "source": [
    "model_controls_cont_all <- lmer(\n",
    "  total_deaths_log ~ Resources + EthFrac + LingFrac + RelFrac + Transitional + AC_neighbour + Population_log + \n",
    "    GDP_capita_log + ForeignAid_log + interstate_conflict + (1 | countryname) + (1|year),\n",
    "  data = new_df2[new_df2$intrastate_conflict == 1, ])"
   ]
  },
  {
   "cell_type": "code",
   "execution_count": 80,
   "id": "unsigned-austin",
   "metadata": {
    "collapsed": true,
    "jupyter": {
     "outputs_hidden": true
    }
   },
   "outputs": [
    {
     "data": {
      "text/plain": [
       "Linear mixed model fit by REML ['lmerMod']\n",
       "Formula: total_deaths_log ~ Resources + EthFrac + LingFrac + RelFrac +  \n",
       "    Transitional + AC_neighbour + Population_log + GDP_capita_log +  \n",
       "    ForeignAid_log + interstate_conflict + (1 | countryname) +      (1 | year)\n",
       "   Data: new_df2\n",
       "\n",
       "REML criterion at convergence: 5941\n",
       "\n",
       "Scaled residuals: \n",
       "    Min      1Q  Median      3Q     Max \n",
       "-3.4022 -0.3935 -0.0700  0.2577  6.2272 \n",
       "\n",
       "Random effects:\n",
       " Groups      Name        Variance Std.Dev.\n",
       " year        (Intercept) 0.1950   0.4416  \n",
       " countryname (Intercept) 0.6772   0.8229  \n",
       " Residual                1.9497   1.3963  \n",
       "Number of obs: 1638, groups:  year, 47; countryname, 46\n",
       "\n",
       "Fixed effects:\n",
       "                    Estimate Std. Error t value\n",
       "(Intercept)         -4.64278    1.36908  -3.391\n",
       "Resources            0.01512    0.00510   2.965\n",
       "EthFrac              0.73700    0.89728   0.821\n",
       "LingFrac            -1.51415    0.70197  -2.157\n",
       "RelFrac             -1.19410    0.62598  -1.908\n",
       "Transitional        -0.14523    0.24098  -0.603\n",
       "AC_neighbour        -0.06995    0.09312  -0.751\n",
       "Population_log       0.45428    0.09987   4.549\n",
       "GDP_capita_log      -0.10060    0.07807  -1.289\n",
       "ForeignAid_log       0.16056    0.05398   2.974\n",
       "interstate_conflict  3.40842    0.12752  26.728\n",
       "\n",
       "Correlation of Fixed Effects:\n",
       "            (Intr) Resrcs EthFrc LngFrc RelFrc Trnstn AC_ngh Ppltn_ GDP_c_\n",
       "Resources    0.021                                                        \n",
       "EthFrac      0.134 -0.077                                                 \n",
       "LingFrac     0.027 -0.004 -0.632                                          \n",
       "RelFrac      0.172  0.017  0.050 -0.312                                   \n",
       "Transitionl -0.029 -0.036 -0.002 -0.002 -0.017                            \n",
       "AC_neighbor  0.108 -0.087  0.025 -0.019  0.048  0.041                     \n",
       "Populatn_lg -0.880 -0.024 -0.365  0.003 -0.288  0.012 -0.141              \n",
       "GDP_capt_lg -0.345 -0.013  0.108 -0.006 -0.011  0.043  0.023 -0.020       \n",
       "ForegnAd_lg -0.147  0.007 -0.016  0.017  0.051 -0.029 -0.038  0.090  0.361\n",
       "intrstt_cnf  0.062 -0.029  0.031 -0.029  0.036 -0.105 -0.080 -0.085  0.028\n",
       "            FrgnA_\n",
       "Resources         \n",
       "EthFrac           \n",
       "LingFrac          \n",
       "RelFrac           \n",
       "Transitionl       \n",
       "AC_neighbor       \n",
       "Populatn_lg       \n",
       "GDP_capt_lg       \n",
       "ForegnAd_lg       \n",
       "intrstt_cnf -0.016"
      ]
     },
     "metadata": {},
     "output_type": "display_data"
    }
   ],
   "source": [
    "summary(model_controls_cont)"
   ]
  },
  {
   "cell_type": "markdown",
   "id": "nutritional-tension",
   "metadata": {},
   "source": [
    "### Both"
   ]
  },
  {
   "cell_type": "markdown",
   "id": "alpha-bahrain",
   "metadata": {},
   "source": [
    "#### all dataset"
   ]
  },
  {
   "cell_type": "code",
   "execution_count": 81,
   "id": "unknown-elements",
   "metadata": {},
   "outputs": [],
   "source": [
    "model_indices_control_cont_1 <- lmer(\n",
    "  total_deaths_log ~ Resources + EthFrac + LingFrac + RelFrac + Transitional + AC_neighbour + Population_log + \n",
    "    GDP_capita_log + ForeignAid_log + interstate_conflict + T1 + T2 + T3 + T4 + T5 + T6 + T7 + T8 + T9 + T10 + T11 + T12 + T13 + T14 + T15 + T16 + T17 + T18 + T19 + T20 + T21 + T22 + T23 + (1 | countryname) + (1|year),\n",
    "  data = new_df2)"
   ]
  },
  {
   "cell_type": "code",
   "execution_count": 85,
   "id": "numerous-chester",
   "metadata": {
    "collapsed": true,
    "jupyter": {
     "outputs_hidden": true
    }
   },
   "outputs": [
    {
     "name": "stderr",
     "output_type": "stream",
     "text": [
      "\n",
      "Correlation matrix not shown by default, as p = 34 > 12.\n",
      "Use print(obj, correlation=TRUE)  or\n",
      "    vcov(obj)        if you need it\n",
      "\n",
      "\n"
     ]
    },
    {
     "data": {
      "text/plain": [
       "Linear mixed model fit by REML ['lmerMod']\n",
       "Formula: total_deaths_log ~ Resources + EthFrac + LingFrac + RelFrac +  \n",
       "    Transitional + AC_neighbour + Population_log + GDP_capita_log +  \n",
       "    ForeignAid_log + interstate_conflict + T1 + T2 + T3 + T4 +  \n",
       "    T5 + T6 + T7 + T8 + T9 + T10 + T11 + T12 + T13 + T14 + T15 +  \n",
       "    T16 + T17 + T18 + T19 + T20 + T21 + T22 + T23 + (1 | countryname) +  \n",
       "    (1 | year)\n",
       "   Data: new_df2\n",
       "\n",
       "REML criterion at convergence: 5803.4\n",
       "\n",
       "Scaled residuals: \n",
       "    Min      1Q  Median      3Q     Max \n",
       "-3.3844 -0.4281 -0.0733  0.2786  6.0661 \n",
       "\n",
       "Random effects:\n",
       " Groups      Name        Variance Std.Dev.\n",
       " year        (Intercept) 0.1420   0.3768  \n",
       " countryname (Intercept) 0.5639   0.7509  \n",
       " Residual                1.8982   1.3778  \n",
       "Number of obs: 1638, groups:  year, 47; countryname, 46\n",
       "\n",
       "Fixed effects:\n",
       "                     Estimate Std. Error t value\n",
       "(Intercept)         -3.717405   1.555683  -2.390\n",
       "Resources            0.015124   0.005052   2.994\n",
       "EthFrac              0.714322   0.831748   0.859\n",
       "LingFrac            -1.401826   0.650105  -2.156\n",
       "RelFrac             -1.049684   0.580730  -1.808\n",
       "Transitional        -0.160326   0.239500  -0.669\n",
       "AC_neighbour        -0.137802   0.092623  -1.488\n",
       "Population_log       0.442255   0.096195   4.597\n",
       "GDP_capita_log      -0.039141   0.078584  -0.498\n",
       "ForeignAid_log       0.144050   0.054191   2.658\n",
       "interstate_conflict  3.370139   0.127625  26.407\n",
       "T1                  -1.018982   1.402208  -0.727\n",
       "T2                  -2.922982   1.487435  -1.965\n",
       "T3                  -2.726421   1.542755  -1.767\n",
       "T4                  -1.640157   1.299125  -1.263\n",
       "T5                  -2.794664   1.894255  -1.475\n",
       "T6                   4.670713   1.555215   3.003\n",
       "T7                  -6.267786   2.567807  -2.441\n",
       "T8                   3.810065   2.640262   1.443\n",
       "T9                  -0.091869   1.467298  -0.063\n",
       "T10                 -1.686254   2.202883  -0.765\n",
       "T11                 -0.746389   1.251560  -0.596\n",
       "T12                 -2.101983   1.182870  -1.777\n",
       "T13                  1.019018   1.473114   0.692\n",
       "T14                 -4.285361   1.702065  -2.518\n",
       "T15                 -2.002251   1.472144  -1.360\n",
       "T16                 -2.503764   1.368453  -1.830\n",
       "T17                 -0.637751   1.626716  -0.392\n",
       "T18                  1.449069   1.499015   0.967\n",
       "T19                 -3.382380   1.471605  -2.298\n",
       "T20                 -7.094432   2.151489  -3.297\n",
       "T21                 -0.363591   1.386423  -0.262\n",
       "T22                 -2.409960   1.365137  -1.765\n",
       "T23                 -1.073644   1.171460  -0.917"
      ]
     },
     "metadata": {},
     "output_type": "display_data"
    }
   ],
   "source": [
    "summary(model_indices_control_cont_1)"
   ]
  },
  {
   "cell_type": "markdown",
   "id": "bound-breed",
   "metadata": {},
   "source": [
    "#### Only where war happens"
   ]
  },
  {
   "cell_type": "code",
   "execution_count": 82,
   "id": "black-involvement",
   "metadata": {},
   "outputs": [],
   "source": [
    "model_indices_control_cont_2 <- lmer(\n",
    "  total_deaths_log ~ Resources + EthFrac + LingFrac + RelFrac + Transitional + AC_neighbour + Population_log + \n",
    "    GDP_capita_log + ForeignAid_log + interstate_conflict + T1 + T2 + T3 + T4 + T5 + T6 + T7 + T8 + T9 + T10 + T11 + T12 + T13 + T14 + T15 + T16 + T17 + T18 + T19 + T20 + T21 + T22 + T23 + (1 | countryname) + (1|year),\n",
    "  data = new_df2[new_df2$intrastate_conflict == 1, ])"
   ]
  },
  {
   "cell_type": "code",
   "execution_count": 86,
   "id": "complex-valuation",
   "metadata": {},
   "outputs": [
    {
     "name": "stderr",
     "output_type": "stream",
     "text": [
      "\n",
      "Correlation matrix not shown by default, as p = 34 > 12.\n",
      "Use print(obj, correlation=TRUE)  or\n",
      "    vcov(obj)        if you need it\n",
      "\n",
      "\n"
     ]
    },
    {
     "data": {
      "text/plain": [
       "Linear mixed model fit by REML ['lmerMod']\n",
       "Formula: total_deaths_log ~ Resources + EthFrac + LingFrac + RelFrac +  \n",
       "    Transitional + AC_neighbour + Population_log + GDP_capita_log +  \n",
       "    ForeignAid_log + interstate_conflict + T1 + T2 + T3 + T4 +  \n",
       "    T5 + T6 + T7 + T8 + T9 + T10 + T11 + T12 + T13 + T14 + T15 +  \n",
       "    T16 + T17 + T18 + T19 + T20 + T21 + T22 + T23 + (1 | countryname) +  \n",
       "    (1 | year)\n",
       "   Data: new_df2[new_df2$intrastate_conflict == 1, ]\n",
       "\n",
       "REML criterion at convergence: 998.7\n",
       "\n",
       "Scaled residuals: \n",
       "     Min       1Q   Median       3Q      Max \n",
       "-2.38006 -0.55989 -0.03947  0.49867  3.01359 \n",
       "\n",
       "Random effects:\n",
       " Groups      Name        Variance Std.Dev.\n",
       " year        (Intercept) 4.8349   2.1988  \n",
       " countryname (Intercept) 0.2668   0.5166  \n",
       " Residual                1.3195   1.1487  \n",
       "Number of obs: 303, groups:  year, 46; countryname, 31\n",
       "\n",
       "Fixed effects:\n",
       "                     Estimate Std. Error t value\n",
       "(Intercept)          -6.79363    2.97176  -2.286\n",
       "Resources             0.02286    0.00882   2.592\n",
       "EthFrac               1.20011    1.12801   1.064\n",
       "LingFrac             -1.31491    0.86228  -1.525\n",
       "RelFrac              -0.13535    0.71700  -0.189\n",
       "Transitional         -0.13457    0.29959  -0.449\n",
       "AC_neighbour         -0.19831    0.21292  -0.931\n",
       "Population_log        0.70482    0.15402   4.576\n",
       "GDP_capita_log        0.24694    0.21105   1.170\n",
       "ForeignAid_log        0.01123    0.13170   0.085\n",
       "interstate_conflict  -0.77365    0.20920  -3.698\n",
       "T1                   -4.18284    2.68345  -1.559\n",
       "T2                   -1.28958    3.29264  -0.392\n",
       "T3                   -8.56954    3.49809  -2.450\n",
       "T4                    0.06474    3.23571   0.020\n",
       "T5                  -10.23785    4.79876  -2.133\n",
       "T6                    3.61019    3.00099   1.203\n",
       "T7                   -8.26241    6.27540  -1.317\n",
       "T8                   -6.81937    6.55949  -1.040\n",
       "T9                   -3.24684    3.56469  -0.911\n",
       "T10                  -5.71887    4.69034  -1.219\n",
       "T11                   0.48903    2.86408   0.171\n",
       "T12                  -1.89936    2.53895  -0.748\n",
       "T13                  -5.09765    3.07475  -1.658\n",
       "T14                  -4.16596    3.64221  -1.144\n",
       "T15                   0.45205    3.09906   0.146\n",
       "T16                  -4.03458    2.99258  -1.348\n",
       "T17                   1.32003    3.45638   0.382\n",
       "T18                  -0.19495    2.69973  -0.072\n",
       "T19                  -3.83106    3.69233  -1.038\n",
       "T20                  -4.33782    4.87542  -0.890\n",
       "T21                   1.33679    2.80427   0.477\n",
       "T22                  -3.03859    2.66764  -1.139\n",
       "T23                  -1.34787    2.66005  -0.507"
      ]
     },
     "metadata": {},
     "output_type": "display_data"
    }
   ],
   "source": [
    "summary(model_indices_control_cont_2)"
   ]
  },
  {
   "cell_type": "markdown",
   "id": "brave-negative",
   "metadata": {},
   "source": [
    "### Exporting for all countries"
   ]
  },
  {
   "cell_type": "code",
   "execution_count": 322,
   "id": "technical-reflection",
   "metadata": {
    "collapsed": true,
    "jupyter": {
     "outputs_hidden": true
    }
   },
   "outputs": [
    {
     "name": "stdout",
     "output_type": "stream",
     "text": [
      "\n",
      "% Table created by stargazer v.5.2.2 by Marek Hlavac, Harvard University. E-mail: hlavac at fas.harvard.edu\n",
      "% Date and time: Sun, Aug 08, 2021 - 10:24:58 PM\n",
      "% Requires LaTeX packages: dcolumn \n",
      "\\begin{table}[!htbp] \\centering \n",
      "  \\caption{} \n",
      "  \\label{} \n",
      "\\small \n",
      "\\begin{tabular}{@{\\extracolsep{1pt}}lD{.}{.}{-2} D{.}{.}{-2} D{.}{.}{-2} } \n",
      "\\\\[-1.8ex]\\hline \n",
      "\\hline \\\\[-1.8ex] \n",
      " & \\multicolumn{3}{c}{\\textit{Dependent variable:}} \\\\ \n",
      "\\cline{2-4} \n",
      "\\\\[-1.8ex] & \\multicolumn{3}{c}{total\\_deaths\\_log} \\\\ \n",
      "\\\\[-1.8ex] & \\multicolumn{1}{c}{(1)} & \\multicolumn{1}{c}{(2)} & \\multicolumn{1}{c}{(3)}\\\\ \n",
      "\\hline \\\\[-1.8ex] \n",
      " T1 & -0.95$ $(1.17) &  & -1.02$ $(1.40) \\\\ \n",
      "  T2 & 1.08$ $(1.20) &  & -2.92^{**}$ $(1.49) \\\\ \n",
      "  T3 & -1.68$ $(1.27) &  & -2.73^{*}$ $(1.54) \\\\ \n",
      "  T4 & -0.77$ $(1.06) &  & -1.64$ $(1.30) \\\\ \n",
      "  T5 & -1.59$ $(1.51) &  & -2.79$ $(1.89) \\\\ \n",
      "  T6 & 8.09^{***}$ $(1.28) &  & 4.67^{***}$ $(1.56) \\\\ \n",
      "  T7 & -2.60$ $(1.71) &  & -6.27^{**}$ $(2.57) \\\\ \n",
      "  T8 & 3.32$ $(2.24) &  & 3.81$ $(2.64) \\\\ \n",
      "  T9 & -0.03$ $(1.28) &  & -0.09$ $(1.47) \\\\ \n",
      "  T10 & 0.22$ $(1.97) &  & -1.69$ $(2.20) \\\\ \n",
      "  T11 & 0.20$ $(1.01) &  & -0.75$ $(1.25) \\\\ \n",
      "  T12 & -0.13$ $(0.98) &  & -2.10^{*}$ $(1.18) \\\\ \n",
      "  T13 & 2.60^{**}$ $(1.25) &  & 1.02$ $(1.47) \\\\ \n",
      "  T14 & -3.12^{**}$ $(1.39) &  & -4.29^{**}$ $(1.70) \\\\ \n",
      "  T15 & -0.23$ $(1.22) &  & -2.00$ $(1.47) \\\\ \n",
      "  T16 & -1.52$ $(1.16) &  & -2.50^{*}$ $(1.37) \\\\ \n",
      "  T17 & 0.48$ $(1.32) &  & -0.64$ $(1.63) \\\\ \n",
      "  T18 & 2.62^{**}$ $(1.25) &  & 1.45$ $(1.50) \\\\ \n",
      "  T19 & -1.99$ $(1.21) &  & -3.38^{**}$ $(1.47) \\\\ \n",
      "  T20 & -8.08^{***}$ $(1.76) &  & -7.09^{***}$ $(2.15) \\\\ \n",
      "  T21 & 0.45$ $(1.17) &  & -0.36$ $(1.39) \\\\ \n",
      "  T22 & 0.001$ $(1.15) &  & -2.41^{*}$ $(1.37) \\\\ \n",
      "  T23 & 0.07$ $(0.97) &  & -1.07$ $(1.17) \\\\ \n",
      "  Resources &  & 0.02^{***}$ $(0.01) & 0.02^{***}$ $(0.01) \\\\ \n",
      "  EthFrac &  & 0.74$ $(0.90) & 0.71$ $(0.83) \\\\ \n",
      "  LingFrac &  & -1.51^{**}$ $(0.70) & -1.40^{**}$ $(0.65) \\\\ \n",
      "  RelFrac &  & -1.19^{*}$ $(0.63) & -1.05^{*}$ $(0.58) \\\\ \n",
      "  Transitional &  & -0.15$ $(0.24) & -0.16$ $(0.24) \\\\ \n",
      "  AC\\_neighbour &  & -0.07$ $(0.09) & -0.14$ $(0.09) \\\\ \n",
      "  Population\\_log &  & 0.45^{***}$ $(0.10) & 0.44^{***}$ $(0.10) \\\\ \n",
      "  GDP\\_capita\\_log &  & -0.10$ $(0.08) & -0.04$ $(0.08) \\\\ \n",
      "  ForeignAid\\_log &  & 0.16^{***}$ $(0.05) & 0.14^{***}$ $(0.05) \\\\ \n",
      "  interstate\\_conflict & 3.27^{***}$ $(0.10) & 3.41^{***}$ $(0.13) & 3.37^{***}$ $(0.13) \\\\ \n",
      "  Constant & 0.35$ $(0.66) & -4.64^{***}$ $(1.37) & -3.72^{**}$ $(1.56) \\\\ \n",
      " \\hline \\\\[-1.8ex] \n",
      "Observations & \\multicolumn{1}{c}{2,426} & \\multicolumn{1}{c}{1,638} & \\multicolumn{1}{c}{1,638} \\\\ \n",
      "Log Likelihood & \\multicolumn{1}{c}{-4,358.07} & \\multicolumn{1}{c}{-2,970.49} & \\multicolumn{1}{c}{-2,901.70} \\\\ \n",
      "Akaike Inf. Crit. & \\multicolumn{1}{c}{8,772.13} & \\multicolumn{1}{c}{5,968.97} & \\multicolumn{1}{c}{5,877.41} \\\\ \n",
      "Bayesian Inf. Crit. & \\multicolumn{1}{c}{8,934.37} & \\multicolumn{1}{c}{6,044.59} & \\multicolumn{1}{c}{6,077.25} \\\\ \n",
      "\\hline \n",
      "\\hline \\\\[-1.8ex] \n",
      "\\textit{Note:}  & \\multicolumn{3}{r}{$^{*}$p$<$0.1; $^{**}$p$<$0.05; $^{***}$p$<$0.01} \\\\ \n",
      "\\end{tabular} \n",
      "\\end{table} \n"
     ]
    }
   ],
   "source": [
    "stargazer(c(model_indices_cont, model_controls_cont, model_indices_control_cont_1), align=TRUE, digits=2, font.size='small', single.row=TRUE, column.sep.width='1pt')"
   ]
  },
  {
   "cell_type": "markdown",
   "id": "solid-folder",
   "metadata": {},
   "source": [
    "### Exporting only for war countries"
   ]
  },
  {
   "cell_type": "code",
   "execution_count": null,
   "id": "located-protocol",
   "metadata": {},
   "outputs": [],
   "source": [
    "model_indices_cont_all\n",
    "model_controls_cont_all\n",
    "model_indices_control_cont_2"
   ]
  },
  {
   "cell_type": "code",
   "execution_count": 323,
   "id": "explicit-scanner",
   "metadata": {},
   "outputs": [
    {
     "name": "stdout",
     "output_type": "stream",
     "text": [
      "\n",
      "% Table created by stargazer v.5.2.2 by Marek Hlavac, Harvard University. E-mail: hlavac at fas.harvard.edu\n",
      "% Date and time: Sun, Aug 08, 2021 - 10:27:08 PM\n",
      "% Requires LaTeX packages: dcolumn \n",
      "\\begin{table}[!htbp] \\centering \n",
      "  \\caption{} \n",
      "  \\label{} \n",
      "\\small \n",
      "\\begin{tabular}{@{\\extracolsep{1pt}}lD{.}{.}{-2} D{.}{.}{-2} D{.}{.}{-2} } \n",
      "\\\\[-1.8ex]\\hline \n",
      "\\hline \\\\[-1.8ex] \n",
      " & \\multicolumn{3}{c}{\\textit{Dependent variable:}} \\\\ \n",
      "\\cline{2-4} \n",
      "\\\\[-1.8ex] & \\multicolumn{3}{c}{total\\_deaths\\_log} \\\\ \n",
      "\\\\[-1.8ex] & \\multicolumn{1}{c}{(1)} & \\multicolumn{1}{c}{(2)} & \\multicolumn{1}{c}{(3)}\\\\ \n",
      "\\hline \\\\[-1.8ex] \n",
      " T1 & -2.24$ $(2.05) &  & -4.18$ $(2.68) \\\\ \n",
      "  T2 & 3.47$ $(2.26) &  & -1.29$ $(3.29) \\\\ \n",
      "  T3 & -4.13^{*}$ $(2.44) &  & -8.57^{**}$ $(3.50) \\\\ \n",
      "  T4 & 1.32$ $(2.23) &  & 0.06$ $(3.24) \\\\ \n",
      "  T5 & -3.99$ $(2.77) &  & -10.24^{**}$ $(4.80) \\\\ \n",
      "  T6 & 7.11^{***}$ $(2.07) &  & 3.61$ $(3.00) \\\\ \n",
      "  T7 & -8.00^{**}$ $(3.60) &  & -8.26$ $(6.28) \\\\ \n",
      "  T8 & -5.42$ $(4.62) &  & -6.82$ $(6.56) \\\\ \n",
      "  T9 & -1.31$ $(2.72) &  & -3.25$ $(3.56) \\\\ \n",
      "  T10 & -2.60$ $(3.81) &  & -5.72$ $(4.69) \\\\ \n",
      "  T11 & 1.67$ $(1.99) &  & 0.49$ $(2.86) \\\\ \n",
      "  T12 & 1.66$ $(1.80) &  & -1.90$ $(2.54) \\\\ \n",
      "  T13 & -0.48$ $(2.34) &  & -5.10^{*}$ $(3.07) \\\\ \n",
      "  T14 & -1.55$ $(2.70) &  & -4.17$ $(3.64) \\\\ \n",
      "  T15 & -0.25$ $(2.23) &  & 0.45$ $(3.10) \\\\ \n",
      "  T16 & -0.84$ $(2.18) &  & -4.03$ $(2.99) \\\\ \n",
      "  T17 & 1.10$ $(2.47) &  & 1.32$ $(3.46) \\\\ \n",
      "  T18 & 2.14$ $(1.99) &  & -0.19$ $(2.70) \\\\ \n",
      "  T19 & 0.84$ $(2.51) &  & -3.83$ $(3.69) \\\\ \n",
      "  T20 & -5.05$ $(3.49) &  & -4.34$ $(4.88) \\\\ \n",
      "  T21 & 2.39$ $(2.10) &  & 1.34$ $(2.80) \\\\ \n",
      "  T22 & 0.51$ $(2.07) &  & -3.04$ $(2.67) \\\\ \n",
      "  T23 & 1.20$ $(1.87) &  & -1.35$ $(2.66) \\\\ \n",
      "  Resources &  & 0.02^{***}$ $(0.01) & 0.02^{***}$ $(0.01) \\\\ \n",
      "  EthFrac &  & 1.78$ $(1.17) & 1.20$ $(1.13) \\\\ \n",
      "  LingFrac &  & -1.65^{*}$ $(0.87) & -1.31$ $(0.86) \\\\ \n",
      "  RelFrac &  & 0.14$ $(0.76) & -0.14$ $(0.72) \\\\ \n",
      "  Transitional &  & -0.18$ $(0.29) & -0.13$ $(0.30) \\\\ \n",
      "  AC\\_neighbour &  & -0.23$ $(0.20) & -0.20$ $(0.21) \\\\ \n",
      "  Population\\_log &  & 0.64^{***}$ $(0.16) & 0.70^{***}$ $(0.15) \\\\ \n",
      "  GDP\\_capita\\_log &  & 0.17$ $(0.21) & 0.25$ $(0.21) \\\\ \n",
      "  ForeignAid\\_log &  & 0.002$ $(0.13) & 0.01$ $(0.13) \\\\ \n",
      "  interstate\\_conflict & -0.76^{***}$ $(0.15) & -0.71^{***}$ $(0.19) & -0.77^{***}$ $(0.21) \\\\ \n",
      "  Constant & 3.67^{***}$ $(1.25) & -7.76^{***}$ $(2.70) & -6.79^{**}$ $(2.97) \\\\ \n",
      " \\hline \\\\[-1.8ex] \n",
      "Observations & \\multicolumn{1}{c}{474} & \\multicolumn{1}{c}{303} & \\multicolumn{1}{c}{303} \\\\ \n",
      "Log Likelihood & \\multicolumn{1}{c}{-783.64} & \\multicolumn{1}{c}{-560.93} & \\multicolumn{1}{c}{-499.35} \\\\ \n",
      "Akaike Inf. Crit. & \\multicolumn{1}{c}{1,623.29} & \\multicolumn{1}{c}{1,149.86} & \\multicolumn{1}{c}{1,072.70} \\\\ \n",
      "Bayesian Inf. Crit. & \\multicolumn{1}{c}{1,739.80} & \\multicolumn{1}{c}{1,201.86} & \\multicolumn{1}{c}{1,210.11} \\\\ \n",
      "\\hline \n",
      "\\hline \\\\[-1.8ex] \n",
      "\\textit{Note:}  & \\multicolumn{3}{r}{$^{*}$p$<$0.1; $^{**}$p$<$0.05; $^{***}$p$<$0.01} \\\\ \n",
      "\\end{tabular} \n",
      "\\end{table} \n"
     ]
    }
   ],
   "source": [
    "stargazer(c(model_indices_cont_all, model_controls_cont_all, model_indices_control_cont_2), align=TRUE, digits=2, font.size='small', single.row=TRUE, column.sep.width='1pt')"
   ]
  },
  {
   "cell_type": "markdown",
   "id": "exciting-circular",
   "metadata": {},
   "source": [
    "## Model 3: predicting incompatibility"
   ]
  },
  {
   "cell_type": "code",
   "execution_count": 111,
   "id": "geological-connectivity",
   "metadata": {},
   "outputs": [],
   "source": [
    "new_df2$is_war = new_df2$conflict_type == 'War'"
   ]
  },
  {
   "cell_type": "code",
   "execution_count": 329,
   "id": "welsh-dairy",
   "metadata": {},
   "outputs": [
    {
     "name": "stderr",
     "output_type": "stream",
     "text": [
      "Warning message in (function (fn, par, lower = rep.int(-Inf, n), upper = rep.int(Inf, :\n",
      "\"failure to converge in 10000 evaluations\"\n",
      "Warning message in optwrap(optimizer, devfun, start, rho$lower, control = control, :\n",
      "\"convergence code 4 from Nelder_Mead: failure to converge in 10000 evaluations\"\n",
      "Warning message in checkConv(attr(opt, \"derivs\"), opt$par, ctrl = control$checkConv, :\n",
      "\"unable to evaluate scaled gradient\"\n",
      "Warning message in checkConv(attr(opt, \"derivs\"), opt$par, ctrl = control$checkConv, :\n",
      "\"Model failed to converge: degenerate  Hessian with 1 negative eigenvalues\"\n"
     ]
    }
   ],
   "source": [
    "model_incompatibility <- glmer(\n",
    "  is_war ~ T1 + T2 + T3 + T4 + T5 + T6 + T7 + T8 + T9 + T10 + T11 + T12 + T13 + T14 + T15 + T16 + T17 + T18 + T19 + T20 + T21 + T22 + T23 + interstate_conflict + (1 | countryname) + (1|year),\n",
    "  data = new_df2,\n",
    "    family='binomial'\n",
    ")"
   ]
  },
  {
   "cell_type": "code",
   "execution_count": 326,
   "id": "neutral-happiness",
   "metadata": {},
   "outputs": [
    {
     "name": "stderr",
     "output_type": "stream",
     "text": [
      "Warning message in (function (fn, par, lower = rep.int(-Inf, n), upper = rep.int(Inf, :\n",
      "\"failure to converge in 10000 evaluations\"\n",
      "Warning message in optwrap(optimizer, devfun, start, rho$lower, control = control, :\n",
      "\"convergence code 4 from Nelder_Mead: failure to converge in 10000 evaluations\"\n",
      "Warning message in checkConv(attr(opt, \"derivs\"), opt$par, ctrl = control$checkConv, :\n",
      "\"unable to evaluate scaled gradient\"\n",
      "Warning message in checkConv(attr(opt, \"derivs\"), opt$par, ctrl = control$checkConv, :\n",
      "\"Model failed to converge: degenerate  Hessian with 1 negative eigenvalues\"\n"
     ]
    }
   ],
   "source": [
    "model_incompatibility_all <- glmer(\n",
    "  is_war ~  Resources + EthFrac + LingFrac + RelFrac + Transitional + AC_neighbour + Population_log + \n",
    "    GDP_capita_log + ForeignAid_log + T1 + T2 + T3 + T4 + T5 + T6 + T7 + T8 + T9 + T10 + T11 + T12 + T13 + T14 + T15 + T16 + T17 + T18 + T19 + T20 + T21 + T22 + T23 + interstate_conflict + (1 | countryname) + (1|year),\n",
    "  data = new_df2,\n",
    "    family='binomial'\n",
    ")"
   ]
  },
  {
   "cell_type": "code",
   "execution_count": 327,
   "id": "gentle-pottery",
   "metadata": {},
   "outputs": [
    {
     "name": "stderr",
     "output_type": "stream",
     "text": [
      "Warning message in checkConv(attr(opt, \"derivs\"), opt$par, ctrl = control$checkConv, :\n",
      "\"unable to evaluate scaled gradient\"\n",
      "Warning message in checkConv(attr(opt, \"derivs\"), opt$par, ctrl = control$checkConv, :\n",
      "\"Model failed to converge: degenerate  Hessian with 1 negative eigenvalues\"\n"
     ]
    }
   ],
   "source": [
    "model_incompatibility_controls <-  glmer(\n",
    "  is_war ~  Resources + EthFrac + LingFrac + RelFrac + Transitional + AC_neighbour + Population_log + \n",
    "    GDP_capita_log + ForeignAid_log + interstate_conflict + (1 | countryname) + (1|year),\n",
    "  data = new_df2,\n",
    "    family='binomial'\n",
    ")"
   ]
  },
  {
   "cell_type": "code",
   "execution_count": 331,
   "id": "convinced-sharing",
   "metadata": {},
   "outputs": [
    {
     "name": "stdout",
     "output_type": "stream",
     "text": [
      "\n",
      "% Table created by stargazer v.5.2.2 by Marek Hlavac, Harvard University. E-mail: hlavac at fas.harvard.edu\n",
      "% Date and time: Sun, Aug 08, 2021 - 10:59:56 PM\n",
      "% Requires LaTeX packages: dcolumn \n",
      "\\begin{table}[!htbp] \\centering \n",
      "  \\caption{} \n",
      "  \\label{} \n",
      "\\small \n",
      "\\begin{tabular}{@{\\extracolsep{1pt}}lD{.}{.}{-2} D{.}{.}{-2} D{.}{.}{-2} } \n",
      "\\\\[-1.8ex]\\hline \n",
      "\\hline \\\\[-1.8ex] \n",
      " & \\multicolumn{3}{c}{\\textit{Dependent variable:}} \\\\ \n",
      "\\cline{2-4} \n",
      "\\\\[-1.8ex] & \\multicolumn{3}{c}{is\\_war} \\\\ \n",
      "\\\\[-1.8ex] & \\multicolumn{1}{c}{(1)} & \\multicolumn{1}{c}{(2)} & \\multicolumn{1}{c}{(3)}\\\\ \n",
      "\\hline \\\\[-1.8ex] \n",
      " T1 & -2.79$ $(4.37) &  & -4.61$ $(5.55) \\\\ \n",
      "  T2 & -3.99$ $(5.09) &  & -24.38^{***}$ $(7.44) \\\\ \n",
      "  T3 & -6.87$ $(5.28) &  & -11.34$ $(6.99) \\\\ \n",
      "  T4 & -5.86$ $(4.48) &  & -1.91$ $(6.29) \\\\ \n",
      "  T5 & 10.46^{*}$ $(5.51) &  & -0.47$ $(8.38) \\\\ \n",
      "  T6 & 18.01^{***}$ $(4.80) &  & 14.90^{**}$ $(6.52) \\\\ \n",
      "  T7 & -20.19^{**}$ $(8.74) &  & -19.99$ $(12.39) \\\\ \n",
      "  T8 & -0.97$ $(10.14) &  & -6.59$ $(14.47) \\\\ \n",
      "  T9 & -6.25$ $(5.68) &  & -8.42$ $(8.02) \\\\ \n",
      "  T10 & -5.87$ $(7.33) &  & -11.66$ $(9.05) \\\\ \n",
      "  T11 & 1.04$ $(3.87) &  & -2.77$ $(5.98) \\\\ \n",
      "  T12 & -5.11$ $(3.98) &  & -9.02^{*}$ $(5.43) \\\\ \n",
      "  T13 & -1.78$ $(5.04) &  & -7.11$ $(6.43) \\\\ \n",
      "  T14 & -12.79^{**}$ $(6.18) &  & -21.25^{**}$ $(8.66) \\\\ \n",
      "  T15 & -3.20$ $(4.70) &  & -6.11$ $(6.02) \\\\ \n",
      "  T16 & -5.62$ $(4.83) &  & -17.03^{**}$ $(6.69) \\\\ \n",
      "  T17 & -1.51$ $(5.64) &  & -4.91$ $(7.17) \\\\ \n",
      "  T18 & 4.13$ $(4.81) &  & -0.05$ $(7.09) \\\\ \n",
      "  T19 & -1.86$ $(4.80) &  & 0.44$ $(6.43) \\\\ \n",
      "  T20 & -7.08$ $(7.64) &  & -0.64$ $(10.35) \\\\ \n",
      "  T21 & -0.32$ $(4.54) &  & -4.53$ $(6.09) \\\\ \n",
      "  T22 & 1.36$ $(4.30) &  & -0.39$ $(5.71) \\\\ \n",
      "  T23 & -9.97^{**}$ $(4.44) &  & -13.31^{**}$ $(6.02) \\\\ \n",
      "  Resources &  & 0.01$ $(0.02) & 0.02$ $(0.02) \\\\ \n",
      "  EthFrac &  & 5.44$ $(3.55) & 5.98$ $(4.64) \\\\ \n",
      "  LingFrac &  & -2.72$ $(2.25) & -3.71$ $(3.10) \\\\ \n",
      "  RelFrac &  & -2.65$ $(2.22) & -3.93$ $(2.92) \\\\ \n",
      "  Transitional &  & 0.73$ $(0.82) & 1.29$ $(0.93) \\\\ \n",
      "  AC\\_neighbour &  & -0.32$ $(0.37) & -0.68$ $(0.43) \\\\ \n",
      "  Population\\_log &  & 1.14^{***}$ $(0.38) & 2.04^{***}$ $(0.55) \\\\ \n",
      "  GDP\\_capita\\_log &  & -0.72^{**}$ $(0.29) & -0.25$ $(0.39) \\\\ \n",
      "  ForeignAid\\_log &  & 0.09$ $(0.20) & 0.35$ $(0.27) \\\\ \n",
      "  interstate\\_conflict & 30.66$ $(20,301.76) & 28.32$ $(10,776.98) & 28.73$ $(2,771.34) \\\\ \n",
      "  Constant & -2.33$ $(2.76) & -18.28^{***}$ $(5.24) & -28.58^{***}$ $(8.47) \\\\ \n",
      " \\hline \\\\[-1.8ex] \n",
      "Observations & \\multicolumn{1}{c}{2,426} & \\multicolumn{1}{c}{1,638} & \\multicolumn{1}{c}{1,638} \\\\ \n",
      "Log Likelihood & \\multicolumn{1}{c}{-317.81} & \\multicolumn{1}{c}{-221.42} & \\multicolumn{1}{c}{-184.76} \\\\ \n",
      "Akaike Inf. Crit. & \\multicolumn{1}{c}{689.61} & \\multicolumn{1}{c}{468.85} & \\multicolumn{1}{c}{441.51} \\\\ \n",
      "Bayesian Inf. Crit. & \\multicolumn{1}{c}{846.05} & \\multicolumn{1}{c}{539.06} & \\multicolumn{1}{c}{635.95} \\\\ \n",
      "\\hline \n",
      "\\hline \\\\[-1.8ex] \n",
      "\\textit{Note:}  & \\multicolumn{3}{r}{$^{*}$p$<$0.1; $^{**}$p$<$0.05; $^{***}$p$<$0.01} \\\\ \n",
      "\\end{tabular} \n",
      "\\end{table} \n"
     ]
    }
   ],
   "source": [
    "stargazer(c(model_incompatibility, model_incompatibility_controls, model_incompatibility_all), align=TRUE, digits=2, font.size='small', single.row=TRUE, column.sep.width='1pt')"
   ]
  },
  {
   "cell_type": "code",
   "execution_count": 325,
   "id": "specific-eating",
   "metadata": {},
   "outputs": [
    {
     "name": "stderr",
     "output_type": "stream",
     "text": [
      "Warning message in vcov.merMod(object, use.hessian = use.hessian):\n",
      "\"variance-covariance matrix computed from finite-difference Hessian is\n",
      "not positive definite or contains NA values: falling back to var-cov estimated from RX\"\n",
      "Warning message in vcov.merMod(object, correlation = correlation, sigm = sig):\n",
      "\"variance-covariance matrix computed from finite-difference Hessian is\n",
      "not positive definite or contains NA values: falling back to var-cov estimated from RX\"\n",
      "\n",
      "Correlation matrix not shown by default, as p = 25 > 12.\n",
      "Use print(obj, correlation=TRUE)  or\n",
      "    vcov(obj)        if you need it\n",
      "\n",
      "\n"
     ]
    },
    {
     "data": {
      "text/plain": [
       "Generalized linear mixed model fit by maximum likelihood (Laplace\n",
       "  Approximation) [glmerMod]\n",
       " Family: binomial  ( logit )\n",
       "Formula: intrastate_conflict ~ T1 + T2 + T3 + T4 + T5 + T6 + T7 + T8 +  \n",
       "    T9 + T10 + T11 + T12 + T13 + T14 + T15 + T16 + T17 + T18 +  \n",
       "    T19 + T20 + T21 + T22 + T23 + interstate_conflict + (1 |  \n",
       "    countryname) + (1 | year) + (1 | person)\n",
       "   Data: new_df2\n",
       "\n",
       "     AIC      BIC   logLik deviance df.resid \n",
       "   752.7    915.0   -348.4    696.7     2398 \n",
       "\n",
       "Scaled residuals: \n",
       "   Min     1Q Median     3Q    Max \n",
       "-406.6    0.0    0.0    0.0 4009.9 \n",
       "\n",
       "Random effects:\n",
       " Groups      Name        Variance Std.Dev.\n",
       " person      (Intercept) 66.1078  8.1307  \n",
       " countryname (Intercept)  1.9859  1.4092  \n",
       " year        (Intercept)  0.0314  0.1772  \n",
       "Number of obs: 2426, groups:  person, 1326; countryname, 54; year, 51\n",
       "\n",
       "Fixed effects:\n",
       "                    Estimate Std. Error z value Pr(>|z|)    \n",
       "(Intercept)            5.683      6.933   0.820  0.41238    \n",
       "T1                   -34.928     12.260  -2.849  0.00439 ** \n",
       "T2                   -18.453     12.098  -1.525  0.12720    \n",
       "T3                    -9.533     11.993  -0.795  0.42670    \n",
       "T4                   -21.514     11.687  -1.841  0.06565 .  \n",
       "T5                    -2.183     16.173  -0.135  0.89263    \n",
       "T6                    18.566     14.126   1.314  0.18876    \n",
       "T7                   -32.684     22.181  -1.474  0.14061    \n",
       "T8                   -25.270     27.595  -0.916  0.35981    \n",
       "T9                   -20.868     18.700  -1.116  0.26445    \n",
       "T10                  -27.387     18.508  -1.480  0.13894    \n",
       "T11                  -22.509     12.259  -1.836  0.06635 .  \n",
       "T12                  -12.962      9.791  -1.324  0.18555    \n",
       "T13                  -15.681     11.810  -1.328  0.18426    \n",
       "T14                  -25.810     16.626  -1.552  0.12057    \n",
       "T15                  -18.535     12.498  -1.483  0.13805    \n",
       "T16                  -23.621     12.264  -1.926  0.05410 .  \n",
       "T17                  -20.070     15.602  -1.286  0.19831    \n",
       "T18                   -1.033     10.112  -0.102  0.91862    \n",
       "T19                  -25.915     11.747  -2.206  0.02737 *  \n",
       "T20                  -12.901     22.196  -0.581  0.56107    \n",
       "T21                  -15.836     12.161  -1.302  0.19285    \n",
       "T22                  -17.161      9.677  -1.773  0.07616 .  \n",
       "T23                  -13.378     10.629  -1.259  0.20814    \n",
       "interstate_conflict   15.752      1.741   9.049  < 2e-16 ***\n",
       "---\n",
       "Signif. codes:  0 '***' 0.001 '**' 0.01 '*' 0.05 '.' 0.1 ' ' 1\n",
       "optimizer (Nelder_Mead) convergence code: 4 (failure to converge in 10000 evaluations)\n",
       "unable to evaluate scaled gradient\n",
       "Model failed to converge: degenerate  Hessian with 3 negative eigenvalues\n",
       "failure to converge in 10000 evaluations\n"
      ]
     },
     "metadata": {},
     "output_type": "display_data"
    }
   ],
   "source": [
    "summary(model_incompatibility)"
   ]
  },
  {
   "cell_type": "code",
   "execution_count": null,
   "id": "catholic-calvin",
   "metadata": {},
   "outputs": [],
   "source": [
    "stargazer()"
   ]
  },
  {
   "cell_type": "markdown",
   "id": "nutritional-analyst",
   "metadata": {},
   "source": [
    "## Model 4: leaders as random-effects"
   ]
  },
  {
   "cell_type": "code",
   "execution_count": 119,
   "id": "assured-belle",
   "metadata": {},
   "outputs": [
    {
     "name": "stderr",
     "output_type": "stream",
     "text": [
      "Warning message in (function (fn, par, lower = rep.int(-Inf, n), upper = rep.int(Inf, :\n",
      "\"failure to converge in 10000 evaluations\"\n",
      "Warning message in optwrap(optimizer, devfun, start, rho$lower, control = control, :\n",
      "\"convergence code 4 from Nelder_Mead: failure to converge in 10000 evaluations\"\n",
      "Warning message in checkConv(attr(opt, \"derivs\"), opt$par, ctrl = control$checkConv, :\n",
      "\"unable to evaluate scaled gradient\"\n",
      "Warning message in checkConv(attr(opt, \"derivs\"), opt$par, ctrl = control$checkConv, :\n",
      "\"Model failed to converge: degenerate  Hessian with 3 negative eigenvalues\"\n"
     ]
    }
   ],
   "source": [
    "model_people <- glmer(\n",
    "  intrastate_conflict ~ T1 + T2 + T3 + T4 + T5 + T6 + T7 + T8 + T9 + T10 + T11 + T12 + T13 + T14 + T15 + T16 + T17 + T18 + T19 + T20 + T21 + T22 + T23 + interstate_conflict + (1 | countryname) + (1|year) + (1|person),\n",
    "  data = new_df2,\n",
    "    family='binomial'\n",
    ")"
   ]
  },
  {
   "cell_type": "code",
   "execution_count": 121,
   "id": "designed-gender",
   "metadata": {},
   "outputs": [
    {
     "name": "stderr",
     "output_type": "stream",
     "text": [
      "Warning message in vcov.merMod(object, use.hessian = use.hessian):\n",
      "\"variance-covariance matrix computed from finite-difference Hessian is\n",
      "not positive definite or contains NA values: falling back to var-cov estimated from RX\"\n",
      "Warning message in vcov.merMod(object, correlation = correlation, sigm = sig):\n",
      "\"variance-covariance matrix computed from finite-difference Hessian is\n",
      "not positive definite or contains NA values: falling back to var-cov estimated from RX\"\n",
      "\n",
      "Correlation matrix not shown by default, as p = 25 > 12.\n",
      "Use print(obj, correlation=TRUE)  or\n",
      "    vcov(obj)        if you need it\n",
      "\n",
      "\n"
     ]
    },
    {
     "data": {
      "text/plain": [
       "Generalized linear mixed model fit by maximum likelihood (Laplace\n",
       "  Approximation) [glmerMod]\n",
       " Family: binomial  ( logit )\n",
       "Formula: intrastate_conflict ~ T1 + T2 + T3 + T4 + T5 + T6 + T7 + T8 +  \n",
       "    T9 + T10 + T11 + T12 + T13 + T14 + T15 + T16 + T17 + T18 +  \n",
       "    T19 + T20 + T21 + T22 + T23 + interstate_conflict + (1 |  \n",
       "    countryname) + (1 | year) + (1 | person)\n",
       "   Data: new_df2\n",
       "\n",
       "     AIC      BIC   logLik deviance df.resid \n",
       "   752.7    915.0   -348.4    696.7     2398 \n",
       "\n",
       "Scaled residuals: \n",
       "   Min     1Q Median     3Q    Max \n",
       "-406.6    0.0    0.0    0.0 4009.9 \n",
       "\n",
       "Random effects:\n",
       " Groups      Name        Variance Std.Dev.\n",
       " person      (Intercept) 66.1078  8.1307  \n",
       " countryname (Intercept)  1.9859  1.4092  \n",
       " year        (Intercept)  0.0314  0.1772  \n",
       "Number of obs: 2426, groups:  person, 1326; countryname, 54; year, 51\n",
       "\n",
       "Fixed effects:\n",
       "                    Estimate Std. Error z value Pr(>|z|)    \n",
       "(Intercept)            5.683      6.933   0.820  0.41238    \n",
       "T1                   -34.928     12.260  -2.849  0.00439 ** \n",
       "T2                   -18.453     12.098  -1.525  0.12720    \n",
       "T3                    -9.533     11.993  -0.795  0.42670    \n",
       "T4                   -21.514     11.687  -1.841  0.06565 .  \n",
       "T5                    -2.183     16.173  -0.135  0.89263    \n",
       "T6                    18.566     14.126   1.314  0.18876    \n",
       "T7                   -32.684     22.181  -1.474  0.14061    \n",
       "T8                   -25.270     27.595  -0.916  0.35981    \n",
       "T9                   -20.868     18.700  -1.116  0.26445    \n",
       "T10                  -27.387     18.508  -1.480  0.13894    \n",
       "T11                  -22.509     12.259  -1.836  0.06635 .  \n",
       "T12                  -12.962      9.791  -1.324  0.18555    \n",
       "T13                  -15.681     11.810  -1.328  0.18426    \n",
       "T14                  -25.810     16.626  -1.552  0.12057    \n",
       "T15                  -18.535     12.498  -1.483  0.13805    \n",
       "T16                  -23.621     12.264  -1.926  0.05410 .  \n",
       "T17                  -20.070     15.602  -1.286  0.19831    \n",
       "T18                   -1.033     10.112  -0.102  0.91862    \n",
       "T19                  -25.915     11.747  -2.206  0.02737 *  \n",
       "T20                  -12.901     22.196  -0.581  0.56107    \n",
       "T21                  -15.836     12.161  -1.302  0.19285    \n",
       "T22                  -17.161      9.677  -1.773  0.07616 .  \n",
       "T23                  -13.378     10.629  -1.259  0.20814    \n",
       "interstate_conflict   15.752      1.741   9.049  < 2e-16 ***\n",
       "---\n",
       "Signif. codes:  0 '***' 0.001 '**' 0.01 '*' 0.05 '.' 0.1 ' ' 1\n",
       "optimizer (Nelder_Mead) convergence code: 4 (failure to converge in 10000 evaluations)\n",
       "unable to evaluate scaled gradient\n",
       "Model failed to converge: degenerate  Hessian with 3 negative eigenvalues\n",
       "failure to converge in 10000 evaluations\n"
      ]
     },
     "metadata": {},
     "output_type": "display_data"
    }
   ],
   "source": [
    "summary(model_people)"
   ]
  },
  {
   "cell_type": "markdown",
   "id": "convenient-tours",
   "metadata": {},
   "source": [
    "# Performing diagnostics"
   ]
  },
  {
   "cell_type": "markdown",
   "id": "alien-tutorial",
   "metadata": {},
   "source": [
    "## Hausman test"
   ]
  },
  {
   "cell_type": "markdown",
   "id": "affecting-prize",
   "metadata": {},
   "source": [
    "The null hypothesis is that the preferred model is random effects <-- I need random effects"
   ]
  },
  {
   "cell_type": "code",
   "execution_count": 122,
   "id": "contemporary-shanghai",
   "metadata": {},
   "outputs": [
    {
     "data": {
      "text/plain": [
       "\n",
       "\tHausman Test\n",
       "\n",
       "data:  intrastate_conflict ~ Resources + EthFrac + LingFrac + RelFrac +  ...\n",
       "chisq = 23.039, df = 33, p-value = 0.9019\n",
       "alternative hypothesis: one model is inconsistent\n"
      ]
     },
     "metadata": {},
     "output_type": "display_data"
    }
   ],
   "source": [
    "phtest(intrastate_conflict ~ Resources + EthFrac + LingFrac + RelFrac + Transitional + AC_neighbour + Population_log + \n",
    "    GDP_capita_log + ForeignAid_log + interstate_conflict + T1 + T2 + T3 + T4 + T5 + T6 + T7 + T8 + T9 + T10 + T11 + T12 + T13 + T14 + T15 + T16 + T17 + T18 + T19 + T20 + T21 + T22 + T23,\n",
    "      data = new_df2)"
   ]
  },
  {
   "cell_type": "markdown",
   "id": "offshore-reflection",
   "metadata": {},
   "source": [
    "## Other diagnostics"
   ]
  },
  {
   "cell_type": "code",
   "execution_count": 306,
   "id": "available-steering",
   "metadata": {},
   "outputs": [],
   "source": [
    "library(lmtest)"
   ]
  },
  {
   "cell_type": "code",
   "execution_count": 308,
   "id": "danish-religious",
   "metadata": {},
   "outputs": [
    {
     "ename": "ERROR",
     "evalue": "Error in UseMethod(\"pbgtest\"): no applicable method for 'pbgtest' applied to an object of class \"c('glmerMod', 'merMod')\"\n",
     "output_type": "error",
     "traceback": [
      "Error in UseMethod(\"pbgtest\"): no applicable method for 'pbgtest' applied to an object of class \"c('glmerMod', 'merMod')\"\nTraceback:\n",
      "1. pbgtest(model_indices)"
     ]
    }
   ],
   "source": [
    "# Serial correlation\n",
    "pbgtest(model_indices)"
   ]
  },
  {
   "cell_type": "code",
   "execution_count": 298,
   "id": "confidential-straight",
   "metadata": {},
   "outputs": [
    {
     "name": "stderr",
     "output_type": "stream",
     "text": [
      "Warning message in (function (fn, par, lower = rep.int(-Inf, n), upper = rep.int(Inf, :\n",
      "\"failure to converge in 10000 evaluations\"\n",
      "Warning message in optwrap(optimizer, devfun, start, rho$lower, control = control, :\n",
      "\"convergence code 4 from Nelder_Mead: failure to converge in 10000 evaluations\"\n",
      "Warning message in checkConv(attr(opt, \"derivs\"), opt$par, ctrl = control$checkConv, :\n",
      "\"Model failed to converge with max|grad| = 0.205645 (tol = 0.002, component 1)\"\n",
      "Warning message in checkConv(attr(opt, \"derivs\"), opt$par, ctrl = control$checkConv, :\n",
      "\"Model is nearly unidentifiable: large eigenvalue ratio\n",
      " - Rescale variables?\"\n"
     ]
    }
   ],
   "source": [
    "model_both2 <- glmer(\n",
    "  intrastate_conflict ~ Resources + EthFrac + LingFrac + RelFrac + Transitional + AC_neighbour + Population_log + \n",
    "    GDP_capita_log + ForeignAid_log + interstate_conflict + T1 + T2 + T3 + T4 + T5 + T6 + T7 + T8 + T9 + T10 + T11 + T12 + T13 + T14 + T15 + T16 + T17 + T18 + T19 + T20 + T21 + T22 + T23 + (1 | countryname) + (1|year),\n",
    "    data = new_df2_dropna,\n",
    "    family='binomial'\n",
    ")"
   ]
  },
  {
   "cell_type": "code",
   "execution_count": 309,
   "id": "threatened-marshall",
   "metadata": {},
   "outputs": [
    {
     "data": {
      "image/png": "[encoded data removed]",
      "text/plain": [
       "plot without title"
      ]
     },
     "metadata": {
      "image/png": {
       "height": 420,
       "width": 420
      }
     },
     "output_type": "display_data"
    }
   ],
   "source": [
    "plot(model_indices, countryname ~ resid(.), abline=0)\n"
   ]
  },
  {
   "cell_type": "code",
   "execution_count": 304,
   "id": "baking-female",
   "metadata": {},
   "outputs": [
    {
     "data": {
      "image/png": "[encoded data removed]",
      "text/plain": [
       "plot without title"
      ]
     },
     "metadata": {
      "image/png": {
       "height": 420,
       "width": 420
      }
     },
     "output_type": "display_data"
    }
   ],
   "source": [
    "plot(model_both2, countryname ~ resid(.), abline=0)"
   ]
  },
  {
   "cell_type": "code",
   "execution_count": 310,
   "id": "remarkable-thursday",
   "metadata": {},
   "outputs": [
    {
     "data": {
      "image/png": "[encoded data removed]",
      "text/plain": [
       "plot without title"
      ]
     },
     "metadata": {
      "image/png": {
       "height": 420,
       "width": 420
      }
     },
     "output_type": "display_data"
    }
   ],
   "source": [
    "plot(model_indices, resid(., type='pearson') ~ fitted(.) | countryname, id=0.05, adj=-0.3, pch=20, col='gray40')"
   ]
  },
  {
   "cell_type": "code",
   "execution_count": 311,
   "id": "approved-spencer",
   "metadata": {},
   "outputs": [
    {
     "data": {
      "image/png": "[encoded data removed]",
      "text/plain": [
       "plot without title"
      ]
     },
     "metadata": {
      "image/png": {
       "height": 420,
       "width": 420
      }
     },
     "output_type": "display_data"
    }
   ],
   "source": [
    "plot(model_both2, resid(., type='pearson') ~ fitted(.) | countryname, id=0.05, adj=-0.3, pch=20, col='gray40')"
   ]
  },
  {
   "cell_type": "code",
   "execution_count": null,
   "id": "million-therapy",
   "metadata": {},
   "outputs": [],
   "source": []
  },
  {
   "cell_type": "markdown",
   "id": "parallel-auditor",
   "metadata": {},
   "source": [
    "### Checking for heteroskedasticity"
   ]
  },
  {
   "cell_type": "code",
   "execution_count": 170,
   "id": "cutting-casino",
   "metadata": {},
   "outputs": [
    {
     "ename": "ERROR",
     "evalue": "Error in bptest(intrastate_conflict ~ T1 + T2 + T3 + T4 + T5 + T6 + T7 + : unused argument (family = \"binomial\")\n",
     "output_type": "error",
     "traceback": [
      "Error in bptest(intrastate_conflict ~ T1 + T2 + T3 + T4 + T5 + T6 + T7 + : unused argument (family = \"binomial\")\nTraceback:\n"
     ]
    }
   ],
   "source": [
    "bptest(intrastate_conflict ~ T1 + T2 + T3 + T4 + T5 + T6 + T7 + T8 + T9 + T10 + T11 + T12 + T13 + T14 + T15 + T16 + T17 + T18 + T19 + T20 + T21 + T22 + T23 + interstate_conflict + (1 | countryname) + (1|year),\n",
    "  data = new_df2, family='binomial')"
   ]
  },
  {
   "cell_type": "code",
   "execution_count": 169,
   "id": "historic-vacuum",
   "metadata": {},
   "outputs": [
    {
     "data": {
      "text/plain": [
       "\n",
       "\tstudentized Breusch-Pagan test\n",
       "\n",
       "data:  intrastate_conflict ~ T1 + T2 + T3 + T4 + T5 + T6 + T7 + T8 +     T9 + T10 + T11 + T12 + T13 + T14 + T15 + T16 + T17 + T18 +     T19 + T20 + T21 + T22 + T23\n",
       "BP = 147.07, df = 23, p-value < 2.2e-16\n"
      ]
     },
     "metadata": {},
     "output_type": "display_data"
    }
   ],
   "source": [
    "bptest(intrastate_conflict ~  T1 + T2 + T3 + T4 + T5 + T6 + T7 + T8 + T9 + T10 + T11 + T12 + T13 + T14 + T15 + T16 + T17 + T18 + T19 + T20 + T21 + T22 + T23,\n",
    "      data = new_df2)"
   ]
  },
  {
   "cell_type": "code",
   "execution_count": 166,
   "id": "sitting-tourism",
   "metadata": {},
   "outputs": [
    {
     "data": {
      "text/plain": [
       "\n",
       "\tstudentized Breusch-Pagan test\n",
       "\n",
       "data:  intrastate_conflict ~ Resources + EthFrac + LingFrac + RelFrac +     Transitional + AC_neighbour + Population_log + GDP_capita_log +     ForeignAid_log + interstate_conflict + T1 + T2 + T3 + T4 +     T5 + T6 + T7 + T8 + T9 + T10 + T11 + T12 + T13 + T14 + T15 +     T16 + T17 + T18 + T19 + T20 + T21 + T22 + T23\n",
       "BP = 163.72, df = 33, p-value < 2.2e-16\n"
      ]
     },
     "metadata": {},
     "output_type": "display_data"
    }
   ],
   "source": [
    "bptest(intrastate_conflict ~ Resources + EthFrac + LingFrac + RelFrac + Transitional + AC_neighbour + Population_log + \n",
    "    GDP_capita_log + ForeignAid_log + interstate_conflict + T1 + T2 + T3 + T4 + T5 + T6 + T7 + T8 + T9 + T10 + T11 + T12 + T13 + T14 + T15 + T16 + T17 + T18 + T19 + T20 + T21 + T22 + T23,\n",
    "      data = new_df2_dropna)"
   ]
  },
  {
   "cell_type": "markdown",
   "id": "resistant-embassy",
   "metadata": {},
   "source": [
    "Variance is distributed unevenly, so we cannot just continue. Thus, I normalize all the coefficients"
   ]
  },
  {
   "cell_type": "markdown",
   "id": "transparent-forth",
   "metadata": {},
   "source": [
    "Parameter estimation -> not good in this case, so I resort to a prediction task."
   ]
  },
  {
   "cell_type": "code",
   "execution_count": null,
   "id": "welsh-amazon",
   "metadata": {},
   "outputs": [],
   "source": []
  },
  {
   "cell_type": "markdown",
   "id": "broadband-cursor",
   "metadata": {},
   "source": [
    "### Changing the index"
   ]
  },
  {
   "cell_type": "markdown",
   "id": "minor-seattle",
   "metadata": {},
   "source": [
    "### Importing Quantile Dataset"
   ]
  },
  {
   "cell_type": "code",
   "execution_count": 200,
   "id": "heated-concentration",
   "metadata": {},
   "outputs": [],
   "source": [
    "quant_df <- read.csv(\"./Datasets/2021-08-07 new_df_quant2.csv\", header=TRUE)"
   ]
  },
  {
   "cell_type": "code",
   "execution_count": 206,
   "id": "insured-slovenia",
   "metadata": {},
   "outputs": [
    {
     "data": {
      "text/plain": [
       "\n",
       "\tBreusch-Pagan test\n",
       "\n",
       "data:  intrastate_conflict ~ T1 + T2 + T3 + T4 + T5 + T6 + T7 + T8 +     T9 + T10 + T11 + T12 + T13 + T14 + T15 + T16 + T17 + T18 +     T19 + T20 + T21 + T22 + T23\n",
       "BP = 185.74, df = 23, p-value < 2.2e-16\n"
      ]
     },
     "metadata": {},
     "output_type": "display_data"
    }
   ],
   "source": [
    "bptest(intrastate_conflict ~  T1 + T2 + T3 + T4 + T5 + T6 + T7 + T8 + T9 + T10 + T11 + T12 + T13 + T14 + T15 + T16 + T17 + T18 + T19 + T20 + T21 + T22 + T23,\n",
    "      data = quant_df, studentize=F)"
   ]
  },
  {
   "cell_type": "code",
   "execution_count": 317,
   "id": "going-stupid",
   "metadata": {},
   "outputs": [
    {
     "name": "stderr",
     "output_type": "stream",
     "text": [
      "Warning message in checkConv(attr(opt, \"derivs\"), opt$par, ctrl = control$checkConv, :\n",
      "\"unable to evaluate scaled gradient\"\n",
      "Warning message in checkConv(attr(opt, \"derivs\"), opt$par, ctrl = control$checkConv, :\n",
      "\"Model failed to converge: degenerate  Hessian with 1 negative eigenvalues\"\n"
     ]
    }
   ],
   "source": [
    "model_indices_quantile <- glmer(\n",
    "  intrastate_conflict ~ T1 + T2 + T3 + T4 + T5 + T6 + T7 + T8 + T9 + T10 + T11 + T12 + T13 + T14 + T15 + T16 + T17 + T18 + T19 + T20 + T21 + T22 + T23 + interstate_conflict + (1 | countryname) + (1|year),\n",
    "  data = quant_df,\n",
    "    family='binomial'\n",
    ")"
   ]
  },
  {
   "cell_type": "code",
   "execution_count": 319,
   "id": "rocky-nerve",
   "metadata": {},
   "outputs": [
    {
     "name": "stderr",
     "output_type": "stream",
     "text": [
      "Warning message in (function (fn, par, lower = rep.int(-Inf, n), upper = rep.int(Inf, :\n",
      "\"failure to converge in 10000 evaluations\"\n",
      "Warning message in optwrap(optimizer, devfun, start, rho$lower, control = control, :\n",
      "\"convergence code 4 from Nelder_Mead: failure to converge in 10000 evaluations\"\n",
      "Warning message in checkConv(attr(opt, \"derivs\"), opt$par, ctrl = control$checkConv, :\n",
      "\"Model failed to converge with max|grad| = 0.26407 (tol = 0.002, component 1)\"\n"
     ]
    }
   ],
   "source": [
    "model_all_quantile <- glmer(\n",
    "  intrastate_conflict ~  Resources + EthFrac + LingFrac + RelFrac + Transitional + AC_neighbour + Population_log + \n",
    "    GDP_capita_log + ForeignAid_log + interstate_conflict + T1 + T2 + T3 + T4 + T5 + T6 + T7 + T8 + T9 + T10 + T11 + T12 + T13 + T14 + T15 + T16 + T17 + T18 + T19 + T20 + T21 + T22 + T23 + interstate_conflict + (1 | countryname) + (1|year),\n",
    "  data = quant_df,\n",
    "    family='binomial'\n",
    ")"
   ]
  },
  {
   "cell_type": "code",
   "execution_count": 321,
   "id": "oriented-lucas",
   "metadata": {},
   "outputs": [
    {
     "name": "stdout",
     "output_type": "stream",
     "text": [
      "\n",
      "% Table created by stargazer v.5.2.2 by Marek Hlavac, Harvard University. E-mail: hlavac at fas.harvard.edu\n",
      "% Date and time: Sun, Aug 08, 2021 - 10:13:06 PM\n",
      "% Requires LaTeX packages: dcolumn \n",
      "\\begin{table}[!htbp] \\centering \n",
      "  \\caption{} \n",
      "  \\label{} \n",
      "\\small \n",
      "\\begin{tabular}{@{\\extracolsep{1pt}}lD{.}{.}{-2} D{.}{.}{-2} } \n",
      "\\\\[-1.8ex]\\hline \n",
      "\\hline \\\\[-1.8ex] \n",
      " & \\multicolumn{2}{c}{\\textit{Dependent variable:}} \\\\ \n",
      "\\cline{2-3} \n",
      "\\\\[-1.8ex] & \\multicolumn{2}{c}{intrastate\\_conflict} \\\\ \n",
      "\\\\[-1.8ex] & \\multicolumn{1}{c}{(1)} & \\multicolumn{1}{c}{(2)}\\\\ \n",
      "\\hline \\\\[-1.8ex] \n",
      " Resources &  & 0.01$ $(0.01) \\\\ \n",
      "  EthFrac &  & 4.06^{*}$ $(2.43) \\\\ \n",
      "  LingFrac &  & -2.59$ $(1.80) \\\\ \n",
      "  RelFrac &  & -1.96$ $(1.67) \\\\ \n",
      "  Transitional &  & 0.95$ $(0.78) \\\\ \n",
      "  AC\\_neighbour &  & -0.23$ $(0.36) \\\\ \n",
      "  Population\\_log &  & 0.90^{***}$ $(0.31) \\\\ \n",
      "  GDP\\_capita\\_log &  & -0.32$ $(0.27) \\\\ \n",
      "  ForeignAid\\_log &  & 0.21$ $(0.21) \\\\ \n",
      "  T1 & -0.14$ $(0.13) & -0.49^{***}$ $(0.18) \\\\ \n",
      "  T2 & 0.13$ $(0.13) & -0.29^{*}$ $(0.17) \\\\ \n",
      "  T3 & -0.06$ $(0.11) & -0.05$ $(0.14) \\\\ \n",
      "  T4 & 0.01$ $(0.11) & -0.01$ $(0.15) \\\\ \n",
      "  T5 & -0.10$ $(0.14) & -0.05$ $(0.20) \\\\ \n",
      "  T6 & 0.51^{***}$ $(0.12) & 0.61^{***}$ $(0.16) \\\\ \n",
      "  T7 & -0.28^{*}$ $(0.15) & -0.44^{**}$ $(0.21) \\\\ \n",
      "  T8 & 0.09$ $(0.11) & 0.04$ $(0.15) \\\\ \n",
      "  T9 & -0.15$ $(0.11) & -0.01$ $(0.15) \\\\ \n",
      "  T10 & 0.03$ $(0.11) & -0.13$ $(0.15) \\\\ \n",
      "  T11 & -0.04$ $(0.13) & -0.09$ $(0.18) \\\\ \n",
      "  T12 & -0.16$ $(0.13) & -0.29$ $(0.18) \\\\ \n",
      "  T13 & -0.08$ $(0.12) & -0.20$ $(0.16) \\\\ \n",
      "  T14 & -0.33^{***}$ $(0.13) & -0.55^{***}$ $(0.17) \\\\ \n",
      "  T15 & -0.07$ $(0.11) & -0.09$ $(0.14) \\\\ \n",
      "  T16 & -0.04$ $(0.12) & -0.29^{*}$ $(0.17) \\\\ \n",
      "  T17 & -0.21^{*}$ $(0.11) & -0.29^{*}$ $(0.15) \\\\ \n",
      "  T18 & 0.13$ $(0.12) & 0.06$ $(0.16) \\\\ \n",
      "  T19 & -0.01$ $(0.15) & -0.05$ $(0.21) \\\\ \n",
      "  T20 & -0.09$ $(0.12) & -0.05$ $(0.16) \\\\ \n",
      "  T21 & 0.11$ $(0.12) & -0.06$ $(0.16) \\\\ \n",
      "  T22 & 0.005$ $(0.11) & -0.06$ $(0.15) \\\\ \n",
      "  T23 & -0.15$ $(0.14) & -0.16$ $(0.20) \\\\ \n",
      "  interstate\\_conflict & 6.73^{***}$ $(0.40) & 7.14^{***}$ $(0.58) \\\\ \n",
      "  Constant & -4.00^{***}$ $(0.32) & -16.13^{***}$ $(4.42) \\\\ \n",
      " \\hline \\\\[-1.8ex] \n",
      "Observations & \\multicolumn{1}{c}{2,426} & \\multicolumn{1}{c}{1,638} \\\\ \n",
      "Log Likelihood & \\multicolumn{1}{c}{-411.81} & \\multicolumn{1}{c}{-236.19} \\\\ \n",
      "Akaike Inf. Crit. & \\multicolumn{1}{c}{877.62} & \\multicolumn{1}{c}{544.38} \\\\ \n",
      "Bayesian Inf. Crit. & \\multicolumn{1}{c}{1,034.06} & \\multicolumn{1}{c}{738.83} \\\\ \n",
      "\\hline \n",
      "\\hline \\\\[-1.8ex] \n",
      "\\textit{Note:}  & \\multicolumn{2}{r}{$^{*}$p$<$0.1; $^{**}$p$<$0.05; $^{***}$p$<$0.01} \\\\ \n",
      "\\end{tabular} \n",
      "\\end{table} \n"
     ]
    }
   ],
   "source": [
    "stargazer(c(model_indices_quantile, model_all_quantile), align=TRUE, digits=2, font.size='small', single.row=TRUE, column.sep.width='1pt')"
   ]
  },
  {
   "cell_type": "code",
   "execution_count": null,
   "id": "formed-cedar",
   "metadata": {},
   "outputs": [],
   "source": [
    "summary(model_all_quantile)"
   ]
  },
  {
   "cell_type": "code",
   "execution_count": 191,
   "id": "specific-topic",
   "metadata": {},
   "outputs": [
    {
     "name": "stderr",
     "output_type": "stream",
     "text": [
      "\n",
      "Correlation matrix not shown by default, as p = 25 > 12.\n",
      "Use print(obj, correlation=TRUE)  or\n",
      "    vcov(obj)        if you need it\n",
      "\n",
      "\n"
     ]
    },
    {
     "data": {
      "text/plain": [
       "Generalized linear mixed model fit by maximum likelihood (Laplace\n",
       "  Approximation) [glmerMod]\n",
       " Family: binomial  ( logit )\n",
       "Formula: intrastate_conflict ~ T1 + T2 + T3 + T4 + T5 + T6 + T7 + T8 +  \n",
       "    T9 + T10 + T11 + T12 + T13 + T14 + T15 + T16 + T17 + T18 +  \n",
       "    T19 + T20 + T21 + T22 + T23 + interstate_conflict + (1 |  \n",
       "    countryname) + (1 | year)\n",
       "   Data: quant_df\n",
       "\n",
       "     AIC      BIC   logLik deviance df.resid \n",
       "   877.6   1034.1   -411.8    823.6     2399 \n",
       "\n",
       "Scaled residuals: \n",
       "    Min      1Q  Median      3Q     Max \n",
       "-34.080  -0.159  -0.090  -0.051  12.777 \n",
       "\n",
       "Random effects:\n",
       " Groups      Name        Variance  Std.Dev.\n",
       " countryname (Intercept) 3.0200153 1.7378  \n",
       " year        (Intercept) 0.0009059 0.0301  \n",
       "Number of obs: 2426, groups:  countryname, 54; year, 51\n",
       "\n",
       "Fixed effects:\n",
       "                     Estimate Std. Error z value Pr(>|z|)    \n",
       "(Intercept)         -4.001515   0.319940 -12.507  < 2e-16 ***\n",
       "T1                  -0.142737   0.133863  -1.066  0.28629    \n",
       "T2                   0.127530   0.128442   0.993  0.32076    \n",
       "T3                  -0.063295   0.108612  -0.583  0.56005    \n",
       "T4                   0.005149   0.110713   0.047  0.96290    \n",
       "T5                  -0.103073   0.143620  -0.718  0.47295    \n",
       "T6                   0.507205   0.119891   4.231 2.33e-05 ***\n",
       "T7                  -0.284132   0.149210  -1.904  0.05688 .  \n",
       "T8                   0.092223   0.106100   0.869  0.38473    \n",
       "T9                  -0.154840   0.112806  -1.373  0.16987    \n",
       "T10                  0.026856   0.111532   0.241  0.80972    \n",
       "T11                 -0.037255   0.133655  -0.279  0.78044    \n",
       "T12                 -0.160783   0.132329  -1.215  0.22436    \n",
       "T13                 -0.078185   0.120872  -0.647  0.51774    \n",
       "T14                 -0.332153   0.126992  -2.616  0.00891 ** \n",
       "T15                 -0.070374   0.107910  -0.652  0.51430    \n",
       "T16                 -0.035824   0.121563  -0.295  0.76823    \n",
       "T17                 -0.212756   0.111355  -1.911  0.05605 .  \n",
       "T18                  0.125907   0.119385   1.055  0.29160    \n",
       "T19                 -0.006543   0.150913  -0.043  0.96542    \n",
       "T20                 -0.086286   0.116173  -0.743  0.45764    \n",
       "T21                  0.105714   0.116023   0.911  0.36222    \n",
       "T22                  0.004651   0.110666   0.042  0.96647    \n",
       "T23                 -0.145377   0.142664  -1.019  0.30820    \n",
       "interstate_conflict  6.729701   0.398753  16.877  < 2e-16 ***\n",
       "---\n",
       "Signif. codes:  0 '***' 0.001 '**' 0.01 '*' 0.05 '.' 0.1 ' ' 1\n",
       "optimizer (Nelder_Mead) convergence code: 0 (OK)\n",
       "unable to evaluate scaled gradient\n",
       "Model failed to converge: degenerate  Hessian with 1 negative eigenvalues\n"
      ]
     },
     "metadata": {},
     "output_type": "display_data"
    }
   ],
   "source": [
    "summary(model_indices_quantile)"
   ]
  },
  {
   "cell_type": "markdown",
   "id": "forced-scope",
   "metadata": {},
   "source": [
    "Conclusion: the model has heteroskedastic errors (!)"
   ]
  },
  {
   "cell_type": "markdown",
   "id": "behind-green",
   "metadata": {},
   "source": [
    "### Look at predicted vs plotted values"
   ]
  },
  {
   "cell_type": "markdown",
   "id": "interesting-shade",
   "metadata": {},
   "source": [
    "If random effect are not significant, use the usual logistic regression. My random effects are significant, hence, I use them."
   ]
  },
  {
   "cell_type": "code",
   "execution_count": 312,
   "id": "composite-minnesota",
   "metadata": {},
   "outputs": [],
   "source": [
    "new_df2$Predicted <- predict(model_indices, new_df2)\n"
   ]
  },
  {
   "cell_type": "markdown",
   "id": "understood-cooperative",
   "metadata": {},
   "source": [
    "Check if the model still performs poorly even after quantile transformations"
   ]
  },
  {
   "cell_type": "code",
   "execution_count": 313,
   "id": "textile-emergency",
   "metadata": {},
   "outputs": [
    {
     "data": {
      "image/png": "[encoded data removed]",
      "text/plain": [
       "plot without title"
      ]
     },
     "metadata": {
      "image/png": {
       "height": 420,
       "width": 420
      }
     },
     "output_type": "display_data"
    }
   ],
   "source": [
    "par(mfrow = c(2, 2))           # display plots in 2 rows and 2 columns\n",
    "plot(model_indices, pch = 20, col = \"black\", lty = \"dotted\"); par(mfrow = c(1, 1))"
   ]
  },
  {
   "cell_type": "code",
   "execution_count": 314,
   "id": "instructional-reason",
   "metadata": {},
   "outputs": [
    {
     "data": {
      "image/png": "[encoded data removed]",
      "text/plain": [
       "plot without title"
      ]
     },
     "metadata": {
      "image/png": {
       "height": 420,
       "width": 420
      }
     },
     "output_type": "display_data"
    }
   ],
   "source": [
    "par(mfrow = c(2, 2))           # display plots in 2 rows and 2 columns\n",
    "plot(model_both2, pch = 20, col = \"black\", lty = \"dotted\"); par(mfrow = c(1, 1))"
   ]
  },
  {
   "cell_type": "markdown",
   "id": "tested-allocation",
   "metadata": {},
   "source": [
    "The article firstly describes plotting Pearson residual against predictors. Such plots are helpful in identifying non-linearity and provide hints on how to transform predictors. Next, I focus on observations of outlier, leverage and influence that may have significant impact on model building. Outlier is such an observation that its response value is unusual conditional on covariate pattern. Leverage is an observation with covariate pattern that is far away from the regressor space. Influence is the product of outlier and leverage. That is, when influential observation is dropped from the model, there will be a significant shift of the coefficient. Summary statistics for outlier, leverage and influence are studentized residuals, hat values and Cook’s distance. They can be easily visualized with graphs and formally tested using the car package."
   ]
  },
  {
   "cell_type": "code",
   "execution_count": 268,
   "id": "occupational-senate",
   "metadata": {},
   "outputs": [
    {
     "name": "stderr",
     "output_type": "stream",
     "text": [
      "Warning message:\n",
      "\"package 'foreign' is not available (for R version 3.6.3)\"\n"
     ]
    }
   ],
   "source": [
    "install.packages('foreign')"
   ]
  },
  {
   "cell_type": "code",
   "execution_count": 262,
   "id": "published-premium",
   "metadata": {},
   "outputs": [
    {
     "ename": "ERROR",
     "evalue": "Error in residualPlots(model_indices): could not find function \"residualPlots\"\n",
     "output_type": "error",
     "traceback": [
      "Error in residualPlots(model_indices): could not find function \"residualPlots\"\nTraceback:\n"
     ]
    }
   ],
   "source": [
    "residualPlots(model_indices)"
   ]
  },
  {
   "cell_type": "code",
   "execution_count": 270,
   "id": "following-aging",
   "metadata": {},
   "outputs": [
    {
     "data": {
      "image/png": "[encoded data removed]",
      "text/plain": [
       "plot without title"
      ]
     },
     "metadata": {
      "image/png": {
       "height": 420,
       "width": 420
      }
     },
     "output_type": "display_data"
    }
   ],
   "source": [
    "plot(model_indices)"
   ]
  },
  {
   "cell_type": "code",
   "execution_count": 273,
   "id": "dried-australia",
   "metadata": {},
   "outputs": [
    {
     "name": "stderr",
     "output_type": "stream",
     "text": [
      "also installing the dependency 'gridExtra'\n",
      "\n",
      "\n"
     ]
    },
    {
     "name": "stdout",
     "output_type": "stream",
     "text": [
      "\n",
      "  There is a binary version available but the source version is later:\n",
      "          binary source needs_compilation\n",
      "ggfortify 0.4.11 0.4.12             FALSE\n",
      "\n",
      "package 'gridExtra' successfully unpacked and MD5 sums checked\n",
      "\n",
      "The downloaded binary packages are in\n",
      "\tC:\\Users\\Paulius\\AppData\\Local\\Temp\\RtmpgfFe9f\\downloaded_packages\n"
     ]
    },
    {
     "name": "stderr",
     "output_type": "stream",
     "text": [
      "installing the source package 'ggfortify'\n",
      "\n",
      "\n"
     ]
    }
   ],
   "source": [
    "install.packages('ggfortify')"
   ]
  },
  {
   "cell_type": "code",
   "execution_count": 336,
   "id": "expressed-burning",
   "metadata": {},
   "outputs": [
    {
     "data": {
      "text/html": [
       "<strong>png:</strong> 2"
      ],
      "text/latex": [
       "\\textbf{png:} 2"
      ],
      "text/markdown": [
       "**png:** 2"
      ],
      "text/plain": [
       "png \n",
       "  2 "
      ]
     },
     "metadata": {},
     "output_type": "display_data"
    }
   ],
   "source": [
    "pdf(file = \"C:/Users/Paulius/OneDrive/Oxford University/Courses/Trinity/Thesis/Data/Figures/rresids.pdf\",   # The directory you want to save the file in\n",
    "    width = 4, # The width of the plot in inches\n",
    "    height = 4) # The height of the plot in inches\n",
    "\n",
    "answer7(model_indices, 'black')\n",
    "\n",
    "# Step 3: Run dev.off() to create the file!\n",
    "dev.off()"
   ]
  },
  {
   "cell_type": "code",
   "execution_count": 315,
   "id": "hazardous-correspondence",
   "metadata": {},
   "outputs": [],
   "source": [
    "answer7 <- function(my_lm, color_str){\n",
    "    resids <- residuals(my_lm)\n",
    "    fitted <- fitted(my_lm)\n",
    "\n",
    "   p_vs_r <- ggplot(data = NULL, aes(x = fitted, y = resids))+\n",
    "        geom_point(colour = color_str)\n",
    "\n",
    "   qq_r <- ggplot(data = NULL, aes(sample = resids))+\n",
    "        stat_qq(colour = color_str)\n",
    "\n",
    "   plot(p_vs_r)\n",
    "   plot(qq_r)\n",
    "\n",
    "}"
   ]
  },
  {
   "cell_type": "code",
   "execution_count": 288,
   "id": "accessory-valve",
   "metadata": {},
   "outputs": [
    {
     "data": {
      "image/png": "[encoded data removed]",
      "text/plain": [
       "plot without title"
      ]
     },
     "metadata": {
      "image/png": {
       "height": 420,
       "width": 420
      }
     },
     "output_type": "display_data"
    }
   ],
   "source": [
    "plot(model_indices, which=10); par(mfrow=c(1,1))"
   ]
  },
  {
   "cell_type": "code",
   "execution_count": 289,
   "id": "conceptual-testimony",
   "metadata": {},
   "outputs": [
    {
     "ename": "ERROR",
     "evalue": "Error: Objects of type glmerMod not supported by autoplot.\n",
     "output_type": "error",
     "traceback": [
      "Error: Objects of type glmerMod not supported by autoplot.\nTraceback:\n",
      "1. autoplot(model_indices)",
      "2. autoplot.default(model_indices)",
      "3. abort(glue(\"Objects of type \", glue_collapse(class(object), \"/\"), \n .     \" not supported by autoplot.\"))",
      "4. signal_abort(cnd)"
     ]
    }
   ],
   "source": [
    "autoplot(model_indices) + \n",
    "  theme(panel.grid.major = element_blank(), panel.grid.minor = element_blank()) +\n",
    "  theme_bw()"
   ]
  },
  {
   "cell_type": "markdown",
   "id": "portuguese-parks",
   "metadata": {},
   "source": [
    "## Linearity"
   ]
  },
  {
   "cell_type": "code",
   "execution_count": null,
   "id": "veterinary-gather",
   "metadata": {},
   "outputs": [],
   "source": []
  },
  {
   "cell_type": "markdown",
   "id": "hispanic-bracket",
   "metadata": {},
   "source": [
    "# ARCHIVE ---- (Everything is before 2021-08-07)"
   ]
  },
  {
   "cell_type": "markdown",
   "id": "suburban-magazine",
   "metadata": {},
   "source": [
    "# Testing out models - Model PGLM"
   ]
  },
  {
   "cell_type": "markdown",
   "id": "figured-physiology",
   "metadata": {},
   "source": [
    "## Model 1: estimating the effect of controls - random binomial"
   ]
  },
  {
   "cell_type": "code",
   "execution_count": 51,
   "id": "departmental-sustainability",
   "metadata": {},
   "outputs": [],
   "source": [
    "model_gls_ind <- glmer(\n",
    "intrastate_conflict ~ Resources + EthFrac + LingFrac + RelFrac + Transitional + AC_neighbour + Population_log + \n",
    "    GDP_capita_log + ForeignAid_log + (1|countryname) + (1|year),\n",
    "    data=indices_df,\n",
    "    family='binomial'\n",
    ")"
   ]
  },
  {
   "cell_type": "code",
   "execution_count": 83,
   "id": "illegal-objective",
   "metadata": {},
   "outputs": [
    {
     "data": {
      "text/plain": [
       "--------------------------------------------\n",
       "Maximum Likelihood estimation\n",
       "Newton-Raphson maximisation, 5 iterations\n",
       "Return code 8: successive function values within relative tolerance limit (reltol)\n",
       "Log-Likelihood: -525.9933 \n",
       "7  free parameters\n",
       "Estimates:\n",
       "              Estimate Std. error t value  Pr(> t)    \n",
       "(Intercept) -1.9642050  0.4205265  -4.671 3.00e-06 ***\n",
       "GDP_capita  -0.0005368  0.0001371  -3.915 9.03e-05 ***\n",
       "EthFrac      2.4201511  0.9608493   2.519   0.0118 *  \n",
       "LingFrac    -0.2719482  0.6731916  -0.404   0.6862    \n",
       "RelFrac     -0.8373900  0.5419935  -1.545   0.1223    \n",
       "Foreword    11.6045382  6.9311843   1.674   0.0941 .  \n",
       "sigma        2.5247164  0.1999305  12.628  < 2e-16 ***\n",
       "---\n",
       "Signif. codes:  0 '***' 0.001 '**' 0.01 '*' 0.05 '.' 0.1 ' ' 1\n",
       "--------------------------------------------"
      ]
     },
     "metadata": {},
     "output_type": "display_data"
    }
   ],
   "source": [
    "summary(model)"
   ]
  },
  {
   "cell_type": "markdown",
   "id": "unauthorized-portfolio",
   "metadata": {},
   "source": [
    "## Model 2: Estimating the effects of  random binomial"
   ]
  },
  {
   "cell_type": "code",
   "execution_count": 25,
   "id": "moved-suggestion",
   "metadata": {},
   "outputs": [],
   "source": [
    "library(plm)\n",
    "library(lme4)\n",
    "library(sjPlot)\n",
    "library(parameters)\n",
    "library(lfe)"
   ]
  },
  {
   "cell_type": "code",
   "execution_count": 26,
   "id": "retired-dancing",
   "metadata": {},
   "outputs": [],
   "source": [
    "indices_df = read.csv('./Datasets/2021-07-24 indices_reg.csv') # All indices and all years, response: intra_state and inter_state (~2.4K)\n",
    "fulreg_df = read.csv('./Datasets/2021-07-30 ful_reg.csv') # indices and years, only the ones available (~1.6K)"
   ]
  },
  {
   "cell_type": "code",
   "execution_count": 29,
   "id": "ranging-friendly",
   "metadata": {},
   "outputs": [
    {
     "name": "stderr",
     "output_type": "stream",
     "text": [
      "Warning message in checkConv(attr(opt, \"derivs\"), opt$par, ctrl = control$checkConv, :\n",
      "\"Model failed to converge with max|grad| = 0.0674909 (tol = 0.002, component 1)\"\n"
     ]
    }
   ],
   "source": [
    "model_gls_3 <- glmer(\n",
    "  intrastate_conflict ~ T1 + T2 + T3 + T4 + T5 + T6 + T7 + T8 + T9 + T10 + T11 + T12 + T13 + T14 + T15 + T16 + T17 + T18 + T19 + T20 + T21 + T22 + T23 + (1 | countryname) + (1|year),\n",
    "  data = indices_df,\n",
    "    family='binomial'\n",
    ")"
   ]
  },
  {
   "cell_type": "code",
   "execution_count": 18,
   "id": "prepared-olympus",
   "metadata": {},
   "outputs": [
    {
     "name": "stderr",
     "output_type": "stream",
     "text": [
      "\n",
      "Correlation matrix not shown by default, as p = 24 > 12.\n",
      "Use print(obj, correlation=TRUE)  or\n",
      "    vcov(obj)        if you need it\n",
      "\n",
      "\n"
     ]
    },
    {
     "data": {
      "text/plain": [
       "Generalized linear mixed model fit by maximum likelihood (Laplace\n",
       "  Approximation) [glmerMod]\n",
       " Family: binomial  ( logit )\n",
       "Formula: intrastate_conflict ~ T1 + T2 + T3 + T4 + T5 + T6 + T7 + T8 +  \n",
       "    T9 + T10 + T11 + T12 + T13 + T14 + T15 + T16 + T17 + T18 +  \n",
       "    T19 + T20 + T21 + T22 + T23 + (1 | countryname) + (1 | year)\n",
       "   Data: indices_df\n",
       "\n",
       "     AIC      BIC   logLik deviance df.resid \n",
       "  1665.4   1816.0   -806.7   1613.4     2400 \n",
       "\n",
       "Scaled residuals: \n",
       "    Min      1Q  Median      3Q     Max \n",
       "-3.1761 -0.3478 -0.1466 -0.0690  6.8127 \n",
       "\n",
       "Random effects:\n",
       " Groups      Name        Variance Std.Dev.\n",
       " countryname (Intercept) 5.1163   2.2619  \n",
       " year        (Intercept) 0.2259   0.4752  \n",
       "Number of obs: 2426, groups:  countryname, 54; year, 51\n",
       "\n",
       "Fixed effects:\n",
       "            Estimate Std. Error z value Pr(>|z|)    \n",
       "(Intercept)  -1.3269     1.4887  -0.891 0.372765    \n",
       "T1           -6.0813     2.6029  -2.336 0.019475 *  \n",
       "T2           -1.4660     2.7097  -0.541 0.588484    \n",
       "T3           -0.3206     2.8481  -0.113 0.910360    \n",
       "T4           -3.8710     2.4684  -1.568 0.116822    \n",
       "T5           -2.7713     3.4156  -0.811 0.417161    \n",
       "T6            9.2482     2.7701   3.339 0.000842 ***\n",
       "T7           -6.8073     3.8354  -1.775 0.075920 .  \n",
       "T8            1.4880     5.2419   0.284 0.776512    \n",
       "T9           -4.0089     3.0730  -1.305 0.192043    \n",
       "T10          -7.4936     4.6483  -1.612 0.106938    \n",
       "T11          -0.2159     2.2855  -0.094 0.924751    \n",
       "T12          -3.5583     2.1806  -1.632 0.102719    \n",
       "T13          -4.1000     2.7763  -1.477 0.139735    \n",
       "T14          -1.5323     3.2166  -0.476 0.633803    \n",
       "T15          -1.7193     2.7095  -0.635 0.525727    \n",
       "T16          -3.4696     2.5843  -1.343 0.179410    \n",
       "T17          -3.3592     3.1172  -1.078 0.281192    \n",
       "T18           3.3031     2.6378   1.252 0.210488    \n",
       "T19          -4.6748     2.7915  -1.675 0.094004 .  \n",
       "T20           1.2075     3.9341   0.307 0.758903    \n",
       "T21           4.5023     2.4940   1.805 0.071031 .  \n",
       "T22           0.1620     2.5105   0.065 0.948543    \n",
       "T23          -1.4496     2.2268  -0.651 0.515069    \n",
       "---\n",
       "Signif. codes:  0 '***' 0.001 '**' 0.01 '*' 0.05 '.' 0.1 ' ' 1\n",
       "optimizer (Nelder_Mead) convergence code: 0 (OK)\n",
       "Model failed to converge with max|grad| = 0.0674909 (tol = 0.002, component 1)\n"
      ]
     },
     "metadata": {},
     "output_type": "display_data"
    }
   ],
   "source": [
    "summary(model_gls_3)"
   ]
  },
  {
   "cell_type": "code",
   "execution_count": null,
   "id": "fuzzy-moore",
   "metadata": {},
   "outputs": [],
   "source": [
    "write.csv(data.frame(predict(model_gls_3, newdata=indices_df, type='response')), './Datasets/2021-07-30 predictions.csv')"
   ]
  },
  {
   "cell_type": "code",
   "execution_count": 8,
   "id": "solar-connectivity",
   "metadata": {},
   "outputs": [
    {
     "name": "stderr",
     "output_type": "stream",
     "text": [
      "Warning message in checkConv(attr(opt, \"derivs\"), opt$par, ctrl = control$checkConv, :\n",
      "\"Model failed to converge with max|grad| = 0.103956 (tol = 0.002, component 1)\"\n"
     ]
    }
   ],
   "source": [
    "model_gls_ind <- glmer(\n",
    "intrastate_conflict ~ Resources + EthFrac + LingFrac + RelFrac + Transitional + AC_neighbour + Population_log + \n",
    "    GDP_capita_log + ForeignAid_log + (1|countryname) + (1|year),\n",
    "    data=fulreg_df,\n",
    "    family='binomial'\n",
    ")"
   ]
  },
  {
   "cell_type": "code",
   "execution_count": 9,
   "id": "photographic-olympus",
   "metadata": {},
   "outputs": [
    {
     "name": "stderr",
     "output_type": "stream",
     "text": [
      "Warning message in checkConv(attr(opt, \"derivs\"), opt$par, ctrl = control$checkConv, :\n",
      "\"Model failed to converge with max|grad| = 0.0195322 (tol = 0.002, component 1)\"\n"
     ]
    }
   ],
   "source": [
    "model_gls_ind_only <- glmer(\n",
    "intrastate_conflict ~  T1 + T2 + T3 + T4 + T5 + T6 + T7 + T8 + T9 + T10 + T11 + T12 + T13 + T14 + T15 + T16 + T17 + T18 + T19 + T20 + T21 + T22 + T23 + (1|countryname) + (1|year),\n",
    "    data=fulreg_df,\n",
    "    family='binomial'\n",
    ") "
   ]
  },
  {
   "cell_type": "code",
   "execution_count": 10,
   "id": "revised-senate",
   "metadata": {},
   "outputs": [
    {
     "name": "stderr",
     "output_type": "stream",
     "text": [
      "Warning message in (function (fn, par, lower = rep.int(-Inf, n), upper = rep.int(Inf, :\n",
      "\"failure to converge in 10000 evaluations\"\n",
      "Warning message in optwrap(optimizer, devfun, start, rho$lower, control = control, :\n",
      "\"convergence code 4 from Nelder_Mead: failure to converge in 10000 evaluations\"\n",
      "Warning message in checkConv(attr(opt, \"derivs\"), opt$par, ctrl = control$checkConv, :\n",
      "\"Model failed to converge with max|grad| = 0.135492 (tol = 0.002, component 1)\"\n",
      "Warning message in checkConv(attr(opt, \"derivs\"), opt$par, ctrl = control$checkConv, :\n",
      "\"Model is nearly unidentifiable: large eigenvalue ratio\n",
      " - Rescale variables?\"\n"
     ]
    }
   ],
   "source": [
    "model_gls_ind_all <- glmer(\n",
    "intrastate_conflict ~ Resources + EthFrac + LingFrac + RelFrac + Transitional + AC_neighbour + Population_log + \n",
    "    GDP_capita_log + ForeignAid_log + \n",
    "     T1 + T2 + T3 + T4 + T5 + T6 + T7 + T8 + T9 + T10 + T11 + T12 + T13 + T14 + T15 + T16 + T17 + T18 + T19 + T20 + T21 + T22 + T23 +\n",
    "    (1|countryname) + (1|year),\n",
    "    data=fulreg_df,\n",
    "    family='binomial'\n",
    ")"
   ]
  },
  {
   "cell_type": "code",
   "execution_count": 12,
   "id": "finite-scratch",
   "metadata": {},
   "outputs": [],
   "source": [
    "write.csv(data.frame(predict(model_gls_ind, newdata=fulreg_df, type='response')), './Datasets/2021-07-31 controls.csv')\n",
    "write.csv(data.frame(predict(model_gls_ind_only, newdata=fulreg_df, type='response')), './Datasets/2021-07-31 indices.csv')\n",
    "write.csv(data.frame(predict(model_gls_ind_all, newdata=fulreg_df, type='response')), './Datasets/2021-07-31 indices_controls.csv')\n"
   ]
  },
  {
   "cell_type": "code",
   "execution_count": 17,
   "id": "incoming-hindu",
   "metadata": {},
   "outputs": [
    {
     "name": "stdout",
     "output_type": "stream",
     "text": [
      "\n",
      "% Table created by stargazer v.5.2.2 by Marek Hlavac, Harvard University. E-mail: hlavac at fas.harvard.edu\n",
      "% Date and time: Sat, Jul 31, 2021 - 12:43:26 PM\n",
      "% Requires LaTeX packages: dcolumn \n",
      "\\begin{table}[!htbp] \\centering \n",
      "  \\caption{Full Linear Mixed Models} \n",
      "  \\label{} \n",
      "\\small \n",
      "\\begin{tabular}{@{\\extracolsep{1pt}}lD{.}{.}{-2} } \n",
      "\\\\[-1.8ex]\\hline \n",
      "\\hline \\\\[-1.8ex] \n",
      " & \\multicolumn{1}{c}{\\textit{Dependent variable:}} \\\\ \n",
      "\\cline{2-2} \n",
      "\\\\[-1.8ex] & \\multicolumn{1}{c}{intrastate\\_conflict} \\\\ \n",
      "\\hline \\\\[-1.8ex] \n",
      " T1 & -6.08^{**}$ $(2.60) \\\\ \n",
      "  T2 & -1.47$ $(2.71) \\\\ \n",
      "  T3 & -0.32$ $(2.85) \\\\ \n",
      "  T4 & -3.87$ $(2.47) \\\\ \n",
      "  T5 & -2.77$ $(3.42) \\\\ \n",
      "  T6 & 9.25^{***}$ $(2.77) \\\\ \n",
      "  T7 & -6.81^{*}$ $(3.84) \\\\ \n",
      "  T8 & 1.49$ $(5.24) \\\\ \n",
      "  T9 & -4.01$ $(3.07) \\\\ \n",
      "  T10 & -7.49$ $(4.65) \\\\ \n",
      "  T11 & -0.22$ $(2.29) \\\\ \n",
      "  T12 & -3.56$ $(2.18) \\\\ \n",
      "  T13 & -4.10$ $(2.78) \\\\ \n",
      "  T14 & -1.53$ $(3.22) \\\\ \n",
      "  T15 & -1.72$ $(2.71) \\\\ \n",
      "  T16 & -3.47$ $(2.58) \\\\ \n",
      "  T17 & -3.36$ $(3.12) \\\\ \n",
      "  T18 & 3.30$ $(2.64) \\\\ \n",
      "  T19 & -4.67^{*}$ $(2.79) \\\\ \n",
      "  T20 & 1.21$ $(3.93) \\\\ \n",
      "  T21 & 4.50^{*}$ $(2.49) \\\\ \n",
      "  T22 & 0.16$ $(2.51) \\\\ \n",
      "  T23 & -1.45$ $(2.23) \\\\ \n",
      "  Constant & -1.33$ $(1.49) \\\\ \n",
      " \\hline \\\\[-1.8ex] \n",
      "Observations & \\multicolumn{1}{c}{2,426} \\\\ \n",
      "Log Likelihood & \\multicolumn{1}{c}{-806.69} \\\\ \n",
      "Akaike Inf. Crit. & \\multicolumn{1}{c}{1,665.39} \\\\ \n",
      "Bayesian Inf. Crit. & \\multicolumn{1}{c}{1,816.03} \\\\ \n",
      "\\hline \n",
      "\\hline \\\\[-1.8ex] \n",
      "\\textit{Note:}  & \\multicolumn{1}{r}{$^{*}$p$<$0.1; $^{**}$p$<$0.05; $^{***}$p$<$0.01} \\\\ \n",
      "\\end{tabular} \n",
      "\\end{table} \n"
     ]
    }
   ],
   "source": [
    "stargazer(model_gls_3, align=TRUE, digits=2, title='Full Linear Mixed Models', font.size='small', single.row=TRUE, column.sep.width='1pt')"
   ]
  },
  {
   "cell_type": "code",
   "execution_count": 128,
   "id": "recognized-cholesterol",
   "metadata": {
    "collapsed": true,
    "jupyter": {
     "outputs_hidden": true
    }
   },
   "outputs": [
    {
     "name": "stdout",
     "output_type": "stream",
     "text": [
      "\n",
      "% Table created by stargazer v.5.2.2 by Marek Hlavac, Harvard University. E-mail: hlavac at fas.harvard.edu\n",
      "% Date and time: Fri, Jul 30, 2021 - 2:32:12 PM\n",
      "% Requires LaTeX packages: dcolumn \n",
      "\\begin{table}[!htbp] \\centering \n",
      "  \\caption{Control regression} \n",
      "  \\label{} \n",
      "\\small \n",
      "\\begin{tabular}{@{\\extracolsep{1pt}}lD{.}{.}{-2} D{.}{.}{-2} D{.}{.}{-2} } \n",
      "\\\\[-1.8ex]\\hline \n",
      "\\hline \\\\[-1.8ex] \n",
      " & \\multicolumn{3}{c}{\\textit{Dependent variable:}} \\\\ \n",
      "\\cline{2-4} \n",
      "\\\\[-1.8ex] & \\multicolumn{3}{c}{intrastate\\_conflict} \\\\ \n",
      "\\\\[-1.8ex] & \\multicolumn{1}{c}{(1)} & \\multicolumn{1}{c}{(2)} & \\multicolumn{1}{c}{(3)}\\\\ \n",
      "\\hline \\\\[-1.8ex] \n",
      " Resources & 0.01$ $(0.01) &  & 0.01$ $(0.01) \\\\ \n",
      "  EthFrac & 1.42$ $(2.29) &  & 1.97$ $(2.30) \\\\ \n",
      "  LingFrac & -1.05$ $(1.71) &  & -1.16$ $(1.72) \\\\ \n",
      "  RelFrac & -3.63^{**}$ $(1.55) &  & -3.49^{**}$ $(1.55) \\\\ \n",
      "  Transitional & 1.58^{***}$ $(0.50) &  & 1.56^{***}$ $(0.51) \\\\ \n",
      "  AC\\_neighbour & 0.55^{**}$ $(0.23) &  & 0.50^{**}$ $(0.23) \\\\ \n",
      "  Population\\_log & 1.31^{***}$ $(0.25) &  & 1.23^{***}$ $(0.27) \\\\ \n",
      "  GDP\\_capita\\_log & -0.59^{***}$ $(0.18) &  & -0.40^{**}$ $(0.20) \\\\ \n",
      "  ForeignAid\\_log & 0.16$ $(0.13) &  & 0.22$ $(0.15) \\\\ \n",
      "  T1 &  & -10.54^{***}$ $(3.38) & -10.30^{***}$ $(3.50) \\\\ \n",
      "  T2 &  & -7.54^{**}$ $(3.67) & -9.47^{**}$ $(3.74) \\\\ \n",
      "  T3 &  & -3.01$ $(3.75) & -3.31$ $(3.81) \\\\ \n",
      "  T4 &  & -4.58$ $(3.36) & -6.16^{*}$ $(3.42) \\\\ \n",
      "  T5 &  & -7.89$ $(5.13) & -4.14$ $(5.09) \\\\ \n",
      "  T6 &  & 7.42^{**}$ $(3.58) & 5.17$ $(3.60) \\\\ \n",
      "  T7 &  & -17.65^{***}$ $(6.50) & -15.88^{**}$ $(6.62) \\\\ \n",
      "  T8 &  & -4.44$ $(6.89) & -3.34$ $(7.07) \\\\ \n",
      "  T9 &  & -5.70$ $(3.73) & -6.03$ $(3.74) \\\\ \n",
      "  T10 &  & -14.27^{***}$ $(5.53) & -14.95^{***}$ $(5.48) \\\\ \n",
      "  T11 &  & -4.72$ $(3.14) & -5.89^{*}$ $(3.16) \\\\ \n",
      "  T12 &  & -7.27^{**}$ $(2.87) & -8.34^{***}$ $(2.92) \\\\ \n",
      "  T13 &  & -5.89^{*}$ $(3.50) & -6.87^{*}$ $(3.56) \\\\ \n",
      "  T14 &  & -6.02$ $(4.17) & -8.63^{**}$ $(4.32) \\\\ \n",
      "  T15 &  & -7.12^{**}$ $(3.48) & -7.64^{**}$ $(3.54) \\\\ \n",
      "  T16 &  & -5.30$ $(3.24) & -5.88^{*}$ $(3.27) \\\\ \n",
      "  T17 &  & -8.32^{**}$ $(4.23) & -7.99^{*}$ $(4.24) \\\\ \n",
      "  T18 &  & -0.42$ $(3.52) & -1.64$ $(3.55) \\\\ \n",
      "  T19 &  & -5.89$ $(3.68) & -4.85$ $(3.71) \\\\ \n",
      "  T20 &  & -1.43$ $(5.42) & -0.73$ $(5.45) \\\\ \n",
      "  T21 &  & -0.52$ $(3.09) & -2.80$ $(3.17) \\\\ \n",
      "  T22 &  & -2.12$ $(3.22) & -1.58$ $(3.26) \\\\ \n",
      "  T23 &  & -4.73$ $(3.12) & -4.55$ $(3.15) \\\\ \n",
      "  Constant & -17.92^{***}$ $(3.20) & 1.61$ $(1.89) & -13.15^{***}$ $(4.09) \\\\ \n",
      " \\hline \\\\[-1.8ex] \n",
      "Observations & \\multicolumn{1}{c}{1,638} & \\multicolumn{1}{c}{1,638} & \\multicolumn{1}{c}{1,638} \\\\ \n",
      "Log Likelihood & \\multicolumn{1}{c}{-492.73} & \\multicolumn{1}{c}{-493.19} & \\multicolumn{1}{c}{-465.95} \\\\ \n",
      "Akaike Inf. Crit. & \\multicolumn{1}{c}{1,009.45} & \\multicolumn{1}{c}{1,038.37} & \\multicolumn{1}{c}{1,001.90} \\\\ \n",
      "Bayesian Inf. Crit. & \\multicolumn{1}{c}{1,074.27} & \\multicolumn{1}{c}{1,178.80} & \\multicolumn{1}{c}{1,190.95} \\\\ \n",
      "\\hline \n",
      "\\hline \\\\[-1.8ex] \n",
      "\\textit{Note:}  & \\multicolumn{3}{r}{$^{*}$p$<$0.1; $^{**}$p$<$0.05; $^{***}$p$<$0.01} \\\\ \n",
      "\\end{tabular} \n",
      "\\end{table} \n"
     ]
    }
   ],
   "source": [
    "stargazer(c(model_gls_ind, model_gls_ind_only, model_gls_ind_all), align=TRUE, digits=2, title=c('Control regression', 'Index regression', 'Index & Control regression'), font.size='small', single.row=TRUE, column.sep.width='1pt')"
   ]
  },
  {
   "cell_type": "code",
   "execution_count": 46,
   "id": "reasonable-resident",
   "metadata": {
    "collapsed": true,
    "jupyter": {
     "outputs_hidden": true
    }
   },
   "outputs": [
    {
     "name": "stderr",
     "output_type": "stream",
     "text": [
      "\n",
      "Correlation matrix not shown by default, as p = 24 > 12.\n",
      "Use print(obj, correlation=TRUE)  or\n",
      "    vcov(obj)        if you need it\n",
      "\n",
      "\n"
     ]
    },
    {
     "data": {
      "text/plain": [
       "Generalized linear mixed model fit by maximum likelihood (Laplace\n",
       "  Approximation) [glmerMod]\n",
       " Family: binomial  ( logit )\n",
       "Formula: intrastate_conflict ~ T1 + T2 + T3 + T4 + T5 + T6 + T7 + T8 +  \n",
       "    T9 + T10 + T11 + T12 + T13 + T14 + T15 + T16 + T17 + T18 +  \n",
       "    T19 + T20 + T21 + T22 + T23 + (1 | countryname)\n",
       "   Data: indices_df\n",
       "\n",
       "     AIC      BIC   logLik deviance df.resid \n",
       "  1673.9   1818.7   -811.9   1623.9     2401 \n",
       "\n",
       "Scaled residuals: \n",
       "    Min      1Q  Median      3Q     Max \n",
       "-3.0336 -0.3664 -0.1546 -0.0770  7.2930 \n",
       "\n",
       "Random effects:\n",
       " Groups      Name        Variance Std.Dev.\n",
       " countryname (Intercept) 4.769    2.184   \n",
       "Number of obs: 2426, groups:  countryname, 54\n",
       "\n",
       "Fixed effects:\n",
       "            Estimate Std. Error z value Pr(>|z|)    \n",
       "(Intercept)  -1.4825     1.4665  -1.011 0.312040    \n",
       "T1           -6.3916     2.5819  -2.476 0.013303 *  \n",
       "T2           -1.3520     2.6586  -0.509 0.611085    \n",
       "T3           -0.4412     2.7859  -0.158 0.874162    \n",
       "T4           -2.6568     2.3866  -1.113 0.265608    \n",
       "T5           -4.1384     3.2829  -1.261 0.207457    \n",
       "T6           10.2445     2.6858   3.814 0.000137 ***\n",
       "T7           -6.5723     3.7159  -1.769 0.076944 .  \n",
       "T8            1.7284     5.1811   0.334 0.738685    \n",
       "T9           -3.3955     2.9353  -1.157 0.247361    \n",
       "T10          -6.9313     4.5521  -1.523 0.127845    \n",
       "T11          -0.1591     2.2148  -0.072 0.942735    \n",
       "T12          -2.5566     2.0997  -1.218 0.223387    \n",
       "T13          -3.0429     2.6654  -1.142 0.253599    \n",
       "T14          -2.2804     3.1302  -0.729 0.466295    \n",
       "T15          -0.4974     2.5828  -0.193 0.847284    \n",
       "T16          -2.5555     2.4961  -1.024 0.305938    \n",
       "T17          -2.9663     3.0529  -0.972 0.331230    \n",
       "T18           3.3110     2.5806   1.283 0.199485    \n",
       "T19          -4.7740     2.6848  -1.778 0.075379 .  \n",
       "T20           0.7586     3.8368   0.198 0.843261    \n",
       "T21           4.7484     2.4406   1.946 0.051702 .  \n",
       "T22          -0.4359     2.4475  -0.178 0.858646    \n",
       "T23          -1.6062     2.1859  -0.735 0.462460    \n",
       "---\n",
       "Signif. codes:  0 '***' 0.001 '**' 0.01 '*' 0.05 '.' 0.1 ' ' 1\n",
       "optimizer (Nelder_Mead) convergence code: 0 (OK)\n",
       "Model failed to converge with max|grad| = 0.00816448 (tol = 0.002, component 1)\n"
      ]
     },
     "metadata": {},
     "output_type": "display_data"
    }
   ],
   "source": [
    "summary(model_gls_2)"
   ]
  },
  {
   "cell_type": "code",
   "execution_count": 43,
   "id": "marine-communication",
   "metadata": {
    "collapsed": true,
    "jupyter": {
     "outputs_hidden": true
    }
   },
   "outputs": [
    {
     "name": "stdout",
     "output_type": "stream",
     "text": [
      "Generalized linear mixed model fit by maximum likelihood (Laplace\n",
      "  Approximation) [glmerMod]\n",
      " Family: binomial  ( logit )\n",
      "Formula: intrastate_conflict ~ T1 + T2 + T3 + T4 + T5 + T6 + T7 + T8 +  \n",
      "    T9 + T10 + T11 + T12 + T13 + T14 + T15 + T16 + T17 + T18 +  \n",
      "    T19 + T20 + T21 + T22 + T23 + (1 | countryname)\n",
      "   Data: indices_df\n",
      "      AIC       BIC    logLik  deviance  df.resid \n",
      "1673.8531 1818.7030 -811.9265 1623.8531      2401 \n",
      "Random effects:\n",
      " Groups      Name        Std.Dev.\n",
      " countryname (Intercept) 2.184   \n",
      "Number of obs: 2426, groups:  countryname, 54\n",
      "Fixed Effects:\n",
      "(Intercept)           T1           T2           T3           T4           T5  \n",
      "    -1.4825      -6.3916      -1.3520      -0.4412      -2.6568      -4.1384  \n",
      "         T6           T7           T8           T9          T10          T11  \n",
      "    10.2445      -6.5723       1.7284      -3.3955      -6.9313      -0.1591  \n",
      "        T12          T13          T14          T15          T16          T17  \n",
      "    -2.5566      -3.0429      -2.2804      -0.4974      -2.5555      -2.9663  \n",
      "        T18          T19          T20          T21          T22          T23  \n",
      "     3.3110      -4.7740       0.7586       4.7484      -0.4359      -1.6062  \n",
      "optimizer (Nelder_Mead) convergence code: 0 (OK) ; 0 optimizer warnings; 1 lme4 warnings \n"
     ]
    }
   ],
   "source": [
    "print(model_gls_2)"
   ]
  },
  {
   "cell_type": "code",
   "execution_count": 136,
   "id": "undefined-george",
   "metadata": {},
   "outputs": [
    {
     "name": "stderr",
     "output_type": "stream",
     "text": [
      "Warning message in (function (fn, par, lower = rep.int(-Inf, n), upper = rep.int(Inf, :\n",
      "\"failure to converge in 10000 evaluations\"\n",
      "Warning message in optwrap(optimizer, devfun, start, rho$lower, control = control, :\n",
      "\"convergence code 4 from Nelder_Mead: failure to converge in 10000 evaluations\"\n",
      "boundary (singular) fit: see ?isSingular\n",
      "\n"
     ]
    }
   ],
   "source": [
    "model_re <- glmer(\n",
    "  intrastate_conflict ~ T1 + T2 + T3 + T4 + T5 + T6 + T7 + T8 + T9 + T10 + T11 + T12 + T13 + T14 + T15 + T16 + T17 + T18 + T19 + T20 + T21 + T22 + T23 + (1 + year | country),\n",
    "  data = indices_df,\n",
    "    family='binomial'\n",
    ")"
   ]
  },
  {
   "cell_type": "code",
   "execution_count": 146,
   "id": "homeless-brick",
   "metadata": {},
   "outputs": [
    {
     "data": {
      "image/png": "[encoded data removed]",
      "text/plain": [
       "plot without title"
      ]
     },
     "metadata": {
      "image/png": {
       "height": 420,
       "width": 420
      }
     },
     "output_type": "display_data"
    }
   ],
   "source": [
    "plot(model_re)"
   ]
  },
  {
   "cell_type": "code",
   "execution_count": 135,
   "id": "devoted-africa",
   "metadata": {},
   "outputs": [
    {
     "name": "stderr",
     "output_type": "stream",
     "text": [
      "\n",
      "Please cite as: \n",
      "\n",
      "\n",
      " Hlavac, Marek (2018). stargazer: Well-Formatted Regression and Summary Statistics Tables.\n",
      "\n",
      " R package version 5.2.2. https://CRAN.R-project.org/package=stargazer \n",
      "\n",
      "\n"
     ]
    }
   ],
   "source": [
    "library(stargazer)\n"
   ]
  },
  {
   "cell_type": "code",
   "execution_count": 141,
   "id": "outside-custody",
   "metadata": {},
   "outputs": [
    {
     "name": "stdout",
     "output_type": "stream",
     "text": [
      "\n",
      "% Table created by stargazer v.5.2.2 by Marek Hlavac, Harvard University. E-mail: hlavac at fas.harvard.edu\n",
      "% Date and time: Sat, Jul 24, 2021 - 8:24:57 PM\n",
      "% Requires LaTeX packages: dcolumn \n",
      "\\begin{table}[!htbp] \\centering \n",
      "  \\caption{Random effects model} \n",
      "  \\label{} \n",
      "\\begin{tabular}{@{\\extracolsep{5pt}}lD{.}{.}{-3} } \n",
      "\\\\[-1.8ex]\\hline \n",
      "\\hline \\\\[-1.8ex] \n",
      " & \\multicolumn{1}{c}{\\textit{Dependent variable:}} \\\\ \n",
      "\\cline{2-2} \n",
      "\\\\[-1.8ex] & \\multicolumn{1}{c}{intrastate\\_conflict} \\\\ \n",
      "\\hline \\\\[-1.8ex] \n",
      " T1 & -2.662^{**}$ $(1.066) \\\\ \n",
      "  T2 & -0.295$ $(0.547) \\\\ \n",
      "  T3 & -0.134$ $(0.795) \\\\ \n",
      "  T4 & -0.720$ $(0.643) \\\\ \n",
      "  T5 & -1.128$ $(0.935) \\\\ \n",
      "  T6 & 3.096^{***}$ $(0.817) \\\\ \n",
      "  T7 & -2.018^{*}$ $(1.141) \\\\ \n",
      "  T8 & 0.229$ $(0.677) \\\\ \n",
      "  T9 & -0.922$ $(0.797) \\\\ \n",
      "  T10 & -1.342$ $(0.859) \\\\ \n",
      "  T11 & -0.088$ $(0.844) \\\\ \n",
      "  T12 & -1.105$ $(0.872) \\\\ \n",
      "  T13 & -0.654$ $(0.582) \\\\ \n",
      "  T14 & -0.489$ $(0.651) \\\\ \n",
      "  T15 & -0.138$ $(0.655) \\\\ \n",
      "  T16 & -0.836$ $(0.803) \\\\ \n",
      "  T17 & -0.745$ $(0.760) \\\\ \n",
      "  T18 & 0.784$ $(0.631) \\\\ \n",
      "  T19 & -1.515^{*}$ $(0.855) \\\\ \n",
      "  T20 & 0.112$ $(0.586) \\\\ \n",
      "  T21 & 1.353^{*}$ $(0.691) \\\\ \n",
      "  T22 & -0.184$ $(0.846) \\\\ \n",
      "  T23 & -0.482$ $(0.674) \\\\ \n",
      "  Constant & -1.476$ $(1.451) \\\\ \n",
      " \\hline \\\\[-1.8ex] \n",
      "Observations & \\multicolumn{1}{c}{2,426} \\\\ \n",
      "Log Likelihood & \\multicolumn{1}{c}{-811.497} \\\\ \n",
      "Akaike Inf. Crit. & \\multicolumn{1}{c}{1,676.994} \\\\ \n",
      "Bayesian Inf. Crit. & \\multicolumn{1}{c}{1,833.432} \\\\ \n",
      "\\hline \n",
      "\\hline \\\\[-1.8ex] \n",
      "\\textit{Note:}  & \\multicolumn{1}{r}{$^{*}$p$<$0.1; $^{**}$p$<$0.05; $^{***}$p$<$0.01} \\\\ \n",
      "\\end{tabular} \n",
      "\\end{table} \n"
     ]
    }
   ],
   "source": [
    "stargazer(model_re, summary=FALSE, title = 'Random effects model', align = TRUE, single.row=TRUE)\n"
   ]
  },
  {
   "cell_type": "code",
   "execution_count": 158,
   "id": "bigger-franklin",
   "metadata": {},
   "outputs": [
    {
     "name": "stderr",
     "output_type": "stream",
     "text": [
      "boundary (singular) fit: see ?isSingular\n",
      "\n"
     ]
    }
   ],
   "source": [
    "model_re2 <- glmer(\n",
    "  intrastate_conflict ~ ForeignAid_log + Resources + EthFrac + LingFrac + RelFrac + Transitional + AC_neighbour + GDP_capita_log + Population_log + T1 + T2 + T3 + T4 + T5 + T6 + T7 + T8 + T9 + T10 + T11 + T12 + T13 + T14 + T15 + T16 + T17 + T18 + T19 + T20 + T21 + T22 + T23 + (1 + year | countryname),\n",
    "  data = indices_df_c,\n",
    "    family='binomial'\n",
    ")"
   ]
  },
  {
   "cell_type": "code",
   "execution_count": 175,
   "id": "generous-davis",
   "metadata": {},
   "outputs": [
    {
     "name": "stderr",
     "output_type": "stream",
     "text": [
      "\n",
      "Correlation matrix not shown by default, as p = 33 > 12.\n",
      "Use print(obj, correlation=TRUE)  or\n",
      "    vcov(obj)        if you need it\n",
      "\n",
      "\n"
     ]
    },
    {
     "data": {
      "text/plain": [
       "Generalized linear mixed model fit by maximum likelihood (Laplace\n",
       "  Approximation) [glmerMod]\n",
       " Family: binomial  ( logit )\n",
       "Formula: intrastate_conflict ~ ForeignAid_log + Resources + EthFrac +  \n",
       "    LingFrac + RelFrac + Transitional + AC_neighbour + GDP_capita_log +  \n",
       "    Population_log + T1 + T2 + T3 + T4 + T5 + T6 + T7 + T8 +  \n",
       "    T9 + T10 + T11 + T12 + T13 + T14 + T15 + T16 + T17 + T18 +  \n",
       "    T19 + T20 + T21 + T22 + T23 + (1 + year | countryname)\n",
       "   Data: indices_df_c\n",
       "\n",
       "     AIC      BIC   logLik deviance df.resid \n",
       "  1003.9   1198.4   -466.0    931.9     1602 \n",
       "\n",
       "Scaled residuals: \n",
       "    Min      1Q  Median      3Q     Max \n",
       "-3.9530 -0.2912 -0.1342 -0.0371  9.6058 \n",
       "\n",
       "Random effects:\n",
       " Groups      Name        Variance  Std.Dev.  Corr\n",
       " countryname (Intercept) 1.190e+00 1.0908834     \n",
       "             year        1.212e-07 0.0003482 1.00\n",
       "Number of obs: 1638, groups:  countryname, 46\n",
       "\n",
       "Fixed effects:\n",
       "                 Estimate Std. Error z value Pr(>|z|)    \n",
       "(Intercept)    -13.325110   4.100616  -3.250  0.00116 ** \n",
       "ForeignAid_log   0.216116   0.146370   1.477  0.13981    \n",
       "Resources        0.005774   0.011498   0.502  0.61554    \n",
       "EthFrac          1.895863   2.301555   0.824  0.41009    \n",
       "LingFrac        -1.120832   1.720561  -0.651  0.51477    \n",
       "RelFrac         -3.554719   1.550829  -2.292  0.02190 *  \n",
       "Transitional     1.543446   0.504986   3.056  0.00224 ** \n",
       "AC_neighbour     0.489884   0.234935   2.085  0.03705 *  \n",
       "GDP_capita_log  -0.412532   0.201650  -2.046  0.04078 *  \n",
       "Population_log   1.253309   0.274402   4.567 4.94e-06 ***\n",
       "T1              -4.315386   1.453730  -2.968  0.00299 ** \n",
       "T2              -1.966719   0.773998  -2.541  0.01105 *  \n",
       "T3              -0.976060   1.090142  -0.895  0.37060    \n",
       "T4              -1.668758   0.925154  -1.804  0.07127 .  \n",
       "T5              -1.167103   1.458002  -0.800  0.42343    \n",
       "T6               1.597663   1.100093   1.452  0.14642    \n",
       "T7              -4.937503   2.038238  -2.422  0.01542 *  \n",
       "T8              -0.442209   0.933887  -0.474  0.63585    \n",
       "T9              -1.618128   1.021457  -1.584  0.11316    \n",
       "T10             -2.839040   1.038975  -2.733  0.00628 ** \n",
       "T11             -2.238657   1.208154  -1.853  0.06389 .  \n",
       "T12             -3.495047   1.219827  -2.865  0.00417 ** \n",
       "T13             -1.498839   0.780120  -1.921  0.05469 .  \n",
       "T14             -1.793021   0.900766  -1.991  0.04653 *  \n",
       "T15             -1.953321   0.899973  -2.170  0.02997 *  \n",
       "T16             -1.918303   1.056877  -1.815  0.06951 .  \n",
       "T17             -2.013808   1.061256  -1.898  0.05775 .  \n",
       "T18             -0.414259   0.872073  -0.475  0.63477    \n",
       "T19             -1.561767   1.183983  -1.319  0.18714    \n",
       "T20             -0.110623   0.833925  -0.133  0.89447    \n",
       "T21             -0.771755   0.902706  -0.855  0.39259    \n",
       "T22             -0.563008   1.132545  -0.497  0.61911    \n",
       "T23             -1.374443   0.973871  -1.411  0.15815    \n",
       "---\n",
       "Signif. codes:  0 '***' 0.001 '**' 0.01 '*' 0.05 '.' 0.1 ' ' 1\n",
       "optimizer (Nelder_Mead) convergence code: 4 (failure to converge in 10000 evaluations)\n",
       "boundary (singular) fit: see ?isSingular\n",
       "failure to converge in 10000 evaluations\n"
      ]
     },
     "metadata": {},
     "output_type": "display_data"
    }
   ],
   "source": [
    "summary(model_re2)"
   ]
  }
 ],
 "metadata": {
  "kernelspec": {
   "display_name": "R",
   "language": "R",
   "name": "ir"
  },
  "language_info": {
   "codemirror_mode": "r",
   "file_extension": ".r",
   "mimetype": "text/x-r-source",
   "name": "R",
   "pygments_lexer": "r",
   "version": "3.6.3"
  },
  "toc-autonumbering": true
 },
 "nbformat": 4,
 "nbformat_minor": 5
}
