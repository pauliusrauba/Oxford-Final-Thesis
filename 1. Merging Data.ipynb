{
 "cells": [
  {
   "cell_type": "code",
   "execution_count": 1,
   "id": "physical-donna",
   "metadata": {},
   "outputs": [],
   "source": [
    "import pandas as pd\n",
    "import numpy as np\n",
    "import os\n",
    "import country_converter as coco\n",
    "from tqdm import tqdm"
   ]
  },
  {
   "cell_type": "markdown",
   "id": "retired-tourism",
   "metadata": {},
   "source": [
    "# Datasets"
   ]
  },
  {
   "cell_type": "markdown",
   "id": "contained-roberts",
   "metadata": {},
   "source": [
    "## UN General Debate dataset"
   ]
  },
  {
   "cell_type": "markdown",
   "id": "advisory-struggle",
   "metadata": {},
   "source": [
    "### Countries 1970 - 2015"
   ]
  },
  {
   "cell_type": "code",
   "execution_count": 6,
   "id": "cooperative-summer",
   "metadata": {},
   "outputs": [],
   "source": [
    "# Get UN General debates speech\n",
    "dr = '../Data3/un-general-debates.csv'\n",
    "df_old = pd.read_csv(dr)"
   ]
  },
  {
   "cell_type": "markdown",
   "id": "digital-interval",
   "metadata": {},
   "source": [
    "### Countries 2016-2020"
   ]
  },
  {
   "cell_type": "code",
   "execution_count": 124,
   "id": "compliant-country",
   "metadata": {},
   "outputs": [
    {
     "name": "stderr",
     "output_type": "stream",
     "text": [
      "100%|██████████████████████████████████████████████████████████████████████████████████| 51/51 [00:53<00:00,  1.05s/it]\n"
     ]
    }
   ],
   "source": [
    "results = {}\n",
    "for year in tqdm(range(1970,2021)):\n",
    "    sess_nr = year-1945\n",
    "    dr = f'../Data2/TXT/Session {sess_nr} - {year}/'\n",
    "    items_loop = [x for x in os.listdir(dr) if x[0] != '.']\n",
    "    results[year] = {}\n",
    "    for item in items_loop:\n",
    "        \n",
    "        country = item.split('_')[0]\n",
    "        \n",
    "        # Get item\n",
    "        with open(dr + item, 'r', encoding='utf8') as f:\n",
    "            txt = f.read()\n",
    "            \n",
    "        results[year][country] = txt\n",
    "        "
   ]
  },
  {
   "cell_type": "code",
   "execution_count": 125,
   "id": "successful-outdoors",
   "metadata": {},
   "outputs": [],
   "source": [
    "countries = pd.melt(pd.DataFrame(results).transpose().reset_index(),id_vars='index')"
   ]
  },
  {
   "cell_type": "code",
   "execution_count": 126,
   "id": "connected-learning",
   "metadata": {},
   "outputs": [],
   "source": [
    "countries = countries.dropna().copy()\n",
    "countries['variable'] = countries.variable.replace('POR', 'PRT')\n",
    "countries.columns = ['year', 'country', 'text']"
   ]
  },
  {
   "cell_type": "code",
   "execution_count": 128,
   "id": "aboriginal-renaissance",
   "metadata": {},
   "outputs": [],
   "source": [
    "def year_to_session(year):\n",
    "    \n",
    "    return year-1945"
   ]
  },
  {
   "cell_type": "code",
   "execution_count": 129,
   "id": "engaging-literature",
   "metadata": {},
   "outputs": [],
   "source": [
    "countries['session'] = countries.year.map(year_to_session)"
   ]
  },
  {
   "cell_type": "code",
   "execution_count": 667,
   "id": "critical-region",
   "metadata": {},
   "outputs": [
    {
     "ename": "NameError",
     "evalue": "name 'countries' is not defined",
     "output_type": "error",
     "traceback": [
      "\u001b[1;31m---------------------------------------------------------------------------\u001b[0m",
      "\u001b[1;31mNameError\u001b[0m                                 Traceback (most recent call last)",
      "\u001b[1;32m<ipython-input-667-80ac81c4658d>\u001b[0m in \u001b[0;36m<module>\u001b[1;34m\u001b[0m\n\u001b[1;32m----> 1\u001b[1;33m \u001b[0mvars2016\u001b[0m \u001b[1;33m=\u001b[0m \u001b[0mcountries\u001b[0m\u001b[1;33m.\u001b[0m\u001b[0mcountry\u001b[0m\u001b[1;33m.\u001b[0m\u001b[0mvalues\u001b[0m\u001b[1;33m.\u001b[0m\u001b[0mtolist\u001b[0m\u001b[1;33m(\u001b[0m\u001b[1;33m)\u001b[0m\u001b[1;33m\u001b[0m\u001b[1;33m\u001b[0m\u001b[0m\n\u001b[0m\u001b[0;32m      2\u001b[0m \u001b[0mvars1970\u001b[0m \u001b[1;33m=\u001b[0m \u001b[0mdf_old\u001b[0m\u001b[1;33m.\u001b[0m\u001b[0mcountry\u001b[0m\u001b[1;33m.\u001b[0m\u001b[0mvalues\u001b[0m\u001b[1;33m.\u001b[0m\u001b[0mtolist\u001b[0m\u001b[1;33m(\u001b[0m\u001b[1;33m)\u001b[0m\u001b[1;33m\u001b[0m\u001b[1;33m\u001b[0m\u001b[0m\n\u001b[0;32m      3\u001b[0m \u001b[0mprint\u001b[0m\u001b[1;33m(\u001b[0m\u001b[0mnp\u001b[0m\u001b[1;33m.\u001b[0m\u001b[0munique\u001b[0m\u001b[1;33m(\u001b[0m\u001b[0mnp\u001b[0m\u001b[1;33m.\u001b[0m\u001b[0marray\u001b[0m\u001b[1;33m(\u001b[0m\u001b[1;33m[\u001b[0m\u001b[0mx\u001b[0m \u001b[1;32mfor\u001b[0m \u001b[0mx\u001b[0m \u001b[1;32min\u001b[0m \u001b[0mvars1970\u001b[0m \u001b[1;32mif\u001b[0m \u001b[0mx\u001b[0m \u001b[1;32mnot\u001b[0m \u001b[1;32min\u001b[0m \u001b[0mvars2016\u001b[0m\u001b[1;33m]\u001b[0m\u001b[1;33m)\u001b[0m\u001b[1;33m)\u001b[0m\u001b[1;33m)\u001b[0m\u001b[1;33m\u001b[0m\u001b[1;33m\u001b[0m\u001b[0m\n\u001b[0;32m      4\u001b[0m \u001b[0mprint\u001b[0m\u001b[1;33m(\u001b[0m\u001b[0mnp\u001b[0m\u001b[1;33m.\u001b[0m\u001b[0munique\u001b[0m\u001b[1;33m(\u001b[0m\u001b[0mnp\u001b[0m\u001b[1;33m.\u001b[0m\u001b[0marray\u001b[0m\u001b[1;33m(\u001b[0m\u001b[1;33m[\u001b[0m\u001b[0mx\u001b[0m \u001b[1;32mfor\u001b[0m \u001b[0mx\u001b[0m \u001b[1;32min\u001b[0m \u001b[0mvars2016\u001b[0m \u001b[1;32mif\u001b[0m \u001b[0mx\u001b[0m \u001b[1;32mnot\u001b[0m \u001b[1;32min\u001b[0m \u001b[0mvars1970\u001b[0m\u001b[1;33m]\u001b[0m\u001b[1;33m)\u001b[0m\u001b[1;33m)\u001b[0m\u001b[1;33m)\u001b[0m\u001b[1;33m\u001b[0m\u001b[1;33m\u001b[0m\u001b[0m\n",
      "\u001b[1;31mNameError\u001b[0m: name 'countries' is not defined"
     ]
    }
   ],
   "source": [
    "vars2016 = countries.country.values.tolist()\n",
    "vars1970 = df_old.country.values.tolist()\n",
    "print(np.unique(np.array([x for x in vars1970 if x not in vars2016])))\n",
    "print(np.unique(np.array([x for x in vars2016 if x not in vars1970])))"
   ]
  },
  {
   "cell_type": "markdown",
   "id": "gentle-rings",
   "metadata": {},
   "source": [
    "### Importing the data"
   ]
  },
  {
   "cell_type": "code",
   "execution_count": 36,
   "id": "innovative-publisher",
   "metadata": {},
   "outputs": [],
   "source": [
    "df = pd.read_csv('2021-05-31 data UN.csv')"
   ]
  },
  {
   "cell_type": "markdown",
   "id": "opposed-training",
   "metadata": {},
   "source": [
    "### Getting other metrics"
   ]
  },
  {
   "cell_type": "code",
   "execution_count": 37,
   "id": "religious-virgin",
   "metadata": {},
   "outputs": [
    {
     "data": {
      "text/html": [
       "<div>\n",
       "<style scoped>\n",
       "    .dataframe tbody tr th:only-of-type {\n",
       "        vertical-align: middle;\n",
       "    }\n",
       "\n",
       "    .dataframe tbody tr th {\n",
       "        vertical-align: top;\n",
       "    }\n",
       "\n",
       "    .dataframe thead th {\n",
       "        text-align: right;\n",
       "    }\n",
       "</style>\n",
       "<table border=\"1\" class=\"dataframe\">\n",
       "  <thead>\n",
       "    <tr style=\"text-align: right;\">\n",
       "      <th></th>\n",
       "      <th>year</th>\n",
       "      <th>country</th>\n",
       "      <th>text</th>\n",
       "      <th>session</th>\n",
       "    </tr>\n",
       "  </thead>\n",
       "  <tbody>\n",
       "    <tr>\n",
       "      <th>0</th>\n",
       "      <td>1970</td>\n",
       "      <td>ALB</td>\n",
       "      <td>33: May I first convey to our President the co...</td>\n",
       "      <td>25</td>\n",
       "    </tr>\n",
       "    <tr>\n",
       "      <th>1</th>\n",
       "      <td>1971</td>\n",
       "      <td>ALB</td>\n",
       "      <td>110.\\t  This session of the General Assembly i...</td>\n",
       "      <td>26</td>\n",
       "    </tr>\n",
       "    <tr>\n",
       "      <th>2</th>\n",
       "      <td>1972</td>\n",
       "      <td>ALB</td>\n",
       "      <td>First, may I, Mr. President, express to you th...</td>\n",
       "      <td>27</td>\n",
       "    </tr>\n",
       "    <tr>\n",
       "      <th>3</th>\n",
       "      <td>1973</td>\n",
       "      <td>ALB</td>\n",
       "      <td>﻿86.\\tMr. President, on behalf of the People's...</td>\n",
       "      <td>28</td>\n",
       "    </tr>\n",
       "    <tr>\n",
       "      <th>4</th>\n",
       "      <td>1974</td>\n",
       "      <td>ALB</td>\n",
       "      <td>Mr. President, I wish first of all, on behalf ...</td>\n",
       "      <td>29</td>\n",
       "    </tr>\n",
       "  </tbody>\n",
       "</table>\n",
       "</div>"
      ],
      "text/plain": [
       "   year country                                               text  session\n",
       "0  1970     ALB  33: May I first convey to our President the co...       25\n",
       "1  1971     ALB  110.\\t  This session of the General Assembly i...       26\n",
       "2  1972     ALB  First, may I, Mr. President, express to you th...       27\n",
       "3  1973     ALB  ﻿86.\\tMr. President, on behalf of the People's...       28\n",
       "4  1974     ALB  Mr. President, I wish first of all, on behalf ...       29"
      ]
     },
     "execution_count": 37,
     "metadata": {},
     "output_type": "execute_result"
    }
   ],
   "source": [
    "df.head()"
   ]
  },
  {
   "cell_type": "markdown",
   "id": "english-style",
   "metadata": {},
   "source": [
    "### Getting full name"
   ]
  },
  {
   "cell_type": "code",
   "execution_count": 38,
   "id": "explicit-trouble",
   "metadata": {},
   "outputs": [
    {
     "name": "stderr",
     "output_type": "stream",
     "text": [
      "CSK not found in ISO3\n",
      "DDR not found in ISO3\n",
      "EU not found in ISO2\n",
      "YDYE not found in regex\n",
      "YUG not found in ISO3\n"
     ]
    }
   ],
   "source": [
    "UN = pd.DataFrame(pd.Series(df.country.unique()).sort_values().reset_index(drop=True))\n",
    "\n",
    "# Change the column name\n",
    "UN.columns = ['abbr']\n",
    "\n",
    "# Get country converter\n",
    "cc = coco.CountryConverter()\n",
    "\n",
    "# Get the abbreviations\n",
    "UN['full_name'] = UN.abbr.map(lambda x: cc.convert(names=x, to='name_short'))\n",
    "\n",
    "# Export the names \n",
    "#UN.to_excel(\"UN_dataset.xlsx\")"
   ]
  },
  {
   "cell_type": "markdown",
   "id": "norman-headquarters",
   "metadata": {},
   "source": [
    "### Getting time"
   ]
  },
  {
   "cell_type": "code",
   "execution_count": 39,
   "id": "referenced-welcome",
   "metadata": {},
   "outputs": [],
   "source": [
    "timeline = pd.read_excel('../Data3/UN_timeline.xlsx')"
   ]
  },
  {
   "cell_type": "code",
   "execution_count": 40,
   "id": "separated-reading",
   "metadata": {},
   "outputs": [],
   "source": [
    "timeline['day'] = timeline.Date.map(lambda x: int(x[:2].strip().replace('-','')))"
   ]
  },
  {
   "cell_type": "code",
   "execution_count": 41,
   "id": "confident-vatican",
   "metadata": {},
   "outputs": [],
   "source": [
    "dates = ['Oct.', 'Sept.', 'Nov.', 'Dec.', 'Jan.']"
   ]
  },
  {
   "cell_type": "code",
   "execution_count": 42,
   "id": "explicit-maker",
   "metadata": {},
   "outputs": [],
   "source": [
    "s = timeline['Date'].iloc[0]"
   ]
  },
  {
   "cell_type": "code",
   "execution_count": 43,
   "id": "documentary-recording",
   "metadata": {},
   "outputs": [],
   "source": [
    "x = 'Oct.2020'"
   ]
  },
  {
   "cell_type": "code",
   "execution_count": 44,
   "id": "biological-publicity",
   "metadata": {},
   "outputs": [],
   "source": [
    "from itertools import compress"
   ]
  },
  {
   "cell_type": "code",
   "execution_count": 47,
   "id": "favorite-minority",
   "metadata": {},
   "outputs": [],
   "source": [
    "def get_month(s, dates=dates):\n",
    "    \n",
    "    for date in dates:\n",
    "        ls = [x for x in s.split() if not x.find(date)]\n",
    "        if len(ls) != 0:\n",
    "            return date\n",
    "    else:\n",
    "        return np.nan"
   ]
  },
  {
   "cell_type": "code",
   "execution_count": 48,
   "id": "suitable-education",
   "metadata": {},
   "outputs": [
    {
     "data": {
      "text/html": [
       "<div>\n",
       "<style scoped>\n",
       "    .dataframe tbody tr th:only-of-type {\n",
       "        vertical-align: middle;\n",
       "    }\n",
       "\n",
       "    .dataframe tbody tr th {\n",
       "        vertical-align: top;\n",
       "    }\n",
       "\n",
       "    .dataframe thead th {\n",
       "        text-align: right;\n",
       "    }\n",
       "</style>\n",
       "<table border=\"1\" class=\"dataframe\">\n",
       "  <thead>\n",
       "    <tr style=\"text-align: right;\">\n",
       "      <th></th>\n",
       "      <th>Session</th>\n",
       "      <th>Date</th>\n",
       "      <th>Meeting Record</th>\n",
       "      <th>Index to Speeches search</th>\n",
       "      <th>day</th>\n",
       "    </tr>\n",
       "  </thead>\n",
       "  <tbody>\n",
       "    <tr>\n",
       "      <th>0</th>\n",
       "      <td>1.0</td>\n",
       "      <td>24-31 Oct. 1946</td>\n",
       "      <td>A/PV.35-45</td>\n",
       "      <td>1946 General Debate</td>\n",
       "      <td>24</td>\n",
       "    </tr>\n",
       "    <tr>\n",
       "      <th>1</th>\n",
       "      <td>2.0</td>\n",
       "      <td>17-23 Sept. 1947</td>\n",
       "      <td>A/PV.82-90</td>\n",
       "      <td>1947 General Debate</td>\n",
       "      <td>17</td>\n",
       "    </tr>\n",
       "    <tr>\n",
       "      <th>2</th>\n",
       "      <td>3.0</td>\n",
       "      <td>23-29 Sept. 1948</td>\n",
       "      <td>A/PV.139-148</td>\n",
       "      <td>1948 General Debate</td>\n",
       "      <td>23</td>\n",
       "    </tr>\n",
       "    <tr>\n",
       "      <th>3</th>\n",
       "      <td>4.0</td>\n",
       "      <td>21-26 Sept. 1949</td>\n",
       "      <td>A/PV.222-229</td>\n",
       "      <td>1949 General Debate</td>\n",
       "      <td>21</td>\n",
       "    </tr>\n",
       "    <tr>\n",
       "      <th>4</th>\n",
       "      <td>5.0</td>\n",
       "      <td>20-28 Sept. 1950</td>\n",
       "      <td>A/PV.279-289</td>\n",
       "      <td>1950 General Debate</td>\n",
       "      <td>20</td>\n",
       "    </tr>\n",
       "  </tbody>\n",
       "</table>\n",
       "</div>"
      ],
      "text/plain": [
       "   Session              Date Meeting Record Index to Speeches search  day\n",
       "0      1.0   24-31 Oct. 1946     A/PV.35-45      1946 General Debate   24\n",
       "1      2.0  17-23 Sept. 1947     A/PV.82-90      1947 General Debate   17\n",
       "2      3.0  23-29 Sept. 1948   A/PV.139-148      1948 General Debate   23\n",
       "3      4.0  21-26 Sept. 1949   A/PV.222-229      1949 General Debate   21\n",
       "4      5.0  20-28 Sept. 1950   A/PV.279-289      1950 General Debate   20"
      ]
     },
     "execution_count": 48,
     "metadata": {},
     "output_type": "execute_result"
    }
   ],
   "source": [
    "timeline.head()"
   ]
  },
  {
   "cell_type": "code",
   "execution_count": 49,
   "id": "prime-shopping",
   "metadata": {},
   "outputs": [],
   "source": [
    "timeline['month'] = timeline.Date.map(get_month)"
   ]
  },
  {
   "cell_type": "code",
   "execution_count": 50,
   "id": "statewide-cathedral",
   "metadata": {},
   "outputs": [],
   "source": [
    "timeline['year'] = timeline['Index to Speeches search'].map(lambda x: str(x).split()[0])"
   ]
  },
  {
   "cell_type": "code",
   "execution_count": 51,
   "id": "broad-seeking",
   "metadata": {},
   "outputs": [
    {
     "data": {
      "text/html": [
       "<div>\n",
       "<style scoped>\n",
       "    .dataframe tbody tr th:only-of-type {\n",
       "        vertical-align: middle;\n",
       "    }\n",
       "\n",
       "    .dataframe tbody tr th {\n",
       "        vertical-align: top;\n",
       "    }\n",
       "\n",
       "    .dataframe thead th {\n",
       "        text-align: right;\n",
       "    }\n",
       "</style>\n",
       "<table border=\"1\" class=\"dataframe\">\n",
       "  <thead>\n",
       "    <tr style=\"text-align: right;\">\n",
       "      <th></th>\n",
       "      <th>Session</th>\n",
       "      <th>Date</th>\n",
       "      <th>Meeting Record</th>\n",
       "      <th>Index to Speeches search</th>\n",
       "      <th>day</th>\n",
       "      <th>month</th>\n",
       "      <th>year</th>\n",
       "    </tr>\n",
       "  </thead>\n",
       "  <tbody>\n",
       "    <tr>\n",
       "      <th>0</th>\n",
       "      <td>1.0</td>\n",
       "      <td>24-31 Oct. 1946</td>\n",
       "      <td>A/PV.35-45</td>\n",
       "      <td>1946 General Debate</td>\n",
       "      <td>24</td>\n",
       "      <td>Oct.</td>\n",
       "      <td>1946</td>\n",
       "    </tr>\n",
       "    <tr>\n",
       "      <th>1</th>\n",
       "      <td>2.0</td>\n",
       "      <td>17-23 Sept. 1947</td>\n",
       "      <td>A/PV.82-90</td>\n",
       "      <td>1947 General Debate</td>\n",
       "      <td>17</td>\n",
       "      <td>Sept.</td>\n",
       "      <td>1947</td>\n",
       "    </tr>\n",
       "    <tr>\n",
       "      <th>2</th>\n",
       "      <td>3.0</td>\n",
       "      <td>23-29 Sept. 1948</td>\n",
       "      <td>A/PV.139-148</td>\n",
       "      <td>1948 General Debate</td>\n",
       "      <td>23</td>\n",
       "      <td>Sept.</td>\n",
       "      <td>1948</td>\n",
       "    </tr>\n",
       "    <tr>\n",
       "      <th>3</th>\n",
       "      <td>4.0</td>\n",
       "      <td>21-26 Sept. 1949</td>\n",
       "      <td>A/PV.222-229</td>\n",
       "      <td>1949 General Debate</td>\n",
       "      <td>21</td>\n",
       "      <td>Sept.</td>\n",
       "      <td>1949</td>\n",
       "    </tr>\n",
       "    <tr>\n",
       "      <th>4</th>\n",
       "      <td>5.0</td>\n",
       "      <td>20-28 Sept. 1950</td>\n",
       "      <td>A/PV.279-289</td>\n",
       "      <td>1950 General Debate</td>\n",
       "      <td>20</td>\n",
       "      <td>Sept.</td>\n",
       "      <td>1950</td>\n",
       "    </tr>\n",
       "    <tr>\n",
       "      <th>...</th>\n",
       "      <td>...</td>\n",
       "      <td>...</td>\n",
       "      <td>...</td>\n",
       "      <td>...</td>\n",
       "      <td>...</td>\n",
       "      <td>...</td>\n",
       "      <td>...</td>\n",
       "    </tr>\n",
       "    <tr>\n",
       "      <th>71</th>\n",
       "      <td>71.0</td>\n",
       "      <td>20-26 Sept. 2016</td>\n",
       "      <td>A/71/PV.8-22</td>\n",
       "      <td>2016 General Debate</td>\n",
       "      <td>20</td>\n",
       "      <td>Sept.</td>\n",
       "      <td>2016</td>\n",
       "    </tr>\n",
       "    <tr>\n",
       "      <th>72</th>\n",
       "      <td>72.0</td>\n",
       "      <td>19-25 Sept. 2017</td>\n",
       "      <td>A/72/PV.3-23</td>\n",
       "      <td>2017 General Debate</td>\n",
       "      <td>19</td>\n",
       "      <td>Sept.</td>\n",
       "      <td>2017</td>\n",
       "    </tr>\n",
       "    <tr>\n",
       "      <th>73</th>\n",
       "      <td>73.0</td>\n",
       "      <td>25 Sept.-1 Oct. 2018</td>\n",
       "      <td>A/73/PV.6-16</td>\n",
       "      <td>2018 General Debate</td>\n",
       "      <td>25</td>\n",
       "      <td>Oct.</td>\n",
       "      <td>2018</td>\n",
       "    </tr>\n",
       "    <tr>\n",
       "      <th>74</th>\n",
       "      <td>74.0</td>\n",
       "      <td>24-30 Sept. 2019</td>\n",
       "      <td>A/74/PV.3-13</td>\n",
       "      <td>2019 General Debate</td>\n",
       "      <td>24</td>\n",
       "      <td>Sept.</td>\n",
       "      <td>2019</td>\n",
       "    </tr>\n",
       "    <tr>\n",
       "      <th>75</th>\n",
       "      <td>75.0</td>\n",
       "      <td>22-26 &amp; 29 Sept.2020</td>\n",
       "      <td>A/75/PV.4-14</td>\n",
       "      <td>2020 General Debate</td>\n",
       "      <td>22</td>\n",
       "      <td>Sept.</td>\n",
       "      <td>2020</td>\n",
       "    </tr>\n",
       "  </tbody>\n",
       "</table>\n",
       "<p>76 rows × 7 columns</p>\n",
       "</div>"
      ],
      "text/plain": [
       "    Session                  Date Meeting Record Index to Speeches search  \\\n",
       "0       1.0       24-31 Oct. 1946     A/PV.35-45      1946 General Debate   \n",
       "1       2.0      17-23 Sept. 1947     A/PV.82-90      1947 General Debate   \n",
       "2       3.0      23-29 Sept. 1948   A/PV.139-148      1948 General Debate   \n",
       "3       4.0      21-26 Sept. 1949   A/PV.222-229      1949 General Debate   \n",
       "4       5.0      20-28 Sept. 1950   A/PV.279-289      1950 General Debate   \n",
       "..      ...                   ...            ...                      ...   \n",
       "71     71.0      20-26 Sept. 2016   A/71/PV.8-22      2016 General Debate   \n",
       "72     72.0      19-25 Sept. 2017   A/72/PV.3-23      2017 General Debate   \n",
       "73     73.0  25 Sept.-1 Oct. 2018   A/73/PV.6-16      2018 General Debate   \n",
       "74     74.0      24-30 Sept. 2019   A/74/PV.3-13      2019 General Debate   \n",
       "75     75.0  22-26 & 29 Sept.2020   A/75/PV.4-14      2020 General Debate   \n",
       "\n",
       "    day  month  year  \n",
       "0    24   Oct.  1946  \n",
       "1    17  Sept.  1947  \n",
       "2    23  Sept.  1948  \n",
       "3    21  Sept.  1949  \n",
       "4    20  Sept.  1950  \n",
       "..  ...    ...   ...  \n",
       "71   20  Sept.  2016  \n",
       "72   19  Sept.  2017  \n",
       "73   25   Oct.  2018  \n",
       "74   24  Sept.  2019  \n",
       "75   22  Sept.  2020  \n",
       "\n",
       "[76 rows x 7 columns]"
      ]
     },
     "execution_count": 51,
     "metadata": {},
     "output_type": "execute_result"
    }
   ],
   "source": [
    "timeline"
   ]
  },
  {
   "cell_type": "code",
   "execution_count": 52,
   "id": "enormous-marathon",
   "metadata": {},
   "outputs": [],
   "source": [
    "timeline = timeline.drop(19) # Dropping inaccurate time"
   ]
  },
  {
   "cell_type": "code",
   "execution_count": 53,
   "id": "precise-postcard",
   "metadata": {},
   "outputs": [],
   "source": [
    "timeline['year'] = range(1946,2021)"
   ]
  },
  {
   "cell_type": "code",
   "execution_count": 54,
   "id": "distinct-marriage",
   "metadata": {},
   "outputs": [],
   "source": [
    "def get_time(row):\n",
    "    return pd.to_datetime(f\"{row['year']}-{row['month'][:-1]}-{row['day']}\")"
   ]
  },
  {
   "cell_type": "code",
   "execution_count": 55,
   "id": "vital-stick",
   "metadata": {},
   "outputs": [],
   "source": [
    "timeline['dt'] = timeline.apply(lambda x: get_time(x), axis=1)"
   ]
  },
  {
   "cell_type": "markdown",
   "id": "spectacular-bulgaria",
   "metadata": {},
   "source": [
    "## Uppsala conflict dataset"
   ]
  },
  {
   "cell_type": "markdown",
   "id": "confirmed-uzbekistan",
   "metadata": {},
   "source": [
    "### Main Dataset"
   ]
  },
  {
   "cell_type": "code",
   "execution_count": 2,
   "id": "active-diameter",
   "metadata": {},
   "outputs": [],
   "source": [
    "dr2 = '../Data3/ucdp-prio-acd-201.csv'"
   ]
  },
  {
   "cell_type": "code",
   "execution_count": 3,
   "id": "excess-dispatch",
   "metadata": {},
   "outputs": [],
   "source": [
    "def get_upps_mapping(df2):\n",
    "    \n",
    "    # Get cbook\n",
    "    cbook = pd.read_excel('../Data3/map2.xlsx')\n",
    "    \n",
    "    # Get mapping\n",
    "    mapping = {i[1][0]:i[1][1] for i in cbook.iterrows()}\n",
    "    \n",
    "    # create column with countrycodes\n",
    "    df2['countrycode'] = df2.gwno_loc.map(lambda ls: [mapping.get(int(x), 'NA') for x in ls.replace(',','').split()])\n",
    "    \n",
    "    # Change columns\n",
    "    df2.columns = [{'countrycode': 'country'}.get(x, x) for x in df2.columns]\n",
    "    \n",
    "    return df2"
   ]
  },
  {
   "cell_type": "code",
   "execution_count": 4,
   "id": "micro-plumbing",
   "metadata": {},
   "outputs": [],
   "source": [
    "# Read Uppsala conflict\n",
    "df2 = pd.read_csv(dr2)\n",
    "\n",
    "# Get mapping between countrycode and country\n",
    "df2 = get_upps_mapping(df2)"
   ]
  },
  {
   "cell_type": "code",
   "execution_count": 14,
   "id": "facial-mattress",
   "metadata": {},
   "outputs": [
    {
     "data": {
      "text/plain": [
       "array(['EGY', 'ISR', 'PHI', 'MYA', 'IND', 'YEM', 'GUA', 'LAO', 'ANG',\n",
       "       'IRQ', 'ETH', 'GNB', 'SUD', 'MZM', 'CHA', 'COL', 'DRV', 'RVN',\n",
       "       'SAF', 'CAM', 'NIG', 'OMA'], dtype=object)"
      ]
     },
     "execution_count": 14,
     "metadata": {},
     "output_type": "execute_result"
    }
   ],
   "source": [
    "df2[df2.year == 1970].country.explode().unique()"
   ]
  },
  {
   "cell_type": "code",
   "execution_count": 17,
   "id": "impossible-recipe",
   "metadata": {},
   "outputs": [
    {
     "data": {
      "text/plain": [
       "array(['EGY', 'ISR', 'PHI', 'MYA', 'IND', 'YEM', 'GUA', 'LAO', 'ANG',\n",
       "       'IRQ', 'ETH', 'GNB', 'SUD', 'MZM', 'CHA', 'COL', 'DRV', 'RVN',\n",
       "       'SAF', 'CAM', 'NIG', 'OMA'], dtype=object)"
      ]
     },
     "execution_count": 17,
     "metadata": {},
     "output_type": "execute_result"
    }
   ],
   "source": [
    "df2[df2.year == 1970].country.explode().unique()"
   ]
  },
  {
   "cell_type": "code",
   "execution_count": 111,
   "id": "taken-neighbor",
   "metadata": {},
   "outputs": [
    {
     "data": {
      "text/plain": [
       "25"
      ]
     },
     "execution_count": 111,
     "metadata": {},
     "output_type": "execute_result"
    }
   ],
   "source": [
    "df2[df2.year == 2010].country.explode().nunique()"
   ]
  },
  {
   "cell_type": "code",
   "execution_count": 114,
   "id": "sublime-employee",
   "metadata": {},
   "outputs": [],
   "source": [
    "country_conflicts = {}\n",
    "for year in range(1970,2020):\n",
    "    cs = df2[df2.year == year].country.explode().nunique()\n",
    "    country_conflicts[year] = cs"
   ]
  },
  {
   "cell_type": "code",
   "execution_count": 120,
   "id": "mental-ecuador",
   "metadata": {},
   "outputs": [],
   "source": [
    "pd.Series(country_conflicts).to_csv(\"2021-06-02 country_n_conflicts.csv\")"
   ]
  },
  {
   "cell_type": "code",
   "execution_count": 96,
   "id": "engaged-isaac",
   "metadata": {},
   "outputs": [],
   "source": [
    "c1971 = df2[df2.year==1971].country.explode().unique()"
   ]
  },
  {
   "cell_type": "code",
   "execution_count": 101,
   "id": "forbidden-final",
   "metadata": {},
   "outputs": [],
   "source": [
    "UN_codes = ['COL', 'GBR', 'GTM', 'IND', 'ISR', 'KHM', 'LKA', 'MAR', 'MDG',\n",
    "       'MMR', 'PAK', 'PHL', 'SDN', 'ZAF', 'ETH', 'LAO', 'TCD', 'UGA']"
   ]
  },
  {
   "cell_type": "code",
   "execution_count": 102,
   "id": "material-indonesian",
   "metadata": {},
   "outputs": [],
   "source": [
    "c1971_UN_transf = [Upps2UN.get(x, 'NA') for x in c1971]"
   ]
  },
  {
   "cell_type": "code",
   "execution_count": 103,
   "id": "angry-ethernet",
   "metadata": {},
   "outputs": [
    {
     "data": {
      "text/plain": [
       "['AGO', 'GNB', 'MOZ', 'VNM', 'NA', 'OMN']"
      ]
     },
     "execution_count": 103,
     "metadata": {},
     "output_type": "execute_result"
    }
   ],
   "source": [
    "[x for x in c1971_UN_transf if x not in UN_codes]"
   ]
  },
  {
   "cell_type": "code",
   "execution_count": 886,
   "id": "reported-dryer",
   "metadata": {},
   "outputs": [
    {
     "data": {
      "text/plain": [
       "Index(['conflict_id', 'location', 'side_a', 'side_a_id', 'side_a_2nd',\n",
       "       'side_b', 'side_b_id', 'side_b_2nd', 'incompatibility',\n",
       "       'territory_name', 'year', 'intensity_level', 'cumulative_intensity',\n",
       "       'type_of_conflict', 'start_date', 'start_prec', 'start_date2',\n",
       "       'start_prec2', 'ep_end', 'ep_end_date', 'ep_end_prec', 'gwno_a',\n",
       "       'gwno_a_2nd', 'gwno_b', 'gwno_b_2nd', 'gwno_loc', 'region', 'version',\n",
       "       'country'],\n",
       "      dtype='object')"
      ]
     },
     "execution_count": 886,
     "metadata": {},
     "output_type": "execute_result"
    }
   ],
   "source": [
    "df2.columns"
   ]
  },
  {
   "cell_type": "markdown",
   "id": "controversial-wellington",
   "metadata": {},
   "source": [
    "### Conflict Deaths"
   ]
  },
  {
   "cell_type": "code",
   "execution_count": null,
   "id": "plastic-triangle",
   "metadata": {},
   "outputs": [],
   "source": [
    "deaths = pd.read_excel('../Data3/ucdp-brd-conf-201.xlsx')"
   ]
  },
  {
   "cell_type": "code",
   "execution_count": 5,
   "id": "cloudy-government",
   "metadata": {},
   "outputs": [],
   "source": [
    "deaths = pd.read_excel(r'C:\\Users\\Paulius\\OneDrive\\Oxford University\\Courses\\Trinity\\Thesis\\Raw Data UN\\Conflict and UN Data\\ucdp-brd-conf-201.xlsx')"
   ]
  },
  {
   "cell_type": "code",
   "execution_count": 6,
   "id": "occupied-parent",
   "metadata": {},
   "outputs": [
    {
     "data": {
      "text/plain": [
       "Index(['conflict_id', 'dyad_id', 'location_inc', 'side_a', 'side_a_id',\n",
       "       'side_a_2nd', 'side_b', 'side_b_id', 'side_b_2nd', 'incompatibility',\n",
       "       'territory_name', 'year', 'bd_best', 'bd_low', 'bd_high',\n",
       "       'type_of_conflict', 'battle_location', 'gwno_a', 'gwno_a_2nd', 'gwno_b',\n",
       "       'gwno_b_2nd', 'gwno_loc', 'gwno_battle', 'region', 'version',\n",
       "       'Unnamed: 25'],\n",
       "      dtype='object')"
      ]
     },
     "execution_count": 6,
     "metadata": {},
     "output_type": "execute_result"
    }
   ],
   "source": [
    "deaths.columns"
   ]
  },
  {
   "cell_type": "code",
   "execution_count": 29,
   "id": "crucial-extraction",
   "metadata": {},
   "outputs": [],
   "source": [
    "usecols = ['conflict_id', 'year', 'bd_best']\n",
    "deaths_filt = deaths[usecols]"
   ]
  },
  {
   "cell_type": "code",
   "execution_count": 30,
   "id": "confidential-hypothesis",
   "metadata": {},
   "outputs": [],
   "source": [
    "assert deaths_filt.groupby(['conflict_id', 'year']).bd_best.count().max() == 1, 'not unique to conflict year'"
   ]
  },
  {
   "cell_type": "markdown",
   "id": "congressional-element",
   "metadata": {},
   "source": [
    "### Merging deaths and conflict data"
   ]
  },
  {
   "cell_type": "code",
   "execution_count": 31,
   "id": "dominican-ordinary",
   "metadata": {},
   "outputs": [],
   "source": [
    "df3 = pd.merge(df2, deaths_filt, on=['conflict_id', 'year'], how='left')"
   ]
  },
  {
   "cell_type": "code",
   "execution_count": 32,
   "id": "preliminary-mathematics",
   "metadata": {},
   "outputs": [
    {
     "data": {
      "text/plain": [
       "<AxesSubplot:xlabel='year'>"
      ]
     },
     "execution_count": 32,
     "metadata": {},
     "output_type": "execute_result"
    },
    {
     "data": {
      "image/png": "[encoded data removed]",
      "text/plain": [
       "<Figure size 432x288 with 1 Axes>"
      ]
     },
     "metadata": {
      "needs_background": "light"
     },
     "output_type": "display_data"
    }
   ],
   "source": [
    "df3.groupby(['conflict_id', 'year']).bd_best.count().reset_index().groupby('year').bd_best.sum().plot()"
   ]
  },
  {
   "cell_type": "code",
   "execution_count": 33,
   "id": "painted-insert",
   "metadata": {},
   "outputs": [
    {
     "data": {
      "text/plain": [
       "Index(['conflict_id', 'location', 'side_a', 'side_a_id', 'side_a_2nd',\n",
       "       'side_b', 'side_b_id', 'side_b_2nd', 'incompatibility',\n",
       "       'territory_name', 'year', 'intensity_level', 'cumulative_intensity',\n",
       "       'type_of_conflict', 'start_date', 'start_prec', 'start_date2',\n",
       "       'start_prec2', 'ep_end', 'ep_end_date', 'ep_end_prec', 'gwno_a',\n",
       "       'gwno_a_2nd', 'gwno_b', 'gwno_b_2nd', 'gwno_loc', 'region', 'version',\n",
       "       'country', 'bd_best'],\n",
       "      dtype='object')"
      ]
     },
     "execution_count": 33,
     "metadata": {},
     "output_type": "execute_result"
    }
   ],
   "source": [
    "df3.columns"
   ]
  },
  {
   "cell_type": "markdown",
   "id": "disciplinary-player",
   "metadata": {},
   "source": [
    "### Merging timeline"
   ]
  },
  {
   "cell_type": "code",
   "execution_count": 34,
   "id": "rolled-correlation",
   "metadata": {},
   "outputs": [],
   "source": [
    "df3['start_date_dt'] = pd.to_datetime(df3['start_date'])"
   ]
  },
  {
   "cell_type": "code",
   "execution_count": 56,
   "id": "cardiovascular-decade",
   "metadata": {},
   "outputs": [],
   "source": [
    "df4 = pd.merge(df3, timeline, on='year', how='left')"
   ]
  },
  {
   "cell_type": "code",
   "execution_count": 57,
   "id": "funky-colony",
   "metadata": {},
   "outputs": [
    {
     "data": {
      "text/plain": [
       "0.0"
      ]
     },
     "execution_count": 57,
     "metadata": {},
     "output_type": "execute_result"
    }
   ],
   "source": [
    "df4.day.isnull().mean()"
   ]
  },
  {
   "cell_type": "code",
   "execution_count": 58,
   "id": "limited-fighter",
   "metadata": {},
   "outputs": [],
   "source": [
    "df4['conflict_before'] = df4['start_date_dt'] <= df4['dt']\n",
    "df4['conflict_days_before'] = (df4['dt'] - df4['start_date_dt']).dt.days"
   ]
  },
  {
   "cell_type": "code",
   "execution_count": 59,
   "id": "threaded-hanging",
   "metadata": {},
   "outputs": [
    {
     "data": {
      "text/plain": [
       "<AxesSubplot:>"
      ]
     },
     "execution_count": 59,
     "metadata": {},
     "output_type": "execute_result"
    },
    {
     "data": {
      "image/png": "[encoded data removed]",
      "text/plain": [
       "<Figure size 432x288 with 1 Axes>"
      ]
     },
     "metadata": {
      "needs_background": "light"
     },
     "output_type": "display_data"
    }
   ],
   "source": [
    "df4['conflict_days_before'].hist()"
   ]
  },
  {
   "cell_type": "markdown",
   "id": "formal-consideration",
   "metadata": {},
   "source": [
    "## Get merged dataframe"
   ]
  },
  {
   "cell_type": "markdown",
   "id": "corporate-adrian",
   "metadata": {},
   "source": [
    "### Get mapping for Uppsala"
   ]
  },
  {
   "cell_type": "code",
   "execution_count": 60,
   "id": "technological-assistant",
   "metadata": {},
   "outputs": [],
   "source": [
    "df4 = df4[df4.year >= 1970].copy()"
   ]
  },
  {
   "cell_type": "code",
   "execution_count": 61,
   "id": "hybrid-clerk",
   "metadata": {},
   "outputs": [],
   "source": [
    "# Get COW mappings\n",
    "COW = pd.read_csv('../Data3/COW country codes.csv')\n"
   ]
  },
  {
   "cell_type": "code",
   "execution_count": 62,
   "id": "skilled-divorce",
   "metadata": {},
   "outputs": [],
   "source": [
    "# Change to Grenada\n",
    "df4.loc[1902, 'country'][1] = 'GRD'\n",
    "\n",
    "# Changing entry from ROW to RUM\n",
    "COW.loc[100, 'StateAbb'] = 'RUM'"
   ]
  },
  {
   "cell_type": "code",
   "execution_count": 63,
   "id": "respective-subsection",
   "metadata": {},
   "outputs": [],
   "source": [
    "COW = COW.append({'CCode': np.nan, 'StateAbb': 'GRD', 'StateNme': 'Grenada'}, ignore_index=True)\n",
    "COW = COW.append({'CCode': np.nan, 'StateAbb': 'SRB', 'StateNme': 'Serbia'}, ignore_index=True) # Append to pandas dataframe GRENADA"
   ]
  },
  {
   "cell_type": "code",
   "execution_count": 64,
   "id": "coral-gallery",
   "metadata": {},
   "outputs": [],
   "source": [
    "# Change some country names\n",
    "COW.loc[0, 'StateNme'] = 'United States'\n",
    "COW.loc[228, 'StateNme'] = 'Timor-Leste'\n",
    "COW.loc[149, 'StateNme'] = 'Rwanda'\n",
    "COW.loc[143, 'StateNme'] = 'DR Congo'\n",
    "COW.loc[16, 'StateNme'] = 'Antigua and Barbuda'\n",
    "COW.loc[130, 'StateNme'] = \"Cote d'Ivoire\"\n",
    "COW.loc[241, 'StateNme'] = 'Micronesia, Fed. Sts.'\n",
    "COW.loc[199, 'StateNme'] = 'Kyrgyz Republic'\n",
    "COW.loc[142, 'StateNme'] = 'Congo Republic'\n",
    "COW.loc[225, 'StateNme'] = 'Brunei Darussalam'\n",
    "COW.loc[120, 'StateNme'] = 'Cabo Verde'"
   ]
  },
  {
   "cell_type": "code",
   "execution_count": 68,
   "id": "nonprofit-morrison",
   "metadata": {},
   "outputs": [
    {
     "data": {
      "text/plain": [
       "StateAbb                KYR\n",
       "CCode                 703.0\n",
       "StateNme    Kyrgyz Republic\n",
       "Name: 199, dtype: object"
      ]
     },
     "execution_count": 68,
     "metadata": {},
     "output_type": "execute_result"
    }
   ],
   "source": [
    "COW.loc[199]"
   ]
  },
  {
   "cell_type": "code",
   "execution_count": 65,
   "id": "conscious-dominant",
   "metadata": {},
   "outputs": [],
   "source": [
    "COW = COW.drop_duplicates()"
   ]
  },
  {
   "cell_type": "markdown",
   "id": "protecting-wales",
   "metadata": {},
   "source": [
    "Democratic Republic of Congo is missing (DRC)"
   ]
  },
  {
   "cell_type": "markdown",
   "id": "genuine-table",
   "metadata": {},
   "source": [
    "### Testing the data"
   ]
  },
  {
   "cell_type": "code",
   "execution_count": 69,
   "id": "solved-thanksgiving",
   "metadata": {},
   "outputs": [
    {
     "data": {
      "text/plain": [
       "['not found',\n",
       " 'not found',\n",
       " 'not found',\n",
       " 'Palestine',\n",
       " 'Eswatini',\n",
       " 'Vatican',\n",
       " 'not found',\n",
       " 'not found']"
      ]
     },
     "execution_count": 69,
     "metadata": {},
     "output_type": "execute_result"
    }
   ],
   "source": [
    "([x for x in UN['full_name'] if x not in COW['StateNme'].tolist()])"
   ]
  },
  {
   "cell_type": "code",
   "execution_count": 70,
   "id": "sunset-disney",
   "metadata": {},
   "outputs": [
    {
     "data": {
      "text/plain": [
       "Series([], Name: country, dtype: object)"
      ]
     },
     "execution_count": 70,
     "metadata": {},
     "output_type": "execute_result"
    }
   ],
   "source": [
    "df4[df4.location == 'Vietnam (North Vietnam)'].country"
   ]
  },
  {
   "cell_type": "code",
   "execution_count": 71,
   "id": "linear-maple",
   "metadata": {},
   "outputs": [
    {
     "data": {
      "text/html": [
       "<div>\n",
       "<style scoped>\n",
       "    .dataframe tbody tr th:only-of-type {\n",
       "        vertical-align: middle;\n",
       "    }\n",
       "\n",
       "    .dataframe tbody tr th {\n",
       "        vertical-align: top;\n",
       "    }\n",
       "\n",
       "    .dataframe thead th {\n",
       "        text-align: right;\n",
       "    }\n",
       "</style>\n",
       "<table border=\"1\" class=\"dataframe\">\n",
       "  <thead>\n",
       "    <tr style=\"text-align: right;\">\n",
       "      <th></th>\n",
       "      <th>StateAbb</th>\n",
       "      <th>CCode</th>\n",
       "      <th>StateNme</th>\n",
       "    </tr>\n",
       "  </thead>\n",
       "  <tbody>\n",
       "    <tr>\n",
       "      <th>221</th>\n",
       "      <td>DRV</td>\n",
       "      <td>816.0</td>\n",
       "      <td>Vietnam</td>\n",
       "    </tr>\n",
       "  </tbody>\n",
       "</table>\n",
       "</div>"
      ],
      "text/plain": [
       "    StateAbb  CCode StateNme\n",
       "221      DRV  816.0  Vietnam"
      ]
     },
     "execution_count": 71,
     "metadata": {},
     "output_type": "execute_result"
    }
   ],
   "source": [
    "COW[COW['StateAbb'] == 'DRV']"
   ]
  },
  {
   "cell_type": "markdown",
   "id": "fifth-seeking",
   "metadata": {},
   "source": [
    "### Merging"
   ]
  },
  {
   "cell_type": "code",
   "execution_count": 72,
   "id": "instrumental-drain",
   "metadata": {},
   "outputs": [],
   "source": [
    "# Merge\n",
    "merged_df = pd.merge(UN, COW, left_on='full_name', right_on='StateNme', how='inner')"
   ]
  },
  {
   "cell_type": "markdown",
   "id": "ideal-ebony",
   "metadata": {},
   "source": [
    "Remainder of the countries are NAs"
   ]
  },
  {
   "cell_type": "markdown",
   "id": "terminal-copyright",
   "metadata": {},
   "source": [
    "- RUM -> Romania (ROM) +\n",
    "- GRD -> Grenada  +\n",
    "- Hyderabad -> Excluded (No UN Speeches on their behalf anyway)\n",
    "\n",
    "\n",
    "Remove (no data on conflicts, although exists in UN speeches):\n",
    "- 'Palestine',\n",
    "- 'Eswatini',\n",
    "- Democratic Republic of Yemen (YDYE, YPR) <-- included\n",
    "\n",
    "\n",
    "No speech but conflict exists:\n",
    "- South Vietnam (excluded, RVN)"
   ]
  },
  {
   "cell_type": "code",
   "execution_count": 73,
   "id": "piano-madagascar",
   "metadata": {},
   "outputs": [],
   "source": [
    "UppsCountries = np.unique(df4.country.explode()).tolist()\n",
    "UppsAbbCOW = COW['StateAbb'].tolist()"
   ]
  },
  {
   "cell_type": "code",
   "execution_count": 74,
   "id": "demographic-assembly",
   "metadata": {},
   "outputs": [
    {
     "data": {
      "text/plain": [
       "array(['AAB', 'ALB', 'AND', 'ARM', 'AUH', 'AUS', 'BAD', 'BAH', 'BAR',\n",
       "       'BAV', 'BEL', 'BEN', 'BHM', 'BHU', 'BLR', 'BLZ', 'BOL', 'BOT',\n",
       "       'BRA', 'BRU', 'BUL', 'CAN', 'CAP', 'COS', 'CUB', 'CZE', 'CZR',\n",
       "       'DEN', 'DMA', 'DOM', 'EQG', 'EST', 'ETM', 'FIJ', 'FIN', 'FRN',\n",
       "       'FSM', 'GAB', 'GDR', 'GFR', 'GMY', 'GRC', 'GRN', 'GUY', 'HAN',\n",
       "       'HON', 'HSE', 'HSG', 'HUN', 'ICE', 'IRE', 'ITA', 'JAM', 'JPN',\n",
       "       'KIR', 'KOR', 'KOS', 'KYR', 'KZK', 'LAT', 'LIE', 'LIT', 'LUX',\n",
       "       'MAD', 'MAS', 'MAW', 'MEC', 'MLT', 'MNC', 'MNG', 'MOD', 'MON',\n",
       "       'MSI', 'NAM', 'NAU', 'NEW', 'NOR', 'NTH', 'PAL', 'PAP', 'PMA',\n",
       "       'POL', 'POR', 'PRK', 'QAT', 'ROK', 'SAX', 'SEY', 'SIC', 'SIN',\n",
       "       'SKN', 'SLO', 'SLU', 'SLV', 'SNM', 'SOL', 'SRB', 'STP', 'SVG',\n",
       "       'SWA', 'SWD', 'SWZ', 'TAW', 'TKM', 'TON', 'TUS', 'TUV', 'UAE',\n",
       "       'VAN', 'WRT', 'WSM', 'YAR', 'ZAM', 'ZAN'], dtype='<U3')"
      ]
     },
     "execution_count": 74,
     "metadata": {},
     "output_type": "execute_result"
    }
   ],
   "source": [
    "np.unique([x for x in UppsAbbCOW if x not in UppsCountries])"
   ]
  },
  {
   "cell_type": "code",
   "execution_count": 75,
   "id": "equipped-result",
   "metadata": {},
   "outputs": [
    {
     "data": {
      "text/plain": [
       "219"
      ]
     },
     "execution_count": 75,
     "metadata": {},
     "output_type": "execute_result"
    }
   ],
   "source": [
    "len(UppsAbbCOW)"
   ]
  },
  {
   "cell_type": "code",
   "execution_count": 76,
   "id": "excessive-challenge",
   "metadata": {},
   "outputs": [
    {
     "data": {
      "text/html": [
       "<div>\n",
       "<style scoped>\n",
       "    .dataframe tbody tr th:only-of-type {\n",
       "        vertical-align: middle;\n",
       "    }\n",
       "\n",
       "    .dataframe tbody tr th {\n",
       "        vertical-align: top;\n",
       "    }\n",
       "\n",
       "    .dataframe thead th {\n",
       "        text-align: right;\n",
       "    }\n",
       "</style>\n",
       "<table border=\"1\" class=\"dataframe\">\n",
       "  <thead>\n",
       "    <tr style=\"text-align: right;\">\n",
       "      <th></th>\n",
       "      <th>StateAbb</th>\n",
       "      <th>CCode</th>\n",
       "      <th>StateNme</th>\n",
       "    </tr>\n",
       "  </thead>\n",
       "  <tbody>\n",
       "    <tr>\n",
       "      <th>189</th>\n",
       "      <td>YEM</td>\n",
       "      <td>679.0</td>\n",
       "      <td>Yemen</td>\n",
       "    </tr>\n",
       "  </tbody>\n",
       "</table>\n",
       "</div>"
      ],
      "text/plain": [
       "    StateAbb  CCode StateNme\n",
       "189      YEM  679.0    Yemen"
      ]
     },
     "execution_count": 76,
     "metadata": {},
     "output_type": "execute_result"
    }
   ],
   "source": [
    "COW[COW['StateAbb'] == 'YEM']"
   ]
  },
  {
   "cell_type": "code",
   "execution_count": 77,
   "id": "numerous-cartridge",
   "metadata": {},
   "outputs": [
    {
     "data": {
      "text/html": [
       "<div>\n",
       "<style scoped>\n",
       "    .dataframe tbody tr th:only-of-type {\n",
       "        vertical-align: middle;\n",
       "    }\n",
       "\n",
       "    .dataframe tbody tr th {\n",
       "        vertical-align: top;\n",
       "    }\n",
       "\n",
       "    .dataframe thead th {\n",
       "        text-align: right;\n",
       "    }\n",
       "</style>\n",
       "<table border=\"1\" class=\"dataframe\">\n",
       "  <thead>\n",
       "    <tr style=\"text-align: right;\">\n",
       "      <th></th>\n",
       "      <th>conflict_id</th>\n",
       "      <th>location</th>\n",
       "      <th>side_a</th>\n",
       "      <th>side_a_id</th>\n",
       "      <th>side_a_2nd</th>\n",
       "      <th>side_b</th>\n",
       "      <th>side_b_id</th>\n",
       "      <th>side_b_2nd</th>\n",
       "      <th>incompatibility</th>\n",
       "      <th>territory_name</th>\n",
       "      <th>...</th>\n",
       "      <th>start_date_dt</th>\n",
       "      <th>Session</th>\n",
       "      <th>Date</th>\n",
       "      <th>Meeting Record</th>\n",
       "      <th>Index to Speeches search</th>\n",
       "      <th>day</th>\n",
       "      <th>month</th>\n",
       "      <th>dt</th>\n",
       "      <th>conflict_before</th>\n",
       "      <th>conflict_days_before</th>\n",
       "    </tr>\n",
       "  </thead>\n",
       "  <tbody>\n",
       "    <tr>\n",
       "      <th>1552</th>\n",
       "      <td>320</td>\n",
       "      <td>South Yemen, Yemen (North Yemen)</td>\n",
       "      <td>Government of South Yemen</td>\n",
       "      <td>124</td>\n",
       "      <td>NaN</td>\n",
       "      <td>Government of Yemen (North Yemen)</td>\n",
       "      <td>123</td>\n",
       "      <td>NaN</td>\n",
       "      <td>3</td>\n",
       "      <td>Common border</td>\n",
       "      <td>...</td>\n",
       "      <td>1972-02-21</td>\n",
       "      <td>27.0</td>\n",
       "      <td>25 Sept.-11 Oct. 1972</td>\n",
       "      <td>A/PV.2038-2063</td>\n",
       "      <td>1972 General Debate</td>\n",
       "      <td>25</td>\n",
       "      <td>Oct.</td>\n",
       "      <td>1972-10-25</td>\n",
       "      <td>True</td>\n",
       "      <td>247</td>\n",
       "    </tr>\n",
       "    <tr>\n",
       "      <th>1553</th>\n",
       "      <td>320</td>\n",
       "      <td>South Yemen, Yemen (North Yemen)</td>\n",
       "      <td>Government of South Yemen</td>\n",
       "      <td>124</td>\n",
       "      <td>NaN</td>\n",
       "      <td>Government of Yemen (North Yemen)</td>\n",
       "      <td>123</td>\n",
       "      <td>NaN</td>\n",
       "      <td>3</td>\n",
       "      <td>Common border</td>\n",
       "      <td>...</td>\n",
       "      <td>1972-02-21</td>\n",
       "      <td>34.0</td>\n",
       "      <td>24 Sept.-12 Oct. 1979</td>\n",
       "      <td>A/34/PV.5-32</td>\n",
       "      <td>1979 General Debate</td>\n",
       "      <td>24</td>\n",
       "      <td>Oct.</td>\n",
       "      <td>1979-10-24</td>\n",
       "      <td>True</td>\n",
       "      <td>2802</td>\n",
       "    </tr>\n",
       "    <tr>\n",
       "      <th>1985</th>\n",
       "      <td>359</td>\n",
       "      <td>South Yemen</td>\n",
       "      <td>Government of South Yemen</td>\n",
       "      <td>124</td>\n",
       "      <td>NaN</td>\n",
       "      <td>YSP - AFI</td>\n",
       "      <td>324</td>\n",
       "      <td>NaN</td>\n",
       "      <td>2</td>\n",
       "      <td>NaN</td>\n",
       "      <td>...</td>\n",
       "      <td>1986-01-13</td>\n",
       "      <td>41.0</td>\n",
       "      <td>22 Sept.-10 Oct. 1986</td>\n",
       "      <td>A/41/PV.4-32</td>\n",
       "      <td>1986 General Debate</td>\n",
       "      <td>22</td>\n",
       "      <td>Oct.</td>\n",
       "      <td>1986-10-22</td>\n",
       "      <td>True</td>\n",
       "      <td>282</td>\n",
       "    </tr>\n",
       "  </tbody>\n",
       "</table>\n",
       "<p>3 rows × 40 columns</p>\n",
       "</div>"
      ],
      "text/plain": [
       "      conflict_id                          location  \\\n",
       "1552          320  South Yemen, Yemen (North Yemen)   \n",
       "1553          320  South Yemen, Yemen (North Yemen)   \n",
       "1985          359                       South Yemen   \n",
       "\n",
       "                         side_a side_a_id side_a_2nd  \\\n",
       "1552  Government of South Yemen       124        NaN   \n",
       "1553  Government of South Yemen       124        NaN   \n",
       "1985  Government of South Yemen       124        NaN   \n",
       "\n",
       "                                 side_b side_b_id side_b_2nd  incompatibility  \\\n",
       "1552  Government of Yemen (North Yemen)       123        NaN                3   \n",
       "1553  Government of Yemen (North Yemen)       123        NaN                3   \n",
       "1985                          YSP - AFI       324        NaN                2   \n",
       "\n",
       "     territory_name  ...  start_date_dt  Session                    Date  \\\n",
       "1552  Common border  ...     1972-02-21     27.0  25 Sept.-11 Oct. 1972    \n",
       "1553  Common border  ...     1972-02-21     34.0   24 Sept.-12 Oct. 1979   \n",
       "1985            NaN  ...     1986-01-13     41.0   22 Sept.-10 Oct. 1986   \n",
       "\n",
       "      Meeting Record Index to Speeches search  day month         dt  \\\n",
       "1552  A/PV.2038-2063      1972 General Debate   25  Oct. 1972-10-25   \n",
       "1553    A/34/PV.5-32      1979 General Debate   24  Oct. 1979-10-24   \n",
       "1985    A/41/PV.4-32      1986 General Debate   22  Oct. 1986-10-22   \n",
       "\n",
       "      conflict_before conflict_days_before  \n",
       "1552             True                  247  \n",
       "1553             True                 2802  \n",
       "1985             True                  282  \n",
       "\n",
       "[3 rows x 40 columns]"
      ]
     },
     "execution_count": 77,
     "metadata": {},
     "output_type": "execute_result"
    }
   ],
   "source": [
    "df4[df4.country.map(lambda ls: 'YPR' in ls)]"
   ]
  },
  {
   "cell_type": "code",
   "execution_count": 78,
   "id": "moral-college",
   "metadata": {},
   "outputs": [
    {
     "data": {
      "text/html": [
       "<div>\n",
       "<style scoped>\n",
       "    .dataframe tbody tr th:only-of-type {\n",
       "        vertical-align: middle;\n",
       "    }\n",
       "\n",
       "    .dataframe tbody tr th {\n",
       "        vertical-align: top;\n",
       "    }\n",
       "\n",
       "    .dataframe thead th {\n",
       "        text-align: right;\n",
       "    }\n",
       "</style>\n",
       "<table border=\"1\" class=\"dataframe\">\n",
       "  <thead>\n",
       "    <tr style=\"text-align: right;\">\n",
       "      <th></th>\n",
       "      <th>abbr</th>\n",
       "      <th>full_name</th>\n",
       "    </tr>\n",
       "  </thead>\n",
       "  <tbody>\n",
       "    <tr>\n",
       "      <th>195</th>\n",
       "      <td>YEM</td>\n",
       "      <td>Yemen</td>\n",
       "    </tr>\n",
       "  </tbody>\n",
       "</table>\n",
       "</div>"
      ],
      "text/plain": [
       "    abbr full_name\n",
       "195  YEM     Yemen"
      ]
     },
     "execution_count": 78,
     "metadata": {},
     "output_type": "execute_result"
    }
   ],
   "source": [
    "UN[UN.full_name == 'Yemen']"
   ]
  },
  {
   "cell_type": "code",
   "execution_count": 79,
   "id": "promotional-lexington",
   "metadata": {},
   "outputs": [
    {
     "data": {
      "text/html": [
       "<div>\n",
       "<style scoped>\n",
       "    .dataframe tbody tr th:only-of-type {\n",
       "        vertical-align: middle;\n",
       "    }\n",
       "\n",
       "    .dataframe tbody tr th {\n",
       "        vertical-align: top;\n",
       "    }\n",
       "\n",
       "    .dataframe thead th {\n",
       "        text-align: right;\n",
       "    }\n",
       "</style>\n",
       "<table border=\"1\" class=\"dataframe\">\n",
       "  <thead>\n",
       "    <tr style=\"text-align: right;\">\n",
       "      <th></th>\n",
       "      <th>abbr</th>\n",
       "      <th>full_name</th>\n",
       "    </tr>\n",
       "  </thead>\n",
       "  <tbody>\n",
       "    <tr>\n",
       "      <th>194</th>\n",
       "      <td>YDYE</td>\n",
       "      <td>not found</td>\n",
       "    </tr>\n",
       "  </tbody>\n",
       "</table>\n",
       "</div>"
      ],
      "text/plain": [
       "     abbr  full_name\n",
       "194  YDYE  not found"
      ]
     },
     "execution_count": 79,
     "metadata": {},
     "output_type": "execute_result"
    }
   ],
   "source": [
    "UN[UN.abbr == 'YDYE']"
   ]
  },
  {
   "cell_type": "code",
   "execution_count": 81,
   "id": "aging-training",
   "metadata": {},
   "outputs": [
    {
     "data": {
      "text/html": [
       "<div>\n",
       "<style scoped>\n",
       "    .dataframe tbody tr th:only-of-type {\n",
       "        vertical-align: middle;\n",
       "    }\n",
       "\n",
       "    .dataframe tbody tr th {\n",
       "        vertical-align: top;\n",
       "    }\n",
       "\n",
       "    .dataframe thead th {\n",
       "        text-align: right;\n",
       "    }\n",
       "</style>\n",
       "<table border=\"1\" class=\"dataframe\">\n",
       "  <thead>\n",
       "    <tr style=\"text-align: right;\">\n",
       "      <th></th>\n",
       "      <th>StateAbb</th>\n",
       "      <th>CCode</th>\n",
       "      <th>StateNme</th>\n",
       "    </tr>\n",
       "  </thead>\n",
       "  <tbody>\n",
       "  </tbody>\n",
       "</table>\n",
       "</div>"
      ],
      "text/plain": [
       "Empty DataFrame\n",
       "Columns: [StateAbb, CCode, StateNme]\n",
       "Index: []"
      ]
     },
     "execution_count": 81,
     "metadata": {},
     "output_type": "execute_result"
    }
   ],
   "source": [
    "COW[COW.StateNme == 'Democratic Republic of Yemen']"
   ]
  },
  {
   "cell_type": "code",
   "execution_count": 82,
   "id": "unsigned-consistency",
   "metadata": {},
   "outputs": [
    {
     "data": {
      "text/html": [
       "<div>\n",
       "<style scoped>\n",
       "    .dataframe tbody tr th:only-of-type {\n",
       "        vertical-align: middle;\n",
       "    }\n",
       "\n",
       "    .dataframe tbody tr th {\n",
       "        vertical-align: top;\n",
       "    }\n",
       "\n",
       "    .dataframe thead th {\n",
       "        text-align: right;\n",
       "    }\n",
       "</style>\n",
       "<table border=\"1\" class=\"dataframe\">\n",
       "  <thead>\n",
       "    <tr style=\"text-align: right;\">\n",
       "      <th></th>\n",
       "      <th>conflict_id</th>\n",
       "      <th>location</th>\n",
       "      <th>side_a</th>\n",
       "      <th>side_a_id</th>\n",
       "      <th>side_a_2nd</th>\n",
       "      <th>side_b</th>\n",
       "      <th>side_b_id</th>\n",
       "      <th>side_b_2nd</th>\n",
       "      <th>incompatibility</th>\n",
       "      <th>territory_name</th>\n",
       "      <th>...</th>\n",
       "      <th>start_date_dt</th>\n",
       "      <th>Session</th>\n",
       "      <th>Date</th>\n",
       "      <th>Meeting Record</th>\n",
       "      <th>Index to Speeches search</th>\n",
       "      <th>day</th>\n",
       "      <th>month</th>\n",
       "      <th>dt</th>\n",
       "      <th>conflict_before</th>\n",
       "      <th>conflict_days_before</th>\n",
       "    </tr>\n",
       "  </thead>\n",
       "  <tbody>\n",
       "    <tr>\n",
       "      <th>1260</th>\n",
       "      <td>293</td>\n",
       "      <td>South Vietnam, Vietnam (North Vietnam)</td>\n",
       "      <td>Government of South Vietnam</td>\n",
       "      <td>151</td>\n",
       "      <td>Government of Australia, Government of New Zea...</td>\n",
       "      <td>Government of Vietnam (North Vietnam)</td>\n",
       "      <td>150</td>\n",
       "      <td>Government of North Korea</td>\n",
       "      <td>1</td>\n",
       "      <td>South Vietnam</td>\n",
       "      <td>...</td>\n",
       "      <td>1965-12-31</td>\n",
       "      <td>25.0</td>\n",
       "      <td>17 Sept.-2 Oct. 1970</td>\n",
       "      <td>A/PV.1841-1859</td>\n",
       "      <td>1970 General Debate</td>\n",
       "      <td>17</td>\n",
       "      <td>Oct.</td>\n",
       "      <td>1970-10-17</td>\n",
       "      <td>True</td>\n",
       "      <td>1751</td>\n",
       "    </tr>\n",
       "    <tr>\n",
       "      <th>1261</th>\n",
       "      <td>293</td>\n",
       "      <td>South Vietnam, Vietnam (North Vietnam)</td>\n",
       "      <td>Government of South Vietnam</td>\n",
       "      <td>151</td>\n",
       "      <td>Government of Australia, Government of New Zea...</td>\n",
       "      <td>Government of Vietnam (North Vietnam)</td>\n",
       "      <td>150</td>\n",
       "      <td>Government of North Korea</td>\n",
       "      <td>1</td>\n",
       "      <td>South Vietnam</td>\n",
       "      <td>...</td>\n",
       "      <td>1965-12-31</td>\n",
       "      <td>26.0</td>\n",
       "      <td>27 Sept.-13 Oct. 1971</td>\n",
       "      <td>A/PV.1940-1965</td>\n",
       "      <td>1971 General Debate</td>\n",
       "      <td>27</td>\n",
       "      <td>Oct.</td>\n",
       "      <td>1971-10-27</td>\n",
       "      <td>True</td>\n",
       "      <td>2126</td>\n",
       "    </tr>\n",
       "    <tr>\n",
       "      <th>1262</th>\n",
       "      <td>293</td>\n",
       "      <td>South Vietnam, Vietnam (North Vietnam)</td>\n",
       "      <td>Government of South Vietnam</td>\n",
       "      <td>151</td>\n",
       "      <td>Government of Australia, Government of New Zea...</td>\n",
       "      <td>Government of Vietnam (North Vietnam)</td>\n",
       "      <td>150</td>\n",
       "      <td>Government of North Korea</td>\n",
       "      <td>1</td>\n",
       "      <td>South Vietnam</td>\n",
       "      <td>...</td>\n",
       "      <td>1965-12-31</td>\n",
       "      <td>27.0</td>\n",
       "      <td>25 Sept.-11 Oct. 1972</td>\n",
       "      <td>A/PV.2038-2063</td>\n",
       "      <td>1972 General Debate</td>\n",
       "      <td>25</td>\n",
       "      <td>Oct.</td>\n",
       "      <td>1972-10-25</td>\n",
       "      <td>True</td>\n",
       "      <td>2490</td>\n",
       "    </tr>\n",
       "    <tr>\n",
       "      <th>1263</th>\n",
       "      <td>293</td>\n",
       "      <td>South Vietnam, Vietnam (North Vietnam)</td>\n",
       "      <td>Government of South Vietnam</td>\n",
       "      <td>151</td>\n",
       "      <td>Government of South Korea, Government of Unite...</td>\n",
       "      <td>Government of Vietnam (North Vietnam)</td>\n",
       "      <td>150</td>\n",
       "      <td>Government of North Korea</td>\n",
       "      <td>1</td>\n",
       "      <td>South Vietnam</td>\n",
       "      <td>...</td>\n",
       "      <td>1965-12-31</td>\n",
       "      <td>28.0</td>\n",
       "      <td>24 Sept.-11 Oct. 1973</td>\n",
       "      <td>A/PV.2124-2150</td>\n",
       "      <td>1973 General Debate</td>\n",
       "      <td>24</td>\n",
       "      <td>Oct.</td>\n",
       "      <td>1973-10-24</td>\n",
       "      <td>True</td>\n",
       "      <td>2854</td>\n",
       "    </tr>\n",
       "    <tr>\n",
       "      <th>1264</th>\n",
       "      <td>293</td>\n",
       "      <td>South Vietnam, Vietnam (North Vietnam)</td>\n",
       "      <td>Government of South Vietnam</td>\n",
       "      <td>151</td>\n",
       "      <td>NaN</td>\n",
       "      <td>Government of Vietnam (North Vietnam)</td>\n",
       "      <td>150</td>\n",
       "      <td>Government of North Korea</td>\n",
       "      <td>1</td>\n",
       "      <td>South Vietnam</td>\n",
       "      <td>...</td>\n",
       "      <td>1965-12-31</td>\n",
       "      <td>29.0</td>\n",
       "      <td>23 Sept.-10 Oct. 1974</td>\n",
       "      <td>A/PV.2238-2265</td>\n",
       "      <td>1974 General Debate</td>\n",
       "      <td>23</td>\n",
       "      <td>Oct.</td>\n",
       "      <td>1974-10-23</td>\n",
       "      <td>True</td>\n",
       "      <td>3218</td>\n",
       "    </tr>\n",
       "    <tr>\n",
       "      <th>1265</th>\n",
       "      <td>293</td>\n",
       "      <td>South Vietnam, Vietnam (North Vietnam)</td>\n",
       "      <td>Government of South Vietnam</td>\n",
       "      <td>151</td>\n",
       "      <td>NaN</td>\n",
       "      <td>Government of Vietnam (North Vietnam)</td>\n",
       "      <td>150</td>\n",
       "      <td>Government of North Korea</td>\n",
       "      <td>1</td>\n",
       "      <td>South Vietnam</td>\n",
       "      <td>...</td>\n",
       "      <td>1965-12-31</td>\n",
       "      <td>30.0</td>\n",
       "      <td>22 Sept.-9 Oct. 1975</td>\n",
       "      <td>A/PV.2355-2382</td>\n",
       "      <td>1975 General Debate</td>\n",
       "      <td>22</td>\n",
       "      <td>Oct.</td>\n",
       "      <td>1975-10-22</td>\n",
       "      <td>True</td>\n",
       "      <td>3582</td>\n",
       "    </tr>\n",
       "  </tbody>\n",
       "</table>\n",
       "<p>6 rows × 40 columns</p>\n",
       "</div>"
      ],
      "text/plain": [
       "      conflict_id                                location  \\\n",
       "1260          293  South Vietnam, Vietnam (North Vietnam)   \n",
       "1261          293  South Vietnam, Vietnam (North Vietnam)   \n",
       "1262          293  South Vietnam, Vietnam (North Vietnam)   \n",
       "1263          293  South Vietnam, Vietnam (North Vietnam)   \n",
       "1264          293  South Vietnam, Vietnam (North Vietnam)   \n",
       "1265          293  South Vietnam, Vietnam (North Vietnam)   \n",
       "\n",
       "                           side_a side_a_id  \\\n",
       "1260  Government of South Vietnam       151   \n",
       "1261  Government of South Vietnam       151   \n",
       "1262  Government of South Vietnam       151   \n",
       "1263  Government of South Vietnam       151   \n",
       "1264  Government of South Vietnam       151   \n",
       "1265  Government of South Vietnam       151   \n",
       "\n",
       "                                             side_a_2nd  \\\n",
       "1260  Government of Australia, Government of New Zea...   \n",
       "1261  Government of Australia, Government of New Zea...   \n",
       "1262  Government of Australia, Government of New Zea...   \n",
       "1263  Government of South Korea, Government of Unite...   \n",
       "1264                                                NaN   \n",
       "1265                                                NaN   \n",
       "\n",
       "                                     side_b side_b_id  \\\n",
       "1260  Government of Vietnam (North Vietnam)       150   \n",
       "1261  Government of Vietnam (North Vietnam)       150   \n",
       "1262  Government of Vietnam (North Vietnam)       150   \n",
       "1263  Government of Vietnam (North Vietnam)       150   \n",
       "1264  Government of Vietnam (North Vietnam)       150   \n",
       "1265  Government of Vietnam (North Vietnam)       150   \n",
       "\n",
       "                     side_b_2nd  incompatibility territory_name  ...  \\\n",
       "1260  Government of North Korea                1  South Vietnam  ...   \n",
       "1261  Government of North Korea                1  South Vietnam  ...   \n",
       "1262  Government of North Korea                1  South Vietnam  ...   \n",
       "1263  Government of North Korea                1  South Vietnam  ...   \n",
       "1264  Government of North Korea                1  South Vietnam  ...   \n",
       "1265  Government of North Korea                1  South Vietnam  ...   \n",
       "\n",
       "      start_date_dt  Session                    Date  Meeting Record  \\\n",
       "1260     1965-12-31     25.0    17 Sept.-2 Oct. 1970  A/PV.1841-1859   \n",
       "1261     1965-12-31     26.0  27 Sept.-13 Oct. 1971   A/PV.1940-1965   \n",
       "1262     1965-12-31     27.0  25 Sept.-11 Oct. 1972   A/PV.2038-2063   \n",
       "1263     1965-12-31     28.0  24 Sept.-11 Oct. 1973   A/PV.2124-2150   \n",
       "1264     1965-12-31     29.0  23 Sept.-10 Oct. 1974   A/PV.2238-2265   \n",
       "1265     1965-12-31     30.0    22 Sept.-9 Oct. 1975  A/PV.2355-2382   \n",
       "\n",
       "     Index to Speeches search  day month         dt  conflict_before  \\\n",
       "1260      1970 General Debate   17  Oct. 1970-10-17             True   \n",
       "1261      1971 General Debate   27  Oct. 1971-10-27             True   \n",
       "1262      1972 General Debate   25  Oct. 1972-10-25             True   \n",
       "1263      1973 General Debate   24  Oct. 1973-10-24             True   \n",
       "1264      1974 General Debate   23  Oct. 1974-10-23             True   \n",
       "1265      1975 General Debate   22  Oct. 1975-10-22             True   \n",
       "\n",
       "     conflict_days_before  \n",
       "1260                 1751  \n",
       "1261                 2126  \n",
       "1262                 2490  \n",
       "1263                 2854  \n",
       "1264                 3218  \n",
       "1265                 3582  \n",
       "\n",
       "[6 rows x 40 columns]"
      ]
     },
     "execution_count": 82,
     "metadata": {},
     "output_type": "execute_result"
    }
   ],
   "source": [
    "df4[df4.country.map(lambda ls: 'RVN' in ls)]"
   ]
  },
  {
   "cell_type": "markdown",
   "id": "south-policy",
   "metadata": {},
   "source": [
    "## Creating Mappings"
   ]
  },
  {
   "cell_type": "code",
   "execution_count": 84,
   "id": "leading-twenty",
   "metadata": {},
   "outputs": [],
   "source": [
    "# Additional country mappings to add\n",
    "UN2Upps_add = {'CSK':'CZE', # Seems ok. Czech Republic is denoted as CZR\n",
    "               'DDR': 'GDR', # Seems ok\n",
    "               'YUG': 'YUG', # Seems ok\n",
    "              'YDYE': 'YPR', # South Yemen\n",
    "              'SWZ': 'SWZ'} # Eswatini, no conflict\n",
    "\n",
    "# Get mapping\n",
    "UN2Upps = {k[1]['abbr']:k[1]['StateAbb'] for k in merged_df.iterrows()}\n",
    "UN2Upps = {**UN2Upps, **UN2Upps_add}\n",
    "Upps2UN = {v:k for k,v in UN2Upps.items()}"
   ]
  },
  {
   "cell_type": "code",
   "execution_count": 87,
   "id": "contained-eugene",
   "metadata": {},
   "outputs": [
    {
     "data": {
      "text/plain": [
       "'PHL'"
      ]
     },
     "execution_count": 87,
     "metadata": {},
     "output_type": "execute_result"
    }
   ],
   "source": [
    "Upps2UN['PHI']"
   ]
  },
  {
   "cell_type": "code",
   "execution_count": 91,
   "id": "heavy-calendar",
   "metadata": {},
   "outputs": [
    {
     "data": {
      "text/plain": [
       "196"
      ]
     },
     "execution_count": 91,
     "metadata": {},
     "output_type": "execute_result"
    }
   ],
   "source": [
    "len(Upps2UN)"
   ]
  },
  {
   "cell_type": "code",
   "execution_count": 93,
   "id": "informal-bandwidth",
   "metadata": {},
   "outputs": [],
   "source": [
    "import json"
   ]
  },
  {
   "cell_type": "code",
   "execution_count": 94,
   "id": "boolean-dance",
   "metadata": {},
   "outputs": [],
   "source": [
    "with open('mapping_UPS2UN.json', 'w') as outfile:\n",
    "    json.dump(Upps2UN, outfile)"
   ]
  },
  {
   "cell_type": "code",
   "execution_count": 85,
   "id": "cultural-trick",
   "metadata": {},
   "outputs": [],
   "source": [
    "# Get dataframes for UN and Uppsala\n",
    "UN_df = df\n",
    "Upps_df = df4.explode('country')\n",
    "\n",
    "# Get country mapping\n",
    "Upps_df['country_map'] = Upps_df.country.map(Upps2UN)"
   ]
  },
  {
   "cell_type": "code",
   "execution_count": 1252,
   "id": "tender-percentage",
   "metadata": {},
   "outputs": [
    {
     "data": {
      "text/plain": [
       "array(['RVN'], dtype=object)"
      ]
     },
     "execution_count": 1252,
     "metadata": {},
     "output_type": "execute_result"
    }
   ],
   "source": [
    "Upps_df[Upps_df['country_map'].isnull()].country.unique()"
   ]
  },
  {
   "cell_type": "code",
   "execution_count": 1253,
   "id": "spatial-excuse",
   "metadata": {},
   "outputs": [],
   "source": [
    "# Get a count of indices that are conflicts\n",
    "counts_upps = Upps_df.groupby(['country_map', 'year']).conflict_id.count().reset_index()\n",
    "\n",
    "# Get columns\n",
    "cols = ['country_map',\n",
    " 'year',\n",
    " 'conflict_id',\n",
    " 'incompatibility',\n",
    " 'intensity_level',\n",
    " 'type_of_conflict',\n",
    " 'cumulative_intensity',\n",
    " 'bd_best', \n",
    " 'conflict_before']\n",
    "\n",
    "# Get filtered df\n",
    "Upps_df_filtered = Upps_df[cols]"
   ]
  },
  {
   "cell_type": "markdown",
   "id": "comparative-values",
   "metadata": {},
   "source": [
    "## Doing transformations"
   ]
  },
  {
   "cell_type": "code",
   "execution_count": 1254,
   "id": "embedded-broadcasting",
   "metadata": {},
   "outputs": [],
   "source": [
    "def get_cols(conf_df_merged):\n",
    "    \"\"\"Extracts the column names to be changed from the dataframe\"\"\"\n",
    "    \n",
    "    # Get first cols\n",
    "    firstcols = conf_df_merged.columns[0:2].tolist()\n",
    "    cols = conf_df_merged.columns[2:].tolist()\n",
    "    \n",
    "    # Get letters (for labelling columns)\n",
    "    n_letters = int(len(cols)/4)\n",
    "    letters = (['x', 'y', 'z', 'q', 'w', 'r', 't'])\n",
    "    \n",
    "    # Get letters to use\n",
    "    l2use = letters[:n_letters]\n",
    "    \n",
    "    # Get n of unique items\n",
    "    \n",
    "    ls = [[l2use[i]]*7 for i, x in enumerate(l2use)]\n",
    "    \n",
    "    # Get flat list\n",
    "    flat_list = [item for sublist in ls for item in sublist]\n",
    "\n",
    "    # Get new columns\n",
    "    # Rationale: If you merge a lot of columns, the last ones do not have _x in it. So, I change just the letter of the suffix if there is already a suffix, but if there is no suffix, I literally add _x, _y, _z\n",
    "    newcols = [x[:-1] + y if x[-2] == '_' else x + '_' + y for x, y in zip(cols, flat_list)]\n",
    "    all_cols = firstcols + newcols\n",
    "    \n",
    "    return all_cols"
   ]
  },
  {
   "cell_type": "code",
   "execution_count": 1255,
   "id": "informed-interface",
   "metadata": {},
   "outputs": [
    {
     "data": {
      "text/plain": [
       "16"
      ]
     },
     "execution_count": 1255,
     "metadata": {},
     "output_type": "execute_result"
    }
   ],
   "source": [
    "conf_df_merged.columns.tolist().__len__()"
   ]
  },
  {
   "cell_type": "code",
   "execution_count": 1256,
   "id": "annoying-dating",
   "metadata": {},
   "outputs": [
    {
     "data": {
      "text/plain": [
       "16"
      ]
     },
     "execution_count": 1256,
     "metadata": {},
     "output_type": "execute_result"
    }
   ],
   "source": [
    "len(newcols)"
   ]
  },
  {
   "cell_type": "code",
   "execution_count": 1257,
   "id": "adult-spelling",
   "metadata": {},
   "outputs": [
    {
     "data": {
      "text/plain": [
       "Index(['country_map', 'year', 'conflict_id_x', 'incompatibility_x',\n",
       "       'intensity_level_x', 'type_of_conflict_x', 'cumulative_intensity_x',\n",
       "       'bd_best_x', 'conflict_before_x', 'conflict_id_y', 'incompatibility_y',\n",
       "       'intensity_level_y', 'type_of_conflict_y', 'cumulative_intensity_y',\n",
       "       'bd_best_y', 'conflict_before_y'],\n",
       "      dtype='object')"
      ]
     },
     "execution_count": 1257,
     "metadata": {},
     "output_type": "execute_result"
    }
   ],
   "source": [
    "conf_df_merged.columns"
   ]
  },
  {
   "cell_type": "code",
   "execution_count": 1258,
   "id": "bizarre-group",
   "metadata": {},
   "outputs": [],
   "source": [
    "Upps_df_updated = pd.DataFrame()"
   ]
  },
  {
   "cell_type": "code",
   "execution_count": 1259,
   "id": "incorrect-source",
   "metadata": {},
   "outputs": [],
   "source": [
    "for row in counts_upps.iterrows():\n",
    "    cmap = row[1]['country_map']\n",
    "    year = row[1]['year']\n",
    "    \n",
    "    conf_df = Upps_df_filtered.loc[(Upps_df_filtered.country_map==cmap) & (Upps_df_filtered.year == year)]\n",
    "    \n",
    "    # Get number of instances per year\n",
    "    n_items = row[1]['conflict_id']\n",
    "    \n",
    "    # If one row, just append. Otherwise, convert to one row\n",
    "    if n_items == 1:\n",
    "        \n",
    "        # Change the column names (to harmonize)\n",
    "        cols = conf_df.columns\n",
    "        conf_df.columns = [x + '_x' if x in cols[2:] else x for x in cols]\n",
    "        \n",
    "        #Upps_df_updated.columns = [x + '_x' if x not in Upps_df_updated.columns[:2] else x for x in Upps_df_updated.columns]\n",
    "        Upps_df_updated = Upps_df_updated.append(conf_df)\n",
    "        \n",
    "    else:\n",
    "        # Get a list that contains all the conflicts\n",
    "        temp = [conf_df.iloc[[k]] for k in range(n_items)]\n",
    "        \n",
    "        assert len(temp) > 1, 'Only one item in temp'\n",
    "        \n",
    "        # Merge all of the separate datasets\n",
    "        \n",
    "        # Get first item form the list\n",
    "        conf_df_merged = temp[0]\n",
    "        \n",
    "        # Loop over all other items and merge them one by one\n",
    "        for df_ in temp[1:]:\n",
    "              conf_df_merged = conf_df_merged.merge(df_, on=['country_map', 'year'], how='inner')\n",
    "       \n",
    "        #conf_df_merged = pd.merge(*temp, on=['country_map', 'year'], how='inner')\n",
    "        \n",
    "        # Get cols\n",
    "        newcols = get_cols(conf_df_merged)\n",
    "        \n",
    "        conf_df_merged.columns = newcols\n",
    "        \n",
    "        # Append\n",
    "        Upps_df_updated = Upps_df_updated.append(conf_df_merged)"
   ]
  },
  {
   "cell_type": "code",
   "execution_count": 1260,
   "id": "graphic-warren",
   "metadata": {},
   "outputs": [],
   "source": [
    "assert (Upps_df_updated.groupby(['country_map', 'year']).count() > 1).reset_index().iloc[:,2:].sum(axis=1).sum() == 0, 'There are duplicate entries in the dataframe'"
   ]
  },
  {
   "cell_type": "code",
   "execution_count": 1261,
   "id": "hollywood-stick",
   "metadata": {},
   "outputs": [
    {
     "data": {
      "text/html": [
       "<div>\n",
       "<style scoped>\n",
       "    .dataframe tbody tr th:only-of-type {\n",
       "        vertical-align: middle;\n",
       "    }\n",
       "\n",
       "    .dataframe tbody tr th {\n",
       "        vertical-align: top;\n",
       "    }\n",
       "\n",
       "    .dataframe thead th {\n",
       "        text-align: right;\n",
       "    }\n",
       "</style>\n",
       "<table border=\"1\" class=\"dataframe\">\n",
       "  <thead>\n",
       "    <tr style=\"text-align: right;\">\n",
       "      <th></th>\n",
       "      <th>year</th>\n",
       "      <th>country</th>\n",
       "      <th>text</th>\n",
       "      <th>session</th>\n",
       "    </tr>\n",
       "  </thead>\n",
       "  <tbody>\n",
       "    <tr>\n",
       "      <th>0</th>\n",
       "      <td>1970</td>\n",
       "      <td>ALB</td>\n",
       "      <td>33: May I first convey to our President the co...</td>\n",
       "      <td>25</td>\n",
       "    </tr>\n",
       "    <tr>\n",
       "      <th>1</th>\n",
       "      <td>1971</td>\n",
       "      <td>ALB</td>\n",
       "      <td>110.\\t  This session of the General Assembly i...</td>\n",
       "      <td>26</td>\n",
       "    </tr>\n",
       "    <tr>\n",
       "      <th>2</th>\n",
       "      <td>1972</td>\n",
       "      <td>ALB</td>\n",
       "      <td>First, may I, Mr. President, express to you th...</td>\n",
       "      <td>27</td>\n",
       "    </tr>\n",
       "    <tr>\n",
       "      <th>3</th>\n",
       "      <td>1973</td>\n",
       "      <td>ALB</td>\n",
       "      <td>﻿86.\\tMr. President, on behalf of the People's...</td>\n",
       "      <td>28</td>\n",
       "    </tr>\n",
       "    <tr>\n",
       "      <th>4</th>\n",
       "      <td>1974</td>\n",
       "      <td>ALB</td>\n",
       "      <td>Mr. President, I wish first of all, on behalf ...</td>\n",
       "      <td>29</td>\n",
       "    </tr>\n",
       "  </tbody>\n",
       "</table>\n",
       "</div>"
      ],
      "text/plain": [
       "   year country                                               text  session\n",
       "0  1970     ALB  33: May I first convey to our President the co...       25\n",
       "1  1971     ALB  110.\\t  This session of the General Assembly i...       26\n",
       "2  1972     ALB  First, may I, Mr. President, express to you th...       27\n",
       "3  1973     ALB  ﻿86.\\tMr. President, on behalf of the People's...       28\n",
       "4  1974     ALB  Mr. President, I wish first of all, on behalf ...       29"
      ]
     },
     "execution_count": 1261,
     "metadata": {},
     "output_type": "execute_result"
    }
   ],
   "source": [
    "UN_df.head()"
   ]
  },
  {
   "cell_type": "code",
   "execution_count": 1262,
   "id": "described-census",
   "metadata": {},
   "outputs": [
    {
     "data": {
      "text/html": [
       "<div>\n",
       "<style scoped>\n",
       "    .dataframe tbody tr th:only-of-type {\n",
       "        vertical-align: middle;\n",
       "    }\n",
       "\n",
       "    .dataframe tbody tr th {\n",
       "        vertical-align: top;\n",
       "    }\n",
       "\n",
       "    .dataframe thead th {\n",
       "        text-align: right;\n",
       "    }\n",
       "</style>\n",
       "<table border=\"1\" class=\"dataframe\">\n",
       "  <thead>\n",
       "    <tr style=\"text-align: right;\">\n",
       "      <th></th>\n",
       "      <th>country_map</th>\n",
       "      <th>year</th>\n",
       "      <th>conflict_id_x</th>\n",
       "      <th>incompatibility_x</th>\n",
       "      <th>intensity_level_x</th>\n",
       "      <th>type_of_conflict_x</th>\n",
       "      <th>cumulative_intensity_x</th>\n",
       "      <th>bd_best_x</th>\n",
       "      <th>conflict_before_x</th>\n",
       "      <th>conflict_id_y</th>\n",
       "      <th>...</th>\n",
       "      <th>cumulative_intensity_r</th>\n",
       "      <th>bd_best_r</th>\n",
       "      <th>conflict_before_r</th>\n",
       "      <th>conflict_id_t</th>\n",
       "      <th>incompatibility_t</th>\n",
       "      <th>intensity_level_t</th>\n",
       "      <th>type_of_conflict_t</th>\n",
       "      <th>cumulative_intensity_t</th>\n",
       "      <th>bd_best_t</th>\n",
       "      <th>conflict_before_t</th>\n",
       "    </tr>\n",
       "  </thead>\n",
       "  <tbody>\n",
       "    <tr>\n",
       "      <th>1716</th>\n",
       "      <td>AFG</td>\n",
       "      <td>1978</td>\n",
       "      <td>333</td>\n",
       "      <td>2</td>\n",
       "      <td>2</td>\n",
       "      <td>3</td>\n",
       "      <td>1</td>\n",
       "      <td>NaN</td>\n",
       "      <td>True</td>\n",
       "      <td>NaN</td>\n",
       "      <td>...</td>\n",
       "      <td>NaN</td>\n",
       "      <td>NaN</td>\n",
       "      <td>NaN</td>\n",
       "      <td>NaN</td>\n",
       "      <td>NaN</td>\n",
       "      <td>NaN</td>\n",
       "      <td>NaN</td>\n",
       "      <td>NaN</td>\n",
       "      <td>NaN</td>\n",
       "      <td>NaN</td>\n",
       "    </tr>\n",
       "    <tr>\n",
       "      <th>0</th>\n",
       "      <td>AFG</td>\n",
       "      <td>1979</td>\n",
       "      <td>333</td>\n",
       "      <td>2</td>\n",
       "      <td>2</td>\n",
       "      <td>3</td>\n",
       "      <td>1</td>\n",
       "      <td>NaN</td>\n",
       "      <td>True</td>\n",
       "      <td>431.0</td>\n",
       "      <td>...</td>\n",
       "      <td>NaN</td>\n",
       "      <td>NaN</td>\n",
       "      <td>NaN</td>\n",
       "      <td>NaN</td>\n",
       "      <td>NaN</td>\n",
       "      <td>NaN</td>\n",
       "      <td>NaN</td>\n",
       "      <td>NaN</td>\n",
       "      <td>NaN</td>\n",
       "      <td>NaN</td>\n",
       "    </tr>\n",
       "    <tr>\n",
       "      <th>1718</th>\n",
       "      <td>AFG</td>\n",
       "      <td>1980</td>\n",
       "      <td>333</td>\n",
       "      <td>2</td>\n",
       "      <td>2</td>\n",
       "      <td>4</td>\n",
       "      <td>1</td>\n",
       "      <td>NaN</td>\n",
       "      <td>True</td>\n",
       "      <td>NaN</td>\n",
       "      <td>...</td>\n",
       "      <td>NaN</td>\n",
       "      <td>NaN</td>\n",
       "      <td>NaN</td>\n",
       "      <td>NaN</td>\n",
       "      <td>NaN</td>\n",
       "      <td>NaN</td>\n",
       "      <td>NaN</td>\n",
       "      <td>NaN</td>\n",
       "      <td>NaN</td>\n",
       "      <td>NaN</td>\n",
       "    </tr>\n",
       "    <tr>\n",
       "      <th>1719</th>\n",
       "      <td>AFG</td>\n",
       "      <td>1981</td>\n",
       "      <td>333</td>\n",
       "      <td>2</td>\n",
       "      <td>2</td>\n",
       "      <td>4</td>\n",
       "      <td>1</td>\n",
       "      <td>NaN</td>\n",
       "      <td>True</td>\n",
       "      <td>NaN</td>\n",
       "      <td>...</td>\n",
       "      <td>NaN</td>\n",
       "      <td>NaN</td>\n",
       "      <td>NaN</td>\n",
       "      <td>NaN</td>\n",
       "      <td>NaN</td>\n",
       "      <td>NaN</td>\n",
       "      <td>NaN</td>\n",
       "      <td>NaN</td>\n",
       "      <td>NaN</td>\n",
       "      <td>NaN</td>\n",
       "    </tr>\n",
       "    <tr>\n",
       "      <th>1720</th>\n",
       "      <td>AFG</td>\n",
       "      <td>1982</td>\n",
       "      <td>333</td>\n",
       "      <td>2</td>\n",
       "      <td>2</td>\n",
       "      <td>4</td>\n",
       "      <td>1</td>\n",
       "      <td>NaN</td>\n",
       "      <td>True</td>\n",
       "      <td>NaN</td>\n",
       "      <td>...</td>\n",
       "      <td>NaN</td>\n",
       "      <td>NaN</td>\n",
       "      <td>NaN</td>\n",
       "      <td>NaN</td>\n",
       "      <td>NaN</td>\n",
       "      <td>NaN</td>\n",
       "      <td>NaN</td>\n",
       "      <td>NaN</td>\n",
       "      <td>NaN</td>\n",
       "      <td>NaN</td>\n",
       "    </tr>\n",
       "  </tbody>\n",
       "</table>\n",
       "<p>5 rows × 51 columns</p>\n",
       "</div>"
      ],
      "text/plain": [
       "     country_map  year  conflict_id_x  incompatibility_x  intensity_level_x  \\\n",
       "1716         AFG  1978            333                  2                  2   \n",
       "0            AFG  1979            333                  2                  2   \n",
       "1718         AFG  1980            333                  2                  2   \n",
       "1719         AFG  1981            333                  2                  2   \n",
       "1720         AFG  1982            333                  2                  2   \n",
       "\n",
       "      type_of_conflict_x  cumulative_intensity_x  bd_best_x  \\\n",
       "1716                   3                       1        NaN   \n",
       "0                      3                       1        NaN   \n",
       "1718                   4                       1        NaN   \n",
       "1719                   4                       1        NaN   \n",
       "1720                   4                       1        NaN   \n",
       "\n",
       "      conflict_before_x  conflict_id_y  ...  cumulative_intensity_r  \\\n",
       "1716               True            NaN  ...                     NaN   \n",
       "0                  True          431.0  ...                     NaN   \n",
       "1718               True            NaN  ...                     NaN   \n",
       "1719               True            NaN  ...                     NaN   \n",
       "1720               True            NaN  ...                     NaN   \n",
       "\n",
       "      bd_best_r  conflict_before_r  conflict_id_t  incompatibility_t  \\\n",
       "1716        NaN                NaN            NaN                NaN   \n",
       "0           NaN                NaN            NaN                NaN   \n",
       "1718        NaN                NaN            NaN                NaN   \n",
       "1719        NaN                NaN            NaN                NaN   \n",
       "1720        NaN                NaN            NaN                NaN   \n",
       "\n",
       "     intensity_level_t  type_of_conflict_t  cumulative_intensity_t  bd_best_t  \\\n",
       "1716               NaN                 NaN                     NaN        NaN   \n",
       "0                  NaN                 NaN                     NaN        NaN   \n",
       "1718               NaN                 NaN                     NaN        NaN   \n",
       "1719               NaN                 NaN                     NaN        NaN   \n",
       "1720               NaN                 NaN                     NaN        NaN   \n",
       "\n",
       "      conflict_before_t  \n",
       "1716                NaN  \n",
       "0                   NaN  \n",
       "1718                NaN  \n",
       "1719                NaN  \n",
       "1720                NaN  \n",
       "\n",
       "[5 rows x 51 columns]"
      ]
     },
     "execution_count": 1262,
     "metadata": {},
     "output_type": "execute_result"
    }
   ],
   "source": [
    "Upps_df_updated.head()"
   ]
  },
  {
   "cell_type": "code",
   "execution_count": 1292,
   "id": "relative-hughes",
   "metadata": {},
   "outputs": [],
   "source": [
    "export_df = pd.merge(UN_df, Upps_df_updated, how='left', left_on=['year', 'country'], right_on=['year', 'country_map'])"
   ]
  },
  {
   "cell_type": "code",
   "execution_count": 1293,
   "id": "interracial-presence",
   "metadata": {},
   "outputs": [],
   "source": [
    "export_df['is_war'] = export_df['conflict_id_x'].notnull()"
   ]
  },
  {
   "cell_type": "code",
   "execution_count": 1294,
   "id": "israeli-article",
   "metadata": {},
   "outputs": [
    {
     "data": {
      "text/plain": [
       "0.16318830326612427"
      ]
     },
     "execution_count": 1294,
     "metadata": {},
     "output_type": "execute_result"
    }
   ],
   "source": [
    "export_df['is_war'].mean()"
   ]
  },
  {
   "cell_type": "code",
   "execution_count": 1295,
   "id": "comic-atlanta",
   "metadata": {},
   "outputs": [],
   "source": [
    "assert export_df.groupby(['year', 'country']).text.count().max() == 1, 'Duplicate entries discovered'"
   ]
  },
  {
   "cell_type": "code",
   "execution_count": 1296,
   "id": "aquatic-nothing",
   "metadata": {},
   "outputs": [
    {
     "data": {
      "text/plain": [
       "Index(['year', 'country', 'text', 'session', 'country_map', 'conflict_id_x',\n",
       "       'incompatibility_x', 'intensity_level_x', 'type_of_conflict_x',\n",
       "       'cumulative_intensity_x', 'bd_best_x', 'conflict_before_x',\n",
       "       'conflict_id_y', 'incompatibility_y', 'intensity_level_y',\n",
       "       'type_of_conflict_y', 'cumulative_intensity_y', 'bd_best_y',\n",
       "       'conflict_before_y', 'conflict_id_z', 'incompatibility_z',\n",
       "       'intensity_level_z', 'type_of_conflict_z', 'cumulative_intensity_z',\n",
       "       'bd_best_z', 'conflict_before_z', 'conflict_id_q', 'incompatibility_q',\n",
       "       'intensity_level_q', 'type_of_conflict_q', 'cumulative_intensity_q',\n",
       "       'bd_best_q', 'conflict_before_q', 'conflict_id_w', 'incompatibility_w',\n",
       "       'intensity_level_w', 'type_of_conflict_w', 'cumulative_intensity_w',\n",
       "       'bd_best_w', 'conflict_before_w', 'conflict_id_r', 'incompatibility_r',\n",
       "       'intensity_level_r', 'type_of_conflict_r', 'cumulative_intensity_r',\n",
       "       'bd_best_r', 'conflict_before_r', 'conflict_id_t', 'incompatibility_t',\n",
       "       'intensity_level_t', 'type_of_conflict_t', 'cumulative_intensity_t',\n",
       "       'bd_best_t', 'conflict_before_t', 'is_war'],\n",
       "      dtype='object')"
      ]
     },
     "execution_count": 1296,
     "metadata": {},
     "output_type": "execute_result"
    }
   ],
   "source": [
    "export_df.columns"
   ]
  },
  {
   "cell_type": "code",
   "execution_count": 1297,
   "id": "comparable-escape",
   "metadata": {},
   "outputs": [
    {
     "name": "stdout",
     "output_type": "stream",
     "text": [
      "0\n",
      "1\n"
     ]
    }
   ],
   "source": [
    "for i, letter in enumerate(['a', 'b']):\n",
    "    print(i)"
   ]
  },
  {
   "cell_type": "code",
   "execution_count": 1298,
   "id": "attended-conspiracy",
   "metadata": {},
   "outputs": [],
   "source": [
    "# Get letters\n",
    "letters = ['x', 'y', 'z', 'q', 'w', 'r', 't']\n",
    "letters = letters[::-1]\n"
   ]
  },
  {
   "cell_type": "code",
   "execution_count": 1299,
   "id": "assigned-bibliography",
   "metadata": {},
   "outputs": [],
   "source": [
    "def number_of_conflicts(row, letters=letters):\n",
    "\n",
    "    for i, letter in enumerate(letters):\n",
    "        if not pd.isna(row[f'conflict_id_{letter}']):\n",
    "            return len(letters) - i\n",
    "    else:\n",
    "        return 0"
   ]
  },
  {
   "cell_type": "code",
   "execution_count": 1300,
   "id": "mineral-delta",
   "metadata": {},
   "outputs": [],
   "source": [
    "export_df['n_conflicts'] = export_df.apply(lambda row: number_of_conflicts(row), axis=1)"
   ]
  },
  {
   "cell_type": "code",
   "execution_count": 1301,
   "id": "front-surgery",
   "metadata": {},
   "outputs": [],
   "source": [
    "def total_best_numbers(row, letters=letters):\n",
    "    cols = [f'bd_best_{k}' for k in letters]\n",
    "    return row[cols].sum()"
   ]
  },
  {
   "cell_type": "code",
   "execution_count": 1302,
   "id": "provincial-length",
   "metadata": {},
   "outputs": [],
   "source": [
    "export_df['total_deaths'] = export_df.apply(lambda row: total_best_numbers(row), axis=1)"
   ]
  },
  {
   "cell_type": "code",
   "execution_count": 1303,
   "id": "imported-castle",
   "metadata": {},
   "outputs": [],
   "source": [
    "def incompatibility_over(row, letters=letters):\n",
    "    cols = [f'incompatibility_{k}' for k in letters]\n",
    "    incs = []\n",
    "    for col in cols: incs.append(row[col])\n",
    "       \n",
    "    incs = pd.Series(incs).value_counts()\n",
    "    \n",
    "    if len(incs) == 0:\n",
    "        return 'No incompatibility'\n",
    "    elif len(incs) == 1:\n",
    "            val = incs.keys()\n",
    "            if val == 1:\n",
    "                return 'Territory'\n",
    "            elif val == 2:\n",
    "                return 'Government'\n",
    "            elif val == 3:\n",
    "                return 'G&T (single conflict)'\n",
    "            else:\n",
    "                raise ValueError(\"Incompatibility function not exhaustive\")\n",
    "    else:\n",
    "        return \"G&T (multiple conflicts)\"\n",
    "    "
   ]
  },
  {
   "cell_type": "code",
   "execution_count": 1304,
   "id": "thick-democrat",
   "metadata": {},
   "outputs": [],
   "source": [
    "export_df['incompatibility'] = export_df.apply(lambda row: incompatibility_over(row), axis=1)"
   ]
  },
  {
   "cell_type": "code",
   "execution_count": 1305,
   "id": "veterinary-nature",
   "metadata": {},
   "outputs": [],
   "source": [
    "def intensity_level(row):\n",
    "    cols = [f'intensity_level_{k}' for k in letters]\n",
    "    incs = []\n",
    "    for col in cols: incs.append(row[col])\n",
    "       \n",
    "    incs = pd.Series(incs).value_counts()\n",
    "   \n",
    "    if len(incs) == 0:\n",
    "        return 'No conflict'\n",
    "    \n",
    "    elif len(incs) == 1:\n",
    "        val = incs.keys()\n",
    "        \n",
    "        if val == 1: return 'Conflict'\n",
    "        elif val == 2: return 'War'\n",
    "        else: raise ValueError(\"Function not exhaustive\")\n",
    "    \n",
    "    else:\n",
    "        return \"Conflict & War (multiple conflicts)\""
   ]
  },
  {
   "cell_type": "code",
   "execution_count": 1306,
   "id": "level-state",
   "metadata": {},
   "outputs": [],
   "source": [
    "export_df['intensity'] = export_df.apply(lambda row: intensity_level(row), axis=1)"
   ]
  },
  {
   "cell_type": "code",
   "execution_count": 1307,
   "id": "lyric-detection",
   "metadata": {},
   "outputs": [
    {
     "data": {
      "text/plain": [
       "No conflict                            7097\n",
       "Conflict                                968\n",
       "War                                     289\n",
       "Conflict & War (multiple conflicts)     127\n",
       "Name: intensity, dtype: int64"
      ]
     },
     "execution_count": 1307,
     "metadata": {},
     "output_type": "execute_result"
    }
   ],
   "source": [
    "export_df['intensity'].value_counts()"
   ]
  },
  {
   "cell_type": "code",
   "execution_count": 1308,
   "id": "industrial-swiss",
   "metadata": {},
   "outputs": [
    {
     "data": {
      "text/plain": [
       "1.0    1044\n",
       "2.0     340\n",
       "Name: intensity_level_x, dtype: int64"
      ]
     },
     "execution_count": 1308,
     "metadata": {},
     "output_type": "execute_result"
    }
   ],
   "source": [
    "export_df.intensity_level_x.value_counts()"
   ]
  },
  {
   "cell_type": "code",
   "execution_count": 1309,
   "id": "internal-ghana",
   "metadata": {},
   "outputs": [],
   "source": [
    "def type_of_conflict(row):\n",
    "    \n",
    "    cols = [f'type_of_conflict_{k}' for k in letters]\n",
    "    incs = []\n",
    "    for col in cols: incs.append(row[col])\n",
    "       \n",
    "    incs = pd.Series(incs).value_counts()\n",
    "   \n",
    "    if len(incs) == 0:\n",
    "        return 'No conflict'\n",
    "    \n",
    "    elif len(incs) == 1:\n",
    "        val = incs.keys()\n",
    "        \n",
    "        if val == 1: return 'Extrasystematic'\n",
    "        elif val == 2: return 'Interstate'\n",
    "        elif val == 3: return 'Intrastate'\n",
    "        elif val == 4: return 'Internationalized intrastate'\n",
    "        else: raise ValueError(\"Function not exhaustive\")\n",
    "    \n",
    "    else:\n",
    "        return \"Multiple conflicts\""
   ]
  },
  {
   "cell_type": "code",
   "execution_count": 1310,
   "id": "communist-circus",
   "metadata": {},
   "outputs": [],
   "source": [
    "export_df['type_of_conflict'] = export_df.apply(lambda row: type_of_conflict(row), axis=1)"
   ]
  },
  {
   "cell_type": "code",
   "execution_count": 1311,
   "id": "atomic-austin",
   "metadata": {},
   "outputs": [
    {
     "data": {
      "text/plain": [
       "3.0    1027\n",
       "4.0     251\n",
       "2.0     106\n",
       "Name: type_of_conflict_x, dtype: int64"
      ]
     },
     "execution_count": 1311,
     "metadata": {},
     "output_type": "execute_result"
    }
   ],
   "source": [
    "export_df['type_of_conflict_x'].value_counts()"
   ]
  },
  {
   "cell_type": "code",
   "execution_count": 1312,
   "id": "provincial-incidence",
   "metadata": {},
   "outputs": [
    {
     "data": {
      "text/plain": [
       "Index(['year', 'country', 'text', 'session', 'country_map', 'conflict_id_x',\n",
       "       'incompatibility_x', 'intensity_level_x', 'type_of_conflict_x',\n",
       "       'cumulative_intensity_x', 'bd_best_x', 'conflict_before_x',\n",
       "       'conflict_id_y', 'incompatibility_y', 'intensity_level_y',\n",
       "       'type_of_conflict_y', 'cumulative_intensity_y', 'bd_best_y',\n",
       "       'conflict_before_y', 'conflict_id_z', 'incompatibility_z',\n",
       "       'intensity_level_z', 'type_of_conflict_z', 'cumulative_intensity_z',\n",
       "       'bd_best_z', 'conflict_before_z', 'conflict_id_q', 'incompatibility_q',\n",
       "       'intensity_level_q', 'type_of_conflict_q', 'cumulative_intensity_q',\n",
       "       'bd_best_q', 'conflict_before_q', 'conflict_id_w', 'incompatibility_w',\n",
       "       'intensity_level_w', 'type_of_conflict_w', 'cumulative_intensity_w',\n",
       "       'bd_best_w', 'conflict_before_w', 'conflict_id_r', 'incompatibility_r',\n",
       "       'intensity_level_r', 'type_of_conflict_r', 'cumulative_intensity_r',\n",
       "       'bd_best_r', 'conflict_before_r', 'conflict_id_t', 'incompatibility_t',\n",
       "       'intensity_level_t', 'type_of_conflict_t', 'cumulative_intensity_t',\n",
       "       'bd_best_t', 'conflict_before_t', 'is_war', 'n_conflicts',\n",
       "       'total_deaths', 'incompatibility', 'intensity', 'type_of_conflict'],\n",
       "      dtype='object')"
      ]
     },
     "execution_count": 1312,
     "metadata": {},
     "output_type": "execute_result"
    }
   ],
   "source": [
    "export_df.columns"
   ]
  },
  {
   "cell_type": "code",
   "execution_count": 1313,
   "id": "retained-subscription",
   "metadata": {},
   "outputs": [],
   "source": [
    "def get_conflict_before(row, letters=letters):\n",
    "    \n",
    "    cols = [f'conflict_before_{k}' for k in letters]\n",
    "    incs = []\n",
    "    for col in cols: incs.append(row[col])\n",
    "       \n",
    "    incs = pd.Series(incs).value_counts()\n",
    "   \n",
    "    if len(incs) == 0:\n",
    "        return 'No conflict'\n",
    "    \n",
    "    elif len(incs) == 1:\n",
    "        val = incs.keys()[0]\n",
    "        \n",
    "        if val:\n",
    "            return 'Conflict before'\n",
    "        else:\n",
    "            return 'Conflict after'\n",
    "\n",
    "    else:\n",
    "        return \"Conflict before and after\""
   ]
  },
  {
   "cell_type": "code",
   "execution_count": 1314,
   "id": "specific-warning",
   "metadata": {},
   "outputs": [],
   "source": [
    "export_df['conflict_before'] = export_df.apply(lambda row: get_conflict_before(row), axis=1)"
   ]
  },
  {
   "cell_type": "code",
   "execution_count": 1315,
   "id": "revolutionary-wings",
   "metadata": {},
   "outputs": [
    {
     "data": {
      "text/plain": [
       "No conflict                  7097\n",
       "Conflict before              1365\n",
       "Conflict after                 15\n",
       "Conflict before and after       4\n",
       "Name: conflict_before, dtype: int64"
      ]
     },
     "execution_count": 1315,
     "metadata": {},
     "output_type": "execute_result"
    }
   ],
   "source": [
    "export_df['conflict_before'].value_counts(dropna=False)"
   ]
  },
  {
   "cell_type": "code",
   "execution_count": 1316,
   "id": "treated-cardiff",
   "metadata": {},
   "outputs": [],
   "source": [
    "cols = ['year', 'country', 'text', 'session', 'country_map', 'is_war', 'n_conflicts', 'total_deaths', 'incompatibility', 'intensity', 'type_of_conflict', 'conflict_before']"
   ]
  },
  {
   "cell_type": "markdown",
   "id": "equal-movie",
   "metadata": {},
   "source": [
    "- 'Palestine',\n",
    "- 'Eswatini', <-- included\n",
    "- 'Vatican' <-- included\n",
    "- Democratic Republic of Yemen (YDYE, YPR) <-- included, merged\n",
    "- EU <- removed"
   ]
  },
  {
   "cell_type": "code",
   "execution_count": 1317,
   "id": "figured-landing",
   "metadata": {},
   "outputs": [],
   "source": [
    "remove_countries = ['PSE', 'EU'] # Remove speeches from Palestine and the EU"
   ]
  },
  {
   "cell_type": "code",
   "execution_count": 1318,
   "id": "forbidden-gossip",
   "metadata": {},
   "outputs": [],
   "source": [
    "export_df = export_df[~export_df.country.isin(remove_countries)].copy()"
   ]
  },
  {
   "cell_type": "code",
   "execution_count": 1319,
   "id": "progressive-password",
   "metadata": {},
   "outputs": [],
   "source": [
    "export_df[cols].to_csv(\"2021-06-01 df_merged.csv\", index=False)"
   ]
  },
  {
   "cell_type": "code",
   "execution_count": 1323,
   "id": "relative-manor",
   "metadata": {},
   "outputs": [
    {
     "data": {
      "text/html": [
       "<div>\n",
       "<style scoped>\n",
       "    .dataframe tbody tr th:only-of-type {\n",
       "        vertical-align: middle;\n",
       "    }\n",
       "\n",
       "    .dataframe tbody tr th {\n",
       "        vertical-align: top;\n",
       "    }\n",
       "\n",
       "    .dataframe thead th {\n",
       "        text-align: right;\n",
       "    }\n",
       "</style>\n",
       "<table border=\"1\" class=\"dataframe\">\n",
       "  <thead>\n",
       "    <tr style=\"text-align: right;\">\n",
       "      <th></th>\n",
       "      <th>year</th>\n",
       "      <th>country</th>\n",
       "      <th>text</th>\n",
       "      <th>session</th>\n",
       "      <th>country_map</th>\n",
       "      <th>conflict_id_x</th>\n",
       "      <th>incompatibility_x</th>\n",
       "      <th>intensity_level_x</th>\n",
       "      <th>type_of_conflict_x</th>\n",
       "      <th>cumulative_intensity_x</th>\n",
       "      <th>...</th>\n",
       "      <th>cumulative_intensity_t</th>\n",
       "      <th>bd_best_t</th>\n",
       "      <th>conflict_before_t</th>\n",
       "      <th>is_war</th>\n",
       "      <th>n_conflicts</th>\n",
       "      <th>total_deaths</th>\n",
       "      <th>incompatibility</th>\n",
       "      <th>intensity</th>\n",
       "      <th>type_of_conflict</th>\n",
       "      <th>conflict_before</th>\n",
       "    </tr>\n",
       "  </thead>\n",
       "  <tbody>\n",
       "    <tr>\n",
       "      <th>0</th>\n",
       "      <td>1970</td>\n",
       "      <td>ALB</td>\n",
       "      <td>33: May I first convey to our President the co...</td>\n",
       "      <td>25</td>\n",
       "      <td>NaN</td>\n",
       "      <td>NaN</td>\n",
       "      <td>NaN</td>\n",
       "      <td>NaN</td>\n",
       "      <td>NaN</td>\n",
       "      <td>NaN</td>\n",
       "      <td>...</td>\n",
       "      <td>NaN</td>\n",
       "      <td>NaN</td>\n",
       "      <td>NaN</td>\n",
       "      <td>False</td>\n",
       "      <td>0</td>\n",
       "      <td>0.0</td>\n",
       "      <td>No incompatibility</td>\n",
       "      <td>No conflict</td>\n",
       "      <td>No conflict</td>\n",
       "      <td>No conflict</td>\n",
       "    </tr>\n",
       "    <tr>\n",
       "      <th>1</th>\n",
       "      <td>1971</td>\n",
       "      <td>ALB</td>\n",
       "      <td>110.\\t  This session of the General Assembly i...</td>\n",
       "      <td>26</td>\n",
       "      <td>NaN</td>\n",
       "      <td>NaN</td>\n",
       "      <td>NaN</td>\n",
       "      <td>NaN</td>\n",
       "      <td>NaN</td>\n",
       "      <td>NaN</td>\n",
       "      <td>...</td>\n",
       "      <td>NaN</td>\n",
       "      <td>NaN</td>\n",
       "      <td>NaN</td>\n",
       "      <td>False</td>\n",
       "      <td>0</td>\n",
       "      <td>0.0</td>\n",
       "      <td>No incompatibility</td>\n",
       "      <td>No conflict</td>\n",
       "      <td>No conflict</td>\n",
       "      <td>No conflict</td>\n",
       "    </tr>\n",
       "    <tr>\n",
       "      <th>2</th>\n",
       "      <td>1972</td>\n",
       "      <td>ALB</td>\n",
       "      <td>First, may I, Mr. President, express to you th...</td>\n",
       "      <td>27</td>\n",
       "      <td>NaN</td>\n",
       "      <td>NaN</td>\n",
       "      <td>NaN</td>\n",
       "      <td>NaN</td>\n",
       "      <td>NaN</td>\n",
       "      <td>NaN</td>\n",
       "      <td>...</td>\n",
       "      <td>NaN</td>\n",
       "      <td>NaN</td>\n",
       "      <td>NaN</td>\n",
       "      <td>False</td>\n",
       "      <td>0</td>\n",
       "      <td>0.0</td>\n",
       "      <td>No incompatibility</td>\n",
       "      <td>No conflict</td>\n",
       "      <td>No conflict</td>\n",
       "      <td>No conflict</td>\n",
       "    </tr>\n",
       "    <tr>\n",
       "      <th>3</th>\n",
       "      <td>1973</td>\n",
       "      <td>ALB</td>\n",
       "      <td>﻿86.\\tMr. President, on behalf of the People's...</td>\n",
       "      <td>28</td>\n",
       "      <td>NaN</td>\n",
       "      <td>NaN</td>\n",
       "      <td>NaN</td>\n",
       "      <td>NaN</td>\n",
       "      <td>NaN</td>\n",
       "      <td>NaN</td>\n",
       "      <td>...</td>\n",
       "      <td>NaN</td>\n",
       "      <td>NaN</td>\n",
       "      <td>NaN</td>\n",
       "      <td>False</td>\n",
       "      <td>0</td>\n",
       "      <td>0.0</td>\n",
       "      <td>No incompatibility</td>\n",
       "      <td>No conflict</td>\n",
       "      <td>No conflict</td>\n",
       "      <td>No conflict</td>\n",
       "    </tr>\n",
       "    <tr>\n",
       "      <th>4</th>\n",
       "      <td>1974</td>\n",
       "      <td>ALB</td>\n",
       "      <td>Mr. President, I wish first of all, on behalf ...</td>\n",
       "      <td>29</td>\n",
       "      <td>NaN</td>\n",
       "      <td>NaN</td>\n",
       "      <td>NaN</td>\n",
       "      <td>NaN</td>\n",
       "      <td>NaN</td>\n",
       "      <td>NaN</td>\n",
       "      <td>...</td>\n",
       "      <td>NaN</td>\n",
       "      <td>NaN</td>\n",
       "      <td>NaN</td>\n",
       "      <td>False</td>\n",
       "      <td>0</td>\n",
       "      <td>0.0</td>\n",
       "      <td>No incompatibility</td>\n",
       "      <td>No conflict</td>\n",
       "      <td>No conflict</td>\n",
       "      <td>No conflict</td>\n",
       "    </tr>\n",
       "  </tbody>\n",
       "</table>\n",
       "<p>5 rows × 61 columns</p>\n",
       "</div>"
      ],
      "text/plain": [
       "   year country                                               text  session  \\\n",
       "0  1970     ALB  33: May I first convey to our President the co...       25   \n",
       "1  1971     ALB  110.\\t  This session of the General Assembly i...       26   \n",
       "2  1972     ALB  First, may I, Mr. President, express to you th...       27   \n",
       "3  1973     ALB  ﻿86.\\tMr. President, on behalf of the People's...       28   \n",
       "4  1974     ALB  Mr. President, I wish first of all, on behalf ...       29   \n",
       "\n",
       "  country_map  conflict_id_x  incompatibility_x  intensity_level_x  \\\n",
       "0         NaN            NaN                NaN                NaN   \n",
       "1         NaN            NaN                NaN                NaN   \n",
       "2         NaN            NaN                NaN                NaN   \n",
       "3         NaN            NaN                NaN                NaN   \n",
       "4         NaN            NaN                NaN                NaN   \n",
       "\n",
       "   type_of_conflict_x  cumulative_intensity_x  ...  cumulative_intensity_t  \\\n",
       "0                 NaN                     NaN  ...                     NaN   \n",
       "1                 NaN                     NaN  ...                     NaN   \n",
       "2                 NaN                     NaN  ...                     NaN   \n",
       "3                 NaN                     NaN  ...                     NaN   \n",
       "4                 NaN                     NaN  ...                     NaN   \n",
       "\n",
       "  bd_best_t  conflict_before_t  is_war  n_conflicts  total_deaths  \\\n",
       "0       NaN                NaN   False            0           0.0   \n",
       "1       NaN                NaN   False            0           0.0   \n",
       "2       NaN                NaN   False            0           0.0   \n",
       "3       NaN                NaN   False            0           0.0   \n",
       "4       NaN                NaN   False            0           0.0   \n",
       "\n",
       "      incompatibility    intensity type_of_conflict  conflict_before  \n",
       "0  No incompatibility  No conflict      No conflict      No conflict  \n",
       "1  No incompatibility  No conflict      No conflict      No conflict  \n",
       "2  No incompatibility  No conflict      No conflict      No conflict  \n",
       "3  No incompatibility  No conflict      No conflict      No conflict  \n",
       "4  No incompatibility  No conflict      No conflict      No conflict  \n",
       "\n",
       "[5 rows x 61 columns]"
      ]
     },
     "execution_count": 1323,
     "metadata": {},
     "output_type": "execute_result"
    }
   ],
   "source": [
    "export_df.head()"
   ]
  },
  {
   "cell_type": "markdown",
   "id": "funded-works",
   "metadata": {},
   "source": [
    "## Checking which indices do not match"
   ]
  },
  {
   "cell_type": "code",
   "execution_count": 1321,
   "id": "regular-playback",
   "metadata": {},
   "outputs": [
    {
     "data": {
      "text/html": [
       "<div>\n",
       "<style scoped>\n",
       "    .dataframe tbody tr th:only-of-type {\n",
       "        vertical-align: middle;\n",
       "    }\n",
       "\n",
       "    .dataframe tbody tr th {\n",
       "        vertical-align: top;\n",
       "    }\n",
       "\n",
       "    .dataframe thead th {\n",
       "        text-align: right;\n",
       "    }\n",
       "</style>\n",
       "<table border=\"1\" class=\"dataframe\">\n",
       "  <thead>\n",
       "    <tr style=\"text-align: right;\">\n",
       "      <th></th>\n",
       "      <th>year</th>\n",
       "      <th>country</th>\n",
       "      <th>text</th>\n",
       "      <th>session</th>\n",
       "      <th>country_map</th>\n",
       "      <th>conflict_id_x</th>\n",
       "      <th>incompatibility_x</th>\n",
       "      <th>intensity_level_x</th>\n",
       "      <th>type_of_conflict_x</th>\n",
       "      <th>cumulative_intensity_x</th>\n",
       "      <th>...</th>\n",
       "      <th>cumulative_intensity_t</th>\n",
       "      <th>bd_best_t</th>\n",
       "      <th>conflict_before_t</th>\n",
       "      <th>is_war</th>\n",
       "      <th>n_conflicts</th>\n",
       "      <th>total_deaths</th>\n",
       "      <th>incompatibility</th>\n",
       "      <th>intensity</th>\n",
       "      <th>type_of_conflict</th>\n",
       "      <th>conflict_before</th>\n",
       "    </tr>\n",
       "  </thead>\n",
       "  <tbody>\n",
       "    <tr>\n",
       "      <th>5724</th>\n",
       "      <td>1971</td>\n",
       "      <td>YDYE</td>\n",
       "      <td>31.\\t Mr. President, may I congratulate you on...</td>\n",
       "      <td>26</td>\n",
       "      <td>NaN</td>\n",
       "      <td>NaN</td>\n",
       "      <td>NaN</td>\n",
       "      <td>NaN</td>\n",
       "      <td>NaN</td>\n",
       "      <td>NaN</td>\n",
       "      <td>...</td>\n",
       "      <td>NaN</td>\n",
       "      <td>NaN</td>\n",
       "      <td>NaN</td>\n",
       "      <td>False</td>\n",
       "      <td>0</td>\n",
       "      <td>0.0</td>\n",
       "      <td>No incompatibility</td>\n",
       "      <td>No conflict</td>\n",
       "      <td>No conflict</td>\n",
       "      <td>No conflict</td>\n",
       "    </tr>\n",
       "    <tr>\n",
       "      <th>5725</th>\n",
       "      <td>1972</td>\n",
       "      <td>YDYE</td>\n",
       "      <td>10 Mr. President, it gives me great pleasure t...</td>\n",
       "      <td>27</td>\n",
       "      <td>YDYE</td>\n",
       "      <td>320.0</td>\n",
       "      <td>3.0</td>\n",
       "      <td>1.0</td>\n",
       "      <td>2.0</td>\n",
       "      <td>0.0</td>\n",
       "      <td>...</td>\n",
       "      <td>NaN</td>\n",
       "      <td>NaN</td>\n",
       "      <td>NaN</td>\n",
       "      <td>True</td>\n",
       "      <td>1</td>\n",
       "      <td>0.0</td>\n",
       "      <td>G&amp;T (single conflict)</td>\n",
       "      <td>Conflict</td>\n",
       "      <td>Interstate</td>\n",
       "      <td>Conflict before</td>\n",
       "    </tr>\n",
       "    <tr>\n",
       "      <th>5726</th>\n",
       "      <td>1973</td>\n",
       "      <td>YDYE</td>\n",
       "      <td>﻿1.\\tI have the pleasure to congratulate Ambas...</td>\n",
       "      <td>28</td>\n",
       "      <td>NaN</td>\n",
       "      <td>NaN</td>\n",
       "      <td>NaN</td>\n",
       "      <td>NaN</td>\n",
       "      <td>NaN</td>\n",
       "      <td>NaN</td>\n",
       "      <td>...</td>\n",
       "      <td>NaN</td>\n",
       "      <td>NaN</td>\n",
       "      <td>NaN</td>\n",
       "      <td>False</td>\n",
       "      <td>0</td>\n",
       "      <td>0.0</td>\n",
       "      <td>No incompatibility</td>\n",
       "      <td>No conflict</td>\n",
       "      <td>No conflict</td>\n",
       "      <td>No conflict</td>\n",
       "    </tr>\n",
       "    <tr>\n",
       "      <th>5727</th>\n",
       "      <td>1974</td>\n",
       "      <td>YDYE</td>\n",
       "      <td>Mr. President, it is a particular pleasure for...</td>\n",
       "      <td>29</td>\n",
       "      <td>NaN</td>\n",
       "      <td>NaN</td>\n",
       "      <td>NaN</td>\n",
       "      <td>NaN</td>\n",
       "      <td>NaN</td>\n",
       "      <td>NaN</td>\n",
       "      <td>...</td>\n",
       "      <td>NaN</td>\n",
       "      <td>NaN</td>\n",
       "      <td>NaN</td>\n",
       "      <td>False</td>\n",
       "      <td>0</td>\n",
       "      <td>0.0</td>\n",
       "      <td>No incompatibility</td>\n",
       "      <td>No conflict</td>\n",
       "      <td>No conflict</td>\n",
       "      <td>No conflict</td>\n",
       "    </tr>\n",
       "    <tr>\n",
       "      <th>5728</th>\n",
       "      <td>1975</td>\n",
       "      <td>YDYE</td>\n",
       "      <td>117.\\t It gives me pleasure to express to you,...</td>\n",
       "      <td>30</td>\n",
       "      <td>NaN</td>\n",
       "      <td>NaN</td>\n",
       "      <td>NaN</td>\n",
       "      <td>NaN</td>\n",
       "      <td>NaN</td>\n",
       "      <td>NaN</td>\n",
       "      <td>...</td>\n",
       "      <td>NaN</td>\n",
       "      <td>NaN</td>\n",
       "      <td>NaN</td>\n",
       "      <td>False</td>\n",
       "      <td>0</td>\n",
       "      <td>0.0</td>\n",
       "      <td>No incompatibility</td>\n",
       "      <td>No conflict</td>\n",
       "      <td>No conflict</td>\n",
       "      <td>No conflict</td>\n",
       "    </tr>\n",
       "    <tr>\n",
       "      <th>5729</th>\n",
       "      <td>1976</td>\n",
       "      <td>YDYE</td>\n",
       "      <td>Mr. President, it gives me great pleasure to c...</td>\n",
       "      <td>31</td>\n",
       "      <td>NaN</td>\n",
       "      <td>NaN</td>\n",
       "      <td>NaN</td>\n",
       "      <td>NaN</td>\n",
       "      <td>NaN</td>\n",
       "      <td>NaN</td>\n",
       "      <td>...</td>\n",
       "      <td>NaN</td>\n",
       "      <td>NaN</td>\n",
       "      <td>NaN</td>\n",
       "      <td>False</td>\n",
       "      <td>0</td>\n",
       "      <td>0.0</td>\n",
       "      <td>No incompatibility</td>\n",
       "      <td>No conflict</td>\n",
       "      <td>No conflict</td>\n",
       "      <td>No conflict</td>\n",
       "    </tr>\n",
       "    <tr>\n",
       "      <th>5730</th>\n",
       "      <td>1977</td>\n",
       "      <td>YDYE</td>\n",
       "      <td>﻿118.\\t Mr. President, it gives me great pleas...</td>\n",
       "      <td>32</td>\n",
       "      <td>NaN</td>\n",
       "      <td>NaN</td>\n",
       "      <td>NaN</td>\n",
       "      <td>NaN</td>\n",
       "      <td>NaN</td>\n",
       "      <td>NaN</td>\n",
       "      <td>...</td>\n",
       "      <td>NaN</td>\n",
       "      <td>NaN</td>\n",
       "      <td>NaN</td>\n",
       "      <td>False</td>\n",
       "      <td>0</td>\n",
       "      <td>0.0</td>\n",
       "      <td>No incompatibility</td>\n",
       "      <td>No conflict</td>\n",
       "      <td>No conflict</td>\n",
       "      <td>No conflict</td>\n",
       "    </tr>\n",
       "    <tr>\n",
       "      <th>5731</th>\n",
       "      <td>1978</td>\n",
       "      <td>YDYE</td>\n",
       "      <td>﻿53.\\tMr. President, it gives me great pleasur...</td>\n",
       "      <td>33</td>\n",
       "      <td>NaN</td>\n",
       "      <td>NaN</td>\n",
       "      <td>NaN</td>\n",
       "      <td>NaN</td>\n",
       "      <td>NaN</td>\n",
       "      <td>NaN</td>\n",
       "      <td>...</td>\n",
       "      <td>NaN</td>\n",
       "      <td>NaN</td>\n",
       "      <td>NaN</td>\n",
       "      <td>False</td>\n",
       "      <td>0</td>\n",
       "      <td>0.0</td>\n",
       "      <td>No incompatibility</td>\n",
       "      <td>No conflict</td>\n",
       "      <td>No conflict</td>\n",
       "      <td>No conflict</td>\n",
       "    </tr>\n",
       "    <tr>\n",
       "      <th>5732</th>\n",
       "      <td>1979</td>\n",
       "      <td>YDYE</td>\n",
       "      <td>﻿Mr. President, I should like to extend to you...</td>\n",
       "      <td>34</td>\n",
       "      <td>YDYE</td>\n",
       "      <td>320.0</td>\n",
       "      <td>3.0</td>\n",
       "      <td>1.0</td>\n",
       "      <td>2.0</td>\n",
       "      <td>0.0</td>\n",
       "      <td>...</td>\n",
       "      <td>NaN</td>\n",
       "      <td>NaN</td>\n",
       "      <td>NaN</td>\n",
       "      <td>True</td>\n",
       "      <td>1</td>\n",
       "      <td>0.0</td>\n",
       "      <td>G&amp;T (single conflict)</td>\n",
       "      <td>Conflict</td>\n",
       "      <td>Interstate</td>\n",
       "      <td>Conflict before</td>\n",
       "    </tr>\n",
       "    <tr>\n",
       "      <th>5733</th>\n",
       "      <td>1980</td>\n",
       "      <td>YDYE</td>\n",
       "      <td>﻿Mr. President, it gives me great pleasure to ...</td>\n",
       "      <td>35</td>\n",
       "      <td>NaN</td>\n",
       "      <td>NaN</td>\n",
       "      <td>NaN</td>\n",
       "      <td>NaN</td>\n",
       "      <td>NaN</td>\n",
       "      <td>NaN</td>\n",
       "      <td>...</td>\n",
       "      <td>NaN</td>\n",
       "      <td>NaN</td>\n",
       "      <td>NaN</td>\n",
       "      <td>False</td>\n",
       "      <td>0</td>\n",
       "      <td>0.0</td>\n",
       "      <td>No incompatibility</td>\n",
       "      <td>No conflict</td>\n",
       "      <td>No conflict</td>\n",
       "      <td>No conflict</td>\n",
       "    </tr>\n",
       "    <tr>\n",
       "      <th>5734</th>\n",
       "      <td>1981</td>\n",
       "      <td>YDYE</td>\n",
       "      <td>136.\\t Mr. President, it gives me great pleasu...</td>\n",
       "      <td>36</td>\n",
       "      <td>NaN</td>\n",
       "      <td>NaN</td>\n",
       "      <td>NaN</td>\n",
       "      <td>NaN</td>\n",
       "      <td>NaN</td>\n",
       "      <td>NaN</td>\n",
       "      <td>...</td>\n",
       "      <td>NaN</td>\n",
       "      <td>NaN</td>\n",
       "      <td>NaN</td>\n",
       "      <td>False</td>\n",
       "      <td>0</td>\n",
       "      <td>0.0</td>\n",
       "      <td>No incompatibility</td>\n",
       "      <td>No conflict</td>\n",
       "      <td>No conflict</td>\n",
       "      <td>No conflict</td>\n",
       "    </tr>\n",
       "    <tr>\n",
       "      <th>5735</th>\n",
       "      <td>1982</td>\n",
       "      <td>YDYE</td>\n",
       "      <td>My delegation is pleased and gratified to see...</td>\n",
       "      <td>37</td>\n",
       "      <td>NaN</td>\n",
       "      <td>NaN</td>\n",
       "      <td>NaN</td>\n",
       "      <td>NaN</td>\n",
       "      <td>NaN</td>\n",
       "      <td>NaN</td>\n",
       "      <td>...</td>\n",
       "      <td>NaN</td>\n",
       "      <td>NaN</td>\n",
       "      <td>NaN</td>\n",
       "      <td>False</td>\n",
       "      <td>0</td>\n",
       "      <td>0.0</td>\n",
       "      <td>No incompatibility</td>\n",
       "      <td>No conflict</td>\n",
       "      <td>No conflict</td>\n",
       "      <td>No conflict</td>\n",
       "    </tr>\n",
       "    <tr>\n",
       "      <th>5736</th>\n",
       "      <td>1983</td>\n",
       "      <td>YDYE</td>\n",
       "      <td>﻿94.\\t Mr. President, it gives me great pleasu...</td>\n",
       "      <td>38</td>\n",
       "      <td>NaN</td>\n",
       "      <td>NaN</td>\n",
       "      <td>NaN</td>\n",
       "      <td>NaN</td>\n",
       "      <td>NaN</td>\n",
       "      <td>NaN</td>\n",
       "      <td>...</td>\n",
       "      <td>NaN</td>\n",
       "      <td>NaN</td>\n",
       "      <td>NaN</td>\n",
       "      <td>False</td>\n",
       "      <td>0</td>\n",
       "      <td>0.0</td>\n",
       "      <td>No incompatibility</td>\n",
       "      <td>No conflict</td>\n",
       "      <td>No conflict</td>\n",
       "      <td>No conflict</td>\n",
       "    </tr>\n",
       "    <tr>\n",
       "      <th>5737</th>\n",
       "      <td>1984</td>\n",
       "      <td>YDYE</td>\n",
       "      <td>﻿It gives me great pleasure to congratulate Mr...</td>\n",
       "      <td>39</td>\n",
       "      <td>NaN</td>\n",
       "      <td>NaN</td>\n",
       "      <td>NaN</td>\n",
       "      <td>NaN</td>\n",
       "      <td>NaN</td>\n",
       "      <td>NaN</td>\n",
       "      <td>...</td>\n",
       "      <td>NaN</td>\n",
       "      <td>NaN</td>\n",
       "      <td>NaN</td>\n",
       "      <td>False</td>\n",
       "      <td>0</td>\n",
       "      <td>0.0</td>\n",
       "      <td>No incompatibility</td>\n",
       "      <td>No conflict</td>\n",
       "      <td>No conflict</td>\n",
       "      <td>No conflict</td>\n",
       "    </tr>\n",
       "    <tr>\n",
       "      <th>5738</th>\n",
       "      <td>1985</td>\n",
       "      <td>YDYE</td>\n",
       "      <td>It gives me great pleasure to extend to Mr. Ja...</td>\n",
       "      <td>40</td>\n",
       "      <td>NaN</td>\n",
       "      <td>NaN</td>\n",
       "      <td>NaN</td>\n",
       "      <td>NaN</td>\n",
       "      <td>NaN</td>\n",
       "      <td>NaN</td>\n",
       "      <td>...</td>\n",
       "      <td>NaN</td>\n",
       "      <td>NaN</td>\n",
       "      <td>NaN</td>\n",
       "      <td>False</td>\n",
       "      <td>0</td>\n",
       "      <td>0.0</td>\n",
       "      <td>No incompatibility</td>\n",
       "      <td>No conflict</td>\n",
       "      <td>No conflict</td>\n",
       "      <td>No conflict</td>\n",
       "    </tr>\n",
       "    <tr>\n",
       "      <th>5739</th>\n",
       "      <td>1986</td>\n",
       "      <td>YDYE</td>\n",
       "      <td>We should like to express our warmest heartfel...</td>\n",
       "      <td>41</td>\n",
       "      <td>YDYE</td>\n",
       "      <td>359.0</td>\n",
       "      <td>2.0</td>\n",
       "      <td>2.0</td>\n",
       "      <td>3.0</td>\n",
       "      <td>1.0</td>\n",
       "      <td>...</td>\n",
       "      <td>NaN</td>\n",
       "      <td>NaN</td>\n",
       "      <td>NaN</td>\n",
       "      <td>True</td>\n",
       "      <td>1</td>\n",
       "      <td>0.0</td>\n",
       "      <td>Government</td>\n",
       "      <td>War</td>\n",
       "      <td>Intrastate</td>\n",
       "      <td>Conflict before</td>\n",
       "    </tr>\n",
       "    <tr>\n",
       "      <th>5740</th>\n",
       "      <td>1987</td>\n",
       "      <td>YDYE</td>\n",
       "      <td>﻿\\nWe feel very proud, Sir, that you are presi...</td>\n",
       "      <td>42</td>\n",
       "      <td>NaN</td>\n",
       "      <td>NaN</td>\n",
       "      <td>NaN</td>\n",
       "      <td>NaN</td>\n",
       "      <td>NaN</td>\n",
       "      <td>NaN</td>\n",
       "      <td>...</td>\n",
       "      <td>NaN</td>\n",
       "      <td>NaN</td>\n",
       "      <td>NaN</td>\n",
       "      <td>False</td>\n",
       "      <td>0</td>\n",
       "      <td>0.0</td>\n",
       "      <td>No incompatibility</td>\n",
       "      <td>No conflict</td>\n",
       "      <td>No conflict</td>\n",
       "      <td>No conflict</td>\n",
       "    </tr>\n",
       "    <tr>\n",
       "      <th>5741</th>\n",
       "      <td>1988</td>\n",
       "      <td>YDYE</td>\n",
       "      <td>﻿It is a pleasure for me to participate in a s...</td>\n",
       "      <td>43</td>\n",
       "      <td>NaN</td>\n",
       "      <td>NaN</td>\n",
       "      <td>NaN</td>\n",
       "      <td>NaN</td>\n",
       "      <td>NaN</td>\n",
       "      <td>NaN</td>\n",
       "      <td>...</td>\n",
       "      <td>NaN</td>\n",
       "      <td>NaN</td>\n",
       "      <td>NaN</td>\n",
       "      <td>False</td>\n",
       "      <td>0</td>\n",
       "      <td>0.0</td>\n",
       "      <td>No incompatibility</td>\n",
       "      <td>No conflict</td>\n",
       "      <td>No conflict</td>\n",
       "      <td>No conflict</td>\n",
       "    </tr>\n",
       "    <tr>\n",
       "      <th>5742</th>\n",
       "      <td>1989</td>\n",
       "      <td>YDYE</td>\n",
       "      <td>﻿\\nThe election of Ambassador Garba of Nigeria...</td>\n",
       "      <td>44</td>\n",
       "      <td>NaN</td>\n",
       "      <td>NaN</td>\n",
       "      <td>NaN</td>\n",
       "      <td>NaN</td>\n",
       "      <td>NaN</td>\n",
       "      <td>NaN</td>\n",
       "      <td>...</td>\n",
       "      <td>NaN</td>\n",
       "      <td>NaN</td>\n",
       "      <td>NaN</td>\n",
       "      <td>False</td>\n",
       "      <td>0</td>\n",
       "      <td>0.0</td>\n",
       "      <td>No incompatibility</td>\n",
       "      <td>No conflict</td>\n",
       "      <td>No conflict</td>\n",
       "      <td>No conflict</td>\n",
       "    </tr>\n",
       "  </tbody>\n",
       "</table>\n",
       "<p>19 rows × 61 columns</p>\n",
       "</div>"
      ],
      "text/plain": [
       "      year country                                               text  \\\n",
       "5724  1971    YDYE  31.\\t Mr. President, may I congratulate you on...   \n",
       "5725  1972    YDYE  10 Mr. President, it gives me great pleasure t...   \n",
       "5726  1973    YDYE  ﻿1.\\tI have the pleasure to congratulate Ambas...   \n",
       "5727  1974    YDYE  Mr. President, it is a particular pleasure for...   \n",
       "5728  1975    YDYE  117.\\t It gives me pleasure to express to you,...   \n",
       "5729  1976    YDYE  Mr. President, it gives me great pleasure to c...   \n",
       "5730  1977    YDYE  ﻿118.\\t Mr. President, it gives me great pleas...   \n",
       "5731  1978    YDYE  ﻿53.\\tMr. President, it gives me great pleasur...   \n",
       "5732  1979    YDYE  ﻿Mr. President, I should like to extend to you...   \n",
       "5733  1980    YDYE  ﻿Mr. President, it gives me great pleasure to ...   \n",
       "5734  1981    YDYE  136.\\t Mr. President, it gives me great pleasu...   \n",
       "5735  1982    YDYE   My delegation is pleased and gratified to see...   \n",
       "5736  1983    YDYE  ﻿94.\\t Mr. President, it gives me great pleasu...   \n",
       "5737  1984    YDYE  ﻿It gives me great pleasure to congratulate Mr...   \n",
       "5738  1985    YDYE  It gives me great pleasure to extend to Mr. Ja...   \n",
       "5739  1986    YDYE  We should like to express our warmest heartfel...   \n",
       "5740  1987    YDYE  ﻿\\nWe feel very proud, Sir, that you are presi...   \n",
       "5741  1988    YDYE  ﻿It is a pleasure for me to participate in a s...   \n",
       "5742  1989    YDYE  ﻿\\nThe election of Ambassador Garba of Nigeria...   \n",
       "\n",
       "      session country_map  conflict_id_x  incompatibility_x  \\\n",
       "5724       26         NaN            NaN                NaN   \n",
       "5725       27        YDYE          320.0                3.0   \n",
       "5726       28         NaN            NaN                NaN   \n",
       "5727       29         NaN            NaN                NaN   \n",
       "5728       30         NaN            NaN                NaN   \n",
       "5729       31         NaN            NaN                NaN   \n",
       "5730       32         NaN            NaN                NaN   \n",
       "5731       33         NaN            NaN                NaN   \n",
       "5732       34        YDYE          320.0                3.0   \n",
       "5733       35         NaN            NaN                NaN   \n",
       "5734       36         NaN            NaN                NaN   \n",
       "5735       37         NaN            NaN                NaN   \n",
       "5736       38         NaN            NaN                NaN   \n",
       "5737       39         NaN            NaN                NaN   \n",
       "5738       40         NaN            NaN                NaN   \n",
       "5739       41        YDYE          359.0                2.0   \n",
       "5740       42         NaN            NaN                NaN   \n",
       "5741       43         NaN            NaN                NaN   \n",
       "5742       44         NaN            NaN                NaN   \n",
       "\n",
       "      intensity_level_x  type_of_conflict_x  cumulative_intensity_x  ...  \\\n",
       "5724                NaN                 NaN                     NaN  ...   \n",
       "5725                1.0                 2.0                     0.0  ...   \n",
       "5726                NaN                 NaN                     NaN  ...   \n",
       "5727                NaN                 NaN                     NaN  ...   \n",
       "5728                NaN                 NaN                     NaN  ...   \n",
       "5729                NaN                 NaN                     NaN  ...   \n",
       "5730                NaN                 NaN                     NaN  ...   \n",
       "5731                NaN                 NaN                     NaN  ...   \n",
       "5732                1.0                 2.0                     0.0  ...   \n",
       "5733                NaN                 NaN                     NaN  ...   \n",
       "5734                NaN                 NaN                     NaN  ...   \n",
       "5735                NaN                 NaN                     NaN  ...   \n",
       "5736                NaN                 NaN                     NaN  ...   \n",
       "5737                NaN                 NaN                     NaN  ...   \n",
       "5738                NaN                 NaN                     NaN  ...   \n",
       "5739                2.0                 3.0                     1.0  ...   \n",
       "5740                NaN                 NaN                     NaN  ...   \n",
       "5741                NaN                 NaN                     NaN  ...   \n",
       "5742                NaN                 NaN                     NaN  ...   \n",
       "\n",
       "      cumulative_intensity_t bd_best_t  conflict_before_t  is_war  \\\n",
       "5724                     NaN       NaN                NaN   False   \n",
       "5725                     NaN       NaN                NaN    True   \n",
       "5726                     NaN       NaN                NaN   False   \n",
       "5727                     NaN       NaN                NaN   False   \n",
       "5728                     NaN       NaN                NaN   False   \n",
       "5729                     NaN       NaN                NaN   False   \n",
       "5730                     NaN       NaN                NaN   False   \n",
       "5731                     NaN       NaN                NaN   False   \n",
       "5732                     NaN       NaN                NaN    True   \n",
       "5733                     NaN       NaN                NaN   False   \n",
       "5734                     NaN       NaN                NaN   False   \n",
       "5735                     NaN       NaN                NaN   False   \n",
       "5736                     NaN       NaN                NaN   False   \n",
       "5737                     NaN       NaN                NaN   False   \n",
       "5738                     NaN       NaN                NaN   False   \n",
       "5739                     NaN       NaN                NaN    True   \n",
       "5740                     NaN       NaN                NaN   False   \n",
       "5741                     NaN       NaN                NaN   False   \n",
       "5742                     NaN       NaN                NaN   False   \n",
       "\n",
       "      n_conflicts  total_deaths        incompatibility    intensity  \\\n",
       "5724            0           0.0     No incompatibility  No conflict   \n",
       "5725            1           0.0  G&T (single conflict)     Conflict   \n",
       "5726            0           0.0     No incompatibility  No conflict   \n",
       "5727            0           0.0     No incompatibility  No conflict   \n",
       "5728            0           0.0     No incompatibility  No conflict   \n",
       "5729            0           0.0     No incompatibility  No conflict   \n",
       "5730            0           0.0     No incompatibility  No conflict   \n",
       "5731            0           0.0     No incompatibility  No conflict   \n",
       "5732            1           0.0  G&T (single conflict)     Conflict   \n",
       "5733            0           0.0     No incompatibility  No conflict   \n",
       "5734            0           0.0     No incompatibility  No conflict   \n",
       "5735            0           0.0     No incompatibility  No conflict   \n",
       "5736            0           0.0     No incompatibility  No conflict   \n",
       "5737            0           0.0     No incompatibility  No conflict   \n",
       "5738            0           0.0     No incompatibility  No conflict   \n",
       "5739            1           0.0             Government          War   \n",
       "5740            0           0.0     No incompatibility  No conflict   \n",
       "5741            0           0.0     No incompatibility  No conflict   \n",
       "5742            0           0.0     No incompatibility  No conflict   \n",
       "\n",
       "     type_of_conflict  conflict_before  \n",
       "5724      No conflict      No conflict  \n",
       "5725       Interstate  Conflict before  \n",
       "5726      No conflict      No conflict  \n",
       "5727      No conflict      No conflict  \n",
       "5728      No conflict      No conflict  \n",
       "5729      No conflict      No conflict  \n",
       "5730      No conflict      No conflict  \n",
       "5731      No conflict      No conflict  \n",
       "5732       Interstate  Conflict before  \n",
       "5733      No conflict      No conflict  \n",
       "5734      No conflict      No conflict  \n",
       "5735      No conflict      No conflict  \n",
       "5736      No conflict      No conflict  \n",
       "5737      No conflict      No conflict  \n",
       "5738      No conflict      No conflict  \n",
       "5739       Intrastate  Conflict before  \n",
       "5740      No conflict      No conflict  \n",
       "5741      No conflict      No conflict  \n",
       "5742      No conflict      No conflict  \n",
       "\n",
       "[19 rows x 61 columns]"
      ]
     },
     "execution_count": 1321,
     "metadata": {},
     "output_type": "execute_result"
    }
   ],
   "source": [
    "export_df[export_df.country == 'YDYE']"
   ]
  },
  {
   "cell_type": "markdown",
   "id": "norwegian-addiction",
   "metadata": {},
   "source": [
    "- conflict id: 263. Angola UN speech data from 1977, but conflict was present before\n",
    "- Guinnea Bissau\n",
    "- Mozambique\n",
    "- Vietnam\n",
    "- 13638 - Cameroon? -> No speech in 2014\n",
    "- 13645 - Yemen? -> doesnt have any speeches"
   ]
  }
 ],
 "metadata": {
  "kernelspec": {
   "display_name": "Python 3",
   "language": "python",
   "name": "python3"
  },
  "language_info": {
   "codemirror_mode": {
    "name": "ipython",
    "version": 3
   },
   "file_extension": ".py",
   "mimetype": "text/x-python",
   "name": "python",
   "nbconvert_exporter": "python",
   "pygments_lexer": "ipython3",
   "version": "3.8.6"
  },
  "toc-autonumbering": true
 },
 "nbformat": 4,
 "nbformat_minor": 5
}
