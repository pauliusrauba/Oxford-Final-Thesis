{
 "cells": [
  {
   "cell_type": "code",
   "execution_count": 2,
   "id": "immune-investor",
   "metadata": {},
   "outputs": [],
   "source": [
    "from lazypredict.Supervised import LazyClassifier\n",
    "from sklearn.datasets import load_breast_cancer\n",
    "from sklearn.model_selection import train_test_split\n",
    "import pandas as pd\n",
    "import numpy as np\n",
    "import shap\n",
    "from sklearn.model_selection import train_test_split\n",
    "from sklearn.metrics import mean_squared_error\n",
    "\n",
    "from sklearn.linear_model import LinearRegression\n",
    "from sklearn.tree import DecisionTreeRegressor\n",
    "from sklearn.ensemble import RandomForestRegressor\n",
    "from xgboost.sklearn import XGBRegressor\n",
    "from sklearn.preprocessing import OneHotEncoder, LabelEncoder\n",
    "from sklearn import tree\n",
    "\n",
    "import matplotlib.pyplot as plt\n",
    "%matplotlib inline\n",
    "import warnings\n",
    "warnings.filterwarnings('ignore')"
   ]
  },
  {
   "cell_type": "code",
   "execution_count": 121,
   "id": "prerequisite-prague",
   "metadata": {},
   "outputs": [],
   "source": [
    "# Importing data (without quantile transforms)\n",
    "new_df2 = pd.read_csv(\"./Datasets/2021-08-07 new_df2.csv\")\n",
    "new_df2_dropna = pd.read_csv(\"./Datasets/2021-08-07 new_df2_dropna.csv\")\n"
   ]
  },
  {
   "cell_type": "code",
   "execution_count": 30,
   "id": "accessible-lightning",
   "metadata": {},
   "outputs": [
    {
     "data": {
      "text/plain": [
       "Index(['year', 'country', 'is_war', 'n_conflicts', 'total_deaths',\n",
       "       'incompatibility', 'intensity', 'type_of_conflict', 'conflict_before',\n",
       "       'countryname', 'T1', 'T2', 'T3', 'T4', 'T5', 'T6', 'T7', 'T8', 'T9',\n",
       "       'T10', 'T11', 'T12', 'T13', 'T14', 'T15', 'T16', 'T17', 'T18', 'T19',\n",
       "       'T20', 'T21', 'T22', 'T23', 'intrastate_conflict',\n",
       "       'interstate_conflict', 'Country_x', 'Year_x', 'ForeignAid', 'Resources',\n",
       "       'EthFrac', 'LingFrac', 'RelFrac', 'Transitional', 'AC_neighbour',\n",
       "       'GDP_capita', 'Population', 'Population_log', 'GDP_capita_log',\n",
       "       'ForeignAid_log', 'conflict_type', 'Year_y', 'Session', 'ISO Code',\n",
       "       'Country_y', 'person', 'Post', 'Language', 'Notes'],\n",
       "      dtype='object')"
      ]
     },
     "execution_count": 30,
     "metadata": {},
     "output_type": "execute_result"
    }
   ],
   "source": [
    "new_df2.columns"
   ]
  },
  {
   "cell_type": "markdown",
   "id": "rough-discipline",
   "metadata": {},
   "source": [
    "Controling for countries and not controling for countries (run two regressions, separately)"
   ]
  },
  {
   "cell_type": "markdown",
   "id": "institutional-promotion",
   "metadata": {},
   "source": [
    "**Run models**:\n",
    " - while controling for countries (fixed effects) vs not controling (pooled data)\n",
    " - while using just indices, just controls, and both\n",
    " - create a table where I showcase best model for all\n",
    " - create explanatory features\n",
    " - see if this differs for data when the indices are quantile-transformed"
   ]
  },
  {
   "cell_type": "code",
   "execution_count": 910,
   "id": "north-registrar",
   "metadata": {},
   "outputs": [],
   "source": [
    "cols_simple = ['T1', 'T2', 'T3', 'T4', 'T5', 'T6', 'T7', 'T8', 'T9',\n",
    "       'T10', 'T11', 'T12', 'T13', 'T14', 'T15', 'T16', 'T17', 'T18', 'T19',\n",
    "       'T20', 'T21', 'T22', 'T23']\n",
    "\n",
    "cols_control_country = ['T1', 'T2', 'T3', 'T4', 'T5', 'T6', 'T7', 'T8', 'T9',\n",
    "       'T10', 'T11', 'T12', 'T13', 'T14', 'T15', 'T16', 'T17', 'T18', 'T19',\n",
    "       'T20', 'T21', 'T22', 'T23', 'countryname']"
   ]
  },
  {
   "cell_type": "markdown",
   "id": "sufficient-natural",
   "metadata": {},
   "source": [
    "I compare 26 models"
   ]
  },
  {
   "cell_type": "code",
   "execution_count": 925,
   "id": "miniature-gilbert",
   "metadata": {},
   "outputs": [
    {
     "name": "stderr",
     "output_type": "stream",
     "text": [
      "100%|██████████████████████████████████████████████████████████████████████████████████| 29/29 [00:04<00:00,  6.08it/s]"
     ]
    },
    {
     "name": "stdout",
     "output_type": "stream",
     "text": [
      "                               Accuracy  Balanced Accuracy  ROC AUC  F1 Score  \\\n",
      "Model                                                                           \n",
      "XGBClassifier                      0.85               0.68     0.68      0.84   \n",
      "LGBMClassifier                     0.86               0.68     0.68      0.84   \n",
      "LabelPropagation                   0.78               0.66     0.66      0.79   \n",
      "LabelSpreading                     0.78               0.66     0.66      0.79   \n",
      "KNeighborsClassifier               0.83               0.66     0.66      0.81   \n",
      "AdaBoostClassifier                 0.82               0.64     0.64      0.80   \n",
      "DecisionTreeClassifier             0.74               0.61     0.61      0.75   \n",
      "Perceptron                         0.75               0.59     0.59      0.75   \n",
      "GaussianNB                         0.77               0.57     0.57      0.75   \n",
      "NearestCentroid                    0.56               0.56     0.56      0.61   \n",
      "BaggingClassifier                  0.81               0.55     0.55      0.76   \n",
      "QuadraticDiscriminantAnalysis      0.75               0.55     0.55      0.74   \n",
      "PassiveAggressiveClassifier        0.75               0.54     0.54      0.74   \n",
      "BernoulliNB                        0.81               0.54     0.54      0.75   \n",
      "RandomForestClassifier             0.82               0.53     0.53      0.75   \n",
      "LinearDiscriminantAnalysis         0.79               0.53     0.53      0.75   \n",
      "LogisticRegression                 0.80               0.53     0.53      0.74   \n",
      "ExtraTreeClassifier                0.70               0.52     0.52      0.70   \n",
      "SGDClassifier                      0.78               0.51     0.51      0.73   \n",
      "ExtraTreesClassifier               0.81               0.51     0.51      0.74   \n",
      "RidgeClassifier                    0.80               0.51     0.51      0.73   \n",
      "RidgeClassifierCV                  0.80               0.51     0.51      0.73   \n",
      "SVC                                0.81               0.50     0.50      0.72   \n",
      "CalibratedClassifierCV             0.80               0.50     0.50      0.72   \n",
      "LinearSVC                          0.80               0.50     0.50      0.72   \n",
      "DummyClassifier                    0.66               0.47     0.47      0.67   \n",
      "\n",
      "                               Time Taken  \n",
      "Model                                      \n",
      "XGBClassifier                        0.49  \n",
      "LGBMClassifier                       0.34  \n",
      "LabelPropagation                     0.28  \n",
      "LabelSpreading                       0.36  \n",
      "KNeighborsClassifier                 0.08  \n",
      "AdaBoostClassifier                   0.33  \n",
      "DecisionTreeClassifier               0.06  \n",
      "Perceptron                           0.02  \n",
      "GaussianNB                           0.03  \n",
      "NearestCentroid                      0.03  \n",
      "BaggingClassifier                    0.29  \n",
      "QuadraticDiscriminantAnalysis        0.06  \n",
      "PassiveAggressiveClassifier          0.04  \n",
      "BernoulliNB                          0.05  \n",
      "RandomForestClassifier               0.55  \n",
      "LinearDiscriminantAnalysis           0.07  \n",
      "LogisticRegression                   0.12  \n",
      "ExtraTreeClassifier                  0.02  \n",
      "SGDClassifier                        0.04  \n",
      "ExtraTreesClassifier                 0.33  \n",
      "RidgeClassifier                      0.05  \n",
      "RidgeClassifierCV                    0.04  \n",
      "SVC                                  0.16  \n",
      "CalibratedClassifierCV               0.66  \n",
      "LinearSVC                            0.20  \n",
      "DummyClassifier                      0.02  \n"
     ]
    },
    {
     "name": "stderr",
     "output_type": "stream",
     "text": [
      "\n"
     ]
    }
   ],
   "source": [
    "X = new_df2[cols_control_country]\n",
    "y = new_df2['intrastate_conflict']\n",
    "X_train, X_test, y_train, y_test = train_test_split(X, y, test_size=.30, random_state =123)\n",
    "\n",
    "# Initialize classifier\n",
    "clf = LazyClassifier(verbose=0,ignore_warnings=True, custom_metric=None)\n",
    "\n",
    "# Predict model\n",
    "models,predictions = clf.fit(X_train, X_test, y_train, y_test)\n",
    "\n",
    "print(models)"
   ]
  },
  {
   "cell_type": "code",
   "execution_count": 926,
   "id": "posted-explanation",
   "metadata": {},
   "outputs": [
    {
     "data": {
      "text/plain": [
       "26"
      ]
     },
     "execution_count": 926,
     "metadata": {},
     "output_type": "execute_result"
    }
   ],
   "source": [
    "len(models)"
   ]
  },
  {
   "cell_type": "code",
   "execution_count": 927,
   "id": "nervous-grounds",
   "metadata": {},
   "outputs": [
    {
     "name": "stdout",
     "output_type": "stream",
     "text": [
      "\\begin{tabular}{lrrrr}\n",
      "\\toprule\n",
      "{} &  Accuracy &  Balanced Accuracy &  ROC AUC &  F1 Score \\\\\n",
      "Model                         &           &                    &          &           \\\\\n",
      "\\midrule\n",
      "LGBMClassifier                &      0.86 &               0.68 &     0.68 &      0.84 \\\\\n",
      "XGBClassifier                 &      0.85 &               0.68 &     0.68 &      0.84 \\\\\n",
      "KNeighborsClassifier          &      0.83 &               0.66 &     0.66 &      0.81 \\\\\n",
      "AdaBoostClassifier            &      0.82 &               0.64 &     0.64 &      0.80 \\\\\n",
      "LabelPropagation              &      0.78 &               0.66 &     0.66 &      0.79 \\\\\n",
      "LabelSpreading                &      0.78 &               0.66 &     0.66 &      0.79 \\\\\n",
      "BaggingClassifier             &      0.81 &               0.55 &     0.55 &      0.76 \\\\\n",
      "BernoulliNB                   &      0.81 &               0.54 &     0.54 &      0.75 \\\\\n",
      "RandomForestClassifier        &      0.82 &               0.53 &     0.53 &      0.75 \\\\\n",
      "GaussianNB                    &      0.77 &               0.57 &     0.57 &      0.75 \\\\\n",
      "Perceptron                    &      0.75 &               0.59 &     0.59 &      0.75 \\\\\n",
      "LinearDiscriminantAnalysis    &      0.79 &               0.53 &     0.53 &      0.75 \\\\\n",
      "DecisionTreeClassifier        &      0.74 &               0.61 &     0.61 &      0.75 \\\\\n",
      "LogisticRegression            &      0.80 &               0.53 &     0.53 &      0.74 \\\\\n",
      "QuadraticDiscriminantAnalysis &      0.75 &               0.55 &     0.55 &      0.74 \\\\\n",
      "ExtraTreesClassifier          &      0.81 &               0.51 &     0.51 &      0.74 \\\\\n",
      "PassiveAggressiveClassifier   &      0.75 &               0.54 &     0.54 &      0.74 \\\\\n",
      "SGDClassifier                 &      0.78 &               0.51 &     0.51 &      0.73 \\\\\n",
      "RidgeClassifier               &      0.80 &               0.51 &     0.51 &      0.73 \\\\\n",
      "RidgeClassifierCV             &      0.80 &               0.51 &     0.51 &      0.73 \\\\\n",
      "SVC                           &      0.81 &               0.50 &     0.50 &      0.72 \\\\\n",
      "CalibratedClassifierCV        &      0.80 &               0.50 &     0.50 &      0.72 \\\\\n",
      "LinearSVC                     &      0.80 &               0.50 &     0.50 &      0.72 \\\\\n",
      "ExtraTreeClassifier           &      0.70 &               0.52 &     0.52 &      0.70 \\\\\n",
      "DummyClassifier               &      0.66 &               0.47 &     0.47 &      0.67 \\\\\n",
      "NearestCentroid               &      0.56 &               0.56 &     0.56 &      0.61 \\\\\n",
      "\\bottomrule\n",
      "\\end{tabular}\n",
      "\n"
     ]
    }
   ],
   "source": [
    "print(models.drop('Time Taken', axis=1).sort_values('F1 Score', ascending=False).to_latex())"
   ]
  },
  {
   "cell_type": "code",
   "execution_count": 59,
   "id": "italian-corruption",
   "metadata": {
    "scrolled": false
   },
   "outputs": [
    {
     "name": "stderr",
     "output_type": "stream",
     "text": [
      "100%|██████████████████████████████████████████████████████████████████████████████████| 29/29 [00:04<00:00,  6.59it/s]\n",
      "  0%|                                                                                           | 0/29 [00:00<?, ?it/s]"
     ]
    },
    {
     "name": "stdout",
     "output_type": "stream",
     "text": [
      "                               Accuracy  Balanced Accuracy  ROC AUC  F1 Score  \\\n",
      "Model                                                                           \n",
      "NearestCentroid                    0.66               0.62     0.62      0.69   \n",
      "SGDClassifier                      0.75               0.59     0.59      0.75   \n",
      "LabelPropagation                   0.73               0.58     0.58      0.74   \n",
      "LabelSpreading                     0.73               0.58     0.58      0.74   \n",
      "GaussianNB                         0.77               0.57     0.57      0.75   \n",
      "LGBMClassifier                     0.81               0.56     0.56      0.77   \n",
      "KNeighborsClassifier               0.80               0.55     0.55      0.76   \n",
      "XGBClassifier                      0.80               0.55     0.55      0.75   \n",
      "BaggingClassifier                  0.80               0.54     0.54      0.75   \n",
      "QuadraticDiscriminantAnalysis      0.75               0.54     0.54      0.73   \n",
      "Perceptron                         0.60               0.54     0.54      0.64   \n",
      "BernoulliNB                        0.80               0.54     0.54      0.75   \n",
      "AdaBoostClassifier                 0.79               0.53     0.53      0.74   \n",
      "LinearDiscriminantAnalysis         0.79               0.53     0.53      0.74   \n",
      "PassiveAggressiveClassifier        0.63               0.53     0.53      0.66   \n",
      "ExtraTreeClassifier                0.70               0.52     0.52      0.70   \n",
      "LogisticRegression                 0.80               0.52     0.52      0.74   \n",
      "DecisionTreeClassifier             0.71               0.52     0.52      0.71   \n",
      "LinearSVC                          0.80               0.51     0.51      0.73   \n",
      "ExtraTreesClassifier               0.81               0.51     0.51      0.73   \n",
      "RidgeClassifierCV                  0.80               0.51     0.51      0.73   \n",
      "RidgeClassifier                    0.80               0.51     0.51      0.73   \n",
      "CalibratedClassifierCV             0.80               0.51     0.51      0.73   \n",
      "SVC                                0.81               0.51     0.51      0.73   \n",
      "RandomForestClassifier             0.81               0.51     0.51      0.73   \n",
      "DummyClassifier                    0.66               0.47     0.47      0.67   \n",
      "\n",
      "                               Time Taken  \n",
      "Model                                      \n",
      "NearestCentroid                      0.02  \n",
      "SGDClassifier                        0.02  \n",
      "LabelPropagation                     0.26  \n",
      "LabelSpreading                       0.30  \n",
      "GaussianNB                           0.02  \n",
      "LGBMClassifier                       0.42  \n",
      "KNeighborsClassifier                 0.12  \n",
      "XGBClassifier                        0.31  \n",
      "BaggingClassifier                    0.26  \n",
      "QuadraticDiscriminantAnalysis        0.03  \n",
      "Perceptron                           0.02  \n",
      "BernoulliNB                          0.02  \n",
      "AdaBoostClassifier                   0.32  \n",
      "LinearDiscriminantAnalysis           0.03  \n",
      "PassiveAggressiveClassifier          0.02  \n",
      "ExtraTreeClassifier                  0.02  \n",
      "LogisticRegression                   0.04  \n",
      "DecisionTreeClassifier               0.06  \n",
      "LinearSVC                            0.19  \n",
      "ExtraTreesClassifier                 0.35  \n",
      "RidgeClassifierCV                    0.03  \n",
      "RidgeClassifier                      0.02  \n",
      "CalibratedClassifierCV               0.72  \n",
      "SVC                                  0.15  \n",
      "RandomForestClassifier               0.57  \n",
      "DummyClassifier                      0.02  \n"
     ]
    },
    {
     "name": "stderr",
     "output_type": "stream",
     "text": [
      "100%|██████████████████████████████████████████████████████████████████████████████████| 29/29 [00:04<00:00,  6.10it/s]"
     ]
    },
    {
     "name": "stdout",
     "output_type": "stream",
     "text": [
      "                               Accuracy  Balanced Accuracy  ROC AUC  F1 Score  \\\n",
      "Model                                                                           \n",
      "XGBClassifier                      0.85               0.68     0.68      0.84   \n",
      "LGBMClassifier                     0.86               0.68     0.68      0.84   \n",
      "LabelPropagation                   0.78               0.66     0.66      0.79   \n",
      "LabelSpreading                     0.78               0.66     0.66      0.79   \n",
      "KNeighborsClassifier               0.83               0.66     0.66      0.81   \n",
      "AdaBoostClassifier                 0.82               0.64     0.64      0.80   \n",
      "DecisionTreeClassifier             0.74               0.61     0.61      0.75   \n",
      "Perceptron                         0.75               0.59     0.59      0.75   \n",
      "GaussianNB                         0.77               0.57     0.57      0.75   \n",
      "NearestCentroid                    0.56               0.56     0.56      0.61   \n",
      "BaggingClassifier                  0.81               0.55     0.55      0.76   \n",
      "QuadraticDiscriminantAnalysis      0.75               0.55     0.55      0.74   \n",
      "PassiveAggressiveClassifier        0.75               0.54     0.54      0.74   \n",
      "BernoulliNB                        0.81               0.54     0.54      0.75   \n",
      "RandomForestClassifier             0.82               0.53     0.53      0.75   \n",
      "LinearDiscriminantAnalysis         0.79               0.53     0.53      0.75   \n",
      "LogisticRegression                 0.80               0.53     0.53      0.74   \n",
      "ExtraTreeClassifier                0.70               0.52     0.52      0.70   \n",
      "SGDClassifier                      0.78               0.51     0.51      0.73   \n",
      "ExtraTreesClassifier               0.81               0.51     0.51      0.74   \n",
      "RidgeClassifier                    0.80               0.51     0.51      0.73   \n",
      "RidgeClassifierCV                  0.80               0.51     0.51      0.73   \n",
      "SVC                                0.81               0.50     0.50      0.72   \n",
      "CalibratedClassifierCV             0.80               0.50     0.50      0.72   \n",
      "LinearSVC                          0.80               0.50     0.50      0.72   \n",
      "DummyClassifier                    0.66               0.47     0.47      0.67   \n",
      "\n",
      "                               Time Taken  \n",
      "Model                                      \n",
      "XGBClassifier                        0.31  \n",
      "LGBMClassifier                       0.47  \n",
      "LabelPropagation                     0.30  \n",
      "LabelSpreading                       0.33  \n",
      "KNeighborsClassifier                 0.07  \n",
      "AdaBoostClassifier                   0.34  \n",
      "DecisionTreeClassifier               0.08  \n",
      "Perceptron                           0.03  \n",
      "GaussianNB                           0.03  \n",
      "NearestCentroid                      0.04  \n",
      "BaggingClassifier                    0.27  \n",
      "QuadraticDiscriminantAnalysis        0.04  \n",
      "PassiveAggressiveClassifier          0.03  \n",
      "BernoulliNB                          0.04  \n",
      "RandomForestClassifier               0.57  \n",
      "LinearDiscriminantAnalysis           0.04  \n",
      "LogisticRegression                   0.13  \n",
      "ExtraTreeClassifier                  0.03  \n",
      "SGDClassifier                        0.04  \n",
      "ExtraTreesClassifier                 0.33  \n",
      "RidgeClassifier                      0.03  \n",
      "RidgeClassifierCV                    0.04  \n",
      "SVC                                  0.15  \n",
      "CalibratedClassifierCV               0.72  \n",
      "LinearSVC                            0.20  \n",
      "DummyClassifier                      0.03  \n"
     ]
    },
    {
     "name": "stderr",
     "output_type": "stream",
     "text": [
      "\n"
     ]
    }
   ],
   "source": [
    "for cols in [cols_simple, cols_control_country]:\n",
    "    X = new_df2[cols]\n",
    "    y = new_df2['intrastate_conflict']\n",
    "    X_train, X_test, y_train, y_test = train_test_split(X, y, test_size=.30, random_state =123)\n",
    "\n",
    "    # Initialize classifier\n",
    "    clf = LazyClassifier(verbose=0,ignore_warnings=True, custom_metric=None)\n",
    "\n",
    "    # Predict model\n",
    "    models,predictions = clf.fit(X_train, X_test, y_train, y_test)\n",
    "\n",
    "    print(models)\n"
   ]
  },
  {
   "cell_type": "code",
   "execution_count": 799,
   "id": "statistical-crossing",
   "metadata": {},
   "outputs": [],
   "source": [
    "plot_way = models.index"
   ]
  },
  {
   "cell_type": "code",
   "execution_count": 61,
   "id": "israeli-surface",
   "metadata": {},
   "outputs": [
    {
     "data": {
      "text/plain": [
       "Index(['year', 'country', 'is_war', 'n_conflicts', 'total_deaths',\n",
       "       'incompatibility', 'intensity', 'type_of_conflict', 'conflict_before',\n",
       "       'countryname', 'T1', 'T2', 'T3', 'T4', 'T5', 'T6', 'T7', 'T8', 'T9',\n",
       "       'T10', 'T11', 'T12', 'T13', 'T14', 'T15', 'T16', 'T17', 'T18', 'T19',\n",
       "       'T20', 'T21', 'T22', 'T23', 'intrastate_conflict',\n",
       "       'interstate_conflict', 'Country_x', 'Year_x', 'ForeignAid', 'Resources',\n",
       "       'EthFrac', 'LingFrac', 'RelFrac', 'Transitional', 'AC_neighbour',\n",
       "       'GDP_capita', 'Population', 'Population_log', 'GDP_capita_log',\n",
       "       'ForeignAid_log', 'conflict_type', 'Year_y', 'Session', 'ISO Code',\n",
       "       'Country_y', 'person', 'Post', 'Language', 'Notes'],\n",
       "      dtype='object')"
      ]
     },
     "execution_count": 61,
     "metadata": {},
     "output_type": "execute_result"
    }
   ],
   "source": [
    "new_df2.columns"
   ]
  },
  {
   "cell_type": "code",
   "execution_count": 62,
   "id": "otherwise-purchase",
   "metadata": {},
   "outputs": [],
   "source": [
    "cols_simple = ['T1', 'T2', 'T3', 'T4', 'T5', 'T6', 'T7', 'T8', 'T9',\n",
    "       'T10', 'T11', 'T12', 'T13', 'T14', 'T15', 'T16', 'T17', 'T18', 'T19',\n",
    "       'T20', 'T21', 'T22', 'T23', 'Population_log', 'GDP_capita_log',\n",
    "       'ForeignAid_log', 'Resources',\n",
    "       'EthFrac', 'LingFrac', 'RelFrac', 'Transitional', 'AC_neighbour']\n",
    "\n",
    "cols_control_country = ['T1', 'T2', 'T3', 'T4', 'T5', 'T6', 'T7', 'T8', 'T9',\n",
    "       'T10', 'T11', 'T12', 'T13', 'T14', 'T15', 'T16', 'T17', 'T18', 'T19',\n",
    "       'T20', 'T21', 'T22', 'T23', 'Population_log', 'GDP_capita_log',\n",
    "       'ForeignAid_log', 'Resources',\n",
    "       'EthFrac', 'LingFrac', 'RelFrac', 'Transitional', 'AC_neighbour', 'countryname']"
   ]
  },
  {
   "cell_type": "code",
   "execution_count": 63,
   "id": "monetary-vegetable",
   "metadata": {},
   "outputs": [
    {
     "name": "stderr",
     "output_type": "stream",
     "text": [
      "100%|██████████████████████████████████████████████████████████████████████████████████| 29/29 [00:03<00:00,  8.70it/s]\n",
      "  0%|                                                                                           | 0/29 [00:00<?, ?it/s]"
     ]
    },
    {
     "name": "stdout",
     "output_type": "stream",
     "text": [
      "                               Accuracy  Balanced Accuracy  ROC AUC  F1 Score  \\\n",
      "Model                                                                           \n",
      "XGBClassifier                      0.87               0.75     0.75      0.87   \n",
      "LGBMClassifier                     0.88               0.75     0.75      0.87   \n",
      "NearestCentroid                    0.75               0.73     0.73      0.77   \n",
      "BaggingClassifier                  0.87               0.71     0.71      0.86   \n",
      "AdaBoostClassifier                 0.85               0.68     0.68      0.83   \n",
      "DecisionTreeClassifier             0.81               0.68     0.68      0.81   \n",
      "ExtraTreeClassifier                0.79               0.68     0.68      0.80   \n",
      "RandomForestClassifier             0.86               0.67     0.67      0.84   \n",
      "SGDClassifier                      0.77               0.67     0.67      0.78   \n",
      "GaussianNB                         0.82               0.67     0.67      0.81   \n",
      "KNeighborsClassifier               0.83               0.65     0.65      0.82   \n",
      "ExtraTreesClassifier               0.86               0.65     0.65      0.83   \n",
      "QuadraticDiscriminantAnalysis      0.82               0.64     0.64      0.81   \n",
      "LabelPropagation                   0.78               0.64     0.64      0.78   \n",
      "LabelSpreading                     0.78               0.64     0.64      0.78   \n",
      "BernoulliNB                        0.79               0.62     0.62      0.78   \n",
      "PassiveAggressiveClassifier        0.78               0.62     0.62      0.77   \n",
      "SVC                                0.84               0.61     0.61      0.81   \n",
      "LinearSVC                          0.83               0.60     0.60      0.80   \n",
      "LogisticRegression                 0.82               0.60     0.60      0.79   \n",
      "Perceptron                         0.78               0.59     0.59      0.77   \n",
      "CalibratedClassifierCV             0.83               0.59     0.59      0.79   \n",
      "LinearDiscriminantAnalysis         0.82               0.58     0.58      0.78   \n",
      "DummyClassifier                    0.72               0.55     0.55      0.72   \n",
      "RidgeClassifierCV                  0.82               0.54     0.54      0.76   \n",
      "RidgeClassifier                    0.82               0.54     0.54      0.76   \n",
      "\n",
      "                               Time Taken  \n",
      "Model                                      \n",
      "XGBClassifier                        0.23  \n",
      "LGBMClassifier                       0.47  \n",
      "NearestCentroid                      0.02  \n",
      "BaggingClassifier                    0.18  \n",
      "AdaBoostClassifier                   0.27  \n",
      "DecisionTreeClassifier               0.04  \n",
      "ExtraTreeClassifier                  0.02  \n",
      "RandomForestClassifier               0.47  \n",
      "SGDClassifier                        0.02  \n",
      "GaussianNB                           0.02  \n",
      "KNeighborsClassifier                 0.08  \n",
      "ExtraTreesClassifier                 0.32  \n",
      "QuadraticDiscriminantAnalysis        0.03  \n",
      "LabelPropagation                     0.14  \n",
      "LabelSpreading                       0.15  \n",
      "BernoulliNB                          0.02  \n",
      "PassiveAggressiveClassifier          0.02  \n",
      "SVC                                  0.07  \n",
      "LinearSVC                            0.11  \n",
      "LogisticRegression                   0.06  \n",
      "Perceptron                           0.02  \n",
      "CalibratedClassifierCV               0.40  \n",
      "LinearDiscriminantAnalysis           0.04  \n",
      "DummyClassifier                      0.01  \n",
      "RidgeClassifierCV                    0.04  \n",
      "RidgeClassifier                      0.02  \n"
     ]
    },
    {
     "name": "stderr",
     "output_type": "stream",
     "text": [
      "100%|██████████████████████████████████████████████████████████████████████████████████| 29/29 [00:03<00:00,  8.00it/s]"
     ]
    },
    {
     "name": "stdout",
     "output_type": "stream",
     "text": [
      "                               Accuracy  Balanced Accuracy  ROC AUC  F1 Score  \\\n",
      "Model                                                                           \n",
      "LGBMClassifier                     0.89               0.78     0.78      0.88   \n",
      "XGBClassifier                      0.87               0.73     0.73      0.86   \n",
      "BaggingClassifier                  0.87               0.73     0.73      0.86   \n",
      "AdaBoostClassifier                 0.84               0.72     0.72      0.84   \n",
      "LabelPropagation                   0.81               0.71     0.71      0.81   \n",
      "LabelSpreading                     0.81               0.71     0.71      0.81   \n",
      "DecisionTreeClassifier             0.83               0.71     0.71      0.83   \n",
      "KNeighborsClassifier               0.85               0.70     0.70      0.84   \n",
      "RandomForestClassifier             0.87               0.69     0.69      0.85   \n",
      "ExtraTreesClassifier               0.87               0.68     0.68      0.85   \n",
      "GaussianNB                         0.82               0.68     0.68      0.81   \n",
      "QuadraticDiscriminantAnalysis      0.83               0.64     0.64      0.81   \n",
      "ExtraTreeClassifier                0.76               0.64     0.64      0.76   \n",
      "BernoulliNB                        0.80               0.63     0.63      0.79   \n",
      "Perceptron                         0.82               0.60     0.60      0.79   \n",
      "LogisticRegression                 0.82               0.60     0.60      0.79   \n",
      "SGDClassifier                      0.83               0.60     0.60      0.79   \n",
      "LinearDiscriminantAnalysis         0.82               0.59     0.59      0.79   \n",
      "CalibratedClassifierCV             0.81               0.56     0.56      0.77   \n",
      "LinearSVC                          0.81               0.55     0.55      0.77   \n",
      "PassiveAggressiveClassifier        0.82               0.55     0.55      0.77   \n",
      "DummyClassifier                    0.72               0.55     0.55      0.72   \n",
      "NearestCentroid                    0.58               0.54     0.54      0.62   \n",
      "RidgeClassifier                    0.81               0.54     0.54      0.76   \n",
      "RidgeClassifierCV                  0.81               0.54     0.54      0.76   \n",
      "SVC                                0.81               0.50     0.50      0.73   \n",
      "\n",
      "                               Time Taken  \n",
      "Model                                      \n",
      "LGBMClassifier                       0.49  \n",
      "XGBClassifier                        0.23  \n",
      "BaggingClassifier                    0.19  \n",
      "AdaBoostClassifier                   0.32  \n",
      "LabelPropagation                     0.14  \n",
      "LabelSpreading                       0.17  \n",
      "DecisionTreeClassifier               0.05  \n",
      "KNeighborsClassifier                 0.06  \n",
      "RandomForestClassifier               0.44  \n",
      "ExtraTreesClassifier                 0.26  \n",
      "GaussianNB                           0.03  \n",
      "QuadraticDiscriminantAnalysis        0.04  \n",
      "ExtraTreeClassifier                  0.03  \n",
      "BernoulliNB                          0.03  \n",
      "Perceptron                           0.02  \n",
      "LogisticRegression                   0.12  \n",
      "SGDClassifier                        0.03  \n",
      "LinearDiscriminantAnalysis           0.04  \n",
      "CalibratedClassifierCV               0.49  \n",
      "LinearSVC                            0.15  \n",
      "PassiveAggressiveClassifier          0.03  \n",
      "DummyClassifier                      0.03  \n",
      "NearestCentroid                      0.03  \n",
      "RidgeClassifier                      0.03  \n",
      "RidgeClassifierCV                    0.05  \n",
      "SVC                                  0.07  \n"
     ]
    },
    {
     "name": "stderr",
     "output_type": "stream",
     "text": [
      "\n"
     ]
    }
   ],
   "source": [
    "for cols in [cols_simple, cols_control_country]:\n",
    "    X = new_df2_dropna[cols]\n",
    "    y = new_df2_dropna['intrastate_conflict']\n",
    "    X_train, X_test, y_train, y_test = train_test_split(X, y, test_size=.30, random_state =123)\n",
    "\n",
    "    # Initialize classifier\n",
    "    clf = LazyClassifier(verbose=0,ignore_warnings=True, custom_metric=None)\n",
    "\n",
    "    # Predict model\n",
    "    models,predictions = clf.fit(X_train, X_test, y_train, y_test)\n",
    "\n",
    "    print(models)\n"
   ]
  },
  {
   "cell_type": "code",
   "execution_count": null,
   "id": "established-estimate",
   "metadata": {},
   "outputs": [],
   "source": [
    "X = new_df2[cols]\n",
    "y = new_df2['intrastate_conflict']\n",
    "X_train, X_test, y_train, y_test = train_test_split(X, y, test_size=.30, random_state =123)\n",
    "\n",
    "# Initialize classifier\n",
    "clf = LazyClassifier(verbose=0,ignore_warnings=True, custom_metric=None)\n",
    "\n",
    "# Predict model\n",
    "models,predictions = clf.fit(X_train, X_test, y_train, y_test)\n"
   ]
  },
  {
   "cell_type": "code",
   "execution_count": 114,
   "id": "least-hotel",
   "metadata": {},
   "outputs": [],
   "source": [
    "adaboost = clf.classifiers[0][1]"
   ]
  },
  {
   "cell_type": "code",
   "execution_count": 116,
   "id": "paperback-visitor",
   "metadata": {},
   "outputs": [
    {
     "ename": "AttributeError",
     "evalue": "type object 'AdaBoostClassifier' has no attribute 'coef_'",
     "output_type": "error",
     "traceback": [
      "\u001b[1;31m---------------------------------------------------------------------------\u001b[0m",
      "\u001b[1;31mAttributeError\u001b[0m                            Traceback (most recent call last)",
      "\u001b[1;32m<ipython-input-116-2f4bed9d7b4b>\u001b[0m in \u001b[0;36m<module>\u001b[1;34m\u001b[0m\n\u001b[1;32m----> 1\u001b[1;33m \u001b[0madaboost\u001b[0m\u001b[1;33m.\u001b[0m\u001b[0mcoef_\u001b[0m\u001b[1;33m\u001b[0m\u001b[1;33m\u001b[0m\u001b[0m\n\u001b[0m",
      "\u001b[1;31mAttributeError\u001b[0m: type object 'AdaBoostClassifier' has no attribute 'coef_'"
     ]
    }
   ],
   "source": [
    "adaboost.coef_"
   ]
  },
  {
   "cell_type": "code",
   "execution_count": 110,
   "id": "blind-democracy",
   "metadata": {},
   "outputs": [],
   "source": [
    "clf.pre"
   ]
  },
  {
   "cell_type": "markdown",
   "id": "dietary-drill",
   "metadata": {},
   "source": [
    "### Feature importance"
   ]
  },
  {
   "cell_type": "markdown",
   "id": "responsible-boutique",
   "metadata": {},
   "source": [
    "#### Only the indices (nothing else)."
   ]
  },
  {
   "cell_type": "code",
   "execution_count": 65,
   "id": "asian-subdivision",
   "metadata": {},
   "outputs": [],
   "source": [
    "from xgboost import XGBClassifier\n"
   ]
  },
  {
   "cell_type": "code",
   "execution_count": 66,
   "id": "hairy-checkout",
   "metadata": {},
   "outputs": [],
   "source": [
    "from matplotlib import pyplot"
   ]
  },
  {
   "cell_type": "code",
   "execution_count": 72,
   "id": "bored-reducing",
   "metadata": {},
   "outputs": [],
   "source": [
    "X = new_df2[cols_simple]\n",
    "y = new_df2['intrastate_conflict']\n",
    "X_train, X_test, y_train, y_test = train_test_split(X, y, test_size=.30, random_state =123)"
   ]
  },
  {
   "cell_type": "code",
   "execution_count": 73,
   "id": "respected-public",
   "metadata": {},
   "outputs": [],
   "source": [
    "model = XGBClassifier()"
   ]
  },
  {
   "cell_type": "code",
   "execution_count": 74,
   "id": "engaged-shoulder",
   "metadata": {},
   "outputs": [
    {
     "name": "stdout",
     "output_type": "stream",
     "text": [
      "[0.04492916 0.03526258 0.04338798 0.03703839 0.05012276 0.05131616\n",
      " 0.04630027 0.03406532 0.04378146 0.04208605 0.03961528 0.04565319\n",
      " 0.03251608 0.03475999 0.0412081  0.03730575 0.03747604 0.06504256\n",
      " 0.05130789 0.04451293 0.05500172 0.04009924 0.04721121]\n"
     ]
    },
    {
     "data": {
      "image/png": "[encoded data removed]",
      "text/plain": [
       "<Figure size 432x288 with 1 Axes>"
      ]
     },
     "metadata": {
      "needs_background": "light"
     },
     "output_type": "display_data"
    }
   ],
   "source": [
    "model.fit(X, y)\n",
    "# feature importance\n",
    "print(model.feature_importances_)\n",
    "# plot\n",
    "pyplot.bar(range(len(model.feature_importances_)), model.feature_importances_)\n",
    "pyplot.show()"
   ]
  },
  {
   "cell_type": "code",
   "execution_count": 76,
   "id": "genetic-administration",
   "metadata": {},
   "outputs": [],
   "source": [
    "from xgboost import plot_importance\n"
   ]
  },
  {
   "cell_type": "code",
   "execution_count": 77,
   "id": "confident-sudan",
   "metadata": {},
   "outputs": [
    {
     "data": {
      "text/plain": [
       "<AxesSubplot:title={'center':'Feature importance'}, xlabel='F score', ylabel='Features'>"
      ]
     },
     "execution_count": 77,
     "metadata": {},
     "output_type": "execute_result"
    },
    {
     "data": {
      "image/png": "[encoded data removed]",
      "text/plain": [
       "<Figure size 432x288 with 1 Axes>"
      ]
     },
     "metadata": {
      "needs_background": "light"
     },
     "output_type": "display_data"
    }
   ],
   "source": [
    "plot_importance(model)\n"
   ]
  },
  {
   "cell_type": "code",
   "execution_count": 80,
   "id": "human-walter",
   "metadata": {},
   "outputs": [],
   "source": [
    "import xgboost as xgb\n"
   ]
  },
  {
   "cell_type": "code",
   "execution_count": 83,
   "id": "damaged-lithuania",
   "metadata": {},
   "outputs": [],
   "source": [
    "dmatrix = xgb.DMatrix(data=X, label=y)"
   ]
  },
  {
   "cell_type": "code",
   "execution_count": 84,
   "id": "electric-surface",
   "metadata": {},
   "outputs": [],
   "source": [
    "params={ 'objective':'binary:logistic',\n",
    "         'max_depth': 6, \n",
    "         'colsample_bylevel':0.5,\n",
    "         'learning_rate':0.01,\n",
    "         'random_state':20}"
   ]
  },
  {
   "cell_type": "code",
   "execution_count": 94,
   "id": "united-kansas",
   "metadata": {},
   "outputs": [],
   "source": [
    "cv_results = xgb.cv(dtrain=dmatrix, params=params, nfold=10, metrics={'auc'}, as_pandas=True, seed=20, num_boost_round=1000)"
   ]
  },
  {
   "cell_type": "markdown",
   "id": "exact-premises",
   "metadata": {},
   "source": [
    "Default model is 0.75"
   ]
  },
  {
   "cell_type": "code",
   "execution_count": 97,
   "id": "burning-pocket",
   "metadata": {},
   "outputs": [
    {
     "data": {
      "text/html": [
       "<div>\n",
       "<style scoped>\n",
       "    .dataframe tbody tr th:only-of-type {\n",
       "        vertical-align: middle;\n",
       "    }\n",
       "\n",
       "    .dataframe tbody tr th {\n",
       "        vertical-align: top;\n",
       "    }\n",
       "\n",
       "    .dataframe thead th {\n",
       "        text-align: right;\n",
       "    }\n",
       "</style>\n",
       "<table border=\"1\" class=\"dataframe\">\n",
       "  <thead>\n",
       "    <tr style=\"text-align: right;\">\n",
       "      <th></th>\n",
       "      <th>train-auc-mean</th>\n",
       "      <th>train-auc-std</th>\n",
       "      <th>test-auc-mean</th>\n",
       "      <th>test-auc-std</th>\n",
       "    </tr>\n",
       "  </thead>\n",
       "  <tbody>\n",
       "    <tr>\n",
       "      <th>0</th>\n",
       "      <td>0.74</td>\n",
       "      <td>0.02</td>\n",
       "      <td>0.60</td>\n",
       "      <td>0.05</td>\n",
       "    </tr>\n",
       "    <tr>\n",
       "      <th>1</th>\n",
       "      <td>0.79</td>\n",
       "      <td>0.02</td>\n",
       "      <td>0.62</td>\n",
       "      <td>0.04</td>\n",
       "    </tr>\n",
       "    <tr>\n",
       "      <th>2</th>\n",
       "      <td>0.81</td>\n",
       "      <td>0.01</td>\n",
       "      <td>0.62</td>\n",
       "      <td>0.04</td>\n",
       "    </tr>\n",
       "    <tr>\n",
       "      <th>3</th>\n",
       "      <td>0.83</td>\n",
       "      <td>0.01</td>\n",
       "      <td>0.63</td>\n",
       "      <td>0.04</td>\n",
       "    </tr>\n",
       "    <tr>\n",
       "      <th>4</th>\n",
       "      <td>0.83</td>\n",
       "      <td>0.01</td>\n",
       "      <td>0.64</td>\n",
       "      <td>0.04</td>\n",
       "    </tr>\n",
       "    <tr>\n",
       "      <th>...</th>\n",
       "      <td>...</td>\n",
       "      <td>...</td>\n",
       "      <td>...</td>\n",
       "      <td>...</td>\n",
       "    </tr>\n",
       "    <tr>\n",
       "      <th>995</th>\n",
       "      <td>1.00</td>\n",
       "      <td>0.00</td>\n",
       "      <td>0.69</td>\n",
       "      <td>0.03</td>\n",
       "    </tr>\n",
       "    <tr>\n",
       "      <th>996</th>\n",
       "      <td>1.00</td>\n",
       "      <td>0.00</td>\n",
       "      <td>0.69</td>\n",
       "      <td>0.03</td>\n",
       "    </tr>\n",
       "    <tr>\n",
       "      <th>997</th>\n",
       "      <td>1.00</td>\n",
       "      <td>0.00</td>\n",
       "      <td>0.69</td>\n",
       "      <td>0.03</td>\n",
       "    </tr>\n",
       "    <tr>\n",
       "      <th>998</th>\n",
       "      <td>1.00</td>\n",
       "      <td>0.00</td>\n",
       "      <td>0.69</td>\n",
       "      <td>0.03</td>\n",
       "    </tr>\n",
       "    <tr>\n",
       "      <th>999</th>\n",
       "      <td>1.00</td>\n",
       "      <td>0.00</td>\n",
       "      <td>0.69</td>\n",
       "      <td>0.03</td>\n",
       "    </tr>\n",
       "  </tbody>\n",
       "</table>\n",
       "<p>1000 rows × 4 columns</p>\n",
       "</div>"
      ],
      "text/plain": [
       "     train-auc-mean  train-auc-std  test-auc-mean  test-auc-std\n",
       "0              0.74           0.02           0.60          0.05\n",
       "1              0.79           0.02           0.62          0.04\n",
       "2              0.81           0.01           0.62          0.04\n",
       "3              0.83           0.01           0.63          0.04\n",
       "4              0.83           0.01           0.64          0.04\n",
       "..              ...            ...            ...           ...\n",
       "995            1.00           0.00           0.69          0.03\n",
       "996            1.00           0.00           0.69          0.03\n",
       "997            1.00           0.00           0.69          0.03\n",
       "998            1.00           0.00           0.69          0.03\n",
       "999            1.00           0.00           0.69          0.03\n",
       "\n",
       "[1000 rows x 4 columns]"
      ]
     },
     "execution_count": 97,
     "metadata": {},
     "output_type": "execute_result"
    }
   ],
   "source": [
    "cv_results"
   ]
  },
  {
   "cell_type": "code",
   "execution_count": 96,
   "id": "systematic-trouble",
   "metadata": {},
   "outputs": [
    {
     "data": {
      "text/plain": [
       "0.6906939000000001"
      ]
     },
     "execution_count": 96,
     "metadata": {},
     "output_type": "execute_result"
    }
   ],
   "source": [
    "cv_results['test-auc-mean'].max()"
   ]
  },
  {
   "cell_type": "code",
   "execution_count": 104,
   "id": "brutal-operation",
   "metadata": {},
   "outputs": [],
   "source": [
    "importances = ['total_gain', 'gain', 'total_cover', 'cover', 'weight']"
   ]
  },
  {
   "cell_type": "markdown",
   "id": "residential-excess",
   "metadata": {},
   "source": [
    "“The Gain implies the relative contribution of the corresponding feature to the model calculated by taking each feature’s contribution for each tree in the model. A higher value of this metric when compared to another feature implies it is more important for generating a prediction.\n",
    "The Coverage metric means the relative number of observations related to this feature. For example, if you have 100 observations, 4 features and 3 trees, and suppose feature1 is used to decide the leaf node for 10, 5, and 2 observations in tree1, tree2 and tree3 respectively; then the metric will count cover for this feature as 10+5+2 = 17 observations. This will be calculated for all the 4 features and the cover will be 17 expressed as a percentage for all features’ cover metrics.\n",
    "The Frequency (R)/Weight (python) is the percentage representing the relative number of times a particular feature occurs in the trees of the model. In the above example, if feature1 occurred in 2 splits, 1 split and 3 splits in each of tree1, tree2 and tree3; then the weight for feature1 will be 2+1+3 = 6. The frequency for feature1 is calculated as its percentage weight over weights of all features.\n",
    "The Gain is the most relevant attribute to interpret the relative importance of each feature.\n",
    "‘Gain’ is the improvement in accuracy brought by a feature to the branches it is on. The idea is that before adding a new split on a feature X to the branch there was some wrongly classified elements, after adding the split on this feature, there are two new branches, and each of these branch is more accurate (one branch saying if your observation is on this branch then it should be classified as 1, and the other branch saying the exact opposite).\n",
    "‘Coverage’ measures the relative quantity of observations concerned by a feature.”[3]\n",
    "\n",
    "https://towardsdatascience.com/be-careful-when-interpreting-your-features-importance-in-xgboost-6e16132588e7"
   ]
  },
  {
   "cell_type": "markdown",
   "id": "imperial-silver",
   "metadata": {},
   "source": [
    "Different feature importance scores (!!) --> look at them :] "
   ]
  },
  {
   "cell_type": "code",
   "execution_count": 106,
   "id": "upper-roller",
   "metadata": {},
   "outputs": [
    {
     "name": "stdout",
     "output_type": "stream",
     "text": [
      "-------------------------\n",
      "total_gain\n",
      "{'T18': 377.2443575936999, 'T21': 259.9323694505, 'T5': 150.73857153470001, 'T6': 259.0499036234, 'T4': 175.03953169809202, 'T22': 175.1483868179, 'T12': 209.21423016780005, 'T2': 152.75998301170003, 'T17': 171.74092301179994, 'T11': 137.5766241446, 'T19': 211.24778326979992, 'T3': 178.63945097800004, 'T1': 178.55064682036001, 'T14': 133.15993714430002, 'T15': 202.12186332000005, 'T23': 245.08868993009992, 'T7': 117.69336123699995, 'T8': 142.69492025306997, 'T13': 139.6977831782, 'T20': 137.0549560724, 'T16': 154.93298544259994, 'T10': 96.43357163600002, 'T9': 200.6366579868001}\n",
      "-------------------------\n",
      "gain\n",
      "{'T18': 2.328668874035184, 'T21': 1.9691846170492424, 'T5': 1.794506803984524, 'T6': 1.8372333590312055, 'T4': 1.3260570583188789, 'T22': 1.4356425149008196, 'T12': 1.634486173185938, 'T2': 1.262479198443802, 'T17': 1.341725961029687, 'T11': 1.4183157128309278, 'T19': 1.8369372458243471, 'T3': 1.5533865302434786, 'T1': 1.608564385769009, 'T14': 1.2444853938719627, 'T15': 1.4753420680291973, 'T23': 1.6902668271041374, 'T7': 1.6576529751690134, 'T8': 1.219614703017692, 'T13': 1.1641481931516668, 'T20': 1.5936622799116278, 'T16': 1.3356291848499995, 'T10': 1.5067745568125004, 'T9': 1.5674738905218757}\n",
      "-------------------------\n",
      "total_cover\n",
      "{'T18': 11225.664332079994, 'T21': 8167.928972940002, 'T5': 4453.734239929999, 'T6': 5934.511360550002, 'T4': 4599.83284121, 'T22': 4395.3001551199995, 'T12': 5385.47945195, 'T2': 3198.9615730799987, 'T17': 3849.3539628899994, 'T11': 2772.1578458700005, 'T19': 4756.921283130003, 'T3': 3364.960735390002, 'T1': 3620.7258844199996, 'T14': 2606.2358060200004, 'T15': 5245.226634749998, 'T23': 6654.601392109999, 'T7': 1676.5863811699996, 'T8': 4316.172097809998, 'T13': 6207.338909560001, 'T20': 3088.9253084899988, 'T16': 3216.30932733, 'T10': 3645.2107985499997, 'T9': 5840.87421016}\n",
      "-------------------------\n",
      "cover\n",
      "{'T18': 69.29422427209873, 'T21': 61.87824979500001, 'T5': 53.02064571345237, 'T6': 42.088733053546115, 'T4': 34.84721849401515, 'T22': 36.02705045180328, 'T12': 42.074058218359376, 'T2': 26.43769895107437, 'T17': 30.07307783507812, 'T11': 28.57894686463918, 'T19': 41.364532896782634, 'T3': 29.260528133826103, 'T1': 32.619152111891886, 'T14': 24.35734398149533, 'T15': 38.286325801094875, 'T23': 45.89380270420689, 'T7': 23.613892692535206, 'T8': 36.89035981034186, 'T13': 51.72782424633335, 'T20': 35.917736145232546, 'T16': 27.726804545948276, 'T10': 56.956418727343745, 'T9': 45.631829766875}\n",
      "-------------------------\n",
      "weight\n",
      "{'T18': 162, 'T21': 132, 'T5': 84, 'T6': 141, 'T4': 132, 'T22': 122, 'T12': 128, 'T2': 121, 'T17': 128, 'T11': 97, 'T19': 115, 'T3': 115, 'T1': 111, 'T14': 107, 'T15': 137, 'T23': 145, 'T7': 71, 'T8': 117, 'T13': 120, 'T20': 86, 'T16': 116, 'T10': 64, 'T9': 128}\n"
     ]
    }
   ],
   "source": [
    "for imp in importances:\n",
    "    print(\"-------------------------\")\n",
    "    print(imp)\n",
    "    print(model.get_booster().get_score(importance_type=imp))"
   ]
  },
  {
   "cell_type": "code",
   "execution_count": null,
   "id": "neither-forward",
   "metadata": {},
   "outputs": [],
   "source": []
  },
  {
   "cell_type": "markdown",
   "id": "internal-footwear",
   "metadata": {},
   "source": [
    "### Get all model feature importances"
   ]
  },
  {
   "cell_type": "code",
   "execution_count": 511,
   "id": "tender-kruger",
   "metadata": {},
   "outputs": [],
   "source": [
    "from sklearn.preprocessing import StandardScaler, MinMaxScaler\n",
    "ss = MinMaxScaler()"
   ]
  },
  {
   "cell_type": "code",
   "execution_count": 512,
   "id": "expanded-edgar",
   "metadata": {},
   "outputs": [],
   "source": [
    "cols_simple = ['T1', 'T2', 'T3', 'T4', 'T5', 'T6', 'T7', 'T8', 'T9',\n",
    "       'T10', 'T11', 'T12', 'T13', 'T14', 'T15', 'T16', 'T17', 'T18', 'T19',\n",
    "       'T20', 'T21', 'T22', 'T23']\n",
    "\n",
    "cols_control_country = ['T1', 'T2', 'T3', 'T4', 'T5', 'T6', 'T7', 'T8', 'T9',\n",
    "       'T10', 'T11', 'T12', 'T13', 'T14', 'T15', 'T16', 'T17', 'T18', 'T19',\n",
    "       'T20', 'T21', 'T22', 'T23', 'countryname']\n",
    "\n",
    "X = new_df2[cols_simple]\n",
    "y = new_df2['intrastate_conflict']\n",
    "\n",
    "# standardize\n",
    "X_transf = pd.DataFrame(ss.fit_transform(X), columns=X.columns)\n",
    "X_train, X_test, y_train, y_test = train_test_split(X_transf, y, test_size=.30, random_state =123)\n"
   ]
  },
  {
   "cell_type": "code",
   "execution_count": 513,
   "id": "rubber-directive",
   "metadata": {},
   "outputs": [
    {
     "name": "stderr",
     "output_type": "stream",
     "text": [
      "100%|██████████████████████████████████████████████████████████████████████████████████| 29/29 [00:04<00:00,  6.28it/s]\n"
     ]
    }
   ],
   "source": [
    "clf = LazyClassifier(verbose=0,ignore_warnings=True, custom_metric=None)\n",
    "\n",
    "# Predict model\n",
    "models,predictions = clf.fit(X_train, X_test, y_train, y_test)"
   ]
  },
  {
   "cell_type": "code",
   "execution_count": 514,
   "id": "gross-enterprise",
   "metadata": {},
   "outputs": [],
   "source": [
    "models_dictionary = clf.provide_models(X_train, X_test, y_train, y_test)"
   ]
  },
  {
   "cell_type": "code",
   "execution_count": 515,
   "id": "direct-colors",
   "metadata": {},
   "outputs": [],
   "source": [
    "# Get parameters for all the models in the appendix"
   ]
  },
  {
   "cell_type": "code",
   "execution_count": 516,
   "id": "computational-emperor",
   "metadata": {},
   "outputs": [],
   "source": [
    "def bag_importance(v):\n",
    "    # Bagging Classifier -> average importance of all trees\n",
    "    estimators = v[-1].estimators_\n",
    "    estimators_avg = []\n",
    "    for estimator in estimators:\n",
    "        estimators_avg.append(estimator.feature_importances_)\n",
    "    model = np.mean(estimators_avg, axis=0)\n",
    "    return model"
   ]
  },
  {
   "cell_type": "code",
   "execution_count": 517,
   "id": "unlike-express",
   "metadata": {},
   "outputs": [],
   "source": [
    "def bernoulli(v):\n",
    "    # Naive Bayes -> largest absolute magnitude value\n",
    "    two_importances = v[-1].feature_log_prob_\n",
    "    imp_ls = []\n",
    "    for imp in two_importances:\n",
    "        imp_ls.append([abs(x) for x in imp])\n",
    "    importances = np.max(imp_ls, axis=0)\n",
    "    return importances"
   ]
  },
  {
   "cell_type": "code",
   "execution_count": 518,
   "id": "forward-flush",
   "metadata": {},
   "outputs": [],
   "source": [
    "def feature_importances(v):\n",
    "    return v[-1].coef_"
   ]
  },
  {
   "cell_type": "code",
   "execution_count": 519,
   "id": "essential-terminal",
   "metadata": {},
   "outputs": [
    {
     "data": {
      "text/plain": [
       "{'constant': None, 'random_state': 42, 'strategy': 'warn'}"
      ]
     },
     "execution_count": 519,
     "metadata": {},
     "output_type": "execute_result"
    }
   ],
   "source": [
    "d.get_params()"
   ]
  },
  {
   "cell_type": "code",
   "execution_count": 520,
   "id": "included-counter",
   "metadata": {},
   "outputs": [],
   "source": [
    "def calibrated(v):\n",
    "    # Weighted average of estimators (separate)\n",
    "    cc = v[-1]\n",
    "    coef_avg = 0\n",
    "    for i in cc.calibrated_classifiers_:\n",
    "        coef_avg = coef_avg + i.base_estimator.coef_\n",
    "    coef_avg  = coef_avg/len(cc.calibrated_classifiers_)\n",
    "    return coef_avg[0]"
   ]
  },
  {
   "cell_type": "code",
   "execution_count": 521,
   "id": "christian-prison",
   "metadata": {},
   "outputs": [],
   "source": [
    "from sklearn.inspection import permutation_importance\n"
   ]
  },
  {
   "cell_type": "markdown",
   "id": "facial-turkey",
   "metadata": {},
   "source": [
    "Coefficients are standardized to calculate feature importance"
   ]
  },
  {
   "cell_type": "code",
   "execution_count": 522,
   "id": "fiscal-greenhouse",
   "metadata": {},
   "outputs": [
    {
     "name": "stdout",
     "output_type": "stream",
     "text": [
      "T1 1.0\n",
      "T2 0.9823284823284824\n",
      "T3 1.0\n",
      "T4 0.9130434782608696\n",
      "T5 0.7342657342657343\n",
      "T6 0.7763157894736838\n",
      "T7 0.5382223993622955\n",
      "T8 0.9672727272727272\n",
      "T9 0.9589743589743589\n",
      "T10 0.7551020408163261\n",
      "T11 0.9338089575901705\n",
      "T12 0.8624999999999999\n",
      "T13 0.783673469387755\n",
      "T14 0.9168539325842694\n",
      "T15 1.0\n",
      "T16 0.6838235294117646\n",
      "T17 0.6857142857142856\n",
      "T18 1.0\n",
      "T19 0.9434187016081\n",
      "T20 0.734658599827139\n",
      "T21 0.9880701754385963\n",
      "T22 0.7222222222222223\n",
      "T23 1.0\n"
     ]
    }
   ],
   "source": [
    "for col in X_test.columns:\n",
    "    print(col, X_test[col].max())"
   ]
  },
  {
   "cell_type": "code",
   "execution_count": 928,
   "id": "charming-baseline",
   "metadata": {},
   "outputs": [
    {
     "name": "stdout",
     "output_type": "stream",
     "text": [
      "AdaBoostClassifier\n",
      "weights\n",
      "[0.06 0.04 0.   0.06 0.06 0.04 0.06 0.02 0.02 0.04 0.   0.06 0.02 0.02\n",
      " 0.06 0.06 0.02 0.1  0.04 0.06 0.02 0.04 0.1 ]\n",
      "BaggingClassifier\n",
      "[0.01958863 0.04704859 0.04898917 0.05698095 0.04460395 0.06605758\n",
      " 0.02279833 0.02999072 0.03002358 0.02158679 0.03239454 0.04853201\n",
      " 0.03588677 0.03348822 0.0515516  0.03391095 0.03982158 0.09055869\n",
      " 0.04373214 0.03347873 0.06143603 0.04965523 0.05788521]\n",
      "BernoulliNB\n",
      "[1.12873505 0.84388489 0.83647631 1.09269511 1.19511012 1.04304244\n",
      " 0.96027053 1.00789857 1.057909   1.06649274 1.057909   0.87678829\n",
      " 0.87844051 1.12873505 0.83878717 0.9297338  0.90742804 0.96700582\n",
      " 1.03476082 1.16612258 1.03476082 0.92224313 1.04939831]\n",
      "CalibratedClassifierCV\n",
      "[-0.01623481  0.01880657  0.02171037 -0.04158136  0.04319486  0.1316092\n",
      " -0.0176584  -0.01860098 -0.01220535  0.00692653  0.0140726   0.0776497\n",
      " -0.0055257  -0.02988887  0.02453145  0.02350035 -0.0145525   0.1497119\n",
      "  0.00846661 -0.01553232  0.10466084  0.03795323  0.02267258]\n",
      "DecisionTreeClassifier\n",
      "weights\n",
      "[0.06342365 0.04012499 0.03282207 0.04750699 0.03966272 0.04842469\n",
      " 0.03295404 0.02284964 0.03219336 0.01762843 0.02731717 0.04493355\n",
      " 0.02328953 0.01830461 0.04599357 0.04560747 0.04161832 0.09285739\n",
      " 0.05478521 0.04482374 0.05751551 0.04617575 0.07918758]\n",
      "DummyClassifier\n",
      "[0. 0. 0. 0. 0. 0. 0. 0. 0. 0. 0. 0. 0. 0. 0. 0. 0. 0. 0. 0. 0. 0. 0. 0.]\n",
      "ExtraTreeClassifier\n",
      "weights\n",
      "[0.05882353 0.04083943 0.04697776 0.04025654 0.03046035 0.04753359\n",
      " 0.0258676  0.03646474 0.03226344 0.02815658 0.06195603 0.04668794\n",
      " 0.03801311 0.03332942 0.04810135 0.05046764 0.04703367 0.07184401\n",
      " 0.03689038 0.03455758 0.05730705 0.04240363 0.04376462]\n",
      "ExtraTreesClassifier\n",
      "weights\n",
      "[0.03931308 0.04300698 0.04200075 0.0448556  0.04288869 0.05858817\n",
      " 0.0357363  0.03990912 0.04170066 0.03237321 0.04119113 0.04367515\n",
      " 0.0401305  0.04062396 0.0417969  0.04215143 0.03994154 0.07059032\n",
      " 0.04102797 0.03529152 0.05664217 0.0415285  0.04503635]\n",
      "GaussianNB\n"
     ]
    },
    {
     "ename": "ValueError",
     "evalue": "could not convert string to float: 'Nigeria'",
     "output_type": "error",
     "traceback": [
      "\u001b[1;31m---------------------------------------------------------------------------\u001b[0m",
      "\u001b[1;31mAttributeError\u001b[0m                            Traceback (most recent call last)",
      "\u001b[1;32m~\\AppData\\Roaming\\Python\\Python38\\site-packages\\sklearn\\metrics\\_scorer.py\u001b[0m in \u001b[0;36m_score\u001b[1;34m(self, method_caller, clf, X, y, sample_weight)\u001b[0m\n\u001b[0;32m    306\u001b[0m             \u001b[1;32mtry\u001b[0m\u001b[1;33m:\u001b[0m\u001b[1;33m\u001b[0m\u001b[1;33m\u001b[0m\u001b[0m\n\u001b[1;32m--> 307\u001b[1;33m                 \u001b[0my_pred\u001b[0m \u001b[1;33m=\u001b[0m \u001b[0mmethod_caller\u001b[0m\u001b[1;33m(\u001b[0m\u001b[0mclf\u001b[0m\u001b[1;33m,\u001b[0m \u001b[1;34m\"decision_function\"\u001b[0m\u001b[1;33m,\u001b[0m \u001b[0mX\u001b[0m\u001b[1;33m)\u001b[0m\u001b[1;33m\u001b[0m\u001b[1;33m\u001b[0m\u001b[0m\n\u001b[0m\u001b[0;32m    308\u001b[0m \u001b[1;33m\u001b[0m\u001b[0m\n",
      "\u001b[1;32m~\\AppData\\Roaming\\Python\\Python38\\site-packages\\sklearn\\metrics\\_scorer.py\u001b[0m in \u001b[0;36m_cached_call\u001b[1;34m(cache, estimator, method, *args, **kwargs)\u001b[0m\n\u001b[0;32m     52\u001b[0m     \u001b[1;32mif\u001b[0m \u001b[0mcache\u001b[0m \u001b[1;32mis\u001b[0m \u001b[1;32mNone\u001b[0m\u001b[1;33m:\u001b[0m\u001b[1;33m\u001b[0m\u001b[1;33m\u001b[0m\u001b[0m\n\u001b[1;32m---> 53\u001b[1;33m         \u001b[1;32mreturn\u001b[0m \u001b[0mgetattr\u001b[0m\u001b[1;33m(\u001b[0m\u001b[0mestimator\u001b[0m\u001b[1;33m,\u001b[0m \u001b[0mmethod\u001b[0m\u001b[1;33m)\u001b[0m\u001b[1;33m(\u001b[0m\u001b[1;33m*\u001b[0m\u001b[0margs\u001b[0m\u001b[1;33m,\u001b[0m \u001b[1;33m**\u001b[0m\u001b[0mkwargs\u001b[0m\u001b[1;33m)\u001b[0m\u001b[1;33m\u001b[0m\u001b[1;33m\u001b[0m\u001b[0m\n\u001b[0m\u001b[0;32m     54\u001b[0m \u001b[1;33m\u001b[0m\u001b[0m\n",
      "\u001b[1;31mAttributeError\u001b[0m: 'GaussianNB' object has no attribute 'decision_function'",
      "\nDuring handling of the above exception, another exception occurred:\n",
      "\u001b[1;31mValueError\u001b[0m                                Traceback (most recent call last)",
      "\u001b[1;32m<ipython-input-928-d3b0eb535104>\u001b[0m in \u001b[0;36m<module>\u001b[1;34m\u001b[0m\n\u001b[0;32m      6\u001b[0m     \u001b[1;32melif\u001b[0m \u001b[0mk\u001b[0m \u001b[1;33m==\u001b[0m \u001b[1;34m'CalibratedClassifierCV'\u001b[0m\u001b[1;33m:\u001b[0m \u001b[0mmodel\u001b[0m \u001b[1;33m=\u001b[0m \u001b[0mcalibrated\u001b[0m\u001b[1;33m(\u001b[0m\u001b[0mv\u001b[0m\u001b[1;33m)\u001b[0m\u001b[1;33m\u001b[0m\u001b[1;33m\u001b[0m\u001b[0m\n\u001b[0;32m      7\u001b[0m     \u001b[1;32melif\u001b[0m \u001b[0mk\u001b[0m \u001b[1;33m==\u001b[0m \u001b[1;34m'DummyClassifier'\u001b[0m\u001b[1;33m:\u001b[0m \u001b[0mmodel\u001b[0m \u001b[1;33m=\u001b[0m \u001b[0mpermutation_importance\u001b[0m\u001b[1;33m(\u001b[0m\u001b[0mv\u001b[0m\u001b[1;33m[\u001b[0m\u001b[1;33m-\u001b[0m\u001b[1;36m1\u001b[0m\u001b[1;33m]\u001b[0m\u001b[1;33m,\u001b[0m \u001b[0mX_test\u001b[0m\u001b[1;33m,\u001b[0m \u001b[0my_test\u001b[0m\u001b[1;33m,\u001b[0m \u001b[0mscoring\u001b[0m\u001b[1;33m=\u001b[0m\u001b[1;34m'roc_auc'\u001b[0m\u001b[1;33m)\u001b[0m\u001b[1;33m.\u001b[0m\u001b[0mimportances_mean\u001b[0m \u001b[1;31m# Permutation tests # Permutation tests\u001b[0m\u001b[1;33m\u001b[0m\u001b[1;33m\u001b[0m\u001b[0m\n\u001b[1;32m----> 8\u001b[1;33m     \u001b[1;32melif\u001b[0m \u001b[0mk\u001b[0m \u001b[1;33m==\u001b[0m \u001b[1;34m'GaussianNB'\u001b[0m\u001b[1;33m:\u001b[0m \u001b[0mmodel\u001b[0m \u001b[1;33m=\u001b[0m \u001b[0mpermutation_importance\u001b[0m\u001b[1;33m(\u001b[0m\u001b[0mv\u001b[0m\u001b[1;33m[\u001b[0m\u001b[1;33m-\u001b[0m\u001b[1;36m1\u001b[0m\u001b[1;33m]\u001b[0m\u001b[1;33m,\u001b[0m \u001b[0mX_test\u001b[0m\u001b[1;33m,\u001b[0m \u001b[0my_test\u001b[0m\u001b[1;33m,\u001b[0m \u001b[0mscoring\u001b[0m\u001b[1;33m=\u001b[0m\u001b[1;34m'roc_auc'\u001b[0m\u001b[1;33m)\u001b[0m\u001b[1;33m.\u001b[0m\u001b[0mimportances_mean\u001b[0m \u001b[1;31m# Permutation tests\u001b[0m\u001b[1;33m\u001b[0m\u001b[1;33m\u001b[0m\u001b[0m\n\u001b[0m\u001b[0;32m      9\u001b[0m     \u001b[1;32melif\u001b[0m \u001b[0mk\u001b[0m \u001b[1;33m==\u001b[0m \u001b[1;34m'KNeighborsClassifier'\u001b[0m\u001b[1;33m:\u001b[0m \u001b[0mmodel\u001b[0m \u001b[1;33m=\u001b[0m \u001b[0mpermutation_importance\u001b[0m\u001b[1;33m(\u001b[0m\u001b[0mv\u001b[0m\u001b[1;33m[\u001b[0m\u001b[1;33m-\u001b[0m\u001b[1;36m1\u001b[0m\u001b[1;33m]\u001b[0m\u001b[1;33m,\u001b[0m \u001b[0mX_test\u001b[0m\u001b[1;33m,\u001b[0m \u001b[0my_test\u001b[0m\u001b[1;33m,\u001b[0m \u001b[0mscoring\u001b[0m\u001b[1;33m=\u001b[0m\u001b[1;34m'roc_auc'\u001b[0m\u001b[1;33m)\u001b[0m\u001b[1;33m.\u001b[0m\u001b[0mimportances_mean\u001b[0m \u001b[1;31m# Permutation tests # Permutation tests\u001b[0m\u001b[1;33m\u001b[0m\u001b[1;33m\u001b[0m\u001b[0m\n\u001b[0;32m     10\u001b[0m     \u001b[1;32melif\u001b[0m \u001b[0mk\u001b[0m \u001b[1;33m==\u001b[0m \u001b[1;34m'LabelPropagation'\u001b[0m\u001b[1;33m:\u001b[0m \u001b[0mmodel\u001b[0m \u001b[1;33m=\u001b[0m \u001b[0mpermutation_importance\u001b[0m\u001b[1;33m(\u001b[0m\u001b[0mv\u001b[0m\u001b[1;33m[\u001b[0m\u001b[1;33m-\u001b[0m\u001b[1;36m1\u001b[0m\u001b[1;33m]\u001b[0m\u001b[1;33m,\u001b[0m \u001b[0mX_test\u001b[0m\u001b[1;33m,\u001b[0m \u001b[0my_test\u001b[0m\u001b[1;33m,\u001b[0m \u001b[0mscoring\u001b[0m\u001b[1;33m=\u001b[0m\u001b[1;34m'roc_auc'\u001b[0m\u001b[1;33m)\u001b[0m\u001b[1;33m.\u001b[0m\u001b[0mimportances_mean\u001b[0m \u001b[1;31m# Permutation test\u001b[0m\u001b[1;33m\u001b[0m\u001b[1;33m\u001b[0m\u001b[0m\n",
      "\u001b[1;32m~\\AppData\\Roaming\\Python\\Python38\\site-packages\\sklearn\\utils\\validation.py\u001b[0m in \u001b[0;36minner_f\u001b[1;34m(*args, **kwargs)\u001b[0m\n\u001b[0;32m     71\u001b[0m                           FutureWarning)\n\u001b[0;32m     72\u001b[0m         \u001b[0mkwargs\u001b[0m\u001b[1;33m.\u001b[0m\u001b[0mupdate\u001b[0m\u001b[1;33m(\u001b[0m\u001b[1;33m{\u001b[0m\u001b[0mk\u001b[0m\u001b[1;33m:\u001b[0m \u001b[0marg\u001b[0m \u001b[1;32mfor\u001b[0m \u001b[0mk\u001b[0m\u001b[1;33m,\u001b[0m \u001b[0marg\u001b[0m \u001b[1;32min\u001b[0m \u001b[0mzip\u001b[0m\u001b[1;33m(\u001b[0m\u001b[0msig\u001b[0m\u001b[1;33m.\u001b[0m\u001b[0mparameters\u001b[0m\u001b[1;33m,\u001b[0m \u001b[0margs\u001b[0m\u001b[1;33m)\u001b[0m\u001b[1;33m}\u001b[0m\u001b[1;33m)\u001b[0m\u001b[1;33m\u001b[0m\u001b[1;33m\u001b[0m\u001b[0m\n\u001b[1;32m---> 73\u001b[1;33m         \u001b[1;32mreturn\u001b[0m \u001b[0mf\u001b[0m\u001b[1;33m(\u001b[0m\u001b[1;33m**\u001b[0m\u001b[0mkwargs\u001b[0m\u001b[1;33m)\u001b[0m\u001b[1;33m\u001b[0m\u001b[1;33m\u001b[0m\u001b[0m\n\u001b[0m\u001b[0;32m     74\u001b[0m     \u001b[1;32mreturn\u001b[0m \u001b[0minner_f\u001b[0m\u001b[1;33m\u001b[0m\u001b[1;33m\u001b[0m\u001b[0m\n\u001b[0;32m     75\u001b[0m \u001b[1;33m\u001b[0m\u001b[0m\n",
      "\u001b[1;32m~\\AppData\\Roaming\\Python\\Python38\\site-packages\\sklearn\\inspection\\_permutation_importance.py\u001b[0m in \u001b[0;36mpermutation_importance\u001b[1;34m(estimator, X, y, scoring, n_repeats, n_jobs, random_state)\u001b[0m\n\u001b[0;32m    131\u001b[0m \u001b[1;33m\u001b[0m\u001b[0m\n\u001b[0;32m    132\u001b[0m     \u001b[0mscorer\u001b[0m \u001b[1;33m=\u001b[0m \u001b[0mcheck_scoring\u001b[0m\u001b[1;33m(\u001b[0m\u001b[0mestimator\u001b[0m\u001b[1;33m,\u001b[0m \u001b[0mscoring\u001b[0m\u001b[1;33m=\u001b[0m\u001b[0mscoring\u001b[0m\u001b[1;33m)\u001b[0m\u001b[1;33m\u001b[0m\u001b[1;33m\u001b[0m\u001b[0m\n\u001b[1;32m--> 133\u001b[1;33m     \u001b[0mbaseline_score\u001b[0m \u001b[1;33m=\u001b[0m \u001b[0mscorer\u001b[0m\u001b[1;33m(\u001b[0m\u001b[0mestimator\u001b[0m\u001b[1;33m,\u001b[0m \u001b[0mX\u001b[0m\u001b[1;33m,\u001b[0m \u001b[0my\u001b[0m\u001b[1;33m)\u001b[0m\u001b[1;33m\u001b[0m\u001b[1;33m\u001b[0m\u001b[0m\n\u001b[0m\u001b[0;32m    134\u001b[0m \u001b[1;33m\u001b[0m\u001b[0m\n\u001b[0;32m    135\u001b[0m     scores = Parallel(n_jobs=n_jobs)(delayed(_calculate_permutation_scores)(\n",
      "\u001b[1;32m~\\AppData\\Roaming\\Python\\Python38\\site-packages\\sklearn\\metrics\\_scorer.py\u001b[0m in \u001b[0;36m__call__\u001b[1;34m(self, estimator, X, y_true, sample_weight)\u001b[0m\n\u001b[0;32m    167\u001b[0m                           \u001b[0mcategory\u001b[0m\u001b[1;33m=\u001b[0m\u001b[0mFutureWarning\u001b[0m\u001b[1;33m,\u001b[0m\u001b[1;33m\u001b[0m\u001b[1;33m\u001b[0m\u001b[0m\n\u001b[0;32m    168\u001b[0m                           stacklevel=2)\n\u001b[1;32m--> 169\u001b[1;33m         return self._score(partial(_cached_call, None), estimator, X, y_true,\n\u001b[0m\u001b[0;32m    170\u001b[0m                            sample_weight=sample_weight)\n\u001b[0;32m    171\u001b[0m \u001b[1;33m\u001b[0m\u001b[0m\n",
      "\u001b[1;32m~\\AppData\\Roaming\\Python\\Python38\\site-packages\\sklearn\\metrics\\_scorer.py\u001b[0m in \u001b[0;36m_score\u001b[1;34m(self, method_caller, clf, X, y, sample_weight)\u001b[0m\n\u001b[0;32m    312\u001b[0m \u001b[1;33m\u001b[0m\u001b[0m\n\u001b[0;32m    313\u001b[0m             \u001b[1;32mexcept\u001b[0m \u001b[1;33m(\u001b[0m\u001b[0mNotImplementedError\u001b[0m\u001b[1;33m,\u001b[0m \u001b[0mAttributeError\u001b[0m\u001b[1;33m)\u001b[0m\u001b[1;33m:\u001b[0m\u001b[1;33m\u001b[0m\u001b[1;33m\u001b[0m\u001b[0m\n\u001b[1;32m--> 314\u001b[1;33m                 \u001b[0my_pred\u001b[0m \u001b[1;33m=\u001b[0m \u001b[0mmethod_caller\u001b[0m\u001b[1;33m(\u001b[0m\u001b[0mclf\u001b[0m\u001b[1;33m,\u001b[0m \u001b[1;34m\"predict_proba\"\u001b[0m\u001b[1;33m,\u001b[0m \u001b[0mX\u001b[0m\u001b[1;33m)\u001b[0m\u001b[1;33m\u001b[0m\u001b[1;33m\u001b[0m\u001b[0m\n\u001b[0m\u001b[0;32m    315\u001b[0m \u001b[1;33m\u001b[0m\u001b[0m\n\u001b[0;32m    316\u001b[0m                 \u001b[1;32mif\u001b[0m \u001b[0my_type\u001b[0m \u001b[1;33m==\u001b[0m \u001b[1;34m\"binary\"\u001b[0m\u001b[1;33m:\u001b[0m\u001b[1;33m\u001b[0m\u001b[1;33m\u001b[0m\u001b[0m\n",
      "\u001b[1;32m~\\AppData\\Roaming\\Python\\Python38\\site-packages\\sklearn\\metrics\\_scorer.py\u001b[0m in \u001b[0;36m_cached_call\u001b[1;34m(cache, estimator, method, *args, **kwargs)\u001b[0m\n\u001b[0;32m     51\u001b[0m     \u001b[1;34m\"\"\"Call estimator with method and args and kwargs.\"\"\"\u001b[0m\u001b[1;33m\u001b[0m\u001b[1;33m\u001b[0m\u001b[0m\n\u001b[0;32m     52\u001b[0m     \u001b[1;32mif\u001b[0m \u001b[0mcache\u001b[0m \u001b[1;32mis\u001b[0m \u001b[1;32mNone\u001b[0m\u001b[1;33m:\u001b[0m\u001b[1;33m\u001b[0m\u001b[1;33m\u001b[0m\u001b[0m\n\u001b[1;32m---> 53\u001b[1;33m         \u001b[1;32mreturn\u001b[0m \u001b[0mgetattr\u001b[0m\u001b[1;33m(\u001b[0m\u001b[0mestimator\u001b[0m\u001b[1;33m,\u001b[0m \u001b[0mmethod\u001b[0m\u001b[1;33m)\u001b[0m\u001b[1;33m(\u001b[0m\u001b[1;33m*\u001b[0m\u001b[0margs\u001b[0m\u001b[1;33m,\u001b[0m \u001b[1;33m**\u001b[0m\u001b[0mkwargs\u001b[0m\u001b[1;33m)\u001b[0m\u001b[1;33m\u001b[0m\u001b[1;33m\u001b[0m\u001b[0m\n\u001b[0m\u001b[0;32m     54\u001b[0m \u001b[1;33m\u001b[0m\u001b[0m\n\u001b[0;32m     55\u001b[0m     \u001b[1;32mtry\u001b[0m\u001b[1;33m:\u001b[0m\u001b[1;33m\u001b[0m\u001b[1;33m\u001b[0m\u001b[0m\n",
      "\u001b[1;32m~\\AppData\\Roaming\\Python\\Python38\\site-packages\\sklearn\\naive_bayes.py\u001b[0m in \u001b[0;36mpredict_proba\u001b[1;34m(self, X)\u001b[0m\n\u001b[0;32m    116\u001b[0m             \u001b[0morder\u001b[0m\u001b[1;33m,\u001b[0m \u001b[1;32mas\u001b[0m \u001b[0mthey\u001b[0m \u001b[0mappear\u001b[0m \u001b[1;32min\u001b[0m \u001b[0mthe\u001b[0m \u001b[0mattribute\u001b[0m \u001b[1;33m:\u001b[0m\u001b[0mterm\u001b[0m\u001b[1;33m:\u001b[0m\u001b[0;31m`\u001b[0m\u001b[0mclasses_\u001b[0m\u001b[0;31m`\u001b[0m\u001b[1;33m.\u001b[0m\u001b[1;33m\u001b[0m\u001b[1;33m\u001b[0m\u001b[0m\n\u001b[0;32m    117\u001b[0m         \"\"\"\n\u001b[1;32m--> 118\u001b[1;33m         \u001b[1;32mreturn\u001b[0m \u001b[0mnp\u001b[0m\u001b[1;33m.\u001b[0m\u001b[0mexp\u001b[0m\u001b[1;33m(\u001b[0m\u001b[0mself\u001b[0m\u001b[1;33m.\u001b[0m\u001b[0mpredict_log_proba\u001b[0m\u001b[1;33m(\u001b[0m\u001b[0mX\u001b[0m\u001b[1;33m)\u001b[0m\u001b[1;33m)\u001b[0m\u001b[1;33m\u001b[0m\u001b[1;33m\u001b[0m\u001b[0m\n\u001b[0m\u001b[0;32m    119\u001b[0m \u001b[1;33m\u001b[0m\u001b[0m\n\u001b[0;32m    120\u001b[0m \u001b[1;33m\u001b[0m\u001b[0m\n",
      "\u001b[1;32m~\\AppData\\Roaming\\Python\\Python38\\site-packages\\sklearn\\naive_bayes.py\u001b[0m in \u001b[0;36mpredict_log_proba\u001b[1;34m(self, X)\u001b[0m\n\u001b[0;32m     95\u001b[0m         \"\"\"\n\u001b[0;32m     96\u001b[0m         \u001b[0mcheck_is_fitted\u001b[0m\u001b[1;33m(\u001b[0m\u001b[0mself\u001b[0m\u001b[1;33m)\u001b[0m\u001b[1;33m\u001b[0m\u001b[1;33m\u001b[0m\u001b[0m\n\u001b[1;32m---> 97\u001b[1;33m         \u001b[0mX\u001b[0m \u001b[1;33m=\u001b[0m \u001b[0mself\u001b[0m\u001b[1;33m.\u001b[0m\u001b[0m_check_X\u001b[0m\u001b[1;33m(\u001b[0m\u001b[0mX\u001b[0m\u001b[1;33m)\u001b[0m\u001b[1;33m\u001b[0m\u001b[1;33m\u001b[0m\u001b[0m\n\u001b[0m\u001b[0;32m     98\u001b[0m         \u001b[0mjll\u001b[0m \u001b[1;33m=\u001b[0m \u001b[0mself\u001b[0m\u001b[1;33m.\u001b[0m\u001b[0m_joint_log_likelihood\u001b[0m\u001b[1;33m(\u001b[0m\u001b[0mX\u001b[0m\u001b[1;33m)\u001b[0m\u001b[1;33m\u001b[0m\u001b[1;33m\u001b[0m\u001b[0m\n\u001b[0;32m     99\u001b[0m         \u001b[1;31m# normalize by P(x) = P(f_1, ..., f_n)\u001b[0m\u001b[1;33m\u001b[0m\u001b[1;33m\u001b[0m\u001b[1;33m\u001b[0m\u001b[0m\n",
      "\u001b[1;32m~\\AppData\\Roaming\\Python\\Python38\\site-packages\\sklearn\\naive_bayes.py\u001b[0m in \u001b[0;36m_check_X\u001b[1;34m(self, X)\u001b[0m\n\u001b[0;32m    214\u001b[0m \u001b[1;33m\u001b[0m\u001b[0m\n\u001b[0;32m    215\u001b[0m     \u001b[1;32mdef\u001b[0m \u001b[0m_check_X\u001b[0m\u001b[1;33m(\u001b[0m\u001b[0mself\u001b[0m\u001b[1;33m,\u001b[0m \u001b[0mX\u001b[0m\u001b[1;33m)\u001b[0m\u001b[1;33m:\u001b[0m\u001b[1;33m\u001b[0m\u001b[1;33m\u001b[0m\u001b[0m\n\u001b[1;32m--> 216\u001b[1;33m         \u001b[1;32mreturn\u001b[0m \u001b[0mcheck_array\u001b[0m\u001b[1;33m(\u001b[0m\u001b[0mX\u001b[0m\u001b[1;33m)\u001b[0m\u001b[1;33m\u001b[0m\u001b[1;33m\u001b[0m\u001b[0m\n\u001b[0m\u001b[0;32m    217\u001b[0m \u001b[1;33m\u001b[0m\u001b[0m\n\u001b[0;32m    218\u001b[0m     \u001b[1;33m@\u001b[0m\u001b[0mstaticmethod\u001b[0m\u001b[1;33m\u001b[0m\u001b[1;33m\u001b[0m\u001b[0m\n",
      "\u001b[1;32m~\\AppData\\Roaming\\Python\\Python38\\site-packages\\sklearn\\utils\\validation.py\u001b[0m in \u001b[0;36minner_f\u001b[1;34m(*args, **kwargs)\u001b[0m\n\u001b[0;32m     71\u001b[0m                           FutureWarning)\n\u001b[0;32m     72\u001b[0m         \u001b[0mkwargs\u001b[0m\u001b[1;33m.\u001b[0m\u001b[0mupdate\u001b[0m\u001b[1;33m(\u001b[0m\u001b[1;33m{\u001b[0m\u001b[0mk\u001b[0m\u001b[1;33m:\u001b[0m \u001b[0marg\u001b[0m \u001b[1;32mfor\u001b[0m \u001b[0mk\u001b[0m\u001b[1;33m,\u001b[0m \u001b[0marg\u001b[0m \u001b[1;32min\u001b[0m \u001b[0mzip\u001b[0m\u001b[1;33m(\u001b[0m\u001b[0msig\u001b[0m\u001b[1;33m.\u001b[0m\u001b[0mparameters\u001b[0m\u001b[1;33m,\u001b[0m \u001b[0margs\u001b[0m\u001b[1;33m)\u001b[0m\u001b[1;33m}\u001b[0m\u001b[1;33m)\u001b[0m\u001b[1;33m\u001b[0m\u001b[1;33m\u001b[0m\u001b[0m\n\u001b[1;32m---> 73\u001b[1;33m         \u001b[1;32mreturn\u001b[0m \u001b[0mf\u001b[0m\u001b[1;33m(\u001b[0m\u001b[1;33m**\u001b[0m\u001b[0mkwargs\u001b[0m\u001b[1;33m)\u001b[0m\u001b[1;33m\u001b[0m\u001b[1;33m\u001b[0m\u001b[0m\n\u001b[0m\u001b[0;32m     74\u001b[0m     \u001b[1;32mreturn\u001b[0m \u001b[0minner_f\u001b[0m\u001b[1;33m\u001b[0m\u001b[1;33m\u001b[0m\u001b[0m\n\u001b[0;32m     75\u001b[0m \u001b[1;33m\u001b[0m\u001b[0m\n",
      "\u001b[1;32m~\\AppData\\Roaming\\Python\\Python38\\site-packages\\sklearn\\utils\\validation.py\u001b[0m in \u001b[0;36mcheck_array\u001b[1;34m(array, accept_sparse, accept_large_sparse, dtype, order, copy, force_all_finite, ensure_2d, allow_nd, ensure_min_samples, ensure_min_features, estimator)\u001b[0m\n\u001b[0;32m    597\u001b[0m                     \u001b[0marray\u001b[0m \u001b[1;33m=\u001b[0m \u001b[0marray\u001b[0m\u001b[1;33m.\u001b[0m\u001b[0mastype\u001b[0m\u001b[1;33m(\u001b[0m\u001b[0mdtype\u001b[0m\u001b[1;33m,\u001b[0m \u001b[0mcasting\u001b[0m\u001b[1;33m=\u001b[0m\u001b[1;34m\"unsafe\"\u001b[0m\u001b[1;33m,\u001b[0m \u001b[0mcopy\u001b[0m\u001b[1;33m=\u001b[0m\u001b[1;32mFalse\u001b[0m\u001b[1;33m)\u001b[0m\u001b[1;33m\u001b[0m\u001b[1;33m\u001b[0m\u001b[0m\n\u001b[0;32m    598\u001b[0m                 \u001b[1;32melse\u001b[0m\u001b[1;33m:\u001b[0m\u001b[1;33m\u001b[0m\u001b[1;33m\u001b[0m\u001b[0m\n\u001b[1;32m--> 599\u001b[1;33m                     \u001b[0marray\u001b[0m \u001b[1;33m=\u001b[0m \u001b[0mnp\u001b[0m\u001b[1;33m.\u001b[0m\u001b[0masarray\u001b[0m\u001b[1;33m(\u001b[0m\u001b[0marray\u001b[0m\u001b[1;33m,\u001b[0m \u001b[0morder\u001b[0m\u001b[1;33m=\u001b[0m\u001b[0morder\u001b[0m\u001b[1;33m,\u001b[0m \u001b[0mdtype\u001b[0m\u001b[1;33m=\u001b[0m\u001b[0mdtype\u001b[0m\u001b[1;33m)\u001b[0m\u001b[1;33m\u001b[0m\u001b[1;33m\u001b[0m\u001b[0m\n\u001b[0m\u001b[0;32m    600\u001b[0m             \u001b[1;32mexcept\u001b[0m \u001b[0mComplexWarning\u001b[0m\u001b[1;33m:\u001b[0m\u001b[1;33m\u001b[0m\u001b[1;33m\u001b[0m\u001b[0m\n\u001b[0;32m    601\u001b[0m                 raise ValueError(\"Complex data not supported\\n\"\n",
      "\u001b[1;32m~\\anaconda3\\lib\\site-packages\\numpy\\core\\_asarray.py\u001b[0m in \u001b[0;36masarray\u001b[1;34m(a, dtype, order)\u001b[0m\n\u001b[0;32m     81\u001b[0m \u001b[1;33m\u001b[0m\u001b[0m\n\u001b[0;32m     82\u001b[0m     \"\"\"\n\u001b[1;32m---> 83\u001b[1;33m     \u001b[1;32mreturn\u001b[0m \u001b[0marray\u001b[0m\u001b[1;33m(\u001b[0m\u001b[0ma\u001b[0m\u001b[1;33m,\u001b[0m \u001b[0mdtype\u001b[0m\u001b[1;33m,\u001b[0m \u001b[0mcopy\u001b[0m\u001b[1;33m=\u001b[0m\u001b[1;32mFalse\u001b[0m\u001b[1;33m,\u001b[0m \u001b[0morder\u001b[0m\u001b[1;33m=\u001b[0m\u001b[0morder\u001b[0m\u001b[1;33m)\u001b[0m\u001b[1;33m\u001b[0m\u001b[1;33m\u001b[0m\u001b[0m\n\u001b[0m\u001b[0;32m     84\u001b[0m \u001b[1;33m\u001b[0m\u001b[0m\n\u001b[0;32m     85\u001b[0m \u001b[1;33m\u001b[0m\u001b[0m\n",
      "\u001b[1;31mValueError\u001b[0m: could not convert string to float: 'Nigeria'"
     ]
    }
   ],
   "source": [
    "model_dict = {}\n",
    "for k, v in models_dictionary.items():\n",
    "    print(k)\n",
    "    if k == 'BaggingClassifier': model = bag_importance(v)\n",
    "    elif k == 'BernoulliNB': model = bernoulli(v)\n",
    "    elif k == 'CalibratedClassifierCV': model = calibrated(v)\n",
    "    elif k == 'DummyClassifier': model = permutation_importance(v[-1], X_test, y_test, scoring='roc_auc').importances_mean # Permutation tests # Permutation tests\n",
    "    elif k == 'GaussianNB': model = permutation_importance(v[-1], X_test, y_test, scoring='roc_auc').importances_mean # Permutation tests\n",
    "    elif k == 'KNeighborsClassifier': model = permutation_importance(v[-1], X_test, y_test, scoring='roc_auc').importances_mean # Permutation tests # Permutation tests\n",
    "    elif k == 'LabelPropagation': model = permutation_importance(v[-1], X_test, y_test, scoring='roc_auc').importances_mean # Permutation test\n",
    "    elif k == 'LabelSpreading': model = permutation_importance(v[-1], X_test, y_test, scoring='roc_auc').importances_mean\n",
    "    elif k == 'LinearDiscriminantAnalysis': model = feature_importances(v)\n",
    "    elif k == 'LinearSVC': model = feature_importances(v)\n",
    "    elif k == 'LogisticRegression': model = feature_importances(v)\n",
    "    elif k == 'PassiveAggressiveClassifier': model = feature_importances(v)\n",
    "    elif k in ['Perceptron', 'RidgeClassifier', 'RidgeClassifierCV', 'SGDClassifier']: model = feature_importances(v)\n",
    "    elif k == 'QuadraticDiscriminantAnalysis': model = permutation_importance(v[-1], X_test, y_test, scoring='roc_auc').importances_mean # Permutation test\n",
    "    elif k == 'SVC': model = permutation_importance(v[-1], X_test, y_test, scoring='roc_auc').importances_mean # Permutation test\n",
    "    elif k == 'NearestCentroid': model = np.zeros(23)\n",
    "    else: \n",
    "        model = v[-1].feature_importances_\n",
    "        print(\"weights\")\n",
    "    print(model)\n",
    "    \n",
    "    model_dict[k] = model"
   ]
  },
  {
   "cell_type": "code",
   "execution_count": 546,
   "id": "boxed-heading",
   "metadata": {},
   "outputs": [
    {
     "name": "stdout",
     "output_type": "stream",
     "text": [
      "AdaBoostClassifier\n",
      "[0.06 0.04 0.   0.06 0.06 0.04 0.06 0.02 0.02 0.04 0.   0.06 0.02 0.02\n",
      " 0.06 0.06 0.02 0.1  0.04 0.06 0.02 0.04 0.1 ]\n",
      "BaggingClassifier\n",
      "[0.01958863 0.04704859 0.04898917 0.05698095 0.04460395 0.06605758\n",
      " 0.02279833 0.02999072 0.03002358 0.02158679 0.03239454 0.04853201\n",
      " 0.03588677 0.03348822 0.0515516  0.03391095 0.03982158 0.09055869\n",
      " 0.04373214 0.03347873 0.06143603 0.04965523 0.05788521]\n",
      "BernoulliNB\n",
      "[1.12873505 0.84388489 0.83647631 1.09269511 1.19511012 1.04304244\n",
      " 0.96027053 1.00789857 1.057909   1.06649274 1.057909   0.87678829\n",
      " 0.87844051 1.12873505 0.83878717 0.9297338  0.90742804 0.96700582\n",
      " 1.03476082 1.16612258 1.03476082 0.92224313 1.04939831]\n",
      "CalibratedClassifierCV\n",
      "[-0.01623481  0.01880657  0.02171037 -0.04158136  0.04319486  0.1316092\n",
      " -0.0176584  -0.01860098 -0.01220535  0.00692653  0.0140726   0.0776497\n",
      " -0.0055257  -0.02988887  0.02453145  0.02350035 -0.0145525   0.1497119\n",
      "  0.00846661 -0.01553232  0.10466084  0.03795323  0.02267258]\n",
      "DecisionTreeClassifier\n",
      "[0.06342365 0.04012499 0.03282207 0.04750699 0.03966272 0.04842469\n",
      " 0.03295404 0.02284964 0.03219336 0.01762843 0.02731717 0.04493355\n",
      " 0.02328953 0.01830461 0.04599357 0.04560747 0.04161832 0.09285739\n",
      " 0.05478521 0.04482374 0.05751551 0.04617575 0.07918758]\n",
      "DummyClassifier\n",
      "[0. 0. 0. 0. 0. 0. 0. 0. 0. 0. 0. 0. 0. 0. 0. 0. 0. 0. 0. 0. 0. 0. 0.]\n",
      "ExtraTreeClassifier\n",
      "[0.05882353 0.04083943 0.04697776 0.04025654 0.03046035 0.04753359\n",
      " 0.0258676  0.03646474 0.03226344 0.02815658 0.06195603 0.04668794\n",
      " 0.03801311 0.03332942 0.04810135 0.05046764 0.04703367 0.07184401\n",
      " 0.03689038 0.03455758 0.05730705 0.04240363 0.04376462]\n",
      "ExtraTreesClassifier\n",
      "[0.03931308 0.04300698 0.04200075 0.0448556  0.04288869 0.05858817\n",
      " 0.0357363  0.03990912 0.04170066 0.03237321 0.04119113 0.04367515\n",
      " 0.0401305  0.04062396 0.0417969  0.04215143 0.03994154 0.07059032\n",
      " 0.04102797 0.03529152 0.05664217 0.0415285  0.04503635]\n",
      "GaussianNB\n",
      "[ 2.79464035e-03  2.11063747e-03 -2.16682342e-03  1.44764324e-02\n",
      " -2.49172479e-04  6.91331485e-03  1.53656362e-03  5.01276398e-03\n",
      "  1.01867572e-02 -2.68715418e-04  4.77092011e-03  5.64302378e-04\n",
      "  5.76516715e-04  5.17155037e-03  9.52718301e-05  1.46327760e-03\n",
      " -2.31095260e-03  4.58452932e-02  2.07643732e-03 -3.34672839e-03\n",
      "  2.31925835e-02 -1.41442025e-03  1.49014914e-03]\n",
      "KNeighborsClassifier\n",
      "[-5.04940699e-03  5.83601031e-03  1.36996006e-02 -5.34255109e-03\n",
      " -1.08524386e-02  9.37206093e-03 -1.36189860e-03 -3.85118052e-03\n",
      "  7.85992598e-03  1.76875817e-02  2.87281211e-03  5.82623884e-04\n",
      "  6.62017076e-04 -8.01382663e-03  5.53798048e-03  2.81296185e-03\n",
      " -4.65610534e-03 -2.56989654e-03 -4.16875328e-03 -5.70409547e-03\n",
      "  7.88679752e-03 -6.30381942e-03 -9.64932638e-05]\n",
      "LabelPropagation\n",
      "[-4.88573488e-06  5.66745246e-04  1.09929035e-02  3.41732726e-02\n",
      " -2.36958141e-04 -4.09913156e-03  4.43869013e-03  1.81260764e-03\n",
      " -1.73590160e-02 -3.36138559e-03 -7.57288906e-05  7.83427587e-03\n",
      " -4.93214936e-03  7.58998913e-03  1.14863627e-02 -1.30620122e-02\n",
      " -5.34743682e-03  4.59478936e-02  4.61701946e-03 -2.47706758e-03\n",
      "  2.22276508e-02 -6.09495426e-03  7.39211687e-03]\n",
      "LabelSpreading\n",
      "[-0.00127029 -0.00171734 -0.0023818   0.02412087 -0.00402829  0.00034933\n",
      " -0.00172955  0.00045437 -0.01990326  0.00086722 -0.00166115  0.00671056\n",
      " -0.00856469  0.00330276  0.01682159 -0.0195405   0.00337116  0.02458746\n",
      " -0.01241954 -0.00331253  0.01736512 -0.00364476 -0.00018566]\n",
      "LinearDiscriminantAnalysis\n",
      "[[-0.05022855  0.06448207  0.07180762 -0.13606714  0.15013791  0.4548586\n",
      "  -0.05999301 -0.053912   -0.03748668  0.02215091  0.05342355  0.26687633\n",
      "  -0.01682886 -0.0929516   0.08303605  0.07816467 -0.04830308  0.51756253\n",
      "   0.02723626 -0.05170287  0.36423922  0.13022624  0.08019871]]\n",
      "LinearSVC\n",
      "[[-0.01487131  0.01977158  0.02168674 -0.040375    0.04366897  0.13267752\n",
      "  -0.01713213 -0.01811092 -0.01142519  0.00602853  0.01440508  0.07811961\n",
      "  -0.00506528 -0.02971237  0.0250786   0.02387441 -0.01397817  0.1494067\n",
      "   0.00869601 -0.01538989  0.10546301  0.03874438  0.02250476]]\n",
      "LogisticRegression\n",
      "[[-0.07987586  0.07218784  0.07982961 -0.1544935   0.1524692   0.39715718\n",
      "  -0.05980224 -0.07726622 -0.04544794  0.00339025  0.02822941  0.25037909\n",
      "  -0.01879658 -0.11251632  0.08208209  0.0783603  -0.05191176  0.43307976\n",
      "   0.03111135 -0.05636616  0.3089762   0.11679431  0.0598692 ]]\n",
      "NearestCentroid\n",
      "[0. 0. 0. 0. 0. 0. 0. 0. 0. 0. 0. 0. 0. 0. 0. 0. 0. 0. 0. 0. 0. 0. 0.]\n",
      "PassiveAggressiveClassifier\n",
      "[[-0.37289616  0.15803666  0.04418036 -0.04800218 -0.21842019  0.23993791\n",
      "  -0.52449318 -0.17217455 -0.86881277  0.38733937 -0.11263256  0.45629475\n",
      "   0.48920934 -0.09955784  0.0600759   0.61176206 -0.31152132 -0.21401945\n",
      "  -0.0727904  -0.18029405  0.06282947 -0.0921776  -0.25355311]]\n",
      "Perceptron\n",
      "[[-0.66817057  2.47452116 -1.89252229  4.37207416 -0.58175485  0.91644528\n",
      "   0.52278905  1.35812223  3.72990894 -0.89731443  2.7282775  -4.38968969\n",
      "  -1.11933941  3.31108277 -3.42092303  1.54587351 -3.52896907  6.64958693\n",
      "   0.41409322 -4.36377563  6.69200471  1.02370653 -5.14774671]]\n",
      "QuadraticDiscriminantAnalysis\n",
      "[ 1.86146499e-03  4.97856384e-03  3.54704352e-03  9.26335332e-03\n",
      " -5.13490735e-03  1.64649265e-02 -5.27659367e-04 -9.69818373e-04\n",
      " -3.11465598e-03 -3.63987248e-04  1.33624849e-03  1.24977098e-02\n",
      "  5.86288185e-03  1.81749337e-03  6.37588401e-04 -4.10890303e-03\n",
      " -2.68715418e-05  7.91147048e-02  1.88100793e-04  1.10661895e-03\n",
      "  3.36431704e-02  1.25319100e-03  1.46572046e-04]\n",
      "RandomForestClassifier\n",
      "[0.0345675  0.04483501 0.04298761 0.05191529 0.03726792 0.06019024\n",
      " 0.03127069 0.03921919 0.03650829 0.02221289 0.03837503 0.05047792\n",
      " 0.03980143 0.03727993 0.04298022 0.0424282  0.04183202 0.07342832\n",
      " 0.0400779  0.029409   0.0635824  0.0466748  0.05267821]\n",
      "RidgeClassifier\n",
      "[[-0.01459508  0.01822124  0.02036646 -0.03918587  0.04274564  0.1300638\n",
      "  -0.01733811 -0.01557194 -0.01092901  0.00625906  0.01503313  0.07610145\n",
      "  -0.00501186 -0.02681923  0.02360551  0.02209452 -0.01401728  0.14798099\n",
      "   0.00759005 -0.01494099  0.10406175  0.03708445  0.02272419]]\n",
      "RidgeClassifierCV\n",
      "[[-0.01624684  0.01613258  0.01863462 -0.04079727  0.04045542  0.12778748\n",
      "  -0.01854563 -0.0165951  -0.01247468  0.00552813  0.01276512  0.07303632\n",
      "  -0.00655683 -0.02832121  0.0220558   0.0195976  -0.01546553  0.14530685\n",
      "   0.00584661 -0.01598015  0.1015219   0.03516795  0.02060206]]\n",
      "SGDClassifier\n",
      "[[-0.56928221 -0.10289785  0.081702   -0.04307387  0.10686411  1.05072079\n",
      "   0.25930294  0.08876119 -0.0592779  -0.43520656 -0.31599595  0.28574524\n",
      "   0.20071207 -0.28539655 -0.3583774  -0.25668064 -0.15971159  0.78718934\n",
      "  -0.17708583  0.03097182  1.20590197  0.19281282  0.38014067]]\n",
      "SVC\n",
      "[ 6.60062782e-03  1.21068510e-02 -1.95917969e-03  9.63711204e-03\n",
      "  3.01205555e-03  5.09826434e-03  5.18132184e-03 -3.17817054e-03\n",
      "  5.10559294e-03  6.98660087e-04  5.59416643e-04 -8.69660808e-04\n",
      "  1.77352176e-03  2.01047990e-03  1.48282053e-03 -1.84925065e-03\n",
      " -2.29629539e-04  3.57415935e-02 -9.03860952e-05 -1.44129179e-04\n",
      "  3.16888764e-02 -2.11796607e-03  2.88258358e-04]\n",
      "XGBClassifier\n",
      "[0.041391   0.04382434 0.03661611 0.03825976 0.05181103 0.05000836\n",
      " 0.03927222 0.0413885  0.03566656 0.03084854 0.05087765 0.04428606\n",
      " 0.03247281 0.03933743 0.04373807 0.0437027  0.03541151 0.06228772\n",
      " 0.04988087 0.04722905 0.04844299 0.04223334 0.05101336]\n",
      "LGBMClassifier\n",
      "[110 128 113 143 111 144 107 133 151  85 122 163 107 126 177 116 130 147\n",
      " 143 106 129 127 182]\n"
     ]
    }
   ],
   "source": [
    "model_dict = {}\n",
    "for k, v in models_dictionary.items():\n",
    "    print(k)\n",
    "    if k == 'BaggingClassifier': model = bag_importance(v)\n",
    "    elif k == 'BernoulliNB': model = bernoulli(v)\n",
    "    elif k == 'CalibratedClassifierCV': model = calibrated(v)\n",
    "    elif k == 'DummyClassifier': model = permutation_importance(v[-1], X_test, y_test, scoring='roc_auc').importances_mean # Permutation tests # Permutation tests\n",
    "    elif k == 'GaussianNB': model = permutation_importance(v[-1], X_test, y_test, scoring='roc_auc').importances_mean # Permutation tests\n",
    "    elif k == 'KNeighborsClassifier': model = permutation_importance(v[-1], X_test, y_test, scoring='roc_auc').importances_mean # Permutation tests # Permutation tests\n",
    "    elif k == 'LabelPropagation': model = permutation_importance(v[-1], X_test, y_test, scoring='roc_auc').importances_mean # Permutation test\n",
    "    elif k == 'LabelSpreading': model = permutation_importance(v[-1], X_test, y_test, scoring='roc_auc').importances_mean\n",
    "    elif k == 'LinearDiscriminantAnalysis': model = feature_importances(v)\n",
    "    elif k == 'LinearSVC': model = feature_importances(v)\n",
    "    elif k == 'LogisticRegression': model = feature_importances(v)\n",
    "    elif k == 'PassiveAggressiveClassifier': model = feature_importances(v)\n",
    "    elif k in ['Perceptron', 'RidgeClassifier', 'RidgeClassifierCV', 'SGDClassifier']: model = feature_importances(v)\n",
    "    elif k == 'QuadraticDiscriminantAnalysis': model = permutation_importance(v[-1], X_test, y_test, scoring='roc_auc').importances_mean # Permutation test\n",
    "    elif k == 'SVC': model = permutation_importance(v[-1], X_test, y_test, scoring='roc_auc').importances_mean # Permutation test\n",
    "    elif k == 'NearestCentroid': model = np.zeros(23)\n",
    "    else: \n",
    "        model = v[-1].feature_importances_\n",
    "        print(\"weights\")\n",
    "    print(model)\n",
    "    \n",
    "    model_dict[k] = model"
   ]
  },
  {
   "cell_type": "code",
   "execution_count": 562,
   "id": "entertaining-launch",
   "metadata": {},
   "outputs": [],
   "source": [
    "nest_items = [k for k,v in model_dict.items() if len(v) == 1 ]\n",
    "for k in nest_items:\n",
    "    model_dict[k] = model_dict[k][0]"
   ]
  },
  {
   "cell_type": "code",
   "execution_count": 565,
   "id": "fossil-serbia",
   "metadata": {},
   "outputs": [],
   "source": [
    "df_temp = pd.DataFrame(model_dict.items())"
   ]
  },
  {
   "cell_type": "code",
   "execution_count": 579,
   "id": "every-strike",
   "metadata": {},
   "outputs": [],
   "source": [
    "df_predicts = df_temp[[0]].merge(df_temp[1].apply(pd.Series), left_index=True, right_index=True)"
   ]
  },
  {
   "cell_type": "code",
   "execution_count": 581,
   "id": "civil-relationship",
   "metadata": {},
   "outputs": [],
   "source": [
    "Ts = ['T' + str(x) for x in range(1,24)]\n",
    "cols = ['Classifier'] + Ts\n",
    "df_predicts.columns = cols"
   ]
  },
  {
   "cell_type": "code",
   "execution_count": 587,
   "id": "literary-knight",
   "metadata": {},
   "outputs": [],
   "source": [
    "df_predicts = df_predicts.set_index(\"Classifier\")"
   ]
  },
  {
   "cell_type": "code",
   "execution_count": 607,
   "id": "phantom-third",
   "metadata": {},
   "outputs": [],
   "source": [
    "def get_topn(index, n=3):\n",
    "    return {kv[0]:i+1 for i, kv in enumerate(dict(df_predicts.loc[index].nlargest(n)).items())}"
   ]
  },
  {
   "cell_type": "code",
   "execution_count": 608,
   "id": "fuzzy-mother",
   "metadata": {},
   "outputs": [
    {
     "data": {
      "text/plain": [
       "{'T5': 1, 'T20': 2, 'T1': 3}"
      ]
     },
     "execution_count": 608,
     "metadata": {},
     "output_type": "execute_result"
    }
   ],
   "source": [
    "get_topn('BernoulliNB')"
   ]
  },
  {
   "cell_type": "code",
   "execution_count": 616,
   "id": "short-handbook",
   "metadata": {},
   "outputs": [],
   "source": [
    "df_top = df_predicts.copy()"
   ]
  },
  {
   "cell_type": "code",
   "execution_count": 621,
   "id": "fitting-regular",
   "metadata": {},
   "outputs": [],
   "source": [
    "# Loop over all classifiers\n",
    "for cl in df_top.index:\n",
    "    \n",
    "    # Get the top three classifiers\n",
    "    topn = get_topn(cl)\n",
    "    \n",
    "    # For all the  top classifiers, replace them with numbers 1,2,3\n",
    "    for k, v in topn.items():\n",
    "        df_top.loc[cl, k] = v\n",
    "    \n",
    "    # For all the other indices, replace them with zero if they are not among the top classifiers\n",
    "    for k in df_top.keys():\n",
    "        if k in list(topn.keys()): pass\n",
    "        else: df_top.loc[cl, k] = 0"
   ]
  },
  {
   "cell_type": "code",
   "execution_count": 623,
   "id": "north-front",
   "metadata": {},
   "outputs": [],
   "source": [
    "import seaborn as sns"
   ]
  },
  {
   "cell_type": "code",
   "execution_count": 693,
   "id": "dangerous-generation",
   "metadata": {},
   "outputs": [],
   "source": [
    "cmap = sns.diverging_palette(20,230, as_cmap=True)"
   ]
  },
  {
   "cell_type": "code",
   "execution_count": 694,
   "id": "alive-drain",
   "metadata": {},
   "outputs": [
    {
     "data": {
      "text/plain": [
       "<matplotlib.colors.LinearSegmentedColormap at 0x202fd0a1160>"
      ]
     },
     "execution_count": 694,
     "metadata": {},
     "output_type": "execute_result"
    }
   ],
   "source": [
    "cmap"
   ]
  },
  {
   "cell_type": "code",
   "execution_count": 812,
   "id": "sophisticated-glucose",
   "metadata": {},
   "outputs": [],
   "source": [
    "my_colors=['#EFEFEF','#561608','#C3553A','#DFC4BE']\n"
   ]
  },
  {
   "cell_type": "code",
   "execution_count": 813,
   "id": "latter-flash",
   "metadata": {},
   "outputs": [],
   "source": [
    "colorcodes = ['#C3553A', '#D79787', '#B6CBD6', '#407E9C']\n"
   ]
  },
  {
   "cell_type": "code",
   "execution_count": null,
   "id": "powered-columbia",
   "metadata": {},
   "outputs": [],
   "source": [
    "df_top.loc['NearestCentroid', ['T1', 'T2', 'T3']] = [0,0,0]\n",
    "df_top.loc['DummyClassifier', ['T1', 'T2', 'T3']] = [0,0,0]\n",
    "plot_df_top = df_top[~df_top.index.isin(['NearestCentroid', 'DummyClassifier'])]"
   ]
  },
  {
   "cell_type": "code",
   "execution_count": 791,
   "id": "numerous-refrigerator",
   "metadata": {},
   "outputs": [],
   "source": [
    "def set_sizes(plt):\n",
    "    SMALL_SIZE = 18\n",
    "    MEDIUM_SIZE = 18\n",
    "    BIGGER_SIZE = 18\n",
    "    \n",
    "    plt.rc('font', size=SMALL_SIZE)          # controls default text sizes\n",
    "    plt.rc('axes', titlesize=SMALL_SIZE)     # fontsize of the axes title\n",
    "    plt.rc('axes', labelsize=MEDIUM_SIZE)    # fontsize of the x and y labels\n",
    "    plt.rc('xtick', labelsize=SMALL_SIZE)    # fontsize of the tick labels\n",
    "    plt.rc('ytick', labelsize=SMALL_SIZE)    # fontsize of the tick labels\n",
    "    plt.rc('legend', fontsize=SMALL_SIZE)    # legend fontsize\n",
    "    plt.rc('figure', titlesize=BIGGER_SIZE)  # fontsize of the figure title\n",
    "    "
   ]
  },
  {
   "cell_type": "code",
   "execution_count": 820,
   "id": "vanilla-species",
   "metadata": {},
   "outputs": [],
   "source": [
    "SMALL_SIZE = 18\n",
    "MEDIUM_SIZE = 18\n",
    "BIGGER_SIZE = 18\n",
    "\n",
    "plt.rc('font', size=SMALL_SIZE)          # controls default text sizes\n",
    "plt.rc('axes', titlesize=SMALL_SIZE)     # fontsize of the axes title\n",
    "plt.rc('axes', labelsize=MEDIUM_SIZE)    # fontsize of the x and y labels\n",
    "plt.rc('xtick', labelsize=SMALL_SIZE)    # fontsize of the tick labels\n",
    "plt.rc('ytick', labelsize=SMALL_SIZE)    # fontsize of the tick labels\n",
    "plt.rc('legend', fontsize=SMALL_SIZE)    # legend fontsize\n",
    "plt.rc('figure', titlesize=BIGGER_SIZE)  # fontsize of the figure title\n"
   ]
  },
  {
   "cell_type": "code",
   "execution_count": 821,
   "id": "brown-template",
   "metadata": {},
   "outputs": [],
   "source": [
    "my_colors=['#F0F0F0','#561608','#C3553A','#DFC4BE']\n"
   ]
  },
  {
   "cell_type": "code",
   "execution_count": 825,
   "id": "recent-projector",
   "metadata": {},
   "outputs": [],
   "source": [
    "import matplotlib.patches as mpatches"
   ]
  },
  {
   "cell_type": "code",
   "execution_count": 901,
   "id": "compliant-amateur",
   "metadata": {},
   "outputs": [
    {
     "data": {
      "text/plain": [
       "<matplotlib.legend.Legend at 0x202808ad640>"
      ]
     },
     "execution_count": 901,
     "metadata": {},
     "output_type": "execute_result"
    },
    {
     "data": {
      "image/png": "[encoded data removed]",
      "text/plain": [
       "<Figure size 432x288 with 1 Axes>"
      ]
     },
     "metadata": {
      "needs_background": "light"
     },
     "output_type": "display_data"
    }
   ],
   "source": [
    "# Create a legend\n",
    "import matplotlib.patches as mpatches\n",
    "normal_patch = plt.Rectangle((10, 0.75), 0.4, 0.15, color='#D79787', label='Nu of posts')\n",
    "plt.legend(handles=[normal_patch])"
   ]
  },
  {
   "cell_type": "code",
   "execution_count": 924,
   "id": "russian-thesaurus",
   "metadata": {},
   "outputs": [
    {
     "data": {
      "image/png": "[encoded data removed]",
      "text/plain": [
       "<Figure size 1152x1152 with 1 Axes>"
      ]
     },
     "metadata": {
      "needs_background": "light"
     },
     "output_type": "display_data"
    }
   ],
   "source": [
    "fig, ax = plt.subplots(1,1, figsize=(16,16))\n",
    "\n",
    "plt.rcParams[\"font.family\"] = \"Calibri\"\n",
    "\n",
    "sns.heatmap(plot_df_top, ax=ax, square=True, cmap=my_colors, linewidth=6, linecolor='white', cbar=False, cbar_kws={'ticks': [0,1,2,3], 'orientation': 'horizontal', 'shrink': 0.7})\n",
    "#colorbar = ax.colections[0].colorbar\n",
    "\n",
    "#colorbar.set_ticklabels([\"\", \"1\", \"two\", \"Three\"])\n",
    "ax.set_xlabel(\"Index value\", **hfont)\n",
    "ax.set_ylabel(\"Classifier\", **hfont)\n",
    "\n",
    "# Set legend\n",
    "ax.set_position([0.1,0.1,0.5,0.8])\n",
    "ax.set_title(\"Top features for each model\", loc='left', weight='bold', fontsize=18)\n",
    "ax.legend(handles=[rect1, rect2, rect3], bbox_to_anchor=(-0.02, -0.15), loc='lower left', frameon=False, handlelength=0.7, fontsize=18)\n",
    "plt.tight_layout()\n",
    "\n",
    "#fig.savefig('./Figures/classifier_importance.pdf')"
   ]
  },
  {
   "cell_type": "code",
   "execution_count": 906,
   "id": "blank-metro",
   "metadata": {},
   "outputs": [
    {
     "data": {
      "image/png": "[encoded data removed]",
      "text/plain": [
       "<Figure size 1152x1152 with 1 Axes>"
      ]
     },
     "metadata": {
      "needs_background": "light"
     },
     "output_type": "display_data"
    }
   ],
   "source": [
    "fig, ax = plt.subplots(1,1, figsize=(16,16))\n",
    "\n",
    "plt.rcParams[\"font.family\"] = \"Calibri\"\n",
    "\n",
    "sns.heatmap(plot_df_top, ax=ax, square=True, cmap=my_colors, linewidth=6, linecolor='white', cbar=False, cbar_kws={'ticks': [0,1,2,3], 'orientation': 'horizontal', 'shrink': 0.7})\n",
    "#colorbar = ax.colections[0].colorbar\n",
    "\n",
    "#colorbar.set_ticklabels([\"\", \"1\", \"two\", \"Three\"])\n",
    "ax.set_xlabel(\"Index value\", **hfont)\n",
    "ax.set_ylabel(\"Classifier\", **hfont)\n",
    "\n",
    "# Set legend\n",
    "ax.set_position([0.1,0.1,0.5,0.8])\n",
    "ax.legend(handles=[rect1, rect2, rect3], bbox_to_anchor=(-0.02, -0.15), loc='lower left', frameon=False, handlelength=0.7, fontsize=18)\n",
    "plt.tight_layout()\n",
    "\n",
    "fig.savefig('./Figures/classifier_importance.pdf')"
   ]
  },
  {
   "cell_type": "code",
   "execution_count": 909,
   "id": "neutral-slovakia",
   "metadata": {},
   "outputs": [
    {
     "data": {
      "text/html": [
       "<div>\n",
       "<style scoped>\n",
       "    .dataframe tbody tr th:only-of-type {\n",
       "        vertical-align: middle;\n",
       "    }\n",
       "\n",
       "    .dataframe tbody tr th {\n",
       "        vertical-align: top;\n",
       "    }\n",
       "\n",
       "    .dataframe thead th {\n",
       "        text-align: right;\n",
       "    }\n",
       "</style>\n",
       "<table border=\"1\" class=\"dataframe\">\n",
       "  <thead>\n",
       "    <tr style=\"text-align: right;\">\n",
       "      <th></th>\n",
       "      <th>T1</th>\n",
       "      <th>T2</th>\n",
       "      <th>T3</th>\n",
       "      <th>T4</th>\n",
       "      <th>T5</th>\n",
       "      <th>T6</th>\n",
       "      <th>T7</th>\n",
       "      <th>T8</th>\n",
       "      <th>T9</th>\n",
       "      <th>T10</th>\n",
       "      <th>...</th>\n",
       "      <th>T14</th>\n",
       "      <th>T15</th>\n",
       "      <th>T16</th>\n",
       "      <th>T17</th>\n",
       "      <th>T18</th>\n",
       "      <th>T19</th>\n",
       "      <th>T20</th>\n",
       "      <th>T21</th>\n",
       "      <th>T22</th>\n",
       "      <th>T23</th>\n",
       "    </tr>\n",
       "    <tr>\n",
       "      <th>Classifier</th>\n",
       "      <th></th>\n",
       "      <th></th>\n",
       "      <th></th>\n",
       "      <th></th>\n",
       "      <th></th>\n",
       "      <th></th>\n",
       "      <th></th>\n",
       "      <th></th>\n",
       "      <th></th>\n",
       "      <th></th>\n",
       "      <th></th>\n",
       "      <th></th>\n",
       "      <th></th>\n",
       "      <th></th>\n",
       "      <th></th>\n",
       "      <th></th>\n",
       "      <th></th>\n",
       "      <th></th>\n",
       "      <th></th>\n",
       "      <th></th>\n",
       "      <th></th>\n",
       "    </tr>\n",
       "  </thead>\n",
       "  <tbody>\n",
       "    <tr>\n",
       "      <th>AdaBoostClassifier</th>\n",
       "      <td>0.06</td>\n",
       "      <td>0.04</td>\n",
       "      <td>0.00</td>\n",
       "      <td>0.06</td>\n",
       "      <td>0.06</td>\n",
       "      <td>0.04</td>\n",
       "      <td>0.06</td>\n",
       "      <td>0.02</td>\n",
       "      <td>0.02</td>\n",
       "      <td>0.04</td>\n",
       "      <td>...</td>\n",
       "      <td>0.02</td>\n",
       "      <td>0.06</td>\n",
       "      <td>0.06</td>\n",
       "      <td>0.02</td>\n",
       "      <td>0.10</td>\n",
       "      <td>0.04</td>\n",
       "      <td>0.06</td>\n",
       "      <td>0.02</td>\n",
       "      <td>0.04</td>\n",
       "      <td>0.10</td>\n",
       "    </tr>\n",
       "    <tr>\n",
       "      <th>BaggingClassifier</th>\n",
       "      <td>0.02</td>\n",
       "      <td>0.05</td>\n",
       "      <td>0.05</td>\n",
       "      <td>0.06</td>\n",
       "      <td>0.04</td>\n",
       "      <td>0.07</td>\n",
       "      <td>0.02</td>\n",
       "      <td>0.03</td>\n",
       "      <td>0.03</td>\n",
       "      <td>0.02</td>\n",
       "      <td>...</td>\n",
       "      <td>0.03</td>\n",
       "      <td>0.05</td>\n",
       "      <td>0.03</td>\n",
       "      <td>0.04</td>\n",
       "      <td>0.09</td>\n",
       "      <td>0.04</td>\n",
       "      <td>0.03</td>\n",
       "      <td>0.06</td>\n",
       "      <td>0.05</td>\n",
       "      <td>0.06</td>\n",
       "    </tr>\n",
       "    <tr>\n",
       "      <th>BernoulliNB</th>\n",
       "      <td>1.13</td>\n",
       "      <td>0.84</td>\n",
       "      <td>0.84</td>\n",
       "      <td>1.09</td>\n",
       "      <td>1.20</td>\n",
       "      <td>1.04</td>\n",
       "      <td>0.96</td>\n",
       "      <td>1.01</td>\n",
       "      <td>1.06</td>\n",
       "      <td>1.07</td>\n",
       "      <td>...</td>\n",
       "      <td>1.13</td>\n",
       "      <td>0.84</td>\n",
       "      <td>0.93</td>\n",
       "      <td>0.91</td>\n",
       "      <td>0.97</td>\n",
       "      <td>1.03</td>\n",
       "      <td>1.17</td>\n",
       "      <td>1.03</td>\n",
       "      <td>0.92</td>\n",
       "      <td>1.05</td>\n",
       "    </tr>\n",
       "    <tr>\n",
       "      <th>CalibratedClassifierCV</th>\n",
       "      <td>-0.02</td>\n",
       "      <td>0.02</td>\n",
       "      <td>0.02</td>\n",
       "      <td>-0.04</td>\n",
       "      <td>0.04</td>\n",
       "      <td>0.13</td>\n",
       "      <td>-0.02</td>\n",
       "      <td>-0.02</td>\n",
       "      <td>-0.01</td>\n",
       "      <td>0.01</td>\n",
       "      <td>...</td>\n",
       "      <td>-0.03</td>\n",
       "      <td>0.02</td>\n",
       "      <td>0.02</td>\n",
       "      <td>-0.01</td>\n",
       "      <td>0.15</td>\n",
       "      <td>0.01</td>\n",
       "      <td>-0.02</td>\n",
       "      <td>0.10</td>\n",
       "      <td>0.04</td>\n",
       "      <td>0.02</td>\n",
       "    </tr>\n",
       "    <tr>\n",
       "      <th>DecisionTreeClassifier</th>\n",
       "      <td>0.06</td>\n",
       "      <td>0.04</td>\n",
       "      <td>0.03</td>\n",
       "      <td>0.05</td>\n",
       "      <td>0.04</td>\n",
       "      <td>0.05</td>\n",
       "      <td>0.03</td>\n",
       "      <td>0.02</td>\n",
       "      <td>0.03</td>\n",
       "      <td>0.02</td>\n",
       "      <td>...</td>\n",
       "      <td>0.02</td>\n",
       "      <td>0.05</td>\n",
       "      <td>0.05</td>\n",
       "      <td>0.04</td>\n",
       "      <td>0.09</td>\n",
       "      <td>0.05</td>\n",
       "      <td>0.04</td>\n",
       "      <td>0.06</td>\n",
       "      <td>0.05</td>\n",
       "      <td>0.08</td>\n",
       "    </tr>\n",
       "  </tbody>\n",
       "</table>\n",
       "<p>5 rows × 23 columns</p>\n",
       "</div>"
      ],
      "text/plain": [
       "                          T1   T2   T3    T4   T5   T6    T7    T8    T9  T10  \\\n",
       "Classifier                                                                      \n",
       "AdaBoostClassifier      0.06 0.04 0.00  0.06 0.06 0.04  0.06  0.02  0.02 0.04   \n",
       "BaggingClassifier       0.02 0.05 0.05  0.06 0.04 0.07  0.02  0.03  0.03 0.02   \n",
       "BernoulliNB             1.13 0.84 0.84  1.09 1.20 1.04  0.96  1.01  1.06 1.07   \n",
       "CalibratedClassifierCV -0.02 0.02 0.02 -0.04 0.04 0.13 -0.02 -0.02 -0.01 0.01   \n",
       "DecisionTreeClassifier  0.06 0.04 0.03  0.05 0.04 0.05  0.03  0.02  0.03 0.02   \n",
       "\n",
       "                        ...   T14  T15  T16   T17  T18  T19   T20  T21  T22  \\\n",
       "Classifier              ...                                                   \n",
       "AdaBoostClassifier      ...  0.02 0.06 0.06  0.02 0.10 0.04  0.06 0.02 0.04   \n",
       "BaggingClassifier       ...  0.03 0.05 0.03  0.04 0.09 0.04  0.03 0.06 0.05   \n",
       "BernoulliNB             ...  1.13 0.84 0.93  0.91 0.97 1.03  1.17 1.03 0.92   \n",
       "CalibratedClassifierCV  ... -0.03 0.02 0.02 -0.01 0.15 0.01 -0.02 0.10 0.04   \n",
       "DecisionTreeClassifier  ...  0.02 0.05 0.05  0.04 0.09 0.05  0.04 0.06 0.05   \n",
       "\n",
       "                        T23  \n",
       "Classifier                   \n",
       "AdaBoostClassifier     0.10  \n",
       "BaggingClassifier      0.06  \n",
       "BernoulliNB            1.05  \n",
       "CalibratedClassifierCV 0.02  \n",
       "DecisionTreeClassifier 0.08  \n",
       "\n",
       "[5 rows x 23 columns]"
      ]
     },
     "execution_count": 909,
     "metadata": {},
     "output_type": "execute_result"
    }
   ],
   "source": [
    "df_predicts.head()"
   ]
  },
  {
   "cell_type": "code",
   "execution_count": 908,
   "id": "accredited-corner",
   "metadata": {},
   "outputs": [],
   "source": [
    "df_predicts.to_csv(\"./Datasets/2021-08-08 predictions_importance.csv\")"
   ]
  },
  {
   "cell_type": "code",
   "execution_count": null,
   "id": "educated-billion",
   "metadata": {},
   "outputs": [],
   "source": []
  }
 ],
 "metadata": {
  "kernelspec": {
   "display_name": "Python 3",
   "language": "python",
   "name": "python3"
  },
  "language_info": {
   "codemirror_mode": {
    "name": "ipython",
    "version": 3
   },
   "file_extension": ".py",
   "mimetype": "text/x-python",
   "name": "python",
   "nbconvert_exporter": "python",
   "pygments_lexer": "ipython3",
   "version": "3.8.6"
  }
 },
 "nbformat": 4,
 "nbformat_minor": 5
}
